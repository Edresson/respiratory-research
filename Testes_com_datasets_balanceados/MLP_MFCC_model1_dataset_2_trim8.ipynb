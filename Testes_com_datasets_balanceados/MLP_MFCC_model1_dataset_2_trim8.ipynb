{
 "cells": [
  {
   "cell_type": "markdown",
   "metadata": {
    "colab": {
     "base_uri": "https://localhost:8080/",
     "height": 1000
    },
    "colab_type": "code",
    "id": "DtXp3DMyU4u2",
    "outputId": "9a02581f-ebc9-4307-c524-f915fc001341"
   },
   "source": [
    "# Rede MLP - Modelo 1\n",
    "\n",
    "## Dataset Respiratory_Sound_Database_Pneumo_Healthy_Only - Dataset 2 - trim8"
   ]
  },
  {
   "cell_type": "code",
   "execution_count": 11,
   "metadata": {
    "_cell_guid": "79c7e3d0-c299-4dcb-8224-4455121ee9b0",
    "_uuid": "d629ff2d2480ee46fbb7e2d37f6b5fab8052498a",
    "colab": {},
    "colab_type": "code",
    "id": "sxUgP6_bSR0C"
   },
   "outputs": [],
   "source": [
    "from datetime import datetime\n",
    "from os import listdir\n",
    "from os.path import isfile, join\n",
    "\n",
    "import os\n",
    "import librosa\n",
    "import librosa.display\n",
    "import glob\n",
    "\n",
    "import numpy as np\n",
    "import pandas as pd\n",
    "\n",
    "from tensorflow.keras.models import Sequential\n",
    "from tensorflow.keras.layers import Dense, Dropout, Conv2D, MaxPooling2D, GlobalAveragePooling2D\n",
    "from tensorflow.keras.utils import to_categorical\n",
    "from tensorflow.keras.callbacks import ModelCheckpoint\n",
    "\n",
    "from sklearn.metrics import confusion_matrix, classification_report, roc_curve, auc\n",
    "from sklearn.model_selection import train_test_split\n",
    "from sklearn.preprocessing import LabelEncoder\n",
    "\n",
    "import matplotlib.pyplot as plt\n",
    "import seaborn as sns"
   ]
  },
  {
   "cell_type": "code",
   "execution_count": 12,
   "metadata": {},
   "outputs": [
    {
     "name": "stdout",
     "output_type": "stream",
     "text": [
      "1 Physical GPUs, 1 Logical GPUs\n"
     ]
    }
   ],
   "source": [
    "# Necessário na minha máquina. Estava ocorrendo um erro devido à GPU e esse código resolveu.\n",
    "import tensorflow as tf\n",
    "gpus = tf.config.experimental.list_physical_devices('GPU')\n",
    "if gpus:\n",
    "    try:\n",
    "        # Currently, memory growth needs to be the same across GPUs\n",
    "        for gpu in gpus:\n",
    "            tf.config.experimental.set_memory_growth(gpu, True)\n",
    "        logical_gpus = tf.config.experimental.list_logical_devices('GPU')\n",
    "        print(len(gpus), \"Physical GPUs,\", len(logical_gpus), \"Logical GPUs\")\n",
    "    except RuntimeError as e:\n",
    "        # Memory growth must be set before GPUs have been initialized\n",
    "        print(e)"
   ]
  },
  {
   "cell_type": "code",
   "execution_count": 13,
   "metadata": {},
   "outputs": [],
   "source": [
    "GROUP_TRAIN = 'trim8'\n",
    "GROUP_TEST = 'trim8'\n",
    "DATASET = 'dataset_2'\n",
    "DURATION = 8\n",
    "SIZE = 345\n",
    "CSV_TRAIN = 'train2.csv'\n",
    "CSV_TEST = 'test2.csv'\n",
    "MODEL_NAME = f'MLP1_{DATASET}_{GROUP_TRAIN}'"
   ]
  },
  {
   "cell_type": "code",
   "execution_count": 14,
   "metadata": {
    "colab": {},
    "colab_type": "code",
    "id": "mMb5_PxwSR0N"
   },
   "outputs": [],
   "source": [
    "train_file_paths = glob.glob(f'../datasets/{DATASET}/{GROUP_TRAIN}/train/**/*.wav', recursive=True)\n",
    "train_file_names = [os.path.splitext(os.path.basename(p))[0] for p in train_file_paths]\n",
    "\n",
    "test_file_paths = glob.glob(f'../datasets/{DATASET}/{GROUP_TEST}/test/**/*.wav', recursive=True)\n",
    "test_file_names = [os.path.splitext(os.path.basename(p))[0] for p in test_file_paths]"
   ]
  },
  {
   "cell_type": "code",
   "execution_count": 15,
   "metadata": {
    "colab": {},
    "colab_type": "code",
    "id": "wTf5HxHzSR0U"
   },
   "outputs": [],
   "source": [
    "train_p_id_in_file = [] # patient IDs corresponding to each file\n",
    "test_p_id_in_file = [] # patient IDs corresponding to each file\n",
    "for name in train_file_names:\n",
    "    train_p_id_in_file.append(int(name[:3]))\n",
    "\n",
    "for name in test_file_names:\n",
    "    test_p_id_in_file.append(int(name[:3]))\n",
    "\n",
    "train_p_id_in_file = np.array(train_p_id_in_file)\n",
    "test_p_id_in_file = np.array(test_p_id_in_file) "
   ]
  },
  {
   "cell_type": "code",
   "execution_count": 16,
   "metadata": {
    "colab": {},
    "colab_type": "code",
    "id": "UbK7vc1kSR0c"
   },
   "outputs": [],
   "source": [
    "max_pad_len = SIZE\n",
    "\n",
    "os.makedirs(\"features/\", exist_ok=True)\n",
    "\n",
    "def extract_features(file_name):\n",
    "    \"\"\"\n",
    "    This function takes in the path for an audio file as a string, loads it, and returns the MFCC\n",
    "    of the audio\"\"\"\n",
    "    feature = os.path.splitext(os.path.basename(file_name))[0] + \".npy\"\n",
    "#     if (os.path.isfile(os.path.join(\"./Respiratory_Sound_Database/features/\", feature))):\n",
    "#         return np.load(os.path.join(\"./Respiratory_Sound_Database/features/\", feature))\n",
    "    \n",
    "    try:\n",
    "        audio, sample_rate = librosa.load(file_name, res_type='kaiser_fast', duration=DURATION) \n",
    "        mfccs = librosa.feature.mfcc(y=audio, sr=sample_rate, n_mfcc=40)\n",
    "        pad_width = max_pad_len - mfccs.shape[1]\n",
    "        mfccs = np.pad(mfccs, pad_width=((0, 0), (0, pad_width)), mode='constant')\n",
    "        \n",
    "    except Exception as e:\n",
    "        print(\"Error encountered while parsing file: \", file_name)\n",
    "        return None \n",
    "    np.save(os.path.join(\"./features/\", feature), mfccs)\n",
    "    return mfccs"
   ]
  },
  {
   "cell_type": "code",
   "execution_count": 17,
   "metadata": {
    "colab": {},
    "colab_type": "code",
    "id": "xkBHJzJDSR0h"
   },
   "outputs": [],
   "source": [
    "#filepaths = [join(mypath, f) for f in filenames] # full paths of files"
   ]
  },
  {
   "cell_type": "code",
   "execution_count": 18,
   "metadata": {
    "colab": {},
    "colab_type": "code",
    "id": "UQjbbn7MSR0n"
   },
   "outputs": [
    {
     "data": {
      "text/html": [
       "<div>\n",
       "<style scoped>\n",
       "    .dataframe tbody tr th:only-of-type {\n",
       "        vertical-align: middle;\n",
       "    }\n",
       "\n",
       "    .dataframe tbody tr th {\n",
       "        vertical-align: top;\n",
       "    }\n",
       "\n",
       "    .dataframe thead th {\n",
       "        text-align: right;\n",
       "    }\n",
       "</style>\n",
       "<table border=\"1\" class=\"dataframe\">\n",
       "  <thead>\n",
       "    <tr style=\"text-align: right;\">\n",
       "      <th></th>\n",
       "      <th>0</th>\n",
       "      <th>1</th>\n",
       "    </tr>\n",
       "  </thead>\n",
       "  <tbody>\n",
       "    <tr>\n",
       "      <th>0</th>\n",
       "      <td>123</td>\n",
       "      <td>Healthy</td>\n",
       "    </tr>\n",
       "    <tr>\n",
       "      <th>1</th>\n",
       "      <td>125</td>\n",
       "      <td>Healthy</td>\n",
       "    </tr>\n",
       "    <tr>\n",
       "      <th>2</th>\n",
       "      <td>126</td>\n",
       "      <td>Healthy</td>\n",
       "    </tr>\n",
       "    <tr>\n",
       "      <th>3</th>\n",
       "      <td>127</td>\n",
       "      <td>Healthy</td>\n",
       "    </tr>\n",
       "    <tr>\n",
       "      <th>4</th>\n",
       "      <td>136</td>\n",
       "      <td>Healthy</td>\n",
       "    </tr>\n",
       "  </tbody>\n",
       "</table>\n",
       "</div>"
      ],
      "text/plain": [
       "     0        1\n",
       "0  123  Healthy\n",
       "1  125  Healthy\n",
       "2  126  Healthy\n",
       "3  127  Healthy\n",
       "4  136  Healthy"
      ]
     },
     "execution_count": 18,
     "metadata": {},
     "output_type": "execute_result"
    }
   ],
   "source": [
    "train_p_diag = pd.read_csv(f\"../Respiratory_Sound_Database/Respiratory_Sound_Database_Pneumo_Healthy_Only/{CSV_TRAIN}\", header=None) # patient diagnosis file\n",
    "test_p_diag = pd.read_csv(f\"../Respiratory_Sound_Database/Respiratory_Sound_Database_Pneumo_Healthy_Only/{CSV_TEST}\", header=None) # patient diagnosis file\n",
    "train_p_diag.head(5)"
   ]
  },
  {
   "cell_type": "code",
   "execution_count": 19,
   "metadata": {
    "colab": {},
    "colab_type": "code",
    "id": "yskEMhphSR0s"
   },
   "outputs": [],
   "source": [
    "train_labels = np.array([train_p_diag[train_p_diag[0] == x][1].values[0] for x in train_p_id_in_file]) \n",
    "test_labels = np.array([test_p_diag[test_p_diag[0] == x][1].values[0] for x in test_p_id_in_file]) "
   ]
  },
  {
   "cell_type": "code",
   "execution_count": 20,
   "metadata": {
    "colab": {
     "base_uri": "https://localhost:8080/",
     "height": 35
    },
    "colab_type": "code",
    "id": "yIlzZ5gRSR0w",
    "outputId": "e42143d5-d247-457f-c891-0c714e51cb05"
   },
   "outputs": [
    {
     "name": "stdout",
     "output_type": "stream",
     "text": [
      "Finished feature extraction from  224  files\n"
     ]
    }
   ],
   "source": [
    "train_features = [] \n",
    "test_features = []\n",
    "\n",
    "for file_name in train_file_paths:\n",
    "    data = extract_features(file_name)\n",
    "    train_features.append(data)\n",
    "\n",
    "for file_name in test_file_paths:\n",
    "    data = extract_features(file_name)\n",
    "    test_features.append(data)\n",
    "\n",
    "print('Finished feature extraction from ', (len(train_features)+len(train_features)), ' files')\n",
    "train_features = np.array(train_features)\n",
    "test_features = np.array(test_features)"
   ]
  },
  {
   "cell_type": "code",
   "execution_count": 21,
   "metadata": {
    "colab": {
     "base_uri": "https://localhost:8080/",
     "height": 297
    },
    "colab_type": "code",
    "id": "aPWfXalkSR00",
    "outputId": "0741865f-420e-4c29-8cb1-42b0fe8302cb"
   },
   "outputs": [
    {
     "data": {
      "image/png": "[encoded data removed]",
      "text/plain": [
       "<Figure size 720x288 with 2 Axes>"
      ]
     },
     "metadata": {
      "needs_background": "light"
     },
     "output_type": "display_data"
    }
   ],
   "source": [
    "# plot an MFCC\n",
    "plt.figure(figsize=(10, 4))\n",
    "librosa.display.specshow(train_features[7], x_axis='time')\n",
    "plt.colorbar()\n",
    "plt.title('MFCC')\n",
    "plt.tight_layout()\n",
    "plt.show()"
   ]
  },
  {
   "cell_type": "code",
   "execution_count": 22,
   "metadata": {},
   "outputs": [
    {
     "data": {
      "text/plain": [
       "array(['Healthy', 'Pneumonia'], dtype='<U9')"
      ]
     },
     "execution_count": 22,
     "metadata": {},
     "output_type": "execute_result"
    }
   ],
   "source": [
    "np.unique(train_labels)"
   ]
  },
  {
   "cell_type": "code",
   "execution_count": 23,
   "metadata": {
    "colab": {
     "base_uri": "https://localhost:8080/",
     "height": 54
    },
    "colab_type": "code",
    "id": "YAHg4HTzSR1C",
    "outputId": "be27b27d-3389-4d26-b8ee-d795b2259a5f"
   },
   "outputs": [
    {
     "name": "stdout",
     "output_type": "stream",
     "text": [
      "[['Healthy' 'Pneumonia']\n",
      " ['64' '48']]\n",
      "[['Healthy' 'Pneumonia']\n",
      " ['6' '26']]\n"
     ]
    }
   ],
   "source": [
    "unique_elements, counts_elements = np.unique(train_labels, return_counts=True)\n",
    "print(np.asarray((unique_elements, counts_elements)))\n",
    "\n",
    "unique_elements_test, counts_elements_test = np.unique(test_labels, return_counts=True)\n",
    "print(np.asarray((unique_elements_test, counts_elements_test)))"
   ]
  },
  {
   "cell_type": "code",
   "execution_count": 24,
   "metadata": {
    "colab": {
     "base_uri": "https://localhost:8080/",
     "height": 513
    },
    "colab_type": "code",
    "id": "mtNpDgBOSR1G",
    "outputId": "0f7584a0-d821-4196-c22f-3847fa3031b6"
   },
   "outputs": [
    {
     "data": {
      "image/png": "[encoded data removed]",
      "text/plain": [
       "<Figure size 864x576 with 1 Axes>"
      ]
     },
     "metadata": {
      "needs_background": "light"
     },
     "output_type": "display_data"
    }
   ],
   "source": [
    "# plot class counts\n",
    "y_pos = np.arange(len(unique_elements))\n",
    "plt.figure(figsize=(12,8))\n",
    "plt.bar(unique_elements, counts_elements, align='center', alpha=0.5)\n",
    "plt.xticks(y_pos, unique_elements)\n",
    "plt.ylabel('Count')\n",
    "plt.xlabel('Disease')\n",
    "plt.title('Disease Count in Sound Files (No Asthma or LRTI)')\n",
    "plt.show()"
   ]
  },
  {
   "cell_type": "markdown",
   "metadata": {},
   "source": [
    "__Balanceando dados__"
   ]
  },
  {
   "cell_type": "code",
   "execution_count": 25,
   "metadata": {},
   "outputs": [],
   "source": [
    "def balance_data(X, labels):\n",
    "    \"\"\"Balances data duplicating some instances of the minority classes\"\"\"\n",
    "    balX = None\n",
    "    baly = None\n",
    "    unique, counts = np.unique(labels, return_counts=True)\n",
    "    max_inst = max(counts)\n",
    "    # For every class duplicate the necessary amount\n",
    "    for label in unique:\n",
    "        data_of_label = []\n",
    "        for x, y in zip(X, labels):\n",
    "            if y == label:\n",
    "                data_of_label.append(x)\n",
    "        data_of_label = np.asarray(data_of_label)\n",
    "        extra = data_of_label[np.random.choice(data_of_label.shape[0],\n",
    "                                               max_inst,\n",
    "                                               replace=True), :]\n",
    "        if balX is not None:\n",
    "            balX = np.stack((balX, extra), axis = 0) \n",
    "            baly = np.stack((baly, np.asarray([label for i in range(len(extra))])))\n",
    "        else:\n",
    "            balX = extra\n",
    "            baly = np.asarray([label for i in range(len(extra))])\n",
    "    balX = np.concatenate(balX)\n",
    "    baly = np.concatenate(baly)\n",
    "    return balX, baly"
   ]
  },
  {
   "cell_type": "code",
   "execution_count": 26,
   "metadata": {},
   "outputs": [],
   "source": [
    "train_features, train_labels = balance_data(train_features, train_labels)\n",
    "test_features, test_labels = balance_data(test_features, test_labels)"
   ]
  },
  {
   "cell_type": "code",
   "execution_count": 27,
   "metadata": {
    "colab": {},
    "colab_type": "code",
    "id": "WtqGtxmPSR1K"
   },
   "outputs": [],
   "source": [
    "# One-hot encode labels\n",
    "le = LabelEncoder()\n",
    "le.fit(train_labels)\n",
    "train_labels_cat = to_categorical(le.transform(train_labels)) \n",
    "test_labels_cat = to_categorical(le.transform(test_labels)) "
   ]
  },
  {
   "cell_type": "code",
   "execution_count": 28,
   "metadata": {},
   "outputs": [
    {
     "data": {
      "text/plain": [
       "(128, 40, 345)"
      ]
     },
     "execution_count": 28,
     "metadata": {},
     "output_type": "execute_result"
    }
   ],
   "source": [
    "train_features.shape"
   ]
  },
  {
   "cell_type": "code",
   "execution_count": 29,
   "metadata": {},
   "outputs": [],
   "source": [
    "input_dim = train_features.shape[1]*train_features.shape[2]"
   ]
  },
  {
   "cell_type": "code",
   "execution_count": 30,
   "metadata": {
    "colab": {},
    "colab_type": "code",
    "id": "MgH8aGqeSR1P"
   },
   "outputs": [
    {
     "name": "stdout",
     "output_type": "stream",
     "text": [
      "(128, 13800) (128, 2)\n",
      "(52, 13800) (52, 2)\n"
     ]
    }
   ],
   "source": [
    "train_features = np.reshape(train_features, (train_features.shape[0], input_dim))\n",
    "print(train_features.shape, train_labels_cat.shape)\n",
    "test_features = np.reshape(test_features, (test_features.shape[0], input_dim))\n",
    "print(test_features.shape, test_labels_cat.shape)"
   ]
  },
  {
   "cell_type": "code",
   "execution_count": 31,
   "metadata": {
    "colab": {},
    "colab_type": "code",
    "id": "xFPaVmUESR1T"
   },
   "outputs": [],
   "source": [
    "x_test, y_test = test_features, test_labels_cat\n",
    "x_train, y_train = train_features, train_labels_cat"
   ]
  },
  {
   "cell_type": "markdown",
   "metadata": {
    "colab_type": "text",
    "id": "SN1ipKhfSR1X"
   },
   "source": [
    "**MLP model architecture**"
   ]
  },
  {
   "cell_type": "code",
   "execution_count": 32,
   "metadata": {
    "colab": {},
    "colab_type": "code",
    "id": "oZ5PcMOrcV1B"
   },
   "outputs": [],
   "source": [
    "num_labels = train_labels_cat.shape[1]\n",
    "model = Sequential()\n",
    "model.add(Dense(100, activation='relu', input_dim=input_dim))\n",
    "model.add(Dense(100, activation='relu'))\n",
    "model.add(Dense(70, activation='relu'))\n",
    "model.add(Dense(70, activation='relu'))\n",
    "model.add(Dense(50, activation='relu'))\n",
    "model.add(Dense(50, activation='relu'))\n",
    "model.add(Dense(30, activation='relu'))\n",
    "model.add(Dense(30, activation='relu'))\n",
    "model.add(Dense(20, activation='relu'))\n",
    "model.add(Dense(20, activation='relu'))\n",
    "\n",
    "model.add(Dense(num_labels, activation='softmax')) "
   ]
  },
  {
   "cell_type": "code",
   "execution_count": 33,
   "metadata": {
    "colab": {},
    "colab_type": "code",
    "id": "VcSipiVsSR1c"
   },
   "outputs": [],
   "source": [
    "# Compile the model\n",
    "model.compile(loss='categorical_crossentropy', metrics=['accuracy'], optimizer='adam') "
   ]
  },
  {
   "cell_type": "code",
   "execution_count": 34,
   "metadata": {
    "colab": {
     "base_uri": "https://localhost:8080/",
     "height": 719
    },
    "colab_type": "code",
    "id": "UvvyonaaSR1h",
    "outputId": "9c2154c5-f927-4c3d-e89e-951ba479c079"
   },
   "outputs": [
    {
     "name": "stdout",
     "output_type": "stream",
     "text": [
      "Model: \"sequential\"\n",
      "_________________________________________________________________\n",
      "Layer (type)                 Output Shape              Param #   \n",
      "=================================================================\n",
      "dense (Dense)                (None, 100)               1380100   \n",
      "_________________________________________________________________\n",
      "dense_1 (Dense)              (None, 100)               10100     \n",
      "_________________________________________________________________\n",
      "dense_2 (Dense)              (None, 70)                7070      \n",
      "_________________________________________________________________\n",
      "dense_3 (Dense)              (None, 70)                4970      \n",
      "_________________________________________________________________\n",
      "dense_4 (Dense)              (None, 50)                3550      \n",
      "_________________________________________________________________\n",
      "dense_5 (Dense)              (None, 50)                2550      \n",
      "_________________________________________________________________\n",
      "dense_6 (Dense)              (None, 30)                1530      \n",
      "_________________________________________________________________\n",
      "dense_7 (Dense)              (None, 30)                930       \n",
      "_________________________________________________________________\n",
      "dense_8 (Dense)              (None, 20)                620       \n",
      "_________________________________________________________________\n",
      "dense_9 (Dense)              (None, 20)                420       \n",
      "_________________________________________________________________\n",
      "dense_10 (Dense)             (None, 2)                 42        \n",
      "=================================================================\n",
      "Total params: 1,411,882\n",
      "Trainable params: 1,411,882\n",
      "Non-trainable params: 0\n",
      "_________________________________________________________________\n",
      "52/52 [==============================] - 0s 7ms/sample - loss: 1.2417 - accuracy: 0.5000\n",
      "Pre-training accuracy: 50.0000%\n"
     ]
    }
   ],
   "source": [
    "# Display model architecture summary \n",
    "model.summary()\n",
    "\n",
    "# Calculate pre-training accuracy \n",
    "score = model.evaluate(x_test, y_test, verbose=1)\n",
    "accuracy = 100*score[1]\n",
    "\n",
    "print(\"Pre-training accuracy: %.4f%%\" % accuracy)"
   ]
  },
  {
   "cell_type": "markdown",
   "metadata": {
    "colab_type": "text",
    "id": "TVtD0mcDSR1j"
   },
   "source": [
    "**Training**\n",
    "\n",
    "Here we will train the model. If we have a trained model, we can load it instead from the next cell."
   ]
  },
  {
   "cell_type": "code",
   "execution_count": 35,
   "metadata": {
    "colab": {
     "base_uri": "https://localhost:8080/",
     "height": 1000
    },
    "colab_type": "code",
    "id": "ruRXrsrhSR1k",
    "jupyter": {
     "source_hidden": true
    },
    "outputId": "ec26a26d-ad59-4e89-c88f-6277e4d0c283"
   },
   "outputs": [
    {
     "name": "stdout",
     "output_type": "stream",
     "text": [
      "Train on 128 samples, validate on 52 samples\n",
      "Epoch 1/100\n",
      "120/128 [===========================>..] - ETA: 0s - loss: 1.5384 - accuracy: 0.5083\n",
      "Epoch 00001: val_accuracy improved from -inf to 0.50000, saving model to models/MLP1_dataset_2_trim8_01.h5\n",
      "128/128 [==============================] - 1s 6ms/sample - loss: 1.4788 - accuracy: 0.5312 - val_loss: 1.6263 - val_accuracy: 0.5000\n",
      "Epoch 2/100\n",
      "120/128 [===========================>..] - ETA: 0s - loss: 1.6306 - accuracy: 0.3583\n",
      "Epoch 00002: val_accuracy improved from 0.50000 to 0.82692, saving model to models/MLP1_dataset_2_trim8_02.h5\n",
      "128/128 [==============================] - 0s 1ms/sample - loss: 1.5655 - accuracy: 0.3750 - val_loss: 0.6252 - val_accuracy: 0.8269\n",
      "Epoch 3/100\n",
      "110/128 [========================>.....] - ETA: 0s - loss: 0.7076 - accuracy: 0.6091\n",
      "Epoch 00003: val_accuracy improved from 0.82692 to 0.84615, saving model to models/MLP1_dataset_2_trim8_03.h5\n",
      "128/128 [==============================] - 0s 1ms/sample - loss: 0.6866 - accuracy: 0.6172 - val_loss: 0.5063 - val_accuracy: 0.8462\n",
      "Epoch 4/100\n",
      " 10/128 [=>............................] - ETA: 0s - loss: 0.6036 - accuracy: 0.7000\n",
      "Epoch 00004: val_accuracy did not improve from 0.84615\n",
      "128/128 [==============================] - 0s 642us/sample - loss: 0.6135 - accuracy: 0.6797 - val_loss: 0.3968 - val_accuracy: 0.7885\n",
      "Epoch 5/100\n",
      "120/128 [===========================>..] - ETA: 0s - loss: 0.4432 - accuracy: 0.8167\n",
      "Epoch 00005: val_accuracy did not improve from 0.84615\n",
      "128/128 [==============================] - 0s 701us/sample - loss: 0.4458 - accuracy: 0.8125 - val_loss: 0.7442 - val_accuracy: 0.5000\n",
      "Epoch 6/100\n",
      "120/128 [===========================>..] - ETA: 0s - loss: 0.3214 - accuracy: 0.8667\n",
      "Epoch 00006: val_accuracy did not improve from 0.84615\n",
      "128/128 [==============================] - 0s 832us/sample - loss: 0.3131 - accuracy: 0.8750 - val_loss: 0.3243 - val_accuracy: 0.7885\n",
      "Epoch 7/100\n",
      "100/128 [======================>.......] - ETA: 0s - loss: 0.3678 - accuracy: 0.8500\n",
      "Epoch 00007: val_accuracy did not improve from 0.84615\n",
      "128/128 [==============================] - 0s 929us/sample - loss: 0.5674 - accuracy: 0.7656 - val_loss: 0.5355 - val_accuracy: 0.8269\n",
      "Epoch 8/100\n",
      " 80/128 [=================>............] - ETA: 0s - loss: 0.8680 - accuracy: 0.6000\n",
      "Epoch 00008: val_accuracy did not improve from 0.84615\n",
      "128/128 [==============================] - 0s 1ms/sample - loss: 0.6605 - accuracy: 0.6797 - val_loss: 0.5364 - val_accuracy: 0.8269\n",
      "Epoch 9/100\n",
      " 80/128 [=================>............] - ETA: 0s - loss: 0.5675 - accuracy: 0.7750\n",
      "Epoch 00009: val_accuracy did not improve from 0.84615\n",
      "128/128 [==============================] - 0s 1ms/sample - loss: 0.4753 - accuracy: 0.8281 - val_loss: 0.4541 - val_accuracy: 0.8269\n",
      "Epoch 10/100\n",
      "110/128 [========================>.....] - ETA: 0s - loss: 0.4657 - accuracy: 0.7364\n",
      "Epoch 00010: val_accuracy did not improve from 0.84615\n",
      "128/128 [==============================] - 0s 980us/sample - loss: 0.4389 - accuracy: 0.7578 - val_loss: 0.3659 - val_accuracy: 0.7885\n",
      "Epoch 11/100\n",
      "120/128 [===========================>..] - ETA: 0s - loss: 0.1777 - accuracy: 0.9417\n",
      "Epoch 00011: val_accuracy improved from 0.84615 to 0.88462, saving model to models/MLP1_dataset_2_trim8_11.h5\n",
      "128/128 [==============================] - 0s 3ms/sample - loss: 0.1752 - accuracy: 0.9375 - val_loss: 0.5002 - val_accuracy: 0.8846\n",
      "Epoch 12/100\n",
      " 70/128 [===============>..............] - ETA: 0s - loss: 0.0735 - accuracy: 0.9714\n",
      "Epoch 00012: val_accuracy did not improve from 0.88462\n",
      "128/128 [==============================] - 0s 1ms/sample - loss: 0.0648 - accuracy: 0.9844 - val_loss: 0.5909 - val_accuracy: 0.7692\n",
      "Epoch 13/100\n",
      "120/128 [===========================>..] - ETA: 0s - loss: 0.4542 - accuracy: 0.9083\n",
      "Epoch 00013: val_accuracy did not improve from 0.88462\n",
      "128/128 [==============================] - 0s 2ms/sample - loss: 0.5584 - accuracy: 0.8828 - val_loss: 0.3158 - val_accuracy: 0.8269\n",
      "Epoch 14/100\n",
      "120/128 [===========================>..] - ETA: 0s - loss: 0.3546 - accuracy: 0.8750\n",
      "Epoch 00014: val_accuracy did not improve from 0.88462\n",
      "128/128 [==============================] - 0s 1ms/sample - loss: 0.3348 - accuracy: 0.8828 - val_loss: 0.5396 - val_accuracy: 0.7500\n",
      "Epoch 15/100\n",
      "100/128 [======================>.......] - ETA: 0s - loss: 0.2624 - accuracy: 0.9200\n",
      "Epoch 00015: val_accuracy did not improve from 0.88462\n",
      "128/128 [==============================] - 0s 1ms/sample - loss: 0.2448 - accuracy: 0.9219 - val_loss: 0.7850 - val_accuracy: 0.7885\n",
      "Epoch 16/100\n",
      " 80/128 [=================>............] - ETA: 0s - loss: 0.3059 - accuracy: 0.8625\n",
      "Epoch 00016: val_accuracy did not improve from 0.88462\n",
      "128/128 [==============================] - 0s 1ms/sample - loss: 0.2836 - accuracy: 0.8828 - val_loss: 1.1519 - val_accuracy: 0.5385\n",
      "Epoch 17/100\n",
      " 70/128 [===============>..............] - ETA: 0s - loss: 0.1400 - accuracy: 0.9571\n",
      "Epoch 00017: val_accuracy did not improve from 0.88462\n",
      "128/128 [==============================] - 0s 1ms/sample - loss: 0.1134 - accuracy: 0.9609 - val_loss: 0.7581 - val_accuracy: 0.5577\n",
      "Epoch 18/100\n",
      "110/128 [========================>.....] - ETA: 0s - loss: 0.0258 - accuracy: 0.9909\n",
      "Epoch 00018: val_accuracy improved from 0.88462 to 0.94231, saving model to models/MLP1_dataset_2_trim8_18.h5\n",
      "128/128 [==============================] - 0s 2ms/sample - loss: 0.0245 - accuracy: 0.9922 - val_loss: 0.4011 - val_accuracy: 0.9423\n",
      "Epoch 19/100\n",
      "100/128 [======================>.......] - ETA: 0s - loss: 0.0041 - accuracy: 1.0000\n",
      "Epoch 00019: val_accuracy did not improve from 0.94231\n",
      "128/128 [==============================] - 0s 1ms/sample - loss: 0.0042 - accuracy: 1.0000 - val_loss: 0.7805 - val_accuracy: 0.7692\n",
      "Epoch 20/100\n",
      " 80/128 [=================>............] - ETA: 0s - loss: 0.0093 - accuracy: 1.0000\n",
      "Epoch 00020: val_accuracy did not improve from 0.94231\n",
      "128/128 [==============================] - 0s 1ms/sample - loss: 0.0060 - accuracy: 1.0000 - val_loss: 0.7334 - val_accuracy: 0.8462\n",
      "Epoch 21/100\n",
      " 80/128 [=================>............] - ETA: 0s - loss: 0.1761 - accuracy: 0.9125    \n",
      "Epoch 00021: val_accuracy did not improve from 0.94231\n",
      "128/128 [==============================] - 0s 1ms/sample - loss: 0.1555 - accuracy: 0.9297 - val_loss: 3.4030 - val_accuracy: 0.5000\n",
      "Epoch 22/100\n",
      " 90/128 [====================>.........] - ETA: 0s - loss: 0.0672 - accuracy: 0.9778\n",
      "Epoch 00022: val_accuracy did not improve from 0.94231\n",
      "128/128 [==============================] - 0s 1ms/sample - loss: 0.0574 - accuracy: 0.9766 - val_loss: 1.7726 - val_accuracy: 0.5192\n",
      "Epoch 23/100\n",
      " 90/128 [====================>.........] - ETA: 0s - loss: 0.0630 - accuracy: 0.9778    \n",
      "Epoch 00023: val_accuracy did not improve from 0.94231\n",
      "128/128 [==============================] - 0s 1ms/sample - loss: 0.0445 - accuracy: 0.9844 - val_loss: 1.8794 - val_accuracy: 0.5769\n",
      "Epoch 24/100\n",
      " 80/128 [=================>............] - ETA: 0s - loss: 0.0465 - accuracy: 0.9875\n",
      "Epoch 00024: val_accuracy did not improve from 0.94231\n",
      "128/128 [==============================] - 0s 932us/sample - loss: 0.0381 - accuracy: 0.9922 - val_loss: 1.5691 - val_accuracy: 0.5192\n",
      "Epoch 25/100\n",
      " 50/128 [==========>...................] - ETA: 0s - loss: 0.0540 - accuracy: 0.9600    \n",
      "Epoch 00025: val_accuracy did not improve from 0.94231\n",
      "128/128 [==============================] - 0s 1ms/sample - loss: 0.0284 - accuracy: 0.9844 - val_loss: 0.4828 - val_accuracy: 0.8269\n",
      "Epoch 26/100\n",
      " 80/128 [=================>............] - ETA: 0s - loss: 0.0065 - accuracy: 1.0000\n",
      "Epoch 00026: val_accuracy did not improve from 0.94231\n",
      "128/128 [==============================] - 0s 1ms/sample - loss: 0.0057 - accuracy: 1.0000 - val_loss: 0.5340 - val_accuracy: 0.9423\n",
      "Epoch 27/100\n",
      "110/128 [========================>.....] - ETA: 0s - loss: 0.0046 - accuracy: 1.0000\n",
      "Epoch 00027: val_accuracy did not improve from 0.94231\n",
      "128/128 [==============================] - 0s 772us/sample - loss: 0.0042 - accuracy: 1.0000 - val_loss: 0.5905 - val_accuracy: 0.9423\n",
      "Epoch 28/100\n",
      " 90/128 [====================>.........] - ETA: 0s - loss: 0.0020 - accuracy: 1.0000    \n",
      "Epoch 00028: val_accuracy did not improve from 0.94231\n",
      "128/128 [==============================] - 0s 2ms/sample - loss: 0.0015 - accuracy: 1.0000 - val_loss: 0.5962 - val_accuracy: 0.9423\n",
      "Epoch 29/100\n",
      " 80/128 [=================>............] - ETA: 0s - loss: 9.7397e-05 - accuracy: 1.0000\n",
      "Epoch 00029: val_accuracy did not improve from 0.94231\n",
      "128/128 [==============================] - 0s 1ms/sample - loss: 7.1409e-05 - accuracy: 1.0000 - val_loss: 0.5790 - val_accuracy: 0.9423\n",
      "Epoch 30/100\n",
      " 80/128 [=================>............] - ETA: 0s - loss: 2.6093e-05 - accuracy: 1.0000\n",
      "Epoch 00030: val_accuracy did not improve from 0.94231\n",
      "128/128 [==============================] - 0s 1ms/sample - loss: 7.9337e-05 - accuracy: 1.0000 - val_loss: 0.6010 - val_accuracy: 0.9423\n",
      "Epoch 31/100\n",
      " 60/128 [=============>................] - ETA: 0s - loss: 9.2566e-05 - accuracy: 1.0000\n",
      "Epoch 00031: val_accuracy did not improve from 0.94231\n",
      "128/128 [==============================] - 0s 1ms/sample - loss: 5.6715e-05 - accuracy: 1.0000 - val_loss: 0.6362 - val_accuracy: 0.9423\n",
      "Epoch 32/100\n",
      " 70/128 [===============>..............] - ETA: 0s - loss: 1.5804e-05 - accuracy: 1.0000\n",
      "Epoch 00032: val_accuracy did not improve from 0.94231\n",
      "128/128 [==============================] - 0s 1ms/sample - loss: 3.3409e-05 - accuracy: 1.0000 - val_loss: 0.6605 - val_accuracy: 0.9423\n",
      "Epoch 33/100\n",
      "120/128 [===========================>..] - ETA: 0s - loss: 3.2191e-05 - accuracy: 1.0000\n",
      "Epoch 00033: val_accuracy did not improve from 0.94231\n",
      "128/128 [==============================] - 0s 1ms/sample - loss: 3.0244e-05 - accuracy: 1.0000 - val_loss: 0.6773 - val_accuracy: 0.9423\n",
      "Epoch 34/100\n",
      " 70/128 [===============>..............] - ETA: 0s - loss: 1.6792e-05 - accuracy: 1.0000\n",
      "Epoch 00034: val_accuracy did not improve from 0.94231\n",
      "128/128 [==============================] - 0s 1ms/sample - loss: 2.7916e-05 - accuracy: 1.0000 - val_loss: 0.6849 - val_accuracy: 0.9423\n",
      "Epoch 35/100\n",
      " 60/128 [=============>................] - ETA: 0s - loss: 2.4180e-05 - accuracy: 1.0000\n",
      "Epoch 00035: val_accuracy did not improve from 0.94231\n",
      "128/128 [==============================] - 0s 1ms/sample - loss: 2.6683e-05 - accuracy: 1.0000 - val_loss: 0.6961 - val_accuracy: 0.9423\n",
      "Epoch 36/100\n",
      " 80/128 [=================>............] - ETA: 0s - loss: 2.6388e-05 - accuracy: 1.0000\n",
      "Epoch 00036: val_accuracy did not improve from 0.94231\n",
      "128/128 [==============================] - 0s 2ms/sample - loss: 2.3679e-05 - accuracy: 1.0000 - val_loss: 0.7007 - val_accuracy: 0.9423\n",
      "Epoch 37/100\n",
      " 70/128 [===============>..............] - ETA: 0s - loss: 2.6842e-05 - accuracy: 1.0000\n",
      "Epoch 00037: val_accuracy did not improve from 0.94231\n",
      "128/128 [==============================] - 0s 1ms/sample - loss: 2.2064e-05 - accuracy: 1.0000 - val_loss: 0.7074 - val_accuracy: 0.9423\n",
      "Epoch 38/100\n",
      " 70/128 [===============>..............] - ETA: 0s - loss: 2.5437e-05 - accuracy: 1.0000\n",
      "Epoch 00038: val_accuracy did not improve from 0.94231\n",
      "128/128 [==============================] - 0s 1ms/sample - loss: 2.0574e-05 - accuracy: 1.0000 - val_loss: 0.7103 - val_accuracy: 0.9423\n",
      "Epoch 39/100\n",
      " 70/128 [===============>..............] - ETA: 0s - loss: 2.3803e-05 - accuracy: 1.0000\n",
      "Epoch 00039: val_accuracy did not improve from 0.94231\n",
      "128/128 [==============================] - 0s 1ms/sample - loss: 1.9251e-05 - accuracy: 1.0000 - val_loss: 0.7152 - val_accuracy: 0.9423\n",
      "Epoch 40/100\n",
      " 70/128 [===============>..............] - ETA: 0s - loss: 2.3092e-05 - accuracy: 1.0000\n",
      "Epoch 00040: val_accuracy did not improve from 0.94231\n",
      "128/128 [==============================] - 0s 1ms/sample - loss: 1.8226e-05 - accuracy: 1.0000 - val_loss: 0.7170 - val_accuracy: 0.9423\n",
      "Epoch 41/100\n",
      "100/128 [======================>.......] - ETA: 0s - loss: 2.1823e-05 - accuracy: 1.0000\n",
      "Epoch 00041: val_accuracy did not improve from 0.94231\n",
      "128/128 [==============================] - 0s 903us/sample - loss: 1.7329e-05 - accuracy: 1.0000 - val_loss: 0.7186 - val_accuracy: 0.9423\n",
      "Epoch 42/100\n",
      " 80/128 [=================>............] - ETA: 0s - loss: 7.3399e-06 - accuracy: 1.0000\n",
      "Epoch 00042: val_accuracy did not improve from 0.94231\n",
      "128/128 [==============================] - 0s 990us/sample - loss: 1.6273e-05 - accuracy: 1.0000 - val_loss: 0.7194 - val_accuracy: 0.9423\n",
      "Epoch 43/100\n",
      " 80/128 [=================>............] - ETA: 0s - loss: 1.7184e-05 - accuracy: 1.0000\n",
      "Epoch 00043: val_accuracy did not improve from 0.94231\n",
      "128/128 [==============================] - 0s 1ms/sample - loss: 1.5211e-05 - accuracy: 1.0000 - val_loss: 0.7252 - val_accuracy: 0.9423\n",
      "Epoch 44/100\n",
      " 70/128 [===============>..............] - ETA: 0s - loss: 1.3827e-05 - accuracy: 1.0000\n",
      "Epoch 00044: val_accuracy did not improve from 0.94231\n",
      "128/128 [==============================] - 0s 1ms/sample - loss: 1.3473e-05 - accuracy: 1.0000 - val_loss: 0.7258 - val_accuracy: 0.9423\n",
      "Epoch 45/100\n",
      " 60/128 [=============>................] - ETA: 0s - loss: 2.2749e-05 - accuracy: 1.0000\n",
      "Epoch 00045: val_accuracy did not improve from 0.94231\n",
      "128/128 [==============================] - 0s 1ms/sample - loss: 1.1648e-05 - accuracy: 1.0000 - val_loss: 0.7302 - val_accuracy: 0.9423\n",
      "Epoch 46/100\n",
      "120/128 [===========================>..] - ETA: 0s - loss: 1.1476e-05 - accuracy: 1.0000\n",
      "Epoch 00046: val_accuracy did not improve from 0.94231\n",
      "128/128 [==============================] - 0s 1ms/sample - loss: 1.0765e-05 - accuracy: 1.0000 - val_loss: 0.7348 - val_accuracy: 0.9423\n",
      "Epoch 47/100\n",
      " 90/128 [====================>.........] - ETA: 0s - loss: 6.2811e-06 - accuracy: 1.0000\n",
      "Epoch 00047: val_accuracy did not improve from 0.94231\n",
      "128/128 [==============================] - 0s 938us/sample - loss: 1.0106e-05 - accuracy: 1.0000 - val_loss: 0.7358 - val_accuracy: 0.9423\n",
      "Epoch 48/100\n",
      " 70/128 [===============>..............] - ETA: 0s - loss: 1.6749e-05 - accuracy: 1.0000\n",
      "Epoch 00048: val_accuracy did not improve from 0.94231\n",
      "128/128 [==============================] - 0s 1ms/sample - loss: 9.6819e-06 - accuracy: 1.0000 - val_loss: 0.7400 - val_accuracy: 0.9423\n",
      "Epoch 49/100\n",
      " 70/128 [===============>..............] - ETA: 0s - loss: 8.5097e-06 - accuracy: 1.0000\n",
      "Epoch 00049: val_accuracy did not improve from 0.94231\n",
      "128/128 [==============================] - 0s 1ms/sample - loss: 9.3923e-06 - accuracy: 1.0000 - val_loss: 0.7461 - val_accuracy: 0.9423\n",
      "Epoch 50/100\n",
      " 90/128 [====================>.........] - ETA: 0s - loss: 1.1765e-05 - accuracy: 1.0000\n",
      "Epoch 00050: val_accuracy did not improve from 0.94231\n",
      "128/128 [==============================] - 0s 962us/sample - loss: 8.6643e-06 - accuracy: 1.0000 - val_loss: 0.7473 - val_accuracy: 0.9423\n",
      "Epoch 51/100\n",
      " 80/128 [=================>............] - ETA: 0s - loss: 7.3570e-06 - accuracy: 1.0000\n",
      "Epoch 00051: val_accuracy did not improve from 0.94231\n",
      "128/128 [==============================] - 0s 1ms/sample - loss: 8.2910e-06 - accuracy: 1.0000 - val_loss: 0.7508 - val_accuracy: 0.9423\n",
      "Epoch 52/100\n",
      " 60/128 [=============>................] - ETA: 0s - loss: 9.1359e-06 - accuracy: 1.0000\n",
      "Epoch 00052: val_accuracy did not improve from 0.94231\n",
      "128/128 [==============================] - 0s 2ms/sample - loss: 7.9875e-06 - accuracy: 1.0000 - val_loss: 0.7541 - val_accuracy: 0.9423\n",
      "Epoch 53/100\n",
      " 60/128 [=============>................] - ETA: 0s - loss: 1.5479e-05 - accuracy: 1.0000\n",
      "Epoch 00053: val_accuracy did not improve from 0.94231\n",
      "128/128 [==============================] - 0s 1ms/sample - loss: 7.6048e-06 - accuracy: 1.0000 - val_loss: 0.7564 - val_accuracy: 0.9423\n",
      "Epoch 54/100\n",
      " 60/128 [=============>................] - ETA: 0s - loss: 1.3738e-05 - accuracy: 1.0000\n",
      "Epoch 00054: val_accuracy did not improve from 0.94231\n",
      "128/128 [==============================] - 0s 1ms/sample - loss: 7.3329e-06 - accuracy: 1.0000 - val_loss: 0.7599 - val_accuracy: 0.9423\n",
      "Epoch 55/100\n",
      " 90/128 [====================>.........] - ETA: 0s - loss: 4.9200e-06 - accuracy: 1.0000\n",
      "Epoch 00055: val_accuracy did not improve from 0.94231\n",
      "128/128 [==============================] - 0s 2ms/sample - loss: 7.1728e-06 - accuracy: 1.0000 - val_loss: 0.7684 - val_accuracy: 0.9423\n",
      "Epoch 56/100\n",
      "100/128 [======================>.......] - ETA: 0s - loss: 5.1991e-06 - accuracy: 1.0000\n",
      "Epoch 00056: val_accuracy did not improve from 0.94231\n",
      "128/128 [==============================] - 0s 1ms/sample - loss: 6.3451e-06 - accuracy: 1.0000 - val_loss: 0.7689 - val_accuracy: 0.9423\n",
      "Epoch 57/100\n",
      " 80/128 [=================>............] - ETA: 0s - loss: 8.0590e-06 - accuracy: 1.0000\n",
      "Epoch 00057: val_accuracy did not improve from 0.94231\n",
      "128/128 [==============================] - 0s 1ms/sample - loss: 5.4364e-06 - accuracy: 1.0000 - val_loss: 0.7743 - val_accuracy: 0.9423\n",
      "Epoch 58/100\n",
      " 60/128 [=============>................] - ETA: 0s - loss: 4.6228e-06 - accuracy: 1.0000\n",
      "Epoch 00058: val_accuracy did not improve from 0.94231\n",
      "128/128 [==============================] - 0s 2ms/sample - loss: 4.4867e-06 - accuracy: 1.0000 - val_loss: 0.7751 - val_accuracy: 0.9423\n",
      "Epoch 59/100\n",
      " 70/128 [===============>..............] - ETA: 0s - loss: 4.1856e-06 - accuracy: 1.0000\n",
      "Epoch 00059: val_accuracy did not improve from 0.94231\n",
      "128/128 [==============================] - 0s 1ms/sample - loss: 3.4903e-06 - accuracy: 1.0000 - val_loss: 0.7836 - val_accuracy: 0.9423\n",
      "Epoch 60/100\n",
      " 90/128 [====================>.........] - ETA: 0s - loss: 3.9853e-06 - accuracy: 1.0000\n",
      "Epoch 00060: val_accuracy did not improve from 0.94231\n",
      "128/128 [==============================] - 0s 1ms/sample - loss: 3.0797e-06 - accuracy: 1.0000 - val_loss: 0.7894 - val_accuracy: 0.9423\n",
      "Epoch 61/100\n",
      " 80/128 [=================>............] - ETA: 0s - loss: 3.8249e-06 - accuracy: 1.0000\n",
      "Epoch 00061: val_accuracy did not improve from 0.94231\n",
      "128/128 [==============================] - 0s 1ms/sample - loss: 2.5545e-06 - accuracy: 1.0000 - val_loss: 0.7937 - val_accuracy: 0.9423\n",
      "Epoch 62/100\n",
      " 80/128 [=================>............] - ETA: 0s - loss: 2.3855e-06 - accuracy: 1.0000\n",
      "Epoch 00062: val_accuracy did not improve from 0.94231\n",
      "128/128 [==============================] - 0s 1ms/sample - loss: 2.2807e-06 - accuracy: 1.0000 - val_loss: 0.7994 - val_accuracy: 0.9423\n",
      "Epoch 63/100\n",
      " 90/128 [====================>.........] - ETA: 0s - loss: 1.4649e-06 - accuracy: 1.0000\n",
      "Epoch 00063: val_accuracy did not improve from 0.94231\n",
      "128/128 [==============================] - 0s 1ms/sample - loss: 1.7620e-06 - accuracy: 1.0000 - val_loss: 0.8057 - val_accuracy: 0.9423\n",
      "Epoch 64/100\n",
      " 80/128 [=================>............] - ETA: 0s - loss: 2.4258e-06 - accuracy: 1.0000\n",
      "Epoch 00064: val_accuracy did not improve from 0.94231\n",
      "128/128 [==============================] - 0s 1ms/sample - loss: 1.6223e-06 - accuracy: 1.0000 - val_loss: 0.7808 - val_accuracy: 0.9423\n",
      "Epoch 65/100\n",
      " 80/128 [=================>............] - ETA: 0s - loss: 1.6704e-06 - accuracy: 1.0000\n",
      "Epoch 00065: val_accuracy did not improve from 0.94231\n",
      "128/128 [==============================] - 0s 1ms/sample - loss: 1.0803e-06 - accuracy: 1.0000 - val_loss: 0.7710 - val_accuracy: 0.9423\n",
      "Epoch 66/100\n",
      "120/128 [===========================>..] - ETA: 0s - loss: 7.6491e-07 - accuracy: 1.0000\n",
      "Epoch 00066: val_accuracy did not improve from 0.94231\n",
      "128/128 [==============================] - 0s 1ms/sample - loss: 7.2735e-07 - accuracy: 1.0000 - val_loss: 0.7618 - val_accuracy: 0.9423\n",
      "Epoch 67/100\n",
      " 80/128 [=================>............] - ETA: 0s - loss: 3.7551e-07 - accuracy: 1.0000\n",
      "Epoch 00067: val_accuracy did not improve from 0.94231\n",
      "128/128 [==============================] - 0s 1ms/sample - loss: 6.0628e-07 - accuracy: 1.0000 - val_loss: 0.7582 - val_accuracy: 0.9423\n",
      "Epoch 68/100\n",
      " 80/128 [=================>............] - ETA: 0s - loss: 4.4703e-07 - accuracy: 1.0000\n",
      "Epoch 00068: val_accuracy did not improve from 0.94231\n",
      "128/128 [==============================] - 0s 1ms/sample - loss: 4.8987e-07 - accuracy: 1.0000 - val_loss: 0.7444 - val_accuracy: 0.9423\n",
      "Epoch 69/100\n",
      " 60/128 [=============>................] - ETA: 0s - loss: 5.4439e-07 - accuracy: 1.0000\n",
      "Epoch 00069: val_accuracy did not improve from 0.94231\n",
      "128/128 [==============================] - 0s 1ms/sample - loss: 3.1479e-07 - accuracy: 1.0000 - val_loss: 0.7533 - val_accuracy: 0.9423\n",
      "Epoch 70/100\n",
      " 60/128 [=============>................] - ETA: 0s - loss: 3.8345e-07 - accuracy: 1.0000\n",
      "Epoch 00070: val_accuracy did not improve from 0.94231\n",
      "128/128 [==============================] - 0s 1ms/sample - loss: 2.4401e-07 - accuracy: 1.0000 - val_loss: 0.7682 - val_accuracy: 0.9423\n",
      "Epoch 71/100\n",
      " 90/128 [====================>.........] - ETA: 0s - loss: 2.4239e-07 - accuracy: 1.0000\n",
      "Epoch 00071: val_accuracy did not improve from 0.94231\n",
      "128/128 [==============================] - 0s 1ms/sample - loss: 1.9651e-07 - accuracy: 1.0000 - val_loss: 0.7842 - val_accuracy: 0.9423\n",
      "Epoch 72/100\n",
      " 80/128 [=================>............] - ETA: 0s - loss: 1.5348e-07 - accuracy: 1.0000\n",
      "Epoch 00072: val_accuracy did not improve from 0.94231\n",
      "128/128 [==============================] - 0s 1ms/sample - loss: 1.6019e-07 - accuracy: 1.0000 - val_loss: 0.8004 - val_accuracy: 0.9423\n",
      "Epoch 73/100\n",
      "100/128 [======================>.......] - ETA: 0s - loss: 5.1260e-08 - accuracy: 1.0000\n",
      "Epoch 00073: val_accuracy did not improve from 0.94231\n",
      "128/128 [==============================] - 0s 1ms/sample - loss: 1.3411e-07 - accuracy: 1.0000 - val_loss: 0.8129 - val_accuracy: 0.9423\n",
      "Epoch 74/100\n",
      "120/128 [===========================>..] - ETA: 0s - loss: 1.1424e-07 - accuracy: 1.0000\n",
      "Epoch 00074: val_accuracy did not improve from 0.94231\n",
      "128/128 [==============================] - 0s 1ms/sample - loss: 1.1828e-07 - accuracy: 1.0000 - val_loss: 0.8241 - val_accuracy: 0.9423\n",
      "Epoch 75/100\n",
      " 90/128 [====================>.........] - ETA: 0s - loss: 1.3378e-07 - accuracy: 1.0000\n",
      "Epoch 00075: val_accuracy did not improve from 0.94231\n",
      "128/128 [==============================] - 0s 1ms/sample - loss: 1.1176e-07 - accuracy: 1.0000 - val_loss: 0.8266 - val_accuracy: 0.9423\n",
      "Epoch 76/100\n",
      " 70/128 [===============>..............] - ETA: 0s - loss: 9.1961e-08 - accuracy: 1.0000\n",
      "Epoch 00076: val_accuracy did not improve from 0.94231\n",
      "128/128 [==============================] - 0s 1ms/sample - loss: 8.8476e-08 - accuracy: 1.0000 - val_loss: 0.8417 - val_accuracy: 0.9423\n",
      "Epoch 77/100\n",
      " 90/128 [====================>.........] - ETA: 0s - loss: 6.0929e-08 - accuracy: 1.0000\n",
      "Epoch 00077: val_accuracy did not improve from 0.94231\n",
      "128/128 [==============================] - 0s 991us/sample - loss: 7.5437e-08 - accuracy: 1.0000 - val_loss: 0.8515 - val_accuracy: 0.9423\n",
      "Epoch 78/100\n",
      " 60/128 [=============>................] - ETA: 0s - loss: 1.2318e-07 - accuracy: 1.0000\n",
      "Epoch 00078: val_accuracy did not improve from 0.94231\n",
      "128/128 [==============================] - 0s 1ms/sample - loss: 6.8918e-08 - accuracy: 1.0000 - val_loss: 0.8583 - val_accuracy: 0.9423\n",
      "Epoch 79/100\n",
      " 60/128 [=============>................] - ETA: 0s - loss: 5.9605e-09 - accuracy: 1.0000\n",
      "Epoch 00079: val_accuracy did not improve from 0.94231\n",
      "128/128 [==============================] - 0s 1ms/sample - loss: 6.1467e-08 - accuracy: 1.0000 - val_loss: 0.8685 - val_accuracy: 0.9423\n",
      "Epoch 80/100\n",
      "100/128 [======================>.......] - ETA: 0s - loss: 1.7881e-08 - accuracy: 1.0000\n",
      "Epoch 00080: val_accuracy did not improve from 0.94231\n",
      "128/128 [==============================] - 0s 943us/sample - loss: 5.7742e-08 - accuracy: 1.0000 - val_loss: 0.8787 - val_accuracy: 0.9423\n",
      "Epoch 81/100\n",
      " 90/128 [====================>.........] - ETA: 0s - loss: 6.6227e-08 - accuracy: 1.0000\n",
      "Epoch 00081: val_accuracy did not improve from 0.94231\n",
      "128/128 [==============================] - 0s 1ms/sample - loss: 5.0291e-08 - accuracy: 1.0000 - val_loss: 0.8907 - val_accuracy: 0.9423\n",
      "Epoch 82/100\n",
      " 70/128 [===============>..............] - ETA: 0s - loss: 4.2575e-08 - accuracy: 1.0000\n",
      "Epoch 00082: val_accuracy did not improve from 0.94231\n",
      "128/128 [==============================] - 0s 1ms/sample - loss: 4.5635e-08 - accuracy: 1.0000 - val_loss: 0.8951 - val_accuracy: 0.9423\n",
      "Epoch 83/100\n",
      " 90/128 [====================>.........] - ETA: 0s - loss: 5.5631e-08 - accuracy: 1.0000\n",
      "Epoch 00083: val_accuracy did not improve from 0.94231\n",
      "128/128 [==============================] - 0s 980us/sample - loss: 4.4703e-08 - accuracy: 1.0000 - val_loss: 0.9055 - val_accuracy: 0.9423\n",
      "Epoch 84/100\n",
      "100/128 [======================>.......] - ETA: 0s - loss: 3.0994e-08 - accuracy: 1.0000\n",
      "Epoch 00084: val_accuracy did not improve from 0.94231\n",
      "128/128 [==============================] - 0s 1ms/sample - loss: 4.0047e-08 - accuracy: 1.0000 - val_loss: 0.9122 - val_accuracy: 0.9423\n",
      "Epoch 85/100\n",
      " 90/128 [====================>.........] - ETA: 0s - loss: 4.7684e-08 - accuracy: 1.0000\n",
      "Epoch 00085: val_accuracy did not improve from 0.94231\n",
      "128/128 [==============================] - 0s 1ms/sample - loss: 3.7253e-08 - accuracy: 1.0000 - val_loss: 0.9149 - val_accuracy: 0.9423\n",
      "Epoch 86/100\n",
      " 80/128 [=================>............] - ETA: 0s - loss: 4.9174e-08 - accuracy: 1.0000\n",
      "Epoch 00086: val_accuracy did not improve from 0.94231\n",
      "128/128 [==============================] - 0s 1ms/sample - loss: 3.1665e-08 - accuracy: 1.0000 - val_loss: 0.9192 - val_accuracy: 0.9423\n",
      "Epoch 87/100\n",
      " 90/128 [====================>.........] - ETA: 0s - loss: 3.3114e-08 - accuracy: 1.0000\n",
      "Epoch 00087: val_accuracy did not improve from 0.94231\n",
      "128/128 [==============================] - 0s 1ms/sample - loss: 2.8871e-08 - accuracy: 1.0000 - val_loss: 0.9238 - val_accuracy: 0.9423\n",
      "Epoch 88/100\n",
      " 80/128 [=================>............] - ETA: 0s - loss: 2.2352e-08 - accuracy: 1.0000\n",
      "Epoch 00088: val_accuracy did not improve from 0.94231\n",
      "128/128 [==============================] - 0s 1ms/sample - loss: 2.7008e-08 - accuracy: 1.0000 - val_loss: 0.9281 - val_accuracy: 0.9423\n",
      "Epoch 89/100\n",
      " 80/128 [=================>............] - ETA: 0s - loss: 4.4703e-09 - accuracy: 1.0000\n",
      "Epoch 00089: val_accuracy did not improve from 0.94231\n",
      "128/128 [==============================] - 0s 1ms/sample - loss: 2.4214e-08 - accuracy: 1.0000 - val_loss: 0.9333 - val_accuracy: 0.9423\n",
      "Epoch 90/100\n",
      " 90/128 [====================>.........] - ETA: 0s - loss: 3.3114e-08 - accuracy: 1.0000\n",
      "Epoch 00090: val_accuracy did not improve from 0.94231\n",
      "128/128 [==============================] - 0s 1ms/sample - loss: 2.4214e-08 - accuracy: 1.0000 - val_loss: 0.9376 - val_accuracy: 0.9423\n",
      "Epoch 91/100\n",
      " 80/128 [=================>............] - ETA: 0s - loss: 3.1292e-08 - accuracy: 1.0000\n",
      "Epoch 00091: val_accuracy did not improve from 0.94231\n",
      "128/128 [==============================] - 0s 1ms/sample - loss: 2.1420e-08 - accuracy: 1.0000 - val_loss: 0.9421 - val_accuracy: 0.9423\n",
      "Epoch 92/100\n",
      "110/128 [========================>.....] - ETA: 0s - loss: 1.4088e-08 - accuracy: 1.0000\n",
      "Epoch 00092: val_accuracy did not improve from 0.94231\n",
      "128/128 [==============================] - 0s 1ms/sample - loss: 2.0489e-08 - accuracy: 1.0000 - val_loss: 0.9469 - val_accuracy: 0.9423\n",
      "Epoch 93/100\n",
      "110/128 [========================>.....] - ETA: 0s - loss: 2.1674e-08 - accuracy: 1.0000\n",
      "Epoch 00093: val_accuracy did not improve from 0.94231\n",
      "128/128 [==============================] - 0s 917us/sample - loss: 1.8626e-08 - accuracy: 1.0000 - val_loss: 0.9480 - val_accuracy: 0.9423\n",
      "Epoch 94/100\n",
      " 90/128 [====================>.........] - ETA: 0s - loss: 2.3842e-08 - accuracy: 1.0000\n",
      "Epoch 00094: val_accuracy did not improve from 0.94231\n",
      "128/128 [==============================] - 0s 1ms/sample - loss: 1.7695e-08 - accuracy: 1.0000 - val_loss: 0.9501 - val_accuracy: 0.9423\n",
      "Epoch 95/100\n",
      " 80/128 [=================>............] - ETA: 0s - loss: 2.3842e-08 - accuracy: 1.0000\n",
      "Epoch 00095: val_accuracy did not improve from 0.94231\n",
      "128/128 [==============================] - 0s 1ms/sample - loss: 1.6764e-08 - accuracy: 1.0000 - val_loss: 0.9542 - val_accuracy: 0.9423\n",
      "Epoch 96/100\n",
      " 80/128 [=================>............] - ETA: 0s - loss: 2.3842e-08 - accuracy: 1.0000\n",
      "Epoch 00096: val_accuracy did not improve from 0.94231\n",
      "128/128 [==============================] - 0s 1ms/sample - loss: 1.5832e-08 - accuracy: 1.0000 - val_loss: 0.9561 - val_accuracy: 0.9423\n",
      "Epoch 97/100\n",
      " 80/128 [=================>............] - ETA: 0s - loss: 1.3411e-08 - accuracy: 1.0000\n",
      "Epoch 00097: val_accuracy did not improve from 0.94231\n",
      "128/128 [==============================] - 0s 1ms/sample - loss: 1.4901e-08 - accuracy: 1.0000 - val_loss: 0.9581 - val_accuracy: 0.9423\n",
      "Epoch 98/100\n",
      " 80/128 [=================>............] - ETA: 0s - loss: 8.9407e-09 - accuracy: 1.0000\n",
      "Epoch 00098: val_accuracy did not improve from 0.94231\n",
      "128/128 [==============================] - 0s 1ms/sample - loss: 1.4901e-08 - accuracy: 1.0000 - val_loss: 0.9586 - val_accuracy: 0.9423\n",
      "Epoch 99/100\n",
      "120/128 [===========================>..] - ETA: 0s - loss: 1.4901e-08 - accuracy: 1.0000\n",
      "Epoch 00099: val_accuracy did not improve from 0.94231\n",
      "128/128 [==============================] - 0s 1ms/sample - loss: 1.3970e-08 - accuracy: 1.0000 - val_loss: 0.9611 - val_accuracy: 0.9423\n",
      "Epoch 100/100\n",
      " 60/128 [=============>................] - ETA: 0s - loss: 1.5895e-08 - accuracy: 1.0000\n",
      "Epoch 00100: val_accuracy did not improve from 0.94231\n",
      "128/128 [==============================] - 0s 1ms/sample - loss: 1.3039e-08 - accuracy: 1.0000 - val_loss: 0.9609 - val_accuracy: 0.9423\n",
      "Training completed in time:  0:00:16.018807\n"
     ]
    }
   ],
   "source": [
    "# train model\n",
    "num_epochs = 100\n",
    "num_batch_size = 10\n",
    "\n",
    "os.makedirs('models', exist_ok=True)\n",
    "callbacks = [\n",
    "    ModelCheckpoint(\n",
    "        filepath='models/' + MODEL_NAME + '_{epoch:02d}.h5',\n",
    "        # Path where to save the model\n",
    "        # The two parameters below mean that we will overwrite\n",
    "        # the current checkpoint if and only if\n",
    "        # the `val_accuracy` score has improved.\n",
    "        save_best_only=True,\n",
    "        monitor='val_accuracy',\n",
    "        verbose=1)\n",
    "]\n",
    "start = datetime.now()\n",
    "\n",
    "history = model.fit(x_train, y_train, batch_size=num_batch_size, epochs=num_epochs,\n",
    "                    validation_data=(x_test, y_test), callbacks=callbacks, verbose=1)\n",
    "\n",
    "\n",
    "duration = datetime.now() - start\n",
    "print(\"Training completed in time: \", duration)"
   ]
  },
  {
   "cell_type": "markdown",
   "metadata": {},
   "source": [
    "**Plot accuracies and losses**"
   ]
  },
  {
   "cell_type": "code",
   "execution_count": 36,
   "metadata": {},
   "outputs": [
    {
     "data": {
      "image/png": "[encoded data removed]",
      "text/plain": [
       "<Figure size 432x288 with 1 Axes>"
      ]
     },
     "metadata": {
      "needs_background": "light"
     },
     "output_type": "display_data"
    },
    {
     "data": {
      "image/png": "[encoded data removed]",
      "text/plain": [
       "<Figure size 432x288 with 1 Axes>"
      ]
     },
     "metadata": {
      "needs_background": "light"
     },
     "output_type": "display_data"
    }
   ],
   "source": [
    "# Plot training & validation accuracy values\n",
    "plt.plot(history.history['accuracy'])\n",
    "plt.plot(history.history['val_accuracy'])\n",
    "plt.title('Model accuracy')\n",
    "plt.ylabel('Accuracy')\n",
    "plt.xlabel('Epoch')\n",
    "plt.legend(['Train', 'Test'], loc='upper left')\n",
    "plt.show()\n",
    "\n",
    "# Plot training & validation loss values\n",
    "plt.plot(history.history['loss'])\n",
    "plt.plot(history.history['val_loss'])\n",
    "plt.title('Model loss')\n",
    "plt.ylabel('Loss')\n",
    "plt.xlabel('Epoch')\n",
    "plt.legend(['Train', 'Test'], loc='upper left')\n",
    "plt.show()"
   ]
  },
  {
   "cell_type": "markdown",
   "metadata": {
    "colab_type": "text",
    "id": "diDQglrhSR1n"
   },
   "source": [
    "## Teste"
   ]
  },
  {
   "cell_type": "code",
   "execution_count": 37,
   "metadata": {
    "colab": {
     "base_uri": "https://localhost:8080/",
     "height": 54
    },
    "colab_type": "code",
    "id": "Qyg7uylzSR1p",
    "outputId": "4b953e0d-5437-422d-cbc5-6b19a29879f4"
   },
   "outputs": [
    {
     "name": "stdout",
     "output_type": "stream",
     "text": [
      "Training Accuracy:  1.0\n",
      "Testing Accuracy:  0.9423077\n"
     ]
    }
   ],
   "source": [
    "# Evaluating the model on the training and testing set\n",
    "score = model.evaluate(x_train, y_train, verbose=0)\n",
    "train_acc = score[1]\n",
    "print(\"Training Accuracy: \", score[1])\n",
    "\n",
    "score = model.evaluate(x_test, y_test, verbose=0)\n",
    "test_acc = score[1]\n",
    "print(\"Testing Accuracy: \", score[1])"
   ]
  },
  {
   "cell_type": "code",
   "execution_count": 38,
   "metadata": {
    "colab": {},
    "colab_type": "code",
    "id": "KnzqoZRbSR1v"
   },
   "outputs": [],
   "source": [
    "preds = model.predict(x_test) # label scores \n",
    "\n",
    "classpreds = np.argmax(preds, axis=1) # predicted classes \n",
    "\n",
    "y_testclass = np.argmax(y_test, axis=1) # true classes\n",
    "\n",
    "n_classes=2 # number of classes"
   ]
  },
  {
   "cell_type": "code",
   "execution_count": 39,
   "metadata": {
    "colab": {},
    "colab_type": "code",
    "id": "EMrG8FeJSR14"
   },
   "outputs": [],
   "source": [
    "# Compute ROC curve and ROC area for each class\n",
    "fpr = dict()\n",
    "tpr = dict()\n",
    "roc_auc = dict()\n",
    "for i in range(n_classes):\n",
    "    fpr[i], tpr[i], _ = roc_curve(y_test[:, i], preds[:, i])\n",
    "    roc_auc[i] = auc(fpr[i], tpr[i])"
   ]
  },
  {
   "cell_type": "code",
   "execution_count": 40,
   "metadata": {
    "colab": {},
    "colab_type": "code",
    "id": "oOZSWEULSR17"
   },
   "outputs": [],
   "source": [
    "c_names = ['Bronchiectasis', 'Bronchiolitis', 'COPD', 'Healthy', 'Pneumonia', 'URTI']\n",
    "c_names = ['Healthy', 'Pneumonia']"
   ]
  },
  {
   "cell_type": "code",
   "execution_count": 41,
   "metadata": {
    "colab": {
     "base_uri": "https://localhost:8080/",
     "height": 851
    },
    "colab_type": "code",
    "id": "HY5qEVRrSR2A",
    "outputId": "9c5341de-bbdf-4c87-c999-82ee08ddd1fb"
   },
   "outputs": [
    {
     "data": {
      "image/png": "[encoded data removed]",
      "text/plain": [
       "<Figure size 1152x720 with 1 Axes>"
      ]
     },
     "metadata": {
      "needs_background": "light"
     },
     "output_type": "display_data"
    }
   ],
   "source": [
    "# Plot ROC curves\n",
    "fig, ax = plt.subplots(figsize=(16, 10))\n",
    "ax.plot([0, 1], [0, 1], 'k--')\n",
    "ax.set_xlim([0.0, 1.0])\n",
    "ax.set_ylim([0.0, 1.05])\n",
    "ax.set_xlabel('False Positive Rate')\n",
    "ax.set_ylabel('True Positive Rate')\n",
    "ax.set_title('ROC Curve for Each Class')\n",
    "for i in range(n_classes):\n",
    "    ax.plot(fpr[i], tpr[i], linewidth=3, label='ROC curve (area = %0.2f) for %s' % (roc_auc[i], c_names[i]))\n",
    "ax.legend(loc=\"best\", fontsize='x-large')\n",
    "ax.grid(alpha=.4)\n",
    "sns.despine()\n",
    "plt.show()"
   ]
  },
  {
   "cell_type": "code",
   "execution_count": 42,
   "metadata": {
    "colab": {
     "base_uri": "https://localhost:8080/",
     "height": 240
    },
    "colab_type": "code",
    "id": "qlQ12gHQSR2D",
    "outputId": "42af0b0e-037c-4177-a382-aff8a8550509"
   },
   "outputs": [
    {
     "name": "stdout",
     "output_type": "stream",
     "text": [
      "              precision    recall  f1-score   support\n",
      "\n",
      "     Healthy       0.90      1.00      0.95        26\n",
      "   Pneumonia       1.00      0.88      0.94        26\n",
      "\n",
      "    accuracy                           0.94        52\n",
      "   macro avg       0.95      0.94      0.94        52\n",
      "weighted avg       0.95      0.94      0.94        52\n",
      "\n"
     ]
    }
   ],
   "source": [
    "# Classification Report\n",
    "print(classification_report(y_testclass, classpreds, target_names=c_names))"
   ]
  },
  {
   "cell_type": "code",
   "execution_count": 43,
   "metadata": {
    "colab": {
     "base_uri": "https://localhost:8080/",
     "height": 128
    },
    "colab_type": "code",
    "id": "jGzk3U9kSR2G",
    "outputId": "cd147c90-fc8e-47c5-9cd0-6e3e224b3def"
   },
   "outputs": [
    {
     "name": "stdout",
     "output_type": "stream",
     "text": [
      "[[26  0]\n",
      " [ 3 23]]\n"
     ]
    }
   ],
   "source": [
    "# Confusion Matrix\n",
    "print(confusion_matrix(y_testclass, classpreds))"
   ]
  },
  {
   "cell_type": "code",
   "execution_count": 44,
   "metadata": {},
   "outputs": [],
   "source": [
    "import itertools\n",
    "def plot_confusion_matrix(cm, unique_labels, show=True, output=None,\n",
    "                          title='Confusion matrix', cmap=plt.cm.Oranges):\n",
    "    plt.imshow(cm, interpolation='nearest', cmap=cmap)\n",
    "    plt.title(title)\n",
    "    plt.colorbar()\n",
    "    tick_marks = np.arange(cm.shape[1])\n",
    "    plt.xticks(tick_marks, rotation=45)\n",
    "    ax = plt.gca()\n",
    "    ax.set_xticklabels((ax.get_xticks() + 1).astype(str))\n",
    "    plt.yticks(tick_marks)\n",
    "\n",
    "    ax.set_xticklabels(unique_labels)\n",
    "    ax.set_yticklabels(unique_labels)\n",
    "\n",
    "    thresh = cm.max() / 2.\n",
    "    for i, j in itertools.product(range(cm.shape[0]), range(cm.shape[1])):\n",
    "        plt.text(j, i, format(cm[i, j], '.1f'),\n",
    "                 horizontalalignment=\"center\",\n",
    "                 color=\"white\" if cm[i, j] > thresh else \"black\")\n",
    "\n",
    "    plt.tight_layout()\n",
    "    plt.ylabel('True label')\n",
    "    plt.xlabel('Predicted label')\n",
    "    if show:\n",
    "        plt.show()\n",
    "    if output is not None:\n",
    "        plt.savefig(output)\n",
    "    plt.close()\n",
    "    return output\n"
   ]
  },
  {
   "cell_type": "code",
   "execution_count": 45,
   "metadata": {},
   "outputs": [
    {
     "data": {
      "image/png": "[encoded data removed]",
      "text/plain": [
       "<Figure size 432x288 with 2 Axes>"
      ]
     },
     "metadata": {
      "needs_background": "light"
     },
     "output_type": "display_data"
    }
   ],
   "source": [
    "plot_confusion_matrix(confusion_matrix(y_testclass, classpreds), unique_labels=[\"Healthy\", \"Pneumonia\"])"
   ]
  },
  {
   "cell_type": "markdown",
   "metadata": {},
   "source": [
    "__Write csv__"
   ]
  },
  {
   "cell_type": "code",
   "execution_count": 46,
   "metadata": {},
   "outputs": [],
   "source": [
    "with open('report.csv', 'a') as report:\n",
    "    report.write(f'{MODEL_NAME},{DATASET},{GROUP_TRAIN},{DURATION},{train_acc},{test_acc}\\n')"
   ]
  },
  {
   "cell_type": "code",
   "execution_count": null,
   "metadata": {},
   "outputs": [],
   "source": []
  }
 ],
 "metadata": {
  "accelerator": "GPU",
  "colab": {
   "collapsed_sections": [],
   "name": "Corona-Disease Classification by CNN using MFCC.ipynb",
   "provenance": []
  },
  "kernelspec": {
   "display_name": "Python 3",
   "language": "python",
   "name": "python3"
  },
  "language_info": {
   "codemirror_mode": {
    "name": "ipython",
    "version": 3
   },
   "file_extension": ".py",
   "mimetype": "text/x-python",
   "name": "python",
   "nbconvert_exporter": "python",
   "pygments_lexer": "ipython3",
   "version": "3.7.7"
  }
 },
 "nbformat": 4,
 "nbformat_minor": 4
}
