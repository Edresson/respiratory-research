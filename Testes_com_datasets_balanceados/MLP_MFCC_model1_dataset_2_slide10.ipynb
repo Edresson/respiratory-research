{
 "cells": [
  {
   "cell_type": "markdown",
   "metadata": {
    "colab": {
     "base_uri": "https://localhost:8080/",
     "height": 1000
    },
    "colab_type": "code",
    "id": "DtXp3DMyU4u2",
    "outputId": "9a02581f-ebc9-4307-c524-f915fc001341"
   },
   "source": [
    "# Rede MLP - Modelo 1\n",
    "\n",
    "## Dataset Respiratory_Sound_Database_Pneumo_Healthy_Only - Dataset 2 - slide10"
   ]
  },
  {
   "cell_type": "code",
   "execution_count": 1,
   "metadata": {
    "_cell_guid": "79c7e3d0-c299-4dcb-8224-4455121ee9b0",
    "_uuid": "d629ff2d2480ee46fbb7e2d37f6b5fab8052498a",
    "colab": {},
    "colab_type": "code",
    "id": "sxUgP6_bSR0C"
   },
   "outputs": [],
   "source": [
    "from datetime import datetime\n",
    "from os import listdir\n",
    "from os.path import isfile, join\n",
    "\n",
    "import os\n",
    "import librosa\n",
    "import librosa.display\n",
    "import glob\n",
    "\n",
    "import numpy as np\n",
    "import pandas as pd\n",
    "\n",
    "from tensorflow.keras.models import Sequential\n",
    "from tensorflow.keras.layers import Dense, Dropout, Conv2D, MaxPooling2D, GlobalAveragePooling2D\n",
    "from tensorflow.keras.utils import to_categorical\n",
    "from tensorflow.keras.callbacks import ModelCheckpoint\n",
    "\n",
    "from sklearn.metrics import confusion_matrix, classification_report, roc_curve, auc\n",
    "from sklearn.model_selection import train_test_split\n",
    "from sklearn.preprocessing import LabelEncoder\n",
    "\n",
    "import matplotlib.pyplot as plt\n",
    "import seaborn as sns"
   ]
  },
  {
   "cell_type": "code",
   "execution_count": 2,
   "metadata": {},
   "outputs": [
    {
     "name": "stdout",
     "output_type": "stream",
     "text": [
      "1 Physical GPUs, 1 Logical GPUs\n"
     ]
    }
   ],
   "source": [
    "# Necessário na minha máquina. Estava ocorrendo um erro devido à GPU e esse código resolveu.\n",
    "import tensorflow as tf\n",
    "gpus = tf.config.experimental.list_physical_devices('GPU')\n",
    "if gpus:\n",
    "    try:\n",
    "        # Currently, memory growth needs to be the same across GPUs\n",
    "        for gpu in gpus:\n",
    "            tf.config.experimental.set_memory_growth(gpu, True)\n",
    "        logical_gpus = tf.config.experimental.list_logical_devices('GPU')\n",
    "        print(len(gpus), \"Physical GPUs,\", len(logical_gpus), \"Logical GPUs\")\n",
    "    except RuntimeError as e:\n",
    "        # Memory growth must be set before GPUs have been initialized\n",
    "        print(e)"
   ]
  },
  {
   "cell_type": "code",
   "execution_count": 3,
   "metadata": {},
   "outputs": [],
   "source": [
    "GROUP_TRAIN = 'slide10'\n",
    "GROUP_TEST = 'slide10'\n",
    "DATASET = 'dataset_2'\n",
    "DURATION = 10\n",
    "SIZE = 431\n",
    "CSV_TRAIN = 'train2.csv'\n",
    "CSV_TEST = 'test2.csv'\n",
    "MODEL_NAME = f'MLP1_{DATASET}_{GROUP_TRAIN}'"
   ]
  },
  {
   "cell_type": "code",
   "execution_count": 4,
   "metadata": {
    "colab": {},
    "colab_type": "code",
    "id": "mMb5_PxwSR0N"
   },
   "outputs": [],
   "source": [
    "train_file_paths = glob.glob(f'../datasets/{DATASET}/{GROUP_TRAIN}/train/**/*.wav', recursive=True)\n",
    "train_file_names = [os.path.splitext(os.path.basename(p))[0] for p in train_file_paths]\n",
    "\n",
    "test_file_paths = glob.glob(f'../datasets/{DATASET}/{GROUP_TEST}/test/**/*.wav', recursive=True)\n",
    "test_file_names = [os.path.splitext(os.path.basename(p))[0] for p in test_file_paths]"
   ]
  },
  {
   "cell_type": "code",
   "execution_count": 5,
   "metadata": {
    "colab": {},
    "colab_type": "code",
    "id": "wTf5HxHzSR0U"
   },
   "outputs": [],
   "source": [
    "train_p_id_in_file = [] # patient IDs corresponding to each file\n",
    "test_p_id_in_file = [] # patient IDs corresponding to each file\n",
    "for name in train_file_names:\n",
    "    train_p_id_in_file.append(int(name[:3]))\n",
    "\n",
    "for name in test_file_names:\n",
    "    test_p_id_in_file.append(int(name[:3]))\n",
    "\n",
    "train_p_id_in_file = np.array(train_p_id_in_file)\n",
    "test_p_id_in_file = np.array(test_p_id_in_file) "
   ]
  },
  {
   "cell_type": "code",
   "execution_count": 6,
   "metadata": {
    "colab": {},
    "colab_type": "code",
    "id": "UbK7vc1kSR0c"
   },
   "outputs": [],
   "source": [
    "max_pad_len = SIZE\n",
    "\n",
    "os.makedirs(\"features/\", exist_ok=True)\n",
    "\n",
    "def extract_features(file_name):\n",
    "    \"\"\"\n",
    "    This function takes in the path for an audio file as a string, loads it, and returns the MFCC\n",
    "    of the audio\"\"\"\n",
    "    feature = os.path.splitext(os.path.basename(file_name))[0] + \".npy\"\n",
    "#     if (os.path.isfile(os.path.join(\"./Respiratory_Sound_Database/features/\", feature))):\n",
    "#         return np.load(os.path.join(\"./Respiratory_Sound_Database/features/\", feature))\n",
    "    \n",
    "    try:\n",
    "        audio, sample_rate = librosa.load(file_name, res_type='kaiser_fast', duration=DURATION) \n",
    "        mfccs = librosa.feature.mfcc(y=audio, sr=sample_rate, n_mfcc=40)\n",
    "        pad_width = max_pad_len - mfccs.shape[1]\n",
    "        mfccs = np.pad(mfccs, pad_width=((0, 0), (0, pad_width)), mode='constant')\n",
    "        \n",
    "    except Exception as e:\n",
    "        print(\"Error encountered while parsing file: \", file_name)\n",
    "        return None \n",
    "    np.save(os.path.join(\"./features/\", feature), mfccs)\n",
    "    return mfccs"
   ]
  },
  {
   "cell_type": "code",
   "execution_count": 7,
   "metadata": {
    "colab": {},
    "colab_type": "code",
    "id": "xkBHJzJDSR0h"
   },
   "outputs": [],
   "source": [
    "#filepaths = [join(mypath, f) for f in filenames] # full paths of files"
   ]
  },
  {
   "cell_type": "code",
   "execution_count": 8,
   "metadata": {
    "colab": {},
    "colab_type": "code",
    "id": "UQjbbn7MSR0n"
   },
   "outputs": [
    {
     "data": {
      "text/html": [
       "<div>\n",
       "<style scoped>\n",
       "    .dataframe tbody tr th:only-of-type {\n",
       "        vertical-align: middle;\n",
       "    }\n",
       "\n",
       "    .dataframe tbody tr th {\n",
       "        vertical-align: top;\n",
       "    }\n",
       "\n",
       "    .dataframe thead th {\n",
       "        text-align: right;\n",
       "    }\n",
       "</style>\n",
       "<table border=\"1\" class=\"dataframe\">\n",
       "  <thead>\n",
       "    <tr style=\"text-align: right;\">\n",
       "      <th></th>\n",
       "      <th>0</th>\n",
       "      <th>1</th>\n",
       "    </tr>\n",
       "  </thead>\n",
       "  <tbody>\n",
       "    <tr>\n",
       "      <th>0</th>\n",
       "      <td>123</td>\n",
       "      <td>Healthy</td>\n",
       "    </tr>\n",
       "    <tr>\n",
       "      <th>1</th>\n",
       "      <td>125</td>\n",
       "      <td>Healthy</td>\n",
       "    </tr>\n",
       "    <tr>\n",
       "      <th>2</th>\n",
       "      <td>126</td>\n",
       "      <td>Healthy</td>\n",
       "    </tr>\n",
       "    <tr>\n",
       "      <th>3</th>\n",
       "      <td>127</td>\n",
       "      <td>Healthy</td>\n",
       "    </tr>\n",
       "    <tr>\n",
       "      <th>4</th>\n",
       "      <td>136</td>\n",
       "      <td>Healthy</td>\n",
       "    </tr>\n",
       "  </tbody>\n",
       "</table>\n",
       "</div>"
      ],
      "text/plain": [
       "     0        1\n",
       "0  123  Healthy\n",
       "1  125  Healthy\n",
       "2  126  Healthy\n",
       "3  127  Healthy\n",
       "4  136  Healthy"
      ]
     },
     "execution_count": 8,
     "metadata": {},
     "output_type": "execute_result"
    }
   ],
   "source": [
    "train_p_diag = pd.read_csv(f\"../Respiratory_Sound_Database/Respiratory_Sound_Database_Pneumo_Healthy_Only/{CSV_TRAIN}\", header=None) # patient diagnosis file\n",
    "test_p_diag = pd.read_csv(f\"../Respiratory_Sound_Database/Respiratory_Sound_Database_Pneumo_Healthy_Only/{CSV_TEST}\", header=None) # patient diagnosis file\n",
    "train_p_diag.head(5)"
   ]
  },
  {
   "cell_type": "code",
   "execution_count": 9,
   "metadata": {
    "colab": {},
    "colab_type": "code",
    "id": "yskEMhphSR0s"
   },
   "outputs": [],
   "source": [
    "train_labels = np.array([train_p_diag[train_p_diag[0] == x][1].values[0] for x in train_p_id_in_file]) \n",
    "test_labels = np.array([test_p_diag[test_p_diag[0] == x][1].values[0] for x in test_p_id_in_file]) "
   ]
  },
  {
   "cell_type": "code",
   "execution_count": 10,
   "metadata": {
    "colab": {
     "base_uri": "https://localhost:8080/",
     "height": 35
    },
    "colab_type": "code",
    "id": "yIlzZ5gRSR0w",
    "outputId": "e42143d5-d247-457f-c891-0c714e51cb05"
   },
   "outputs": [
    {
     "name": "stdout",
     "output_type": "stream",
     "text": [
      "Finished feature extraction from  896  files\n"
     ]
    }
   ],
   "source": [
    "train_features = [] \n",
    "test_features = []\n",
    "\n",
    "for file_name in train_file_paths:\n",
    "    data = extract_features(file_name)\n",
    "    train_features.append(data)\n",
    "\n",
    "for file_name in test_file_paths:\n",
    "    data = extract_features(file_name)\n",
    "    test_features.append(data)\n",
    "\n",
    "print('Finished feature extraction from ', (len(train_features)+len(train_features)), ' files')\n",
    "train_features = np.array(train_features)\n",
    "test_features = np.array(test_features)"
   ]
  },
  {
   "cell_type": "code",
   "execution_count": 11,
   "metadata": {
    "colab": {
     "base_uri": "https://localhost:8080/",
     "height": 297
    },
    "colab_type": "code",
    "id": "aPWfXalkSR00",
    "outputId": "0741865f-420e-4c29-8cb1-42b0fe8302cb"
   },
   "outputs": [
    {
     "data": {
      "image/png": "[encoded data removed]",
      "text/plain": [
       "<Figure size 720x288 with 2 Axes>"
      ]
     },
     "metadata": {
      "needs_background": "light"
     },
     "output_type": "display_data"
    }
   ],
   "source": [
    "# plot an MFCC\n",
    "plt.figure(figsize=(10, 4))\n",
    "librosa.display.specshow(train_features[7], x_axis='time')\n",
    "plt.colorbar()\n",
    "plt.title('MFCC')\n",
    "plt.tight_layout()\n",
    "plt.show()"
   ]
  },
  {
   "cell_type": "code",
   "execution_count": 12,
   "metadata": {},
   "outputs": [
    {
     "data": {
      "text/plain": [
       "array(['Healthy', 'Pneumonia'], dtype='<U9')"
      ]
     },
     "execution_count": 12,
     "metadata": {},
     "output_type": "execute_result"
    }
   ],
   "source": [
    "np.unique(train_labels)"
   ]
  },
  {
   "cell_type": "code",
   "execution_count": 13,
   "metadata": {
    "colab": {
     "base_uri": "https://localhost:8080/",
     "height": 54
    },
    "colab_type": "code",
    "id": "YAHg4HTzSR1C",
    "outputId": "be27b27d-3389-4d26-b8ee-d795b2259a5f"
   },
   "outputs": [
    {
     "name": "stdout",
     "output_type": "stream",
     "text": [
      "[['Healthy' 'Pneumonia']\n",
      " ['256' '192']]\n",
      "[['Healthy' 'Pneumonia']\n",
      " ['24' '104']]\n"
     ]
    }
   ],
   "source": [
    "unique_elements, counts_elements = np.unique(train_labels, return_counts=True)\n",
    "print(np.asarray((unique_elements, counts_elements)))\n",
    "\n",
    "unique_elements_test, counts_elements_test = np.unique(test_labels, return_counts=True)\n",
    "print(np.asarray((unique_elements_test, counts_elements_test)))"
   ]
  },
  {
   "cell_type": "code",
   "execution_count": 14,
   "metadata": {
    "colab": {
     "base_uri": "https://localhost:8080/",
     "height": 513
    },
    "colab_type": "code",
    "id": "mtNpDgBOSR1G",
    "outputId": "0f7584a0-d821-4196-c22f-3847fa3031b6"
   },
   "outputs": [
    {
     "data": {
      "image/png": "[encoded data removed]",
      "text/plain": [
       "<Figure size 864x576 with 1 Axes>"
      ]
     },
     "metadata": {
      "needs_background": "light"
     },
     "output_type": "display_data"
    }
   ],
   "source": [
    "# plot class counts\n",
    "y_pos = np.arange(len(unique_elements))\n",
    "plt.figure(figsize=(12,8))\n",
    "plt.bar(unique_elements, counts_elements, align='center', alpha=0.5)\n",
    "plt.xticks(y_pos, unique_elements)\n",
    "plt.ylabel('Count')\n",
    "plt.xlabel('Disease')\n",
    "plt.title('Disease Count in Sound Files (No Asthma or LRTI)')\n",
    "plt.show()"
   ]
  },
  {
   "cell_type": "markdown",
   "metadata": {},
   "source": [
    "__Balanceando dados__"
   ]
  },
  {
   "cell_type": "code",
   "execution_count": 15,
   "metadata": {},
   "outputs": [],
   "source": [
    "def balance_data(X, labels):\n",
    "    \"\"\"Balances data duplicating some instances of the minority classes\"\"\"\n",
    "    balX = None\n",
    "    baly = None\n",
    "    unique, counts = np.unique(labels, return_counts=True)\n",
    "    max_inst = max(counts)\n",
    "    # For every class duplicate the necessary amount\n",
    "    for label in unique:\n",
    "        data_of_label = []\n",
    "        for x, y in zip(X, labels):\n",
    "            if y == label:\n",
    "                data_of_label.append(x)\n",
    "        data_of_label = np.asarray(data_of_label)\n",
    "        extra = data_of_label[np.random.choice(data_of_label.shape[0],\n",
    "                                               max_inst,\n",
    "                                               replace=True), :]\n",
    "        if balX is not None:\n",
    "            balX = np.stack((balX, extra), axis = 0) \n",
    "            baly = np.stack((baly, np.asarray([label for i in range(len(extra))])))\n",
    "        else:\n",
    "            balX = extra\n",
    "            baly = np.asarray([label for i in range(len(extra))])\n",
    "    balX = np.concatenate(balX)\n",
    "    baly = np.concatenate(baly)\n",
    "    return balX, baly"
   ]
  },
  {
   "cell_type": "code",
   "execution_count": 16,
   "metadata": {},
   "outputs": [],
   "source": [
    "train_features, train_labels = balance_data(train_features, train_labels)\n",
    "test_features, test_labels = balance_data(test_features, test_labels)"
   ]
  },
  {
   "cell_type": "code",
   "execution_count": 17,
   "metadata": {
    "colab": {},
    "colab_type": "code",
    "id": "WtqGtxmPSR1K"
   },
   "outputs": [],
   "source": [
    "# One-hot encode labels\n",
    "le = LabelEncoder()\n",
    "le.fit(train_labels)\n",
    "train_labels_cat = to_categorical(le.transform(train_labels)) \n",
    "test_labels_cat = to_categorical(le.transform(test_labels)) "
   ]
  },
  {
   "cell_type": "code",
   "execution_count": 18,
   "metadata": {},
   "outputs": [
    {
     "data": {
      "text/plain": [
       "(512, 40, 431)"
      ]
     },
     "execution_count": 18,
     "metadata": {},
     "output_type": "execute_result"
    }
   ],
   "source": [
    "train_features.shape"
   ]
  },
  {
   "cell_type": "code",
   "execution_count": 19,
   "metadata": {},
   "outputs": [],
   "source": [
    "input_dim = train_features.shape[1]*train_features.shape[2]"
   ]
  },
  {
   "cell_type": "code",
   "execution_count": 20,
   "metadata": {
    "colab": {},
    "colab_type": "code",
    "id": "MgH8aGqeSR1P"
   },
   "outputs": [
    {
     "name": "stdout",
     "output_type": "stream",
     "text": [
      "(512, 17240) (512, 2)\n",
      "(208, 17240) (208, 2)\n"
     ]
    }
   ],
   "source": [
    "train_features = np.reshape(train_features, (train_features.shape[0], input_dim))\n",
    "print(train_features.shape, train_labels_cat.shape)\n",
    "test_features = np.reshape(test_features, (test_features.shape[0], input_dim))\n",
    "print(test_features.shape, test_labels_cat.shape)"
   ]
  },
  {
   "cell_type": "code",
   "execution_count": 21,
   "metadata": {
    "colab": {},
    "colab_type": "code",
    "id": "xFPaVmUESR1T"
   },
   "outputs": [],
   "source": [
    "x_test, y_test = test_features, test_labels_cat\n",
    "x_train, y_train = train_features, train_labels_cat"
   ]
  },
  {
   "cell_type": "markdown",
   "metadata": {
    "colab_type": "text",
    "id": "SN1ipKhfSR1X"
   },
   "source": [
    "**MLP model architecture**"
   ]
  },
  {
   "cell_type": "code",
   "execution_count": 22,
   "metadata": {
    "colab": {},
    "colab_type": "code",
    "id": "oZ5PcMOrcV1B"
   },
   "outputs": [],
   "source": [
    "num_labels = train_labels_cat.shape[1]\n",
    "model = Sequential()\n",
    "model.add(Dense(100, activation='relu', input_dim=input_dim))\n",
    "model.add(Dense(100, activation='relu'))\n",
    "model.add(Dense(70, activation='relu'))\n",
    "model.add(Dense(70, activation='relu'))\n",
    "model.add(Dense(50, activation='relu'))\n",
    "model.add(Dense(50, activation='relu'))\n",
    "model.add(Dense(30, activation='relu'))\n",
    "model.add(Dense(30, activation='relu'))\n",
    "model.add(Dense(20, activation='relu'))\n",
    "model.add(Dense(20, activation='relu'))\n",
    "\n",
    "model.add(Dense(num_labels, activation='softmax')) "
   ]
  },
  {
   "cell_type": "code",
   "execution_count": 23,
   "metadata": {
    "colab": {},
    "colab_type": "code",
    "id": "VcSipiVsSR1c"
   },
   "outputs": [],
   "source": [
    "# Compile the model\n",
    "model.compile(loss='categorical_crossentropy', metrics=['accuracy'], optimizer='adam') "
   ]
  },
  {
   "cell_type": "code",
   "execution_count": 24,
   "metadata": {
    "colab": {
     "base_uri": "https://localhost:8080/",
     "height": 719
    },
    "colab_type": "code",
    "id": "UvvyonaaSR1h",
    "outputId": "9c2154c5-f927-4c3d-e89e-951ba479c079"
   },
   "outputs": [
    {
     "name": "stdout",
     "output_type": "stream",
     "text": [
      "Model: \"sequential\"\n",
      "_________________________________________________________________\n",
      "Layer (type)                 Output Shape              Param #   \n",
      "=================================================================\n",
      "dense (Dense)                (None, 100)               1724100   \n",
      "_________________________________________________________________\n",
      "dense_1 (Dense)              (None, 100)               10100     \n",
      "_________________________________________________________________\n",
      "dense_2 (Dense)              (None, 70)                7070      \n",
      "_________________________________________________________________\n",
      "dense_3 (Dense)              (None, 70)                4970      \n",
      "_________________________________________________________________\n",
      "dense_4 (Dense)              (None, 50)                3550      \n",
      "_________________________________________________________________\n",
      "dense_5 (Dense)              (None, 50)                2550      \n",
      "_________________________________________________________________\n",
      "dense_6 (Dense)              (None, 30)                1530      \n",
      "_________________________________________________________________\n",
      "dense_7 (Dense)              (None, 30)                930       \n",
      "_________________________________________________________________\n",
      "dense_8 (Dense)              (None, 20)                620       \n",
      "_________________________________________________________________\n",
      "dense_9 (Dense)              (None, 20)                420       \n",
      "_________________________________________________________________\n",
      "dense_10 (Dense)             (None, 2)                 42        \n",
      "=================================================================\n",
      "Total params: 1,755,882\n",
      "Trainable params: 1,755,882\n",
      "Non-trainable params: 0\n",
      "_________________________________________________________________\n",
      "208/208 [==============================] - 0s 2ms/sample - loss: 1.3355 - accuracy: 0.5000\n",
      "Pre-training accuracy: 50.0000%\n"
     ]
    }
   ],
   "source": [
    "# Display model architecture summary \n",
    "model.summary()\n",
    "\n",
    "# Calculate pre-training accuracy \n",
    "score = model.evaluate(x_test, y_test, verbose=1)\n",
    "accuracy = 100*score[1]\n",
    "\n",
    "print(\"Pre-training accuracy: %.4f%%\" % accuracy)"
   ]
  },
  {
   "cell_type": "markdown",
   "metadata": {
    "colab_type": "text",
    "id": "TVtD0mcDSR1j"
   },
   "source": [
    "**Training**\n",
    "\n",
    "Here we will train the model. If we have a trained model, we can load it instead from the next cell."
   ]
  },
  {
   "cell_type": "code",
   "execution_count": 25,
   "metadata": {
    "colab": {
     "base_uri": "https://localhost:8080/",
     "height": 1000
    },
    "colab_type": "code",
    "id": "ruRXrsrhSR1k",
    "outputId": "ec26a26d-ad59-4e89-c88f-6277e4d0c283"
   },
   "outputs": [
    {
     "name": "stdout",
     "output_type": "stream",
     "text": [
      "Train on 512 samples, validate on 208 samples\n",
      "Epoch 1/100\n",
      "510/512 [============================>.] - ETA: 0s - loss: 4.0510 - accuracy: 0.4863\n",
      "Epoch 00001: val_accuracy improved from -inf to 0.50000, saving model to models/MLP1_dataset_2_slide10_01.h5\n",
      "512/512 [==============================] - 1s 2ms/sample - loss: 4.0391 - accuracy: 0.4863 - val_loss: 1.8041 - val_accuracy: 0.5000\n",
      "Epoch 2/100\n",
      "400/512 [======================>.......] - ETA: 0s - loss: 1.0775 - accuracy: 0.5250\n",
      "Epoch 00002: val_accuracy did not improve from 0.50000\n",
      "512/512 [==============================] - 0s 521us/sample - loss: 0.9748 - accuracy: 0.5605 - val_loss: 1.4172 - val_accuracy: 0.5000\n",
      "Epoch 3/100\n",
      "500/512 [============================>.] - ETA: 0s - loss: 0.6255 - accuracy: 0.6980\n",
      "Epoch 00003: val_accuracy improved from 0.50000 to 0.91827, saving model to models/MLP1_dataset_2_slide10_03.h5\n",
      "512/512 [==============================] - 0s 684us/sample - loss: 0.6181 - accuracy: 0.7031 - val_loss: 0.2798 - val_accuracy: 0.9183\n",
      "Epoch 4/100\n",
      "490/512 [===========================>..] - ETA: 0s - loss: 0.2503 - accuracy: 0.8776\n",
      "Epoch 00004: val_accuracy did not improve from 0.91827\n",
      "512/512 [==============================] - 0s 529us/sample - loss: 0.2623 - accuracy: 0.8730 - val_loss: 0.3078 - val_accuracy: 0.9183\n",
      "Epoch 5/100\n",
      "440/512 [========================>.....] - ETA: 0s - loss: 0.2006 - accuracy: 0.9341\n",
      "Epoch 00005: val_accuracy did not improve from 0.91827\n",
      "512/512 [==============================] - 0s 504us/sample - loss: 0.1957 - accuracy: 0.9336 - val_loss: 0.4006 - val_accuracy: 0.8125\n",
      "Epoch 6/100\n",
      "430/512 [========================>.....] - ETA: 0s - loss: 0.2167 - accuracy: 0.9302\n",
      "Epoch 00006: val_accuracy did not improve from 0.91827\n",
      "512/512 [==============================] - 0s 472us/sample - loss: 0.1968 - accuracy: 0.9355 - val_loss: 0.6771 - val_accuracy: 0.6971\n",
      "Epoch 7/100\n",
      "440/512 [========================>.....] - ETA: 0s - loss: 0.1283 - accuracy: 0.9455\n",
      "Epoch 00007: val_accuracy did not improve from 0.91827\n",
      "512/512 [==============================] - 0s 473us/sample - loss: 0.1213 - accuracy: 0.9492 - val_loss: 1.0588 - val_accuracy: 0.6250\n",
      "Epoch 8/100\n",
      "400/512 [======================>.......] - ETA: 0s - loss: 0.0526 - accuracy: 0.9800\n",
      "Epoch 00008: val_accuracy did not improve from 0.91827\n",
      "512/512 [==============================] - 0s 489us/sample - loss: 0.0687 - accuracy: 0.9727 - val_loss: 2.8698 - val_accuracy: 0.5048\n",
      "Epoch 9/100\n",
      "420/512 [=======================>......] - ETA: 0s - loss: 0.3045 - accuracy: 0.9190\n",
      "Epoch 00009: val_accuracy did not improve from 0.91827\n",
      "512/512 [==============================] - 0s 487us/sample - loss: 0.2581 - accuracy: 0.9316 - val_loss: 0.3716 - val_accuracy: 0.8990\n",
      "Epoch 10/100\n",
      "440/512 [========================>.....] - ETA: 0s - loss: 0.7215 - accuracy: 0.7955\n",
      "Epoch 00010: val_accuracy did not improve from 0.91827\n",
      "512/512 [==============================] - 0s 488us/sample - loss: 0.6763 - accuracy: 0.8105 - val_loss: 0.8966 - val_accuracy: 0.8125\n",
      "Epoch 11/100\n",
      "400/512 [======================>.......] - ETA: 0s - loss: 0.5419 - accuracy: 0.8500\n",
      "Epoch 00011: val_accuracy did not improve from 0.91827\n",
      "512/512 [==============================] - 0s 508us/sample - loss: 0.4542 - accuracy: 0.8672 - val_loss: 0.5462 - val_accuracy: 0.8942\n",
      "Epoch 12/100\n",
      "400/512 [======================>.......] - ETA: 0s - loss: 0.0714 - accuracy: 0.9625\n",
      "Epoch 00012: val_accuracy did not improve from 0.91827\n",
      "512/512 [==============================] - 0s 496us/sample - loss: 0.0726 - accuracy: 0.9668 - val_loss: 0.5121 - val_accuracy: 0.8990\n",
      "Epoch 13/100\n",
      "410/512 [=======================>......] - ETA: 0s - loss: 0.2229 - accuracy: 0.9317\n",
      "Epoch 00013: val_accuracy did not improve from 0.91827\n",
      "512/512 [==============================] - 0s 507us/sample - loss: 0.2076 - accuracy: 0.9316 - val_loss: 1.0722 - val_accuracy: 0.6538\n",
      "Epoch 14/100\n",
      "480/512 [===========================>..] - ETA: 0s - loss: 0.0191 - accuracy: 0.9937\n",
      "Epoch 00014: val_accuracy did not improve from 0.91827\n",
      "512/512 [==============================] - 0s 569us/sample - loss: 0.0180 - accuracy: 0.9941 - val_loss: 0.5230 - val_accuracy: 0.8894\n",
      "Epoch 15/100\n",
      "480/512 [===========================>..] - ETA: 0s - loss: 0.0105 - accuracy: 1.0000\n",
      "Epoch 00015: val_accuracy did not improve from 0.91827\n",
      "512/512 [==============================] - 0s 554us/sample - loss: 0.0105 - accuracy: 1.0000 - val_loss: 0.5362 - val_accuracy: 0.8942\n",
      "Epoch 16/100\n",
      "480/512 [===========================>..] - ETA: 0s - loss: 0.0129 - accuracy: 0.9937\n",
      "Epoch 00016: val_accuracy did not improve from 0.91827\n",
      "512/512 [==============================] - 0s 555us/sample - loss: 0.0139 - accuracy: 0.9922 - val_loss: 0.7325 - val_accuracy: 0.8269\n",
      "Epoch 17/100\n",
      "390/512 [=====================>........] - ETA: 0s - loss: 0.2417 - accuracy: 0.9205\n",
      "Epoch 00017: val_accuracy did not improve from 0.91827\n",
      "512/512 [==============================] - 0s 521us/sample - loss: 0.1887 - accuracy: 0.9375 - val_loss: 1.0254 - val_accuracy: 0.8750\n",
      "Epoch 18/100\n",
      "510/512 [============================>.] - ETA: 0s - loss: 0.2412 - accuracy: 0.9255\n",
      "Epoch 00018: val_accuracy did not improve from 0.91827\n",
      "512/512 [==============================] - 0s 535us/sample - loss: 0.2403 - accuracy: 0.9258 - val_loss: 1.5422 - val_accuracy: 0.5385\n",
      "Epoch 19/100\n",
      "510/512 [============================>.] - ETA: 0s - loss: 0.0415 - accuracy: 0.9843\n",
      "Epoch 00019: val_accuracy did not improve from 0.91827\n",
      "512/512 [==============================] - 0s 572us/sample - loss: 0.0414 - accuracy: 0.9844 - val_loss: 1.4148 - val_accuracy: 0.7260\n",
      "Epoch 20/100\n",
      "440/512 [========================>.....] - ETA: 0s - loss: 6.0189e-04 - accuracy: 1.0000\n",
      "Epoch 00020: val_accuracy did not improve from 0.91827\n",
      "512/512 [==============================] - 0s 651us/sample - loss: 5.2361e-04 - accuracy: 1.0000 - val_loss: 1.5702 - val_accuracy: 0.7260\n",
      "Epoch 21/100\n",
      "450/512 [=========================>....] - ETA: 0s - loss: 7.8289e-05 - accuracy: 1.0000\n",
      "Epoch 00021: val_accuracy did not improve from 0.91827\n",
      "512/512 [==============================] - 0s 589us/sample - loss: 8.3503e-05 - accuracy: 1.0000 - val_loss: 1.8381 - val_accuracy: 0.7260\n",
      "Epoch 22/100\n",
      "500/512 [============================>.] - ETA: 0s - loss: 3.4402e-05 - accuracy: 1.0000\n",
      "Epoch 00022: val_accuracy did not improve from 0.91827\n",
      "512/512 [==============================] - 0s 533us/sample - loss: 3.3605e-05 - accuracy: 1.0000 - val_loss: 2.3441 - val_accuracy: 0.7019\n",
      "Epoch 23/100\n",
      "500/512 [============================>.] - ETA: 0s - loss: 1.6737e-05 - accuracy: 1.0000\n",
      "Epoch 00023: val_accuracy did not improve from 0.91827\n",
      "512/512 [==============================] - 0s 526us/sample - loss: 1.6690e-05 - accuracy: 1.0000 - val_loss: 2.1623 - val_accuracy: 0.7260\n",
      "Epoch 24/100\n",
      "490/512 [===========================>..] - ETA: 0s - loss: 1.1464e-05 - accuracy: 1.0000\n",
      "Epoch 00024: val_accuracy did not improve from 0.91827\n",
      "512/512 [==============================] - 0s 531us/sample - loss: 1.1811e-05 - accuracy: 1.0000 - val_loss: 2.1168 - val_accuracy: 0.7260\n",
      "Epoch 25/100\n",
      "470/512 [==========================>...] - ETA: 0s - loss: 7.9922e-06 - accuracy: 1.0000\n",
      "Epoch 00025: val_accuracy did not improve from 0.91827\n",
      "512/512 [==============================] - 0s 554us/sample - loss: 9.0206e-06 - accuracy: 1.0000 - val_loss: 2.2163 - val_accuracy: 0.7260\n",
      "Epoch 26/100\n",
      "490/512 [===========================>..] - ETA: 0s - loss: 7.7940e-06 - accuracy: 1.0000\n",
      "Epoch 00026: val_accuracy did not improve from 0.91827\n",
      "512/512 [==============================] - 0s 544us/sample - loss: 7.5490e-06 - accuracy: 1.0000 - val_loss: 2.2529 - val_accuracy: 0.7260\n",
      "Epoch 27/100\n",
      "490/512 [===========================>..] - ETA: 0s - loss: 6.5610e-06 - accuracy: 1.0000\n",
      "Epoch 00027: val_accuracy did not improve from 0.91827\n",
      "512/512 [==============================] - 0s 544us/sample - loss: 6.4779e-06 - accuracy: 1.0000 - val_loss: 2.3014 - val_accuracy: 0.7260\n",
      "Epoch 28/100\n",
      "470/512 [==========================>...] - ETA: 0s - loss: 5.7627e-06 - accuracy: 1.0000\n",
      "Epoch 00028: val_accuracy did not improve from 0.91827\n",
      "512/512 [==============================] - 0s 556us/sample - loss: 5.6164e-06 - accuracy: 1.0000 - val_loss: 2.3252 - val_accuracy: 0.7260\n",
      "Epoch 29/100\n",
      "440/512 [========================>.....] - ETA: 0s - loss: 4.7791e-06 - accuracy: 1.0000\n",
      "Epoch 00029: val_accuracy did not improve from 0.91827\n",
      "512/512 [==============================] - 0s 596us/sample - loss: 4.8551e-06 - accuracy: 1.0000 - val_loss: 2.3717 - val_accuracy: 0.7260\n",
      "Epoch 30/100\n",
      "420/512 [=======================>......] - ETA: 0s - loss: 4.5615e-06 - accuracy: 1.0000\n",
      "Epoch 00030: val_accuracy did not improve from 0.91827\n",
      "512/512 [==============================] - 0s 613us/sample - loss: 4.2512e-06 - accuracy: 1.0000 - val_loss: 2.4031 - val_accuracy: 0.7260\n",
      "Epoch 31/100\n",
      "470/512 [==========================>...] - ETA: 0s - loss: 3.5911e-06 - accuracy: 1.0000\n",
      "Epoch 00031: val_accuracy did not improve from 0.91827\n",
      "512/512 [==============================] - 0s 578us/sample - loss: 3.8331e-06 - accuracy: 1.0000 - val_loss: 2.4133 - val_accuracy: 0.7260\n",
      "Epoch 32/100\n",
      "460/512 [=========================>....] - ETA: 0s - loss: 2.8692e-06 - accuracy: 1.0000\n",
      "Epoch 00032: val_accuracy did not improve from 0.91827\n",
      "512/512 [==============================] - 0s 632us/sample - loss: 3.4851e-06 - accuracy: 1.0000 - val_loss: 2.4693 - val_accuracy: 0.7260\n",
      "Epoch 33/100\n",
      "500/512 [============================>.] - ETA: 0s - loss: 3.1694e-06 - accuracy: 1.0000\n",
      "Epoch 00033: val_accuracy did not improve from 0.91827\n",
      "512/512 [==============================] - 0s 545us/sample - loss: 3.0984e-06 - accuracy: 1.0000 - val_loss: 2.4786 - val_accuracy: 0.7260\n",
      "Epoch 34/100\n",
      "450/512 [=========================>....] - ETA: 0s - loss: 2.8307e-06 - accuracy: 1.0000\n",
      "Epoch 00034: val_accuracy did not improve from 0.91827\n",
      "512/512 [==============================] - 0s 622us/sample - loss: 2.8614e-06 - accuracy: 1.0000 - val_loss: 2.4841 - val_accuracy: 0.7260\n",
      "Epoch 35/100\n",
      "440/512 [========================>.....] - ETA: 0s - loss: 2.5580e-06 - accuracy: 1.0000\n",
      "Epoch 00035: val_accuracy did not improve from 0.91827\n",
      "512/512 [==============================] - 0s 581us/sample - loss: 2.6158e-06 - accuracy: 1.0000 - val_loss: 2.5321 - val_accuracy: 0.7260\n",
      "Epoch 36/100\n",
      "480/512 [===========================>..] - ETA: 0s - loss: 2.0806e-06 - accuracy: 1.0000\n",
      "Epoch 00036: val_accuracy did not improve from 0.91827\n",
      "512/512 [==============================] - 0s 607us/sample - loss: 2.4067e-06 - accuracy: 1.0000 - val_loss: 2.5412 - val_accuracy: 0.7260\n",
      "Epoch 37/100\n",
      "470/512 [==========================>...] - ETA: 0s - loss: 2.1769e-06 - accuracy: 1.0000\n",
      "Epoch 00037: val_accuracy did not improve from 0.91827\n",
      "512/512 [==============================] - 0s 569us/sample - loss: 2.3047e-06 - accuracy: 1.0000 - val_loss: 2.4590 - val_accuracy: 0.7260\n",
      "Epoch 38/100\n",
      "490/512 [===========================>..] - ETA: 0s - loss: 2.0092e-06 - accuracy: 1.0000\n",
      "Epoch 00038: val_accuracy did not improve from 0.91827\n",
      "512/512 [==============================] - 0s 543us/sample - loss: 1.9713e-06 - accuracy: 1.0000 - val_loss: 2.4993 - val_accuracy: 0.7260\n",
      "Epoch 39/100\n",
      "470/512 [==========================>...] - ETA: 0s - loss: 1.6785e-06 - accuracy: 1.0000\n",
      "Epoch 00039: val_accuracy did not improve from 0.91827\n",
      "512/512 [==============================] - 0s 613us/sample - loss: 1.8186e-06 - accuracy: 1.0000 - val_loss: 2.5175 - val_accuracy: 0.7260\n",
      "Epoch 40/100\n",
      "430/512 [========================>.....] - ETA: 0s - loss: 1.9040e-06 - accuracy: 1.0000\n",
      "Epoch 00040: val_accuracy did not improve from 0.91827\n",
      "512/512 [==============================] - 0s 673us/sample - loss: 1.7024e-06 - accuracy: 1.0000 - val_loss: 2.5479 - val_accuracy: 0.7260\n",
      "Epoch 41/100\n",
      "490/512 [===========================>..] - ETA: 0s - loss: 1.6168e-06 - accuracy: 1.0000\n",
      "Epoch 00041: val_accuracy did not improve from 0.91827\n",
      "512/512 [==============================] - 0s 669us/sample - loss: 1.5765e-06 - accuracy: 1.0000 - val_loss: 2.5657 - val_accuracy: 0.7260\n",
      "Epoch 42/100\n",
      "400/512 [======================>.......] - ETA: 0s - loss: 1.5720e-06 - accuracy: 1.0000\n",
      "Epoch 00042: val_accuracy did not improve from 0.91827\n",
      "512/512 [==============================] - 0s 508us/sample - loss: 1.4803e-06 - accuracy: 1.0000 - val_loss: 2.5619 - val_accuracy: 0.7260\n",
      "Epoch 43/100\n",
      "420/512 [=======================>......] - ETA: 0s - loss: 1.0300e-06 - accuracy: 1.0000\n",
      "Epoch 00043: val_accuracy did not improve from 0.91827\n",
      "512/512 [==============================] - 0s 660us/sample - loss: 1.3725e-06 - accuracy: 1.0000 - val_loss: 2.5750 - val_accuracy: 0.7260\n",
      "Epoch 44/100\n",
      "430/512 [========================>.....] - ETA: 0s - loss: 1.4324e-06 - accuracy: 1.0000\n",
      "Epoch 00044: val_accuracy did not improve from 0.91827\n",
      "512/512 [==============================] - 0s 651us/sample - loss: 1.2759e-06 - accuracy: 1.0000 - val_loss: 2.5823 - val_accuracy: 0.7260\n",
      "Epoch 45/100\n",
      "410/512 [=======================>......] - ETA: 0s - loss: 1.1961e-06 - accuracy: 1.0000\n",
      "Epoch 00045: val_accuracy did not improve from 0.91827\n",
      "512/512 [==============================] - 0s 610us/sample - loss: 1.1942e-06 - accuracy: 1.0000 - val_loss: 2.5801 - val_accuracy: 0.7260\n",
      "Epoch 46/100\n",
      "450/512 [=========================>....] - ETA: 0s - loss: 1.2130e-06 - accuracy: 1.0000\n",
      "Epoch 00046: val_accuracy did not improve from 0.91827\n",
      "512/512 [==============================] - 0s 577us/sample - loss: 1.1248e-06 - accuracy: 1.0000 - val_loss: 2.5997 - val_accuracy: 0.7260\n",
      "Epoch 47/100\n",
      "510/512 [============================>.] - ETA: 0s - loss: 1.0572e-06 - accuracy: 1.0000\n",
      "Epoch 00047: val_accuracy did not improve from 0.91827\n",
      "512/512 [==============================] - 0s 533us/sample - loss: 1.0531e-06 - accuracy: 1.0000 - val_loss: 2.6142 - val_accuracy: 0.7260\n",
      "Epoch 48/100\n",
      "490/512 [===========================>..] - ETA: 0s - loss: 1.0366e-06 - accuracy: 1.0000\n",
      "Epoch 00048: val_accuracy did not improve from 0.91827\n",
      "512/512 [==============================] - 0s 558us/sample - loss: 9.9371e-07 - accuracy: 1.0000 - val_loss: 2.6248 - val_accuracy: 0.7260\n",
      "Epoch 49/100\n",
      "480/512 [===========================>..] - ETA: 0s - loss: 8.7891e-07 - accuracy: 1.0000\n",
      "Epoch 00049: val_accuracy did not improve from 0.91827\n",
      "512/512 [==============================] - 0s 561us/sample - loss: 9.4016e-07 - accuracy: 1.0000 - val_loss: 2.6410 - val_accuracy: 0.7260\n",
      "Epoch 50/100\n",
      "490/512 [===========================>..] - ETA: 0s - loss: 8.1816e-07 - accuracy: 1.0000\n",
      "Epoch 00050: val_accuracy did not improve from 0.91827\n",
      "512/512 [==============================] - 0s 540us/sample - loss: 8.8894e-07 - accuracy: 1.0000 - val_loss: 2.6417 - val_accuracy: 0.7260\n",
      "Epoch 51/100\n",
      "480/512 [===========================>..] - ETA: 0s - loss: 8.9530e-07 - accuracy: 1.0000\n",
      "Epoch 00051: val_accuracy did not improve from 0.91827\n",
      "512/512 [==============================] - 0s 547us/sample - loss: 8.4307e-07 - accuracy: 1.0000 - val_loss: 2.6751 - val_accuracy: 0.7260\n",
      "Epoch 52/100\n",
      "500/512 [============================>.] - ETA: 0s - loss: 7.9035e-07 - accuracy: 1.0000\n",
      "Epoch 00052: val_accuracy did not improve from 0.91827\n",
      "512/512 [==============================] - 0s 539us/sample - loss: 7.9371e-07 - accuracy: 1.0000 - val_loss: 2.6804 - val_accuracy: 0.7260\n",
      "Epoch 53/100\n",
      "480/512 [===========================>..] - ETA: 0s - loss: 7.8752e-07 - accuracy: 1.0000\n",
      "Epoch 00053: val_accuracy did not improve from 0.91827\n",
      "512/512 [==============================] - 0s 552us/sample - loss: 7.5250e-07 - accuracy: 1.0000 - val_loss: 2.6853 - val_accuracy: 0.7260\n",
      "Epoch 54/100\n",
      "390/512 [=====================>........] - ETA: 0s - loss: 7.8219e-07 - accuracy: 1.0000\n",
      "Epoch 00054: val_accuracy did not improve from 0.91827\n",
      "512/512 [==============================] - 0s 521us/sample - loss: 7.1781e-07 - accuracy: 1.0000 - val_loss: 2.6948 - val_accuracy: 0.7260\n",
      "Epoch 55/100\n",
      "470/512 [==========================>...] - ETA: 0s - loss: 7.3300e-07 - accuracy: 1.0000\n",
      "Epoch 00055: val_accuracy did not improve from 0.91827\n",
      "512/512 [==============================] - 0s 578us/sample - loss: 6.8335e-07 - accuracy: 1.0000 - val_loss: 2.7037 - val_accuracy: 0.7260\n",
      "Epoch 56/100\n",
      "480/512 [===========================>..] - ETA: 0s - loss: 5.1806e-07 - accuracy: 1.0000\n",
      "Epoch 00056: val_accuracy did not improve from 0.91827\n",
      "512/512 [==============================] - 0s 553us/sample - loss: 6.4168e-07 - accuracy: 1.0000 - val_loss: 2.7201 - val_accuracy: 0.7260\n",
      "Epoch 57/100\n",
      "480/512 [===========================>..] - ETA: 0s - loss: 6.2510e-07 - accuracy: 1.0000\n",
      "Epoch 00057: val_accuracy did not improve from 0.91827\n",
      "512/512 [==============================] - 0s 563us/sample - loss: 6.1001e-07 - accuracy: 1.0000 - val_loss: 2.7501 - val_accuracy: 0.7260\n",
      "Epoch 58/100\n",
      "490/512 [===========================>..] - ETA: 0s - loss: 5.9750e-07 - accuracy: 1.0000\n",
      "Epoch 00058: val_accuracy did not improve from 0.91827\n",
      "512/512 [==============================] - 0s 542us/sample - loss: 5.7742e-07 - accuracy: 1.0000 - val_loss: 2.7613 - val_accuracy: 0.7260\n",
      "Epoch 59/100\n",
      "490/512 [===========================>..] - ETA: 0s - loss: 5.7147e-07 - accuracy: 1.0000\n",
      "Epoch 00059: val_accuracy did not improve from 0.91827\n",
      "512/512 [==============================] - 0s 556us/sample - loss: 5.4785e-07 - accuracy: 1.0000 - val_loss: 2.7748 - val_accuracy: 0.7260\n",
      "Epoch 60/100\n",
      "420/512 [=======================>......] - ETA: 0s - loss: 5.8469e-07 - accuracy: 1.0000\n",
      "Epoch 00060: val_accuracy did not improve from 0.91827\n",
      "512/512 [==============================] - 0s 598us/sample - loss: 5.3108e-07 - accuracy: 1.0000 - val_loss: 2.7765 - val_accuracy: 0.7260\n",
      "Epoch 61/100\n",
      "480/512 [===========================>..] - ETA: 0s - loss: 5.1061e-07 - accuracy: 1.0000\n",
      "Epoch 00061: val_accuracy did not improve from 0.91827\n",
      "512/512 [==============================] - 0s 549us/sample - loss: 4.9383e-07 - accuracy: 1.0000 - val_loss: 2.7945 - val_accuracy: 0.7260\n",
      "Epoch 62/100\n",
      "440/512 [========================>.....] - ETA: 0s - loss: 3.9122e-07 - accuracy: 1.0000\n",
      "Epoch 00062: val_accuracy did not improve from 0.91827\n",
      "512/512 [==============================] - 0s 649us/sample - loss: 4.6915e-07 - accuracy: 1.0000 - val_loss: 2.8023 - val_accuracy: 0.7260\n",
      "Epoch 63/100\n",
      "450/512 [=========================>....] - ETA: 0s - loss: 3.5922e-07 - accuracy: 1.0000\n",
      "Epoch 00063: val_accuracy did not improve from 0.91827\n",
      "512/512 [==============================] - 0s 601us/sample - loss: 4.4843e-07 - accuracy: 1.0000 - val_loss: 2.8064 - val_accuracy: 0.7260\n",
      "Epoch 64/100\n",
      "440/512 [========================>.....] - ETA: 0s - loss: 4.3565e-07 - accuracy: 1.0000\n",
      "Epoch 00064: val_accuracy did not improve from 0.91827\n",
      "512/512 [==============================] - 0s 612us/sample - loss: 4.2724e-07 - accuracy: 1.0000 - val_loss: 2.8258 - val_accuracy: 0.7260\n",
      "Epoch 65/100\n",
      "450/512 [=========================>....] - ETA: 0s - loss: 3.9339e-07 - accuracy: 1.0000\n",
      "Epoch 00065: val_accuracy did not improve from 0.91827\n",
      "512/512 [==============================] - 0s 618us/sample - loss: 4.1094e-07 - accuracy: 1.0000 - val_loss: 2.8353 - val_accuracy: 0.7260\n",
      "Epoch 66/100\n",
      "420/512 [=======================>......] - ETA: 0s - loss: 3.4854e-07 - accuracy: 1.0000\n",
      "Epoch 00066: val_accuracy did not improve from 0.91827\n",
      "512/512 [==============================] - 0s 635us/sample - loss: 3.9185e-07 - accuracy: 1.0000 - val_loss: 2.8332 - val_accuracy: 0.7260\n",
      "Epoch 67/100\n",
      "500/512 [============================>.] - ETA: 0s - loss: 3.8504e-07 - accuracy: 1.0000\n",
      "Epoch 00067: val_accuracy did not improve from 0.91827\n",
      "512/512 [==============================] - 0s 549us/sample - loss: 3.7602e-07 - accuracy: 1.0000 - val_loss: 2.8618 - val_accuracy: 0.7260\n",
      "Epoch 68/100\n",
      "400/512 [======================>.......] - ETA: 0s - loss: 3.6210e-07 - accuracy: 1.0000\n",
      "Epoch 00068: val_accuracy did not improve from 0.91827\n",
      "512/512 [==============================] - 0s 539us/sample - loss: 3.5739e-07 - accuracy: 1.0000 - val_loss: 2.8593 - val_accuracy: 0.7260\n",
      "Epoch 69/100\n",
      "420/512 [=======================>......] - ETA: 0s - loss: 3.7182e-07 - accuracy: 1.0000\n",
      "Epoch 00069: val_accuracy did not improve from 0.91827\n",
      "512/512 [==============================] - 0s 493us/sample - loss: 3.3690e-07 - accuracy: 1.0000 - val_loss: 2.8852 - val_accuracy: 0.7260\n",
      "Epoch 70/100\n",
      "510/512 [============================>.] - ETA: 0s - loss: 3.1041e-07 - accuracy: 1.0000\n",
      "Epoch 00070: val_accuracy did not improve from 0.91827\n",
      "512/512 [==============================] - 0s 519us/sample - loss: 3.0920e-07 - accuracy: 1.0000 - val_loss: 2.9085 - val_accuracy: 0.7260\n",
      "Epoch 71/100\n",
      "420/512 [=======================>......] - ETA: 0s - loss: 2.7588e-07 - accuracy: 1.0000\n",
      "Epoch 00071: val_accuracy did not improve from 0.91827\n",
      "512/512 [==============================] - 0s 487us/sample - loss: 2.8103e-07 - accuracy: 1.0000 - val_loss: 2.9237 - val_accuracy: 0.7260\n",
      "Epoch 72/100\n",
      "400/512 [======================>.......] - ETA: 0s - loss: 2.5093e-07 - accuracy: 1.0000\n",
      "Epoch 00072: val_accuracy did not improve from 0.91827\n",
      "512/512 [==============================] - 0s 533us/sample - loss: 2.6100e-07 - accuracy: 1.0000 - val_loss: 2.9386 - val_accuracy: 0.7260\n",
      "Epoch 73/100\n",
      "480/512 [===========================>..] - ETA: 0s - loss: 2.6002e-07 - accuracy: 1.0000\n",
      "Epoch 00073: val_accuracy did not improve from 0.91827\n",
      "512/512 [==============================] - 0s 578us/sample - loss: 2.4401e-07 - accuracy: 1.0000 - val_loss: 2.9670 - val_accuracy: 0.7260\n",
      "Epoch 74/100\n",
      "430/512 [========================>.....] - ETA: 0s - loss: 1.8408e-07 - accuracy: 1.0000\n",
      "Epoch 00074: val_accuracy did not improve from 0.91827\n",
      "512/512 [==============================] - 0s 601us/sample - loss: 2.2841e-07 - accuracy: 1.0000 - val_loss: 2.9778 - val_accuracy: 0.7260\n",
      "Epoch 75/100\n",
      "450/512 [=========================>....] - ETA: 0s - loss: 2.4239e-07 - accuracy: 1.0000\n",
      "Epoch 00075: val_accuracy did not improve from 0.91827\n",
      "512/512 [==============================] - 0s 590us/sample - loss: 2.1793e-07 - accuracy: 1.0000 - val_loss: 3.0011 - val_accuracy: 0.7260\n",
      "Epoch 76/100\n",
      "480/512 [===========================>..] - ETA: 0s - loss: 1.9520e-07 - accuracy: 1.0000\n",
      "Epoch 00076: val_accuracy did not improve from 0.91827\n",
      "512/512 [==============================] - 0s 558us/sample - loss: 2.0489e-07 - accuracy: 1.0000 - val_loss: 3.0039 - val_accuracy: 0.7260\n",
      "Epoch 77/100\n",
      "500/512 [============================>.] - ETA: 0s - loss: 1.9836e-07 - accuracy: 1.0000\n",
      "Epoch 00077: val_accuracy did not improve from 0.91827\n",
      "512/512 [==============================] - 0s 536us/sample - loss: 1.9465e-07 - accuracy: 1.0000 - val_loss: 3.0195 - val_accuracy: 0.7260\n",
      "Epoch 78/100\n",
      "490/512 [===========================>..] - ETA: 0s - loss: 1.9414e-07 - accuracy: 1.0000\n",
      "Epoch 00078: val_accuracy did not improve from 0.91827\n",
      "512/512 [==============================] - 0s 542us/sample - loss: 1.8580e-07 - accuracy: 1.0000 - val_loss: 3.0248 - val_accuracy: 0.7260\n",
      "Epoch 79/100\n",
      "490/512 [===========================>..] - ETA: 0s - loss: 1.8441e-07 - accuracy: 1.0000\n",
      "Epoch 00079: val_accuracy did not improve from 0.91827\n",
      "512/512 [==============================] - 0s 549us/sample - loss: 1.7974e-07 - accuracy: 1.0000 - val_loss: 3.0425 - val_accuracy: 0.7260\n",
      "Epoch 80/100\n",
      "510/512 [============================>.] - ETA: 0s - loss: 1.6479e-07 - accuracy: 1.0000\n",
      "Epoch 00080: val_accuracy did not improve from 0.91827\n",
      "512/512 [==============================] - 0s 542us/sample - loss: 1.7113e-07 - accuracy: 1.0000 - val_loss: 3.0553 - val_accuracy: 0.7260\n",
      "Epoch 81/100\n",
      "510/512 [============================>.] - ETA: 0s - loss: 1.6596e-07 - accuracy: 1.0000\n",
      "Epoch 00081: val_accuracy did not improve from 0.91827\n",
      "512/512 [==============================] - 0s 535us/sample - loss: 1.6531e-07 - accuracy: 1.0000 - val_loss: 3.0515 - val_accuracy: 0.7260\n",
      "Epoch 82/100\n",
      "510/512 [============================>.] - ETA: 0s - loss: 1.5708e-07 - accuracy: 1.0000\n",
      "Epoch 00082: val_accuracy did not improve from 0.91827\n",
      "512/512 [==============================] - 0s 540us/sample - loss: 1.5902e-07 - accuracy: 1.0000 - val_loss: 3.0822 - val_accuracy: 0.7260\n",
      "Epoch 83/100\n",
      "480/512 [===========================>..] - ETA: 0s - loss: 1.4280e-07 - accuracy: 1.0000\n",
      "Epoch 00083: val_accuracy did not improve from 0.91827\n",
      "512/512 [==============================] - 0s 574us/sample - loss: 1.5204e-07 - accuracy: 1.0000 - val_loss: 3.0971 - val_accuracy: 0.7260\n",
      "Epoch 84/100\n",
      "480/512 [===========================>..] - ETA: 0s - loss: 1.5398e-07 - accuracy: 1.0000\n",
      "Epoch 00084: val_accuracy did not improve from 0.91827\n",
      "512/512 [==============================] - 0s 559us/sample - loss: 1.4575e-07 - accuracy: 1.0000 - val_loss: 3.1059 - val_accuracy: 0.7260\n",
      "Epoch 85/100\n",
      "470/512 [==========================>...] - ETA: 0s - loss: 1.3874e-07 - accuracy: 1.0000\n",
      "Epoch 00085: val_accuracy did not improve from 0.91827\n",
      "512/512 [==============================] - 0s 567us/sample - loss: 1.4203e-07 - accuracy: 1.0000 - val_loss: 3.1202 - val_accuracy: 0.7260\n",
      "Epoch 86/100\n",
      "510/512 [============================>.] - ETA: 0s - loss: 1.3674e-07 - accuracy: 1.0000\n",
      "Epoch 00086: val_accuracy did not improve from 0.91827\n",
      "512/512 [==============================] - 0s 534us/sample - loss: 1.3621e-07 - accuracy: 1.0000 - val_loss: 3.1303 - val_accuracy: 0.7260\n",
      "Epoch 87/100\n",
      "500/512 [============================>.] - ETA: 0s - loss: 1.3399e-07 - accuracy: 1.0000\n",
      "Epoch 00087: val_accuracy did not improve from 0.91827\n",
      "512/512 [==============================] - 0s 573us/sample - loss: 1.3132e-07 - accuracy: 1.0000 - val_loss: 3.1360 - val_accuracy: 0.7260\n",
      "Epoch 88/100\n",
      "460/512 [=========================>....] - ETA: 0s - loss: 1.1377e-07 - accuracy: 1.0000\n",
      "Epoch 00088: val_accuracy did not improve from 0.91827\n",
      "512/512 [==============================] - 0s 578us/sample - loss: 1.2713e-07 - accuracy: 1.0000 - val_loss: 3.1451 - val_accuracy: 0.7260\n",
      "Epoch 89/100\n",
      "400/512 [======================>.......] - ETA: 0s - loss: 1.3381e-07 - accuracy: 1.0000\n",
      "Epoch 00089: val_accuracy did not improve from 0.91827\n",
      "512/512 [==============================] - 0s 513us/sample - loss: 1.2293e-07 - accuracy: 1.0000 - val_loss: 3.1607 - val_accuracy: 0.7260\n",
      "Epoch 90/100\n",
      "450/512 [=========================>....] - ETA: 0s - loss: 1.2981e-07 - accuracy: 1.0000\n",
      "Epoch 00090: val_accuracy did not improve from 0.91827\n",
      "512/512 [==============================] - 0s 626us/sample - loss: 1.1828e-07 - accuracy: 1.0000 - val_loss: 3.1743 - val_accuracy: 0.7260\n",
      "Epoch 91/100\n",
      "420/512 [=======================>......] - ETA: 0s - loss: 1.3340e-07 - accuracy: 1.0000\n",
      "Epoch 00091: val_accuracy did not improve from 0.91827\n",
      "512/512 [==============================] - 0s 654us/sample - loss: 1.1548e-07 - accuracy: 1.0000 - val_loss: 3.1847 - val_accuracy: 0.7260\n",
      "Epoch 92/100\n",
      "500/512 [============================>.] - ETA: 0s - loss: 1.1373e-07 - accuracy: 1.0000\n",
      "Epoch 00092: val_accuracy did not improve from 0.91827\n",
      "512/512 [==============================] - 0s 566us/sample - loss: 1.1106e-07 - accuracy: 1.0000 - val_loss: 3.1926 - val_accuracy: 0.7260\n",
      "Epoch 93/100\n",
      "450/512 [=========================>....] - ETA: 0s - loss: 1.2159e-07 - accuracy: 1.0000\n",
      "Epoch 00093: val_accuracy did not improve from 0.91827\n",
      "512/512 [==============================] - 0s 595us/sample - loss: 1.0780e-07 - accuracy: 1.0000 - val_loss: 3.2038 - val_accuracy: 0.7260\n",
      "Epoch 94/100\n",
      "490/512 [===========================>..] - ETA: 0s - loss: 1.0899e-07 - accuracy: 1.0000\n",
      "Epoch 00094: val_accuracy did not improve from 0.91827\n",
      "512/512 [==============================] - 0s 546us/sample - loss: 1.0454e-07 - accuracy: 1.0000 - val_loss: 3.2078 - val_accuracy: 0.7260\n",
      "Epoch 95/100\n",
      "400/512 [======================>.......] - ETA: 0s - loss: 1.0580e-07 - accuracy: 1.0000\n",
      "Epoch 00095: val_accuracy did not improve from 0.91827\n",
      "512/512 [==============================] - 0s 536us/sample - loss: 1.0082e-07 - accuracy: 1.0000 - val_loss: 3.2181 - val_accuracy: 0.7260\n",
      "Epoch 96/100\n",
      "460/512 [=========================>....] - ETA: 0s - loss: 9.5886e-08 - accuracy: 1.0000\n",
      "Epoch 00096: val_accuracy did not improve from 0.91827\n",
      "512/512 [==============================] - 0s 565us/sample - loss: 9.8022e-08 - accuracy: 1.0000 - val_loss: 3.2392 - val_accuracy: 0.7260\n",
      "Epoch 97/100\n",
      "500/512 [============================>.] - ETA: 0s - loss: 9.4414e-08 - accuracy: 1.0000\n",
      "Epoch 00097: val_accuracy did not improve from 0.91827\n",
      "512/512 [==============================] - 0s 537us/sample - loss: 9.4995e-08 - accuracy: 1.0000 - val_loss: 3.2394 - val_accuracy: 0.7260\n",
      "Epoch 98/100\n",
      "500/512 [============================>.] - ETA: 0s - loss: 9.2268e-08 - accuracy: 1.0000\n",
      "Epoch 00098: val_accuracy did not improve from 0.91827\n",
      "512/512 [==============================] - 0s 539us/sample - loss: 9.1502e-08 - accuracy: 1.0000 - val_loss: 3.2439 - val_accuracy: 0.7260\n",
      "Epoch 99/100\n",
      "500/512 [============================>.] - ETA: 0s - loss: 9.0361e-08 - accuracy: 1.0000\n",
      "Epoch 00099: val_accuracy did not improve from 0.91827\n",
      "512/512 [==============================] - 0s 547us/sample - loss: 8.9174e-08 - accuracy: 1.0000 - val_loss: 3.2535 - val_accuracy: 0.7260\n",
      "Epoch 100/100\n",
      "480/512 [===========================>..] - ETA: 0s - loss: 8.6923e-08 - accuracy: 1.0000\n",
      "Epoch 00100: val_accuracy did not improve from 0.91827\n",
      "512/512 [==============================] - 0s 584us/sample - loss: 8.6846e-08 - accuracy: 1.0000 - val_loss: 3.2560 - val_accuracy: 0.7260\n",
      "Training completed in time:  0:00:29.394104\n"
     ]
    }
   ],
   "source": [
    "# train model\n",
    "num_epochs = 100\n",
    "num_batch_size = 10\n",
    "\n",
    "os.makedirs('models', exist_ok=True)\n",
    "callbacks = [\n",
    "    ModelCheckpoint(\n",
    "        filepath='models/' + MODEL_NAME + '_{epoch:02d}.h5',\n",
    "        # Path where to save the model\n",
    "        # The two parameters below mean that we will overwrite\n",
    "        # the current checkpoint if and only if\n",
    "        # the `val_accuracy` score has improved.\n",
    "        save_best_only=True,\n",
    "        monitor='val_accuracy',\n",
    "        verbose=1)\n",
    "]\n",
    "start = datetime.now()\n",
    "\n",
    "history = model.fit(x_train, y_train, batch_size=num_batch_size, epochs=num_epochs,\n",
    "                    validation_data=(x_test, y_test), callbacks=callbacks, verbose=1)\n",
    "\n",
    "\n",
    "duration = datetime.now() - start\n",
    "print(\"Training completed in time: \", duration)"
   ]
  },
  {
   "cell_type": "markdown",
   "metadata": {},
   "source": [
    "**Plot accuracies and losses**"
   ]
  },
  {
   "cell_type": "code",
   "execution_count": 26,
   "metadata": {},
   "outputs": [
    {
     "data": {
      "image/png": "[encoded data removed]",
      "text/plain": [
       "<Figure size 432x288 with 1 Axes>"
      ]
     },
     "metadata": {
      "needs_background": "light"
     },
     "output_type": "display_data"
    },
    {
     "data": {
      "image/png": "[encoded data removed]",
      "text/plain": [
       "<Figure size 432x288 with 1 Axes>"
      ]
     },
     "metadata": {
      "needs_background": "light"
     },
     "output_type": "display_data"
    }
   ],
   "source": [
    "# Plot training & validation accuracy values\n",
    "plt.plot(history.history['accuracy'])\n",
    "plt.plot(history.history['val_accuracy'])\n",
    "plt.title('Model accuracy')\n",
    "plt.ylabel('Accuracy')\n",
    "plt.xlabel('Epoch')\n",
    "plt.legend(['Train', 'Test'], loc='upper left')\n",
    "plt.show()\n",
    "\n",
    "# Plot training & validation loss values\n",
    "plt.plot(history.history['loss'])\n",
    "plt.plot(history.history['val_loss'])\n",
    "plt.title('Model loss')\n",
    "plt.ylabel('Loss')\n",
    "plt.xlabel('Epoch')\n",
    "plt.legend(['Train', 'Test'], loc='upper left')\n",
    "plt.show()"
   ]
  },
  {
   "cell_type": "markdown",
   "metadata": {
    "colab_type": "text",
    "id": "diDQglrhSR1n"
   },
   "source": [
    "## Teste"
   ]
  },
  {
   "cell_type": "code",
   "execution_count": 27,
   "metadata": {
    "colab": {
     "base_uri": "https://localhost:8080/",
     "height": 54
    },
    "colab_type": "code",
    "id": "Qyg7uylzSR1p",
    "outputId": "4b953e0d-5437-422d-cbc5-6b19a29879f4"
   },
   "outputs": [
    {
     "name": "stdout",
     "output_type": "stream",
     "text": [
      "Training Accuracy:  1.0\n",
      "Testing Accuracy:  0.72596157\n"
     ]
    }
   ],
   "source": [
    "# Evaluating the model on the training and testing set\n",
    "score = model.evaluate(x_train, y_train, verbose=0)\n",
    "train_acc = score[1]\n",
    "print(\"Training Accuracy: \", score[1])\n",
    "\n",
    "score = model.evaluate(x_test, y_test, verbose=0)\n",
    "test_acc = score[1]\n",
    "print(\"Testing Accuracy: \", score[1])"
   ]
  },
  {
   "cell_type": "code",
   "execution_count": 28,
   "metadata": {
    "colab": {},
    "colab_type": "code",
    "id": "KnzqoZRbSR1v"
   },
   "outputs": [],
   "source": [
    "preds = model.predict(x_test) # label scores \n",
    "\n",
    "classpreds = np.argmax(preds, axis=1) # predicted classes \n",
    "\n",
    "y_testclass = np.argmax(y_test, axis=1) # true classes\n",
    "\n",
    "n_classes=2 # number of classes"
   ]
  },
  {
   "cell_type": "code",
   "execution_count": 29,
   "metadata": {
    "colab": {},
    "colab_type": "code",
    "id": "EMrG8FeJSR14"
   },
   "outputs": [],
   "source": [
    "# Compute ROC curve and ROC area for each class\n",
    "fpr = dict()\n",
    "tpr = dict()\n",
    "roc_auc = dict()\n",
    "for i in range(n_classes):\n",
    "    fpr[i], tpr[i], _ = roc_curve(y_test[:, i], preds[:, i])\n",
    "    roc_auc[i] = auc(fpr[i], tpr[i])"
   ]
  },
  {
   "cell_type": "code",
   "execution_count": 30,
   "metadata": {
    "colab": {},
    "colab_type": "code",
    "id": "oOZSWEULSR17"
   },
   "outputs": [],
   "source": [
    "c_names = ['Bronchiectasis', 'Bronchiolitis', 'COPD', 'Healthy', 'Pneumonia', 'URTI']\n",
    "c_names = ['Healthy', 'Pneumonia']"
   ]
  },
  {
   "cell_type": "code",
   "execution_count": 31,
   "metadata": {
    "colab": {
     "base_uri": "https://localhost:8080/",
     "height": 851
    },
    "colab_type": "code",
    "id": "HY5qEVRrSR2A",
    "outputId": "9c5341de-bbdf-4c87-c999-82ee08ddd1fb"
   },
   "outputs": [
    {
     "data": {
      "image/png": "[encoded data removed]",
      "text/plain": [
       "<Figure size 1152x720 with 1 Axes>"
      ]
     },
     "metadata": {
      "needs_background": "light"
     },
     "output_type": "display_data"
    }
   ],
   "source": [
    "# Plot ROC curves\n",
    "fig, ax = plt.subplots(figsize=(16, 10))\n",
    "ax.plot([0, 1], [0, 1], 'k--')\n",
    "ax.set_xlim([0.0, 1.0])\n",
    "ax.set_ylim([0.0, 1.05])\n",
    "ax.set_xlabel('False Positive Rate')\n",
    "ax.set_ylabel('True Positive Rate')\n",
    "ax.set_title('ROC Curve for Each Class')\n",
    "for i in range(n_classes):\n",
    "    ax.plot(fpr[i], tpr[i], linewidth=3, label='ROC curve (area = %0.2f) for %s' % (roc_auc[i], c_names[i]))\n",
    "ax.legend(loc=\"best\", fontsize='x-large')\n",
    "ax.grid(alpha=.4)\n",
    "sns.despine()\n",
    "plt.show()"
   ]
  },
  {
   "cell_type": "code",
   "execution_count": 32,
   "metadata": {
    "colab": {
     "base_uri": "https://localhost:8080/",
     "height": 240
    },
    "colab_type": "code",
    "id": "qlQ12gHQSR2D",
    "outputId": "42af0b0e-037c-4177-a382-aff8a8550509"
   },
   "outputs": [
    {
     "name": "stdout",
     "output_type": "stream",
     "text": [
      "              precision    recall  f1-score   support\n",
      "\n",
      "     Healthy       0.65      1.00      0.78       104\n",
      "   Pneumonia       1.00      0.45      0.62       104\n",
      "\n",
      "    accuracy                           0.73       208\n",
      "   macro avg       0.82      0.73      0.70       208\n",
      "weighted avg       0.82      0.73      0.70       208\n",
      "\n"
     ]
    }
   ],
   "source": [
    "# Classification Report\n",
    "print(classification_report(y_testclass, classpreds, target_names=c_names))"
   ]
  },
  {
   "cell_type": "code",
   "execution_count": 33,
   "metadata": {
    "colab": {
     "base_uri": "https://localhost:8080/",
     "height": 128
    },
    "colab_type": "code",
    "id": "jGzk3U9kSR2G",
    "outputId": "cd147c90-fc8e-47c5-9cd0-6e3e224b3def"
   },
   "outputs": [
    {
     "name": "stdout",
     "output_type": "stream",
     "text": [
      "[[104   0]\n",
      " [ 57  47]]\n"
     ]
    }
   ],
   "source": [
    "# Confusion Matrix\n",
    "print(confusion_matrix(y_testclass, classpreds))"
   ]
  },
  {
   "cell_type": "code",
   "execution_count": 34,
   "metadata": {},
   "outputs": [],
   "source": [
    "import itertools\n",
    "def plot_confusion_matrix(cm, unique_labels, show=True, output=None,\n",
    "                          title='Confusion matrix', cmap=plt.cm.Oranges):\n",
    "    plt.imshow(cm, interpolation='nearest', cmap=cmap)\n",
    "    plt.title(title)\n",
    "    plt.colorbar()\n",
    "    tick_marks = np.arange(cm.shape[1])\n",
    "    plt.xticks(tick_marks, rotation=45)\n",
    "    ax = plt.gca()\n",
    "    ax.set_xticklabels((ax.get_xticks() + 1).astype(str))\n",
    "    plt.yticks(tick_marks)\n",
    "\n",
    "    ax.set_xticklabels(unique_labels)\n",
    "    ax.set_yticklabels(unique_labels)\n",
    "\n",
    "    thresh = cm.max() / 2.\n",
    "    for i, j in itertools.product(range(cm.shape[0]), range(cm.shape[1])):\n",
    "        plt.text(j, i, format(cm[i, j], '.1f'),\n",
    "                 horizontalalignment=\"center\",\n",
    "                 color=\"white\" if cm[i, j] > thresh else \"black\")\n",
    "\n",
    "    plt.tight_layout()\n",
    "    plt.ylabel('True label')\n",
    "    plt.xlabel('Predicted label')\n",
    "    if show:\n",
    "        plt.show()\n",
    "    if output is not None:\n",
    "        plt.savefig(output)\n",
    "    plt.close()\n",
    "    return output\n"
   ]
  },
  {
   "cell_type": "code",
   "execution_count": 35,
   "metadata": {},
   "outputs": [
    {
     "data": {
      "image/png": "[encoded data removed]",
      "text/plain": [
       "<Figure size 432x288 with 2 Axes>"
      ]
     },
     "metadata": {
      "needs_background": "light"
     },
     "output_type": "display_data"
    }
   ],
   "source": [
    "plot_confusion_matrix(confusion_matrix(y_testclass, classpreds), unique_labels=[\"Healthy\", \"Pneumonia\"])"
   ]
  },
  {
   "cell_type": "markdown",
   "metadata": {},
   "source": [
    "__Write csv__"
   ]
  },
  {
   "cell_type": "code",
   "execution_count": 36,
   "metadata": {},
   "outputs": [],
   "source": [
    "with open('report.csv', 'a') as report:\n",
    "    report.write(f'{MODEL_NAME},{DATASET},{GROUP_TRAIN},{DURATION},{train_acc},{test_acc}\\n')"
   ]
  },
  {
   "cell_type": "code",
   "execution_count": null,
   "metadata": {},
   "outputs": [],
   "source": []
  }
 ],
 "metadata": {
  "accelerator": "GPU",
  "colab": {
   "collapsed_sections": [],
   "name": "Corona-Disease Classification by CNN using MFCC.ipynb",
   "provenance": []
  },
  "kernelspec": {
   "display_name": "Python 3",
   "language": "python",
   "name": "python3"
  },
  "language_info": {
   "codemirror_mode": {
    "name": "ipython",
    "version": 3
   },
   "file_extension": ".py",
   "mimetype": "text/x-python",
   "name": "python",
   "nbconvert_exporter": "python",
   "pygments_lexer": "ipython3",
   "version": "3.7.7"
  }
 },
 "nbformat": 4,
 "nbformat_minor": 4
}
