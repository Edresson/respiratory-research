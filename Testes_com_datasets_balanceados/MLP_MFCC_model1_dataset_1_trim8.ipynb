{
 "cells": [
  {
   "cell_type": "markdown",
   "metadata": {
    "colab": {
     "base_uri": "https://localhost:8080/",
     "height": 1000
    },
    "colab_type": "code",
    "id": "DtXp3DMyU4u2",
    "outputId": "9a02581f-ebc9-4307-c524-f915fc001341"
   },
   "source": [
    "# Rede MLP - Modelo 1\n",
    "\n",
    "## Dataset Respiratory_Sound_Database_Pneumo_Healthy_Only - Dataset 1 - trim8"
   ]
  },
  {
   "cell_type": "code",
   "execution_count": 1,
   "metadata": {
    "_cell_guid": "79c7e3d0-c299-4dcb-8224-4455121ee9b0",
    "_uuid": "d629ff2d2480ee46fbb7e2d37f6b5fab8052498a",
    "colab": {},
    "colab_type": "code",
    "id": "sxUgP6_bSR0C"
   },
   "outputs": [],
   "source": [
    "from datetime import datetime\n",
    "from os import listdir\n",
    "from os.path import isfile, join\n",
    "\n",
    "import os\n",
    "import librosa\n",
    "import librosa.display\n",
    "import glob\n",
    "\n",
    "import numpy as np\n",
    "import pandas as pd\n",
    "\n",
    "from tensorflow.keras.models import Sequential\n",
    "from tensorflow.keras.layers import Dense, Dropout, Conv2D, MaxPooling2D, GlobalAveragePooling2D\n",
    "from tensorflow.keras.utils import to_categorical\n",
    "from tensorflow.keras.callbacks import ModelCheckpoint\n",
    "\n",
    "from sklearn.metrics import confusion_matrix, classification_report, roc_curve, auc\n",
    "from sklearn.model_selection import train_test_split\n",
    "from sklearn.preprocessing import LabelEncoder\n",
    "\n",
    "import matplotlib.pyplot as plt\n",
    "import seaborn as sns"
   ]
  },
  {
   "cell_type": "code",
   "execution_count": 2,
   "metadata": {},
   "outputs": [
    {
     "name": "stdout",
     "output_type": "stream",
     "text": [
      "1 Physical GPUs, 1 Logical GPUs\n"
     ]
    }
   ],
   "source": [
    "# Necessário na minha máquina. Estava ocorrendo um erro devido à GPU e esse código resolveu.\n",
    "import tensorflow as tf\n",
    "gpus = tf.config.experimental.list_physical_devices('GPU')\n",
    "if gpus:\n",
    "    try:\n",
    "        # Currently, memory growth needs to be the same across GPUs\n",
    "        for gpu in gpus:\n",
    "            tf.config.experimental.set_memory_growth(gpu, True)\n",
    "        logical_gpus = tf.config.experimental.list_logical_devices('GPU')\n",
    "        print(len(gpus), \"Physical GPUs,\", len(logical_gpus), \"Logical GPUs\")\n",
    "    except RuntimeError as e:\n",
    "        # Memory growth must be set before GPUs have been initialized\n",
    "        print(e)"
   ]
  },
  {
   "cell_type": "code",
   "execution_count": 3,
   "metadata": {},
   "outputs": [],
   "source": [
    "GROUP_TRAIN = 'trim8'\n",
    "GROUP_TEST = 'trim8'\n",
    "DATASET = 'dataset_1'\n",
    "DURATION = 8\n",
    "SIZE = 345\n",
    "CSV_TRAIN = 'train1.csv'\n",
    "CSV_TEST = 'test1.csv'\n",
    "MODEL_NAME = f'MLP1_{DATASET}_{GROUP_TRAIN}'"
   ]
  },
  {
   "cell_type": "code",
   "execution_count": 4,
   "metadata": {
    "colab": {},
    "colab_type": "code",
    "id": "mMb5_PxwSR0N"
   },
   "outputs": [],
   "source": [
    "train_file_paths = glob.glob(f'../datasets/{DATASET}/{GROUP_TRAIN}/train/**/*.wav', recursive=True)\n",
    "train_file_names = [os.path.splitext(os.path.basename(p))[0] for p in train_file_paths]\n",
    "\n",
    "test_file_paths = glob.glob(f'../datasets/{DATASET}/{GROUP_TEST}/test/**/*.wav', recursive=True)\n",
    "test_file_names = [os.path.splitext(os.path.basename(p))[0] for p in test_file_paths]"
   ]
  },
  {
   "cell_type": "code",
   "execution_count": 5,
   "metadata": {
    "colab": {},
    "colab_type": "code",
    "id": "wTf5HxHzSR0U"
   },
   "outputs": [],
   "source": [
    "train_p_id_in_file = [] # patient IDs corresponding to each file\n",
    "test_p_id_in_file = [] # patient IDs corresponding to each file\n",
    "for name in train_file_names:\n",
    "    train_p_id_in_file.append(int(name[:3]))\n",
    "\n",
    "for name in test_file_names:\n",
    "    test_p_id_in_file.append(int(name[:3]))\n",
    "\n",
    "train_p_id_in_file = np.array(train_p_id_in_file)\n",
    "test_p_id_in_file = np.array(test_p_id_in_file) "
   ]
  },
  {
   "cell_type": "code",
   "execution_count": 6,
   "metadata": {
    "colab": {},
    "colab_type": "code",
    "id": "UbK7vc1kSR0c"
   },
   "outputs": [],
   "source": [
    "max_pad_len = SIZE\n",
    "\n",
    "os.makedirs(\"features/\", exist_ok=True)\n",
    "\n",
    "def extract_features(file_name):\n",
    "    \"\"\"\n",
    "    This function takes in the path for an audio file as a string, loads it, and returns the MFCC\n",
    "    of the audio\"\"\"\n",
    "    feature = os.path.splitext(os.path.basename(file_name))[0] + \".npy\"\n",
    "#     if (os.path.isfile(os.path.join(\"./Respiratory_Sound_Database/features/\", feature))):\n",
    "#         return np.load(os.path.join(\"./Respiratory_Sound_Database/features/\", feature))\n",
    "    \n",
    "    try:\n",
    "        audio, sample_rate = librosa.load(file_name, res_type='kaiser_fast', duration=DURATION) \n",
    "        mfccs = librosa.feature.mfcc(y=audio, sr=sample_rate, n_mfcc=40)\n",
    "        pad_width = max_pad_len - mfccs.shape[1]\n",
    "        mfccs = np.pad(mfccs, pad_width=((0, 0), (0, pad_width)), mode='constant')\n",
    "        \n",
    "    except Exception as e:\n",
    "        print(\"Error encountered while parsing file: \", file_name)\n",
    "        return None \n",
    "    np.save(os.path.join(\"./features/\", feature), mfccs)\n",
    "    return mfccs"
   ]
  },
  {
   "cell_type": "code",
   "execution_count": 7,
   "metadata": {
    "colab": {},
    "colab_type": "code",
    "id": "xkBHJzJDSR0h"
   },
   "outputs": [],
   "source": [
    "#filepaths = [join(mypath, f) for f in filenames] # full paths of files"
   ]
  },
  {
   "cell_type": "code",
   "execution_count": 8,
   "metadata": {
    "colab": {},
    "colab_type": "code",
    "id": "UQjbbn7MSR0n"
   },
   "outputs": [
    {
     "data": {
      "text/html": [
       "<div>\n",
       "<style scoped>\n",
       "    .dataframe tbody tr th:only-of-type {\n",
       "        vertical-align: middle;\n",
       "    }\n",
       "\n",
       "    .dataframe tbody tr th {\n",
       "        vertical-align: top;\n",
       "    }\n",
       "\n",
       "    .dataframe thead th {\n",
       "        text-align: right;\n",
       "    }\n",
       "</style>\n",
       "<table border=\"1\" class=\"dataframe\">\n",
       "  <thead>\n",
       "    <tr style=\"text-align: right;\">\n",
       "      <th></th>\n",
       "      <th>0</th>\n",
       "      <th>1</th>\n",
       "    </tr>\n",
       "  </thead>\n",
       "  <tbody>\n",
       "    <tr>\n",
       "      <th>0</th>\n",
       "      <td>102</td>\n",
       "      <td>Healthy</td>\n",
       "    </tr>\n",
       "    <tr>\n",
       "      <th>1</th>\n",
       "      <td>121</td>\n",
       "      <td>Healthy</td>\n",
       "    </tr>\n",
       "    <tr>\n",
       "      <th>2</th>\n",
       "      <td>123</td>\n",
       "      <td>Healthy</td>\n",
       "    </tr>\n",
       "    <tr>\n",
       "      <th>3</th>\n",
       "      <td>125</td>\n",
       "      <td>Healthy</td>\n",
       "    </tr>\n",
       "    <tr>\n",
       "      <th>4</th>\n",
       "      <td>126</td>\n",
       "      <td>Healthy</td>\n",
       "    </tr>\n",
       "  </tbody>\n",
       "</table>\n",
       "</div>"
      ],
      "text/plain": [
       "     0        1\n",
       "0  102  Healthy\n",
       "1  121  Healthy\n",
       "2  123  Healthy\n",
       "3  125  Healthy\n",
       "4  126  Healthy"
      ]
     },
     "execution_count": 8,
     "metadata": {},
     "output_type": "execute_result"
    }
   ],
   "source": [
    "train_p_diag = pd.read_csv(f\"../Respiratory_Sound_Database/Respiratory_Sound_Database_Pneumo_Healthy_Only/{CSV_TRAIN}\", header=None) # patient diagnosis file\n",
    "test_p_diag = pd.read_csv(f\"../Respiratory_Sound_Database/Respiratory_Sound_Database_Pneumo_Healthy_Only/{CSV_TEST}\", header=None) # patient diagnosis file\n",
    "train_p_diag.head(5)"
   ]
  },
  {
   "cell_type": "code",
   "execution_count": 9,
   "metadata": {
    "colab": {},
    "colab_type": "code",
    "id": "yskEMhphSR0s"
   },
   "outputs": [],
   "source": [
    "train_labels = np.array([train_p_diag[train_p_diag[0] == x][1].values[0] for x in train_p_id_in_file]) \n",
    "test_labels = np.array([test_p_diag[test_p_diag[0] == x][1].values[0] for x in test_p_id_in_file]) "
   ]
  },
  {
   "cell_type": "code",
   "execution_count": 10,
   "metadata": {
    "colab": {
     "base_uri": "https://localhost:8080/",
     "height": 35
    },
    "colab_type": "code",
    "id": "yIlzZ5gRSR0w",
    "outputId": "e42143d5-d247-457f-c891-0c714e51cb05"
   },
   "outputs": [
    {
     "name": "stdout",
     "output_type": "stream",
     "text": [
      "Finished feature extraction from  244  files\n"
     ]
    }
   ],
   "source": [
    "train_features = [] \n",
    "test_features = []\n",
    "\n",
    "for file_name in train_file_paths:\n",
    "    data = extract_features(file_name)\n",
    "    train_features.append(data)\n",
    "\n",
    "for file_name in test_file_paths:\n",
    "    data = extract_features(file_name)\n",
    "    test_features.append(data)\n",
    "\n",
    "print('Finished feature extraction from ', (len(train_features)+len(train_features)), ' files')\n",
    "train_features = np.array(train_features)\n",
    "test_features = np.array(test_features)"
   ]
  },
  {
   "cell_type": "code",
   "execution_count": 11,
   "metadata": {
    "colab": {
     "base_uri": "https://localhost:8080/",
     "height": 297
    },
    "colab_type": "code",
    "id": "aPWfXalkSR00",
    "outputId": "0741865f-420e-4c29-8cb1-42b0fe8302cb"
   },
   "outputs": [
    {
     "data": {
      "image/png": "[encoded data removed]",
      "text/plain": [
       "<Figure size 720x288 with 2 Axes>"
      ]
     },
     "metadata": {
      "needs_background": "light"
     },
     "output_type": "display_data"
    }
   ],
   "source": [
    "# plot an MFCC\n",
    "plt.figure(figsize=(10, 4))\n",
    "librosa.display.specshow(train_features[7], x_axis='time')\n",
    "plt.colorbar()\n",
    "plt.title('MFCC')\n",
    "plt.tight_layout()\n",
    "plt.show()"
   ]
  },
  {
   "cell_type": "code",
   "execution_count": 12,
   "metadata": {},
   "outputs": [
    {
     "data": {
      "text/plain": [
       "array(['Healthy', 'Pneumonia'], dtype='<U9')"
      ]
     },
     "execution_count": 12,
     "metadata": {},
     "output_type": "execute_result"
    }
   ],
   "source": [
    "np.unique(train_labels)"
   ]
  },
  {
   "cell_type": "code",
   "execution_count": 13,
   "metadata": {
    "colab": {
     "base_uri": "https://localhost:8080/",
     "height": 54
    },
    "colab_type": "code",
    "id": "YAHg4HTzSR1C",
    "outputId": "be27b27d-3389-4d26-b8ee-d795b2259a5f"
   },
   "outputs": [
    {
     "name": "stdout",
     "output_type": "stream",
     "text": [
      "[['Healthy' 'Pneumonia']\n",
      " ['64' '58']]\n",
      "[['Healthy' 'Pneumonia']\n",
      " ['6' '16']]\n"
     ]
    }
   ],
   "source": [
    "unique_elements, counts_elements = np.unique(train_labels, return_counts=True)\n",
    "print(np.asarray((unique_elements, counts_elements)))\n",
    "\n",
    "unique_elements_test, counts_elements_test = np.unique(test_labels, return_counts=True)\n",
    "print(np.asarray((unique_elements_test, counts_elements_test)))"
   ]
  },
  {
   "cell_type": "code",
   "execution_count": 14,
   "metadata": {
    "colab": {
     "base_uri": "https://localhost:8080/",
     "height": 513
    },
    "colab_type": "code",
    "id": "mtNpDgBOSR1G",
    "outputId": "0f7584a0-d821-4196-c22f-3847fa3031b6"
   },
   "outputs": [
    {
     "data": {
      "image/png": "[encoded data removed]",
      "text/plain": [
       "<Figure size 864x576 with 1 Axes>"
      ]
     },
     "metadata": {
      "needs_background": "light"
     },
     "output_type": "display_data"
    }
   ],
   "source": [
    "# plot class counts\n",
    "y_pos = np.arange(len(unique_elements))\n",
    "plt.figure(figsize=(12,8))\n",
    "plt.bar(unique_elements, counts_elements, align='center', alpha=0.5)\n",
    "plt.xticks(y_pos, unique_elements)\n",
    "plt.ylabel('Count')\n",
    "plt.xlabel('Disease')\n",
    "plt.title('Disease Count in Sound Files (No Asthma or LRTI)')\n",
    "plt.show()"
   ]
  },
  {
   "cell_type": "markdown",
   "metadata": {},
   "source": [
    "__Balanceando dados__"
   ]
  },
  {
   "cell_type": "code",
   "execution_count": 15,
   "metadata": {},
   "outputs": [],
   "source": [
    "def balance_data(X, labels):\n",
    "    \"\"\"Balances data duplicating some instances of the minority classes\"\"\"\n",
    "    balX = None\n",
    "    baly = None\n",
    "    unique, counts = np.unique(labels, return_counts=True)\n",
    "    max_inst = max(counts)\n",
    "    # For every class duplicate the necessary amount\n",
    "    for label in unique:\n",
    "        data_of_label = []\n",
    "        for x, y in zip(X, labels):\n",
    "            if y == label:\n",
    "                data_of_label.append(x)\n",
    "        data_of_label = np.asarray(data_of_label)\n",
    "        extra = data_of_label[np.random.choice(data_of_label.shape[0],\n",
    "                                               max_inst,\n",
    "                                               replace=True), :]\n",
    "        if balX is not None:\n",
    "            balX = np.stack((balX, extra), axis = 0) \n",
    "            baly = np.stack((baly, np.asarray([label for i in range(len(extra))])))\n",
    "        else:\n",
    "            balX = extra\n",
    "            baly = np.asarray([label for i in range(len(extra))])\n",
    "    balX = np.concatenate(balX)\n",
    "    baly = np.concatenate(baly)\n",
    "    return balX, baly"
   ]
  },
  {
   "cell_type": "code",
   "execution_count": 16,
   "metadata": {},
   "outputs": [],
   "source": [
    "train_features, train_labels = balance_data(train_features, train_labels)\n",
    "test_features, test_labels = balance_data(test_features, test_labels)"
   ]
  },
  {
   "cell_type": "code",
   "execution_count": 17,
   "metadata": {
    "colab": {},
    "colab_type": "code",
    "id": "WtqGtxmPSR1K"
   },
   "outputs": [],
   "source": [
    "# One-hot encode labels\n",
    "le = LabelEncoder()\n",
    "le.fit(train_labels)\n",
    "train_labels_cat = to_categorical(le.transform(train_labels)) \n",
    "test_labels_cat = to_categorical(le.transform(test_labels)) "
   ]
  },
  {
   "cell_type": "code",
   "execution_count": 18,
   "metadata": {},
   "outputs": [
    {
     "data": {
      "text/plain": [
       "(128, 40, 345)"
      ]
     },
     "execution_count": 18,
     "metadata": {},
     "output_type": "execute_result"
    }
   ],
   "source": [
    "train_features.shape"
   ]
  },
  {
   "cell_type": "code",
   "execution_count": 19,
   "metadata": {},
   "outputs": [],
   "source": [
    "input_dim = train_features.shape[1]*train_features.shape[2]"
   ]
  },
  {
   "cell_type": "code",
   "execution_count": 20,
   "metadata": {
    "colab": {},
    "colab_type": "code",
    "id": "MgH8aGqeSR1P"
   },
   "outputs": [
    {
     "name": "stdout",
     "output_type": "stream",
     "text": [
      "(128, 13800) (128, 2)\n",
      "(32, 13800) (32, 2)\n"
     ]
    }
   ],
   "source": [
    "train_features = np.reshape(train_features, (train_features.shape[0], input_dim))\n",
    "print(train_features.shape, train_labels_cat.shape)\n",
    "test_features = np.reshape(test_features, (test_features.shape[0], input_dim))\n",
    "print(test_features.shape, test_labels_cat.shape)"
   ]
  },
  {
   "cell_type": "code",
   "execution_count": 21,
   "metadata": {
    "colab": {},
    "colab_type": "code",
    "id": "xFPaVmUESR1T"
   },
   "outputs": [],
   "source": [
    "x_test, y_test = test_features, test_labels_cat\n",
    "x_train, y_train = train_features, train_labels_cat"
   ]
  },
  {
   "cell_type": "markdown",
   "metadata": {
    "colab_type": "text",
    "id": "SN1ipKhfSR1X"
   },
   "source": [
    "**MLP model architecture**"
   ]
  },
  {
   "cell_type": "code",
   "execution_count": 22,
   "metadata": {
    "colab": {},
    "colab_type": "code",
    "id": "oZ5PcMOrcV1B"
   },
   "outputs": [],
   "source": [
    "num_labels = train_labels_cat.shape[1]\n",
    "model = Sequential()\n",
    "model.add(Dense(100, activation='relu', input_dim=input_dim))\n",
    "model.add(Dense(100, activation='relu'))\n",
    "model.add(Dense(70, activation='relu'))\n",
    "model.add(Dense(70, activation='relu'))\n",
    "model.add(Dense(50, activation='relu'))\n",
    "model.add(Dense(50, activation='relu'))\n",
    "model.add(Dense(30, activation='relu'))\n",
    "model.add(Dense(30, activation='relu'))\n",
    "model.add(Dense(20, activation='relu'))\n",
    "model.add(Dense(20, activation='relu'))\n",
    "\n",
    "model.add(Dense(num_labels, activation='softmax')) "
   ]
  },
  {
   "cell_type": "code",
   "execution_count": 23,
   "metadata": {
    "colab": {},
    "colab_type": "code",
    "id": "VcSipiVsSR1c"
   },
   "outputs": [],
   "source": [
    "# Compile the model\n",
    "model.compile(loss='categorical_crossentropy', metrics=['accuracy'], optimizer='adam') "
   ]
  },
  {
   "cell_type": "code",
   "execution_count": 24,
   "metadata": {
    "colab": {
     "base_uri": "https://localhost:8080/",
     "height": 719
    },
    "colab_type": "code",
    "id": "UvvyonaaSR1h",
    "outputId": "9c2154c5-f927-4c3d-e89e-951ba479c079"
   },
   "outputs": [
    {
     "name": "stdout",
     "output_type": "stream",
     "text": [
      "Model: \"sequential\"\n",
      "_________________________________________________________________\n",
      "Layer (type)                 Output Shape              Param #   \n",
      "=================================================================\n",
      "dense (Dense)                (None, 100)               1380100   \n",
      "_________________________________________________________________\n",
      "dense_1 (Dense)              (None, 100)               10100     \n",
      "_________________________________________________________________\n",
      "dense_2 (Dense)              (None, 70)                7070      \n",
      "_________________________________________________________________\n",
      "dense_3 (Dense)              (None, 70)                4970      \n",
      "_________________________________________________________________\n",
      "dense_4 (Dense)              (None, 50)                3550      \n",
      "_________________________________________________________________\n",
      "dense_5 (Dense)              (None, 50)                2550      \n",
      "_________________________________________________________________\n",
      "dense_6 (Dense)              (None, 30)                1530      \n",
      "_________________________________________________________________\n",
      "dense_7 (Dense)              (None, 30)                930       \n",
      "_________________________________________________________________\n",
      "dense_8 (Dense)              (None, 20)                620       \n",
      "_________________________________________________________________\n",
      "dense_9 (Dense)              (None, 20)                420       \n",
      "_________________________________________________________________\n",
      "dense_10 (Dense)             (None, 2)                 42        \n",
      "=================================================================\n",
      "Total params: 1,411,882\n",
      "Trainable params: 1,411,882\n",
      "Non-trainable params: 0\n",
      "_________________________________________________________________\n",
      "32/32 [==============================] - 0s 9ms/sample - loss: 2.6475 - accuracy: 0.5000\n",
      "Pre-training accuracy: 50.0000%\n"
     ]
    }
   ],
   "source": [
    "# Display model architecture summary \n",
    "model.summary()\n",
    "\n",
    "# Calculate pre-training accuracy \n",
    "score = model.evaluate(x_test, y_test, verbose=1)\n",
    "accuracy = 100*score[1]\n",
    "\n",
    "print(\"Pre-training accuracy: %.4f%%\" % accuracy)"
   ]
  },
  {
   "cell_type": "markdown",
   "metadata": {
    "colab_type": "text",
    "id": "TVtD0mcDSR1j"
   },
   "source": [
    "**Training**\n",
    "\n",
    "Here we will train the model. If we have a trained model, we can load it instead from the next cell."
   ]
  },
  {
   "cell_type": "code",
   "execution_count": 25,
   "metadata": {
    "colab": {
     "base_uri": "https://localhost:8080/",
     "height": 1000
    },
    "colab_type": "code",
    "id": "ruRXrsrhSR1k",
    "outputId": "ec26a26d-ad59-4e89-c88f-6277e4d0c283"
   },
   "outputs": [
    {
     "name": "stdout",
     "output_type": "stream",
     "text": [
      "Train on 128 samples, validate on 32 samples\n",
      "Epoch 1/100\n",
      " 10/128 [=>............................] - ETA: 5s - loss: 3.0981 - accuracy: 0.4000\n",
      "Epoch 00001: val_accuracy improved from -inf to 0.50000, saving model to models/MLP1_dataset_1_trim8_01.h5\n",
      "128/128 [==============================] - 1s 6ms/sample - loss: 2.1404 - accuracy: 0.5469 - val_loss: 1.4645 - val_accuracy: 0.5000\n",
      "Epoch 2/100\n",
      "120/128 [===========================>..] - ETA: 0s - loss: 2.7530 - accuracy: 0.4917\n",
      "Epoch 00002: val_accuracy did not improve from 0.50000\n",
      "128/128 [==============================] - 0s 660us/sample - loss: 2.9167 - accuracy: 0.4922 - val_loss: 1.9801 - val_accuracy: 0.5000\n",
      "Epoch 3/100\n",
      " 10/128 [=>............................] - ETA: 0s - loss: 2.0457 - accuracy: 0.5000\n",
      "Epoch 00003: val_accuracy did not improve from 0.50000\n",
      "128/128 [==============================] - 0s 522us/sample - loss: 1.7489 - accuracy: 0.5547 - val_loss: 0.8950 - val_accuracy: 0.5000\n",
      "Epoch 4/100\n",
      " 10/128 [=>............................] - ETA: 0s - loss: 0.7695 - accuracy: 0.5000\n",
      "Epoch 00004: val_accuracy did not improve from 0.50000\n",
      "128/128 [==============================] - 0s 528us/sample - loss: 1.3070 - accuracy: 0.5312 - val_loss: 1.5215 - val_accuracy: 0.5000\n",
      "Epoch 5/100\n",
      " 10/128 [=>............................] - ETA: 0s - loss: 0.8804 - accuracy: 0.6000\n",
      "Epoch 00005: val_accuracy improved from 0.50000 to 0.71875, saving model to models/MLP1_dataset_1_trim8_05.h5\n",
      "128/128 [==============================] - 0s 1ms/sample - loss: 1.9952 - accuracy: 0.5859 - val_loss: 0.5960 - val_accuracy: 0.7188\n",
      "Epoch 6/100\n",
      "120/128 [===========================>..] - ETA: 0s - loss: 0.9026 - accuracy: 0.6083\n",
      "Epoch 00006: val_accuracy did not improve from 0.71875\n",
      "128/128 [==============================] - 0s 693us/sample - loss: 0.8612 - accuracy: 0.6250 - val_loss: 1.8970 - val_accuracy: 0.5000\n",
      "Epoch 7/100\n",
      "100/128 [======================>.......] - ETA: 0s - loss: 0.7512 - accuracy: 0.6700\n",
      "Epoch 00007: val_accuracy did not improve from 0.71875\n",
      "128/128 [==============================] - 0s 870us/sample - loss: 0.6302 - accuracy: 0.7188 - val_loss: 1.6119 - val_accuracy: 0.5625\n",
      "Epoch 8/100\n",
      "100/128 [======================>.......] - ETA: 0s - loss: 0.4103 - accuracy: 0.9100\n",
      "Epoch 00008: val_accuracy did not improve from 0.71875\n",
      "128/128 [==============================] - 0s 715us/sample - loss: 0.3571 - accuracy: 0.8984 - val_loss: 0.6219 - val_accuracy: 0.6250\n",
      "Epoch 9/100\n",
      " 10/128 [=>............................] - ETA: 0s - loss: 0.1663 - accuracy: 0.9000\n",
      "Epoch 00009: val_accuracy did not improve from 0.71875\n",
      "128/128 [==============================] - 0s 567us/sample - loss: 0.2849 - accuracy: 0.9062 - val_loss: 2.2726 - val_accuracy: 0.6562\n",
      "Epoch 10/100\n",
      " 10/128 [=>............................] - ETA: 0s - loss: 0.1538 - accuracy: 0.9000\n",
      "Epoch 00010: val_accuracy improved from 0.71875 to 0.75000, saving model to models/MLP1_dataset_1_trim8_10.h5\n",
      "128/128 [==============================] - 0s 1ms/sample - loss: 0.0749 - accuracy: 0.9766 - val_loss: 0.7030 - val_accuracy: 0.7500\n",
      "Epoch 11/100\n",
      "110/128 [========================>.....] - ETA: 0s - loss: 0.0565 - accuracy: 0.9727    \n",
      "Epoch 00011: val_accuracy did not improve from 0.75000\n",
      "128/128 [==============================] - 0s 695us/sample - loss: 0.0874 - accuracy: 0.9609 - val_loss: 0.8441 - val_accuracy: 0.6875\n",
      "Epoch 12/100\n",
      "120/128 [===========================>..] - ETA: 0s - loss: 0.0836 - accuracy: 0.9500\n",
      "Epoch 00012: val_accuracy did not improve from 0.75000\n",
      "128/128 [==============================] - 0s 625us/sample - loss: 0.0799 - accuracy: 0.9531 - val_loss: 0.5564 - val_accuracy: 0.6875\n",
      "Epoch 13/100\n",
      " 10/128 [=>............................] - ETA: 0s - loss: 0.0011 - accuracy: 1.0000\n",
      "Epoch 00013: val_accuracy did not improve from 0.75000\n",
      "128/128 [==============================] - 0s 560us/sample - loss: 0.0295 - accuracy: 0.9922 - val_loss: 2.1410 - val_accuracy: 0.6562\n",
      "Epoch 14/100\n",
      " 10/128 [=>............................] - ETA: 0s - loss: 0.0052 - accuracy: 1.0000\n",
      "Epoch 00014: val_accuracy did not improve from 0.75000\n",
      "128/128 [==============================] - 0s 506us/sample - loss: 0.1195 - accuracy: 0.9531 - val_loss: 3.8924 - val_accuracy: 0.5625\n",
      "Epoch 15/100\n",
      " 10/128 [=>............................] - ETA: 0s - loss: 0.0047 - accuracy: 1.0000\n",
      "Epoch 00015: val_accuracy did not improve from 0.75000\n",
      "128/128 [==============================] - 0s 474us/sample - loss: 0.6202 - accuracy: 0.8359 - val_loss: 1.0043 - val_accuracy: 0.6562\n",
      "Epoch 16/100\n",
      " 10/128 [=>............................] - ETA: 0s - loss: 0.0784 - accuracy: 1.0000\n",
      "Epoch 00016: val_accuracy did not improve from 0.75000\n",
      "128/128 [==============================] - 0s 535us/sample - loss: 0.0269 - accuracy: 1.0000 - val_loss: 1.0209 - val_accuracy: 0.6875\n",
      "Epoch 17/100\n",
      " 10/128 [=>............................] - ETA: 0s - loss: 0.0053 - accuracy: 1.0000\n",
      "Epoch 00017: val_accuracy did not improve from 0.75000\n",
      "128/128 [==============================] - 0s 622us/sample - loss: 0.0041 - accuracy: 1.0000 - val_loss: 1.0484 - val_accuracy: 0.6875\n",
      "Epoch 18/100\n",
      "120/128 [===========================>..] - ETA: 0s - loss: 0.0018 - accuracy: 1.0000\n",
      "Epoch 00018: val_accuracy did not improve from 0.75000\n",
      "128/128 [==============================] - 0s 624us/sample - loss: 0.0018 - accuracy: 1.0000 - val_loss: 1.1842 - val_accuracy: 0.6875\n",
      "Epoch 19/100\n",
      " 10/128 [=>............................] - ETA: 0s - loss: 2.3168e-04 - accuracy: 1.0000\n",
      "Epoch 00019: val_accuracy did not improve from 0.75000\n",
      "128/128 [==============================] - 0s 590us/sample - loss: 0.0011 - accuracy: 1.0000 - val_loss: 1.1963 - val_accuracy: 0.6562\n",
      "Epoch 20/100\n",
      " 10/128 [=>............................] - ETA: 0s - loss: 0.0020 - accuracy: 1.0000\n",
      "Epoch 00020: val_accuracy did not improve from 0.75000\n",
      "128/128 [==============================] - 0s 505us/sample - loss: 7.6331e-04 - accuracy: 1.0000 - val_loss: 1.1331 - val_accuracy: 0.6562\n",
      "Epoch 21/100\n",
      "120/128 [===========================>..] - ETA: 0s - loss: 7.1671e-04 - accuracy: 1.0000\n",
      "Epoch 00021: val_accuracy did not improve from 0.75000\n",
      "128/128 [==============================] - 0s 625us/sample - loss: 6.8856e-04 - accuracy: 1.0000 - val_loss: 0.8623 - val_accuracy: 0.6562\n",
      "Epoch 22/100\n",
      " 10/128 [=>............................] - ETA: 0s - loss: 8.0319e-04 - accuracy: 1.0000\n",
      "Epoch 00022: val_accuracy did not improve from 0.75000\n",
      "128/128 [==============================] - 0s 537us/sample - loss: 4.8894e-04 - accuracy: 1.0000 - val_loss: 1.3074 - val_accuracy: 0.6875\n",
      "Epoch 23/100\n",
      "120/128 [===========================>..] - ETA: 0s - loss: 5.5431e-04 - accuracy: 1.0000\n",
      "Epoch 00023: val_accuracy did not improve from 0.75000\n",
      "128/128 [==============================] - 0s 583us/sample - loss: 5.3836e-04 - accuracy: 1.0000 - val_loss: 0.8076 - val_accuracy: 0.6562\n",
      "Epoch 24/100\n",
      " 10/128 [=>............................] - ETA: 0s - loss: 7.7707e-04 - accuracy: 1.0000\n",
      "Epoch 00024: val_accuracy did not improve from 0.75000\n",
      "128/128 [==============================] - 0s 605us/sample - loss: 0.0011 - accuracy: 1.0000 - val_loss: 1.4439 - val_accuracy: 0.6875\n",
      "Epoch 25/100\n",
      "120/128 [===========================>..] - ETA: 0s - loss: 8.7071e-04 - accuracy: 1.0000\n",
      "Epoch 00025: val_accuracy did not improve from 0.75000\n",
      "128/128 [==============================] - 0s 594us/sample - loss: 8.2504e-04 - accuracy: 1.0000 - val_loss: 1.2147 - val_accuracy: 0.6562\n",
      "Epoch 26/100\n",
      " 10/128 [=>............................] - ETA: 0s - loss: 1.8352e-04 - accuracy: 1.0000\n",
      "Epoch 00026: val_accuracy did not improve from 0.75000\n",
      "128/128 [==============================] - 0s 589us/sample - loss: 5.9315e-04 - accuracy: 1.0000 - val_loss: 0.9476 - val_accuracy: 0.6562\n",
      "Epoch 27/100\n",
      "110/128 [========================>.....] - ETA: 0s - loss: 4.1465e-04 - accuracy: 1.0000\n",
      "Epoch 00027: val_accuracy did not improve from 0.75000\n",
      "128/128 [==============================] - 0s 670us/sample - loss: 3.8115e-04 - accuracy: 1.0000 - val_loss: 1.3167 - val_accuracy: 0.6562\n",
      "Epoch 28/100\n",
      "120/128 [===========================>..] - ETA: 0s - loss: 2.2975e-04 - accuracy: 1.0000\n",
      "Epoch 00028: val_accuracy did not improve from 0.75000\n",
      "128/128 [==============================] - 0s 612us/sample - loss: 2.2105e-04 - accuracy: 1.0000 - val_loss: 1.5536 - val_accuracy: 0.6875\n",
      "Epoch 29/100\n",
      " 10/128 [=>............................] - ETA: 0s - loss: 3.0247e-04 - accuracy: 1.0000\n",
      "Epoch 00029: val_accuracy did not improve from 0.75000\n",
      "128/128 [==============================] - 0s 634us/sample - loss: 1.5347e-04 - accuracy: 1.0000 - val_loss: 1.1752 - val_accuracy: 0.6875\n",
      "Epoch 30/100\n",
      "120/128 [===========================>..] - ETA: 0s - loss: 1.2272e-04 - accuracy: 1.0000\n",
      "Epoch 00030: val_accuracy did not improve from 0.75000\n",
      "128/128 [==============================] - 0s 615us/sample - loss: 1.2415e-04 - accuracy: 1.0000 - val_loss: 1.6137 - val_accuracy: 0.6562\n",
      "Epoch 31/100\n",
      "120/128 [===========================>..] - ETA: 0s - loss: 1.0343e-04 - accuracy: 1.0000\n",
      "Epoch 00031: val_accuracy did not improve from 0.75000\n",
      "128/128 [==============================] - 0s 578us/sample - loss: 1.0742e-04 - accuracy: 1.0000 - val_loss: 1.3201 - val_accuracy: 0.6562\n",
      "Epoch 32/100\n",
      "120/128 [===========================>..] - ETA: 0s - loss: 9.8471e-05 - accuracy: 1.0000\n",
      "Epoch 00032: val_accuracy did not improve from 0.75000\n",
      "128/128 [==============================] - 0s 583us/sample - loss: 9.4766e-05 - accuracy: 1.0000 - val_loss: 1.4654 - val_accuracy: 0.6562\n",
      "Epoch 33/100\n",
      " 10/128 [=>............................] - ETA: 0s - loss: 1.2338e-04 - accuracy: 1.0000\n",
      "Epoch 00033: val_accuracy did not improve from 0.75000\n",
      "128/128 [==============================] - 0s 540us/sample - loss: 7.8243e-05 - accuracy: 1.0000 - val_loss: 1.4754 - val_accuracy: 0.6562\n",
      "Epoch 34/100\n",
      "120/128 [===========================>..] - ETA: 0s - loss: 7.6034e-05 - accuracy: 1.0000\n",
      "Epoch 00034: val_accuracy did not improve from 0.75000\n",
      "128/128 [==============================] - 0s 602us/sample - loss: 7.4876e-05 - accuracy: 1.0000 - val_loss: 1.6283 - val_accuracy: 0.6562\n",
      "Epoch 35/100\n",
      " 10/128 [=>............................] - ETA: 0s - loss: 1.2020e-04 - accuracy: 1.0000\n",
      "Epoch 00035: val_accuracy did not improve from 0.75000\n",
      "128/128 [==============================] - 0s 551us/sample - loss: 6.2588e-05 - accuracy: 1.0000 - val_loss: 1.5509 - val_accuracy: 0.6562\n",
      "Epoch 36/100\n",
      "120/128 [===========================>..] - ETA: 0s - loss: 5.8430e-05 - accuracy: 1.0000\n",
      "Epoch 00036: val_accuracy did not improve from 0.75000\n",
      "128/128 [==============================] - 0s 626us/sample - loss: 5.6168e-05 - accuracy: 1.0000 - val_loss: 1.5853 - val_accuracy: 0.6562\n",
      "Epoch 37/100\n",
      "110/128 [========================>.....] - ETA: 0s - loss: 5.2767e-05 - accuracy: 1.0000\n",
      "Epoch 00037: val_accuracy did not improve from 0.75000\n",
      "128/128 [==============================] - 0s 672us/sample - loss: 5.2146e-05 - accuracy: 1.0000 - val_loss: 1.5835 - val_accuracy: 0.6562\n",
      "Epoch 38/100\n",
      "120/128 [===========================>..] - ETA: 0s - loss: 4.4859e-05 - accuracy: 1.0000\n",
      "Epoch 00038: val_accuracy did not improve from 0.75000\n",
      "128/128 [==============================] - 0s 637us/sample - loss: 4.8773e-05 - accuracy: 1.0000 - val_loss: 1.6255 - val_accuracy: 0.6562\n",
      "Epoch 39/100\n",
      " 10/128 [=>............................] - ETA: 0s - loss: 4.4045e-05 - accuracy: 1.0000\n",
      "Epoch 00039: val_accuracy did not improve from 0.75000\n",
      "128/128 [==============================] - 0s 557us/sample - loss: 4.5757e-05 - accuracy: 1.0000 - val_loss: 1.6416 - val_accuracy: 0.6562\n",
      "Epoch 40/100\n",
      " 10/128 [=>............................] - ETA: 0s - loss: 5.3902e-05 - accuracy: 1.0000\n",
      "Epoch 00040: val_accuracy did not improve from 0.75000\n",
      "128/128 [==============================] - 0s 521us/sample - loss: 4.3729e-05 - accuracy: 1.0000 - val_loss: 1.7059 - val_accuracy: 0.6562\n",
      "Epoch 41/100\n",
      " 10/128 [=>............................] - ETA: 0s - loss: 6.5775e-05 - accuracy: 1.0000\n",
      "Epoch 00041: val_accuracy did not improve from 0.75000\n",
      "128/128 [==============================] - 0s 551us/sample - loss: 4.1149e-05 - accuracy: 1.0000 - val_loss: 1.6073 - val_accuracy: 0.6562\n",
      "Epoch 42/100\n",
      "120/128 [===========================>..] - ETA: 0s - loss: 3.9534e-05 - accuracy: 1.0000\n",
      "Epoch 00042: val_accuracy did not improve from 0.75000\n",
      "128/128 [==============================] - 0s 562us/sample - loss: 3.9050e-05 - accuracy: 1.0000 - val_loss: 1.7582 - val_accuracy: 0.6562\n",
      "Epoch 43/100\n",
      "120/128 [===========================>..] - ETA: 0s - loss: 3.6819e-05 - accuracy: 1.0000\n",
      "Epoch 00043: val_accuracy did not improve from 0.75000\n",
      "128/128 [==============================] - 0s 584us/sample - loss: 3.5416e-05 - accuracy: 1.0000 - val_loss: 1.6504 - val_accuracy: 0.6562\n",
      "Epoch 44/100\n",
      "120/128 [===========================>..] - ETA: 0s - loss: 3.4693e-05 - accuracy: 1.0000\n",
      "Epoch 00044: val_accuracy did not improve from 0.75000\n",
      "128/128 [==============================] - 0s 603us/sample - loss: 3.2934e-05 - accuracy: 1.0000 - val_loss: 1.7179 - val_accuracy: 0.6562\n",
      "Epoch 45/100\n",
      "120/128 [===========================>..] - ETA: 0s - loss: 2.9323e-05 - accuracy: 1.0000\n",
      "Epoch 00045: val_accuracy did not improve from 0.75000\n",
      "128/128 [==============================] - 0s 604us/sample - loss: 3.0977e-05 - accuracy: 1.0000 - val_loss: 1.6872 - val_accuracy: 0.6562\n",
      "Epoch 46/100\n",
      "120/128 [===========================>..] - ETA: 0s - loss: 3.0414e-05 - accuracy: 1.0000\n",
      "Epoch 00046: val_accuracy did not improve from 0.75000\n",
      "128/128 [==============================] - 0s 651us/sample - loss: 2.9620e-05 - accuracy: 1.0000 - val_loss: 1.7433 - val_accuracy: 0.6562\n",
      "Epoch 47/100\n",
      "120/128 [===========================>..] - ETA: 0s - loss: 2.8428e-05 - accuracy: 1.0000\n",
      "Epoch 00047: val_accuracy did not improve from 0.75000\n",
      "128/128 [==============================] - 0s 605us/sample - loss: 2.8132e-05 - accuracy: 1.0000 - val_loss: 1.7250 - val_accuracy: 0.6562\n",
      "Epoch 48/100\n",
      " 10/128 [=>............................] - ETA: 0s - loss: 2.3138e-05 - accuracy: 1.0000\n",
      "Epoch 00048: val_accuracy did not improve from 0.75000\n",
      "128/128 [==============================] - 0s 580us/sample - loss: 2.7061e-05 - accuracy: 1.0000 - val_loss: 1.7007 - val_accuracy: 0.6562\n",
      "Epoch 49/100\n",
      "110/128 [========================>.....] - ETA: 0s - loss: 2.4777e-05 - accuracy: 1.0000\n",
      "Epoch 00049: val_accuracy did not improve from 0.75000\n",
      "128/128 [==============================] - 0s 605us/sample - loss: 2.5697e-05 - accuracy: 1.0000 - val_loss: 1.7777 - val_accuracy: 0.6562\n",
      "Epoch 50/100\n",
      " 10/128 [=>............................] - ETA: 0s - loss: 2.0193e-05 - accuracy: 1.0000\n",
      "Epoch 00050: val_accuracy did not improve from 0.75000\n",
      "128/128 [==============================] - 0s 590us/sample - loss: 2.4756e-05 - accuracy: 1.0000 - val_loss: 1.7484 - val_accuracy: 0.6562\n",
      "Epoch 51/100\n",
      " 10/128 [=>............................] - ETA: 0s - loss: 1.2684e-05 - accuracy: 1.0000\n",
      "Epoch 00051: val_accuracy did not improve from 0.75000\n",
      "128/128 [==============================] - 0s 576us/sample - loss: 2.3639e-05 - accuracy: 1.0000 - val_loss: 1.7629 - val_accuracy: 0.6562\n",
      "Epoch 52/100\n",
      " 10/128 [=>............................] - ETA: 0s - loss: 2.2113e-05 - accuracy: 1.0000\n",
      "Epoch 00052: val_accuracy did not improve from 0.75000\n",
      "128/128 [==============================] - 0s 562us/sample - loss: 2.2582e-05 - accuracy: 1.0000 - val_loss: 1.7998 - val_accuracy: 0.6562\n",
      "Epoch 53/100\n",
      " 10/128 [=>............................] - ETA: 0s - loss: 1.5795e-05 - accuracy: 1.0000\n",
      "Epoch 00053: val_accuracy did not improve from 0.75000\n",
      "128/128 [==============================] - 0s 572us/sample - loss: 2.1670e-05 - accuracy: 1.0000 - val_loss: 1.8284 - val_accuracy: 0.6562\n",
      "Epoch 54/100\n",
      " 10/128 [=>............................] - ETA: 0s - loss: 2.0324e-05 - accuracy: 1.0000\n",
      "Epoch 00054: val_accuracy did not improve from 0.75000\n",
      "128/128 [==============================] - 0s 585us/sample - loss: 2.0802e-05 - accuracy: 1.0000 - val_loss: 1.7743 - val_accuracy: 0.6562\n",
      "Epoch 55/100\n",
      "120/128 [===========================>..] - ETA: 0s - loss: 1.9263e-05 - accuracy: 1.0000\n",
      "Epoch 00055: val_accuracy did not improve from 0.75000\n",
      "128/128 [==============================] - 0s 579us/sample - loss: 1.9873e-05 - accuracy: 1.0000 - val_loss: 1.7994 - val_accuracy: 0.6562\n",
      "Epoch 56/100\n",
      " 10/128 [=>............................] - ETA: 0s - loss: 1.9073e-05 - accuracy: 1.0000\n",
      "Epoch 00056: val_accuracy did not improve from 0.75000\n",
      "128/128 [==============================] - 0s 585us/sample - loss: 1.9064e-05 - accuracy: 1.0000 - val_loss: 1.8368 - val_accuracy: 0.6562\n",
      "Epoch 57/100\n",
      "120/128 [===========================>..] - ETA: 0s - loss: 1.9227e-05 - accuracy: 1.0000\n",
      "Epoch 00057: val_accuracy did not improve from 0.75000\n",
      "128/128 [==============================] - 0s 625us/sample - loss: 1.8334e-05 - accuracy: 1.0000 - val_loss: 1.8360 - val_accuracy: 0.6562\n",
      "Epoch 58/100\n",
      "120/128 [===========================>..] - ETA: 0s - loss: 1.8260e-05 - accuracy: 1.0000\n",
      "Epoch 00058: val_accuracy did not improve from 0.75000\n",
      "128/128 [==============================] - 0s 587us/sample - loss: 1.7627e-05 - accuracy: 1.0000 - val_loss: 1.8271 - val_accuracy: 0.6562\n",
      "Epoch 59/100\n",
      " 10/128 [=>............................] - ETA: 0s - loss: 9.2385e-06 - accuracy: 1.0000\n",
      "Epoch 00059: val_accuracy did not improve from 0.75000\n",
      "128/128 [==============================] - 0s 575us/sample - loss: 1.6909e-05 - accuracy: 1.0000 - val_loss: 1.8780 - val_accuracy: 0.6562\n",
      "Epoch 60/100\n",
      " 10/128 [=>............................] - ETA: 0s - loss: 6.4373e-06 - accuracy: 1.0000\n",
      "Epoch 00060: val_accuracy did not improve from 0.75000\n",
      "128/128 [==============================] - 0s 562us/sample - loss: 1.6262e-05 - accuracy: 1.0000 - val_loss: 1.8454 - val_accuracy: 0.6562\n",
      "Epoch 61/100\n",
      " 10/128 [=>............................] - ETA: 0s - loss: 1.6248e-05 - accuracy: 1.0000\n",
      "Epoch 00061: val_accuracy did not improve from 0.75000\n",
      "128/128 [==============================] - 0s 513us/sample - loss: 1.5578e-05 - accuracy: 1.0000 - val_loss: 1.8887 - val_accuracy: 0.6562\n",
      "Epoch 62/100\n",
      "120/128 [===========================>..] - ETA: 0s - loss: 1.4511e-05 - accuracy: 1.0000\n",
      "Epoch 00062: val_accuracy did not improve from 0.75000\n",
      "128/128 [==============================] - 0s 616us/sample - loss: 1.4987e-05 - accuracy: 1.0000 - val_loss: 1.8876 - val_accuracy: 0.6562\n",
      "Epoch 63/100\n",
      " 10/128 [=>............................] - ETA: 0s - loss: 2.3662e-05 - accuracy: 1.0000\n",
      "Epoch 00063: val_accuracy did not improve from 0.75000\n",
      "128/128 [==============================] - 0s 530us/sample - loss: 1.4458e-05 - accuracy: 1.0000 - val_loss: 1.8816 - val_accuracy: 0.6562\n",
      "Epoch 64/100\n",
      " 10/128 [=>............................] - ETA: 0s - loss: 8.6425e-06 - accuracy: 1.0000\n",
      "Epoch 00064: val_accuracy did not improve from 0.75000\n",
      "128/128 [==============================] - 0s 623us/sample - loss: 1.3906e-05 - accuracy: 1.0000 - val_loss: 1.9033 - val_accuracy: 0.6562\n",
      "Epoch 65/100\n",
      "120/128 [===========================>..] - ETA: 0s - loss: 1.3623e-05 - accuracy: 1.0000\n",
      "Epoch 00065: val_accuracy did not improve from 0.75000\n",
      "128/128 [==============================] - 0s 603us/sample - loss: 1.3469e-05 - accuracy: 1.0000 - val_loss: 1.8801 - val_accuracy: 0.6562\n",
      "Epoch 66/100\n",
      "120/128 [===========================>..] - ETA: 0s - loss: 1.3000e-05 - accuracy: 1.0000\n",
      "Epoch 00066: val_accuracy did not improve from 0.75000\n",
      "128/128 [==============================] - 0s 596us/sample - loss: 1.2948e-05 - accuracy: 1.0000 - val_loss: 1.9093 - val_accuracy: 0.6562\n",
      "Epoch 67/100\n",
      " 10/128 [=>............................] - ETA: 0s - loss: 2.0158e-05 - accuracy: 1.0000\n",
      "Epoch 00067: val_accuracy did not improve from 0.75000\n",
      "128/128 [==============================] - 0s 615us/sample - loss: 1.2519e-05 - accuracy: 1.0000 - val_loss: 1.9163 - val_accuracy: 0.6562\n",
      "Epoch 68/100\n",
      "120/128 [===========================>..] - ETA: 0s - loss: 1.2227e-05 - accuracy: 1.0000\n",
      "Epoch 00068: val_accuracy did not improve from 0.75000\n",
      "128/128 [==============================] - 0s 687us/sample - loss: 1.2098e-05 - accuracy: 1.0000 - val_loss: 1.9095 - val_accuracy: 0.6562\n",
      "Epoch 69/100\n",
      "120/128 [===========================>..] - ETA: 0s - loss: 1.1810e-05 - accuracy: 1.0000\n",
      "Epoch 00069: val_accuracy did not improve from 0.75000\n",
      "128/128 [==============================] - 0s 627us/sample - loss: 1.1712e-05 - accuracy: 1.0000 - val_loss: 1.9464 - val_accuracy: 0.6562\n",
      "Epoch 70/100\n",
      "120/128 [===========================>..] - ETA: 0s - loss: 1.0890e-05 - accuracy: 1.0000\n",
      "Epoch 00070: val_accuracy did not improve from 0.75000\n",
      "128/128 [==============================] - 0s 630us/sample - loss: 1.1317e-05 - accuracy: 1.0000 - val_loss: 1.9211 - val_accuracy: 0.6562\n",
      "Epoch 71/100\n",
      " 10/128 [=>............................] - ETA: 0s - loss: 7.8438e-06 - accuracy: 1.0000\n",
      "Epoch 00071: val_accuracy did not improve from 0.75000\n",
      "128/128 [==============================] - 0s 585us/sample - loss: 1.0934e-05 - accuracy: 1.0000 - val_loss: 1.9533 - val_accuracy: 0.6562\n",
      "Epoch 72/100\n",
      " 10/128 [=>............................] - ETA: 0s - loss: 6.8544e-06 - accuracy: 1.0000\n",
      "Epoch 00072: val_accuracy did not improve from 0.75000\n",
      "128/128 [==============================] - 0s 530us/sample - loss: 1.0592e-05 - accuracy: 1.0000 - val_loss: 1.9823 - val_accuracy: 0.6562\n",
      "Epoch 73/100\n",
      "120/128 [===========================>..] - ETA: 0s - loss: 9.8297e-06 - accuracy: 1.0000\n",
      "Epoch 00073: val_accuracy did not improve from 0.75000\n",
      "128/128 [==============================] - 0s 586us/sample - loss: 1.0247e-05 - accuracy: 1.0000 - val_loss: 1.9491 - val_accuracy: 0.6562\n",
      "Epoch 74/100\n",
      "120/128 [===========================>..] - ETA: 0s - loss: 9.9667e-06 - accuracy: 1.0000\n",
      "Epoch 00074: val_accuracy did not improve from 0.75000\n",
      "128/128 [==============================] - 0s 625us/sample - loss: 9.9203e-06 - accuracy: 1.0000 - val_loss: 1.9565 - val_accuracy: 0.6562\n",
      "Epoch 75/100\n",
      "120/128 [===========================>..] - ETA: 0s - loss: 9.8147e-06 - accuracy: 1.0000\n",
      "Epoch 00075: val_accuracy did not improve from 0.75000\n",
      "128/128 [==============================] - 0s 593us/sample - loss: 9.6148e-06 - accuracy: 1.0000 - val_loss: 2.0054 - val_accuracy: 0.6562\n",
      "Epoch 76/100\n",
      " 10/128 [=>............................] - ETA: 0s - loss: 1.8119e-05 - accuracy: 1.0000\n",
      "Epoch 00076: val_accuracy did not improve from 0.75000\n",
      "128/128 [==============================] - 0s 612us/sample - loss: 9.3345e-06 - accuracy: 1.0000 - val_loss: 2.0057 - val_accuracy: 0.6562\n",
      "Epoch 77/100\n",
      "120/128 [===========================>..] - ETA: 0s - loss: 9.0290e-06 - accuracy: 1.0000\n",
      "Epoch 00077: val_accuracy did not improve from 0.75000\n",
      "128/128 [==============================] - 0s 663us/sample - loss: 9.0505e-06 - accuracy: 1.0000 - val_loss: 1.9965 - val_accuracy: 0.6562\n",
      "Epoch 78/100\n",
      "110/128 [========================>.....] - ETA: 0s - loss: 8.2589e-06 - accuracy: 1.0000\n",
      "Epoch 00078: val_accuracy did not improve from 0.75000\n",
      "128/128 [==============================] - 0s 640us/sample - loss: 8.8074e-06 - accuracy: 1.0000 - val_loss: 2.0095 - val_accuracy: 0.6562\n",
      "Epoch 79/100\n",
      " 10/128 [=>............................] - ETA: 0s - loss: 1.7821e-05 - accuracy: 1.0000\n",
      "Epoch 00079: val_accuracy did not improve from 0.75000\n",
      "128/128 [==============================] - 0s 595us/sample - loss: 8.5802e-06 - accuracy: 1.0000 - val_loss: 1.9978 - val_accuracy: 0.6562\n",
      "Epoch 80/100\n",
      " 10/128 [=>............................] - ETA: 0s - loss: 7.8200e-06 - accuracy: 1.0000\n",
      "Epoch 00080: val_accuracy did not improve from 0.75000\n",
      "128/128 [==============================] - 0s 572us/sample - loss: 8.3268e-06 - accuracy: 1.0000 - val_loss: 2.0187 - val_accuracy: 0.6562\n",
      "Epoch 81/100\n",
      "120/128 [===========================>..] - ETA: 0s - loss: 7.8200e-06 - accuracy: 1.0000\n",
      "Epoch 00081: val_accuracy did not improve from 0.75000\n",
      "128/128 [==============================] - 0s 581us/sample - loss: 8.1136e-06 - accuracy: 1.0000 - val_loss: 2.0399 - val_accuracy: 0.6562\n",
      "Epoch 82/100\n",
      " 10/128 [=>............................] - ETA: 0s - loss: 3.6597e-06 - accuracy: 1.0000\n",
      "Epoch 00082: val_accuracy did not improve from 0.75000\n",
      "128/128 [==============================] - 0s 590us/sample - loss: 7.9217e-06 - accuracy: 1.0000 - val_loss: 2.0248 - val_accuracy: 0.6562\n",
      "Epoch 83/100\n",
      " 10/128 [=>............................] - ETA: 0s - loss: 1.5640e-05 - accuracy: 1.0000\n",
      "Epoch 00083: val_accuracy did not improve from 0.75000\n",
      "128/128 [==============================] - 0s 577us/sample - loss: 7.7252e-06 - accuracy: 1.0000 - val_loss: 2.0709 - val_accuracy: 0.6562\n",
      "Epoch 84/100\n",
      "120/128 [===========================>..] - ETA: 0s - loss: 7.7654e-06 - accuracy: 1.0000\n",
      "Epoch 00084: val_accuracy did not improve from 0.75000\n",
      "128/128 [==============================] - 0s 638us/sample - loss: 7.5222e-06 - accuracy: 1.0000 - val_loss: 2.0614 - val_accuracy: 0.6562\n",
      "Epoch 85/100\n",
      " 10/128 [=>............................] - ETA: 0s - loss: 1.2708e-05 - accuracy: 1.0000\n",
      "Epoch 00085: val_accuracy did not improve from 0.75000\n",
      "128/128 [==============================] - 0s 610us/sample - loss: 7.3285e-06 - accuracy: 1.0000 - val_loss: 2.0705 - val_accuracy: 0.6562\n",
      "Epoch 86/100\n",
      " 10/128 [=>............................] - ETA: 0s - loss: 7.5936e-06 - accuracy: 1.0000\n",
      "Epoch 00086: val_accuracy did not improve from 0.75000\n",
      "128/128 [==============================] - 0s 546us/sample - loss: 7.1525e-06 - accuracy: 1.0000 - val_loss: 2.0694 - val_accuracy: 0.6562\n",
      "Epoch 87/100\n",
      "110/128 [========================>.....] - ETA: 0s - loss: 7.0279e-06 - accuracy: 1.0000\n",
      "Epoch 00087: val_accuracy did not improve from 0.75000\n",
      "128/128 [==============================] - 0s 630us/sample - loss: 6.9867e-06 - accuracy: 1.0000 - val_loss: 2.0381 - val_accuracy: 0.6562\n",
      "Epoch 88/100\n",
      " 10/128 [=>............................] - ETA: 0s - loss: 6.8664e-06 - accuracy: 1.0000\n",
      "Epoch 00088: val_accuracy did not improve from 0.75000\n",
      "128/128 [==============================] - 0s 612us/sample - loss: 6.8368e-06 - accuracy: 1.0000 - val_loss: 2.0406 - val_accuracy: 0.6562\n",
      "Epoch 89/100\n",
      "120/128 [===========================>..] - ETA: 0s - loss: 6.2684e-06 - accuracy: 1.0000\n",
      "Epoch 00089: val_accuracy did not improve from 0.75000\n",
      "128/128 [==============================] - 0s 640us/sample - loss: 6.6431e-06 - accuracy: 1.0000 - val_loss: 2.1158 - val_accuracy: 0.6562\n",
      "Epoch 90/100\n",
      " 10/128 [=>............................] - ETA: 0s - loss: 1.2719e-05 - accuracy: 1.0000\n",
      "Epoch 00090: val_accuracy did not improve from 0.75000\n",
      "128/128 [==============================] - 0s 581us/sample - loss: 6.4484e-06 - accuracy: 1.0000 - val_loss: 2.1058 - val_accuracy: 0.6562\n",
      "Epoch 91/100\n",
      "120/128 [===========================>..] - ETA: 0s - loss: 6.4581e-06 - accuracy: 1.0000\n",
      "Epoch 00091: val_accuracy did not improve from 0.75000\n",
      "128/128 [==============================] - 0s 548us/sample - loss: 6.2100e-06 - accuracy: 1.0000 - val_loss: 2.1008 - val_accuracy: 0.6562\n",
      "Epoch 92/100\n",
      "120/128 [===========================>..] - ETA: 0s - loss: 5.9932e-06 - accuracy: 1.0000\n",
      "Epoch 00092: val_accuracy did not improve from 0.75000\n",
      "128/128 [==============================] - 0s 612us/sample - loss: 6.0312e-06 - accuracy: 1.0000 - val_loss: 2.1159 - val_accuracy: 0.6562\n",
      "Epoch 93/100\n",
      "120/128 [===========================>..] - ETA: 0s - loss: 5.8362e-06 - accuracy: 1.0000\n",
      "Epoch 00093: val_accuracy did not improve from 0.75000\n",
      "128/128 [==============================] - 0s 646us/sample - loss: 5.8505e-06 - accuracy: 1.0000 - val_loss: 2.1027 - val_accuracy: 0.6562\n",
      "Epoch 94/100\n",
      " 10/128 [=>............................] - ETA: 0s - loss: 1.0085e-05 - accuracy: 1.0000\n",
      "Epoch 00094: val_accuracy did not improve from 0.75000\n",
      "128/128 [==============================] - 0s 602us/sample - loss: 5.6717e-06 - accuracy: 1.0000 - val_loss: 2.1205 - val_accuracy: 0.6562\n",
      "Epoch 95/100\n",
      " 10/128 [=>............................] - ETA: 0s - loss: 8.7380e-06 - accuracy: 1.0000\n",
      "Epoch 00095: val_accuracy did not improve from 0.75000\n",
      "128/128 [==============================] - 0s 552us/sample - loss: 5.5022e-06 - accuracy: 1.0000 - val_loss: 2.1265 - val_accuracy: 0.6562\n",
      "Epoch 96/100\n",
      "120/128 [===========================>..] - ETA: 0s - loss: 5.6078e-06 - accuracy: 1.0000\n",
      "Epoch 00096: val_accuracy did not improve from 0.75000\n",
      "128/128 [==============================] - 0s 613us/sample - loss: 5.3523e-06 - accuracy: 1.0000 - val_loss: 2.1374 - val_accuracy: 0.6562\n",
      "Epoch 97/100\n",
      " 10/128 [=>............................] - ETA: 0s - loss: 6.7710e-06 - accuracy: 1.0000\n",
      "Epoch 00097: val_accuracy did not improve from 0.75000\n",
      "128/128 [==============================] - 0s 562us/sample - loss: 5.1939e-06 - accuracy: 1.0000 - val_loss: 2.1480 - val_accuracy: 0.6562\n",
      "Epoch 98/100\n",
      " 10/128 [=>............................] - ETA: 0s - loss: 2.6584e-06 - accuracy: 1.0000\n",
      "Epoch 00098: val_accuracy did not improve from 0.75000\n",
      "128/128 [==============================] - 0s 560us/sample - loss: 5.0729e-06 - accuracy: 1.0000 - val_loss: 2.1184 - val_accuracy: 0.6562\n",
      "Epoch 99/100\n",
      " 10/128 [=>............................] - ETA: 0s - loss: 5.4359e-06 - accuracy: 1.0000\n",
      "Epoch 00099: val_accuracy did not improve from 0.75000\n",
      "128/128 [==============================] - 0s 558us/sample - loss: 4.9239e-06 - accuracy: 1.0000 - val_loss: 2.1431 - val_accuracy: 0.6562\n",
      "Epoch 100/100\n",
      " 10/128 [=>............................] - ETA: 0s - loss: 7.5459e-06 - accuracy: 1.0000\n",
      "Epoch 00100: val_accuracy did not improve from 0.75000\n",
      "128/128 [==============================] - 0s 502us/sample - loss: 4.7776e-06 - accuracy: 1.0000 - val_loss: 2.1689 - val_accuracy: 0.6562\n",
      "Training completed in time:  0:00:08.611682\n"
     ]
    }
   ],
   "source": [
    "# train model\n",
    "num_epochs = 100\n",
    "num_batch_size = 10\n",
    "\n",
    "os.makedirs('models', exist_ok=True)\n",
    "callbacks = [\n",
    "    ModelCheckpoint(\n",
    "        filepath='models/' + MODEL_NAME + '_{epoch:02d}.h5',\n",
    "        # Path where to save the model\n",
    "        # The two parameters below mean that we will overwrite\n",
    "        # the current checkpoint if and only if\n",
    "        # the `val_accuracy` score has improved.\n",
    "        save_best_only=True,\n",
    "        monitor='val_accuracy',\n",
    "        verbose=1)\n",
    "]\n",
    "start = datetime.now()\n",
    "\n",
    "history = model.fit(x_train, y_train, batch_size=num_batch_size, epochs=num_epochs,\n",
    "                    validation_data=(x_test, y_test), callbacks=callbacks, verbose=1)\n",
    "\n",
    "\n",
    "duration = datetime.now() - start\n",
    "print(\"Training completed in time: \", duration)"
   ]
  },
  {
   "cell_type": "markdown",
   "metadata": {},
   "source": [
    "**Plot accuracies and losses**"
   ]
  },
  {
   "cell_type": "code",
   "execution_count": 26,
   "metadata": {},
   "outputs": [
    {
     "data": {
      "image/png": "[encoded data removed]",
      "text/plain": [
       "<Figure size 432x288 with 1 Axes>"
      ]
     },
     "metadata": {
      "needs_background": "light"
     },
     "output_type": "display_data"
    },
    {
     "data": {
      "image/png": "[encoded data removed]",
      "text/plain": [
       "<Figure size 432x288 with 1 Axes>"
      ]
     },
     "metadata": {
      "needs_background": "light"
     },
     "output_type": "display_data"
    }
   ],
   "source": [
    "# Plot training & validation accuracy values\n",
    "plt.plot(history.history['accuracy'])\n",
    "plt.plot(history.history['val_accuracy'])\n",
    "plt.title('Model accuracy')\n",
    "plt.ylabel('Accuracy')\n",
    "plt.xlabel('Epoch')\n",
    "plt.legend(['Train', 'Test'], loc='upper left')\n",
    "plt.show()\n",
    "\n",
    "# Plot training & validation loss values\n",
    "plt.plot(history.history['loss'])\n",
    "plt.plot(history.history['val_loss'])\n",
    "plt.title('Model loss')\n",
    "plt.ylabel('Loss')\n",
    "plt.xlabel('Epoch')\n",
    "plt.legend(['Train', 'Test'], loc='upper left')\n",
    "plt.show()"
   ]
  },
  {
   "cell_type": "markdown",
   "metadata": {
    "colab_type": "text",
    "id": "diDQglrhSR1n"
   },
   "source": [
    "## Teste"
   ]
  },
  {
   "cell_type": "code",
   "execution_count": 27,
   "metadata": {
    "colab": {
     "base_uri": "https://localhost:8080/",
     "height": 54
    },
    "colab_type": "code",
    "id": "Qyg7uylzSR1p",
    "outputId": "4b953e0d-5437-422d-cbc5-6b19a29879f4"
   },
   "outputs": [
    {
     "name": "stdout",
     "output_type": "stream",
     "text": [
      "Training Accuracy:  1.0\n",
      "Testing Accuracy:  0.65625\n"
     ]
    }
   ],
   "source": [
    "# Evaluating the model on the training and testing set\n",
    "score = model.evaluate(x_train, y_train, verbose=0)\n",
    "train_acc = score[1]\n",
    "print(\"Training Accuracy: \", score[1])\n",
    "\n",
    "score = model.evaluate(x_test, y_test, verbose=0)\n",
    "test_acc = score[1]\n",
    "print(\"Testing Accuracy: \", score[1])"
   ]
  },
  {
   "cell_type": "code",
   "execution_count": 28,
   "metadata": {
    "colab": {},
    "colab_type": "code",
    "id": "KnzqoZRbSR1v"
   },
   "outputs": [],
   "source": [
    "preds = model.predict(x_test) # label scores \n",
    "\n",
    "classpreds = np.argmax(preds, axis=1) # predicted classes \n",
    "\n",
    "y_testclass = np.argmax(y_test, axis=1) # true classes\n",
    "\n",
    "n_classes=2 # number of classes"
   ]
  },
  {
   "cell_type": "code",
   "execution_count": 29,
   "metadata": {
    "colab": {},
    "colab_type": "code",
    "id": "EMrG8FeJSR14"
   },
   "outputs": [],
   "source": [
    "# Compute ROC curve and ROC area for each class\n",
    "fpr = dict()\n",
    "tpr = dict()\n",
    "roc_auc = dict()\n",
    "for i in range(n_classes):\n",
    "    fpr[i], tpr[i], _ = roc_curve(y_test[:, i], preds[:, i])\n",
    "    roc_auc[i] = auc(fpr[i], tpr[i])"
   ]
  },
  {
   "cell_type": "code",
   "execution_count": 30,
   "metadata": {
    "colab": {},
    "colab_type": "code",
    "id": "oOZSWEULSR17"
   },
   "outputs": [],
   "source": [
    "c_names = ['Bronchiectasis', 'Bronchiolitis', 'COPD', 'Healthy', 'Pneumonia', 'URTI']\n",
    "c_names = ['Healthy', 'Pneumonia']"
   ]
  },
  {
   "cell_type": "code",
   "execution_count": 31,
   "metadata": {
    "colab": {
     "base_uri": "https://localhost:8080/",
     "height": 851
    },
    "colab_type": "code",
    "id": "HY5qEVRrSR2A",
    "outputId": "9c5341de-bbdf-4c87-c999-82ee08ddd1fb"
   },
   "outputs": [
    {
     "data": {
      "image/png": "[encoded data removed]",
      "text/plain": [
       "<Figure size 1152x720 with 1 Axes>"
      ]
     },
     "metadata": {
      "needs_background": "light"
     },
     "output_type": "display_data"
    }
   ],
   "source": [
    "# Plot ROC curves\n",
    "fig, ax = plt.subplots(figsize=(16, 10))\n",
    "ax.plot([0, 1], [0, 1], 'k--')\n",
    "ax.set_xlim([0.0, 1.0])\n",
    "ax.set_ylim([0.0, 1.05])\n",
    "ax.set_xlabel('False Positive Rate')\n",
    "ax.set_ylabel('True Positive Rate')\n",
    "ax.set_title('ROC Curve for Each Class')\n",
    "for i in range(n_classes):\n",
    "    ax.plot(fpr[i], tpr[i], linewidth=3, label='ROC curve (area = %0.2f) for %s' % (roc_auc[i], c_names[i]))\n",
    "ax.legend(loc=\"best\", fontsize='x-large')\n",
    "ax.grid(alpha=.4)\n",
    "sns.despine()\n",
    "plt.show()"
   ]
  },
  {
   "cell_type": "code",
   "execution_count": 32,
   "metadata": {
    "colab": {
     "base_uri": "https://localhost:8080/",
     "height": 240
    },
    "colab_type": "code",
    "id": "qlQ12gHQSR2D",
    "outputId": "42af0b0e-037c-4177-a382-aff8a8550509"
   },
   "outputs": [
    {
     "name": "stdout",
     "output_type": "stream",
     "text": [
      "              precision    recall  f1-score   support\n",
      "\n",
      "     Healthy       0.60      0.94      0.73        16\n",
      "   Pneumonia       0.86      0.38      0.52        16\n",
      "\n",
      "    accuracy                           0.66        32\n",
      "   macro avg       0.73      0.66      0.63        32\n",
      "weighted avg       0.73      0.66      0.63        32\n",
      "\n"
     ]
    }
   ],
   "source": [
    "# Classification Report\n",
    "print(classification_report(y_testclass, classpreds, target_names=c_names))"
   ]
  },
  {
   "cell_type": "code",
   "execution_count": 33,
   "metadata": {
    "colab": {
     "base_uri": "https://localhost:8080/",
     "height": 128
    },
    "colab_type": "code",
    "id": "jGzk3U9kSR2G",
    "outputId": "cd147c90-fc8e-47c5-9cd0-6e3e224b3def"
   },
   "outputs": [
    {
     "name": "stdout",
     "output_type": "stream",
     "text": [
      "[[15  1]\n",
      " [10  6]]\n"
     ]
    }
   ],
   "source": [
    "# Confusion Matrix\n",
    "print(confusion_matrix(y_testclass, classpreds))"
   ]
  },
  {
   "cell_type": "code",
   "execution_count": 34,
   "metadata": {},
   "outputs": [],
   "source": [
    "import itertools\n",
    "def plot_confusion_matrix(cm, unique_labels, show=True, output=None,\n",
    "                          title='Confusion matrix', cmap=plt.cm.Oranges):\n",
    "    plt.imshow(cm, interpolation='nearest', cmap=cmap)\n",
    "    plt.title(title)\n",
    "    plt.colorbar()\n",
    "    tick_marks = np.arange(cm.shape[1])\n",
    "    plt.xticks(tick_marks, rotation=45)\n",
    "    ax = plt.gca()\n",
    "    ax.set_xticklabels((ax.get_xticks() + 1).astype(str))\n",
    "    plt.yticks(tick_marks)\n",
    "\n",
    "    ax.set_xticklabels(unique_labels)\n",
    "    ax.set_yticklabels(unique_labels)\n",
    "\n",
    "    thresh = cm.max() / 2.\n",
    "    for i, j in itertools.product(range(cm.shape[0]), range(cm.shape[1])):\n",
    "        plt.text(j, i, format(cm[i, j], '.1f'),\n",
    "                 horizontalalignment=\"center\",\n",
    "                 color=\"white\" if cm[i, j] > thresh else \"black\")\n",
    "\n",
    "    plt.tight_layout()\n",
    "    plt.ylabel('True label')\n",
    "    plt.xlabel('Predicted label')\n",
    "    if show:\n",
    "        plt.show()\n",
    "    if output is not None:\n",
    "        plt.savefig(output)\n",
    "    plt.close()\n",
    "    return output\n"
   ]
  },
  {
   "cell_type": "code",
   "execution_count": 35,
   "metadata": {},
   "outputs": [
    {
     "data": {
      "image/png": "[encoded data removed]",
      "text/plain": [
       "<Figure size 432x288 with 2 Axes>"
      ]
     },
     "metadata": {
      "needs_background": "light"
     },
     "output_type": "display_data"
    }
   ],
   "source": [
    "plot_confusion_matrix(confusion_matrix(y_testclass, classpreds), unique_labels=[\"Healthy\", \"Pneumonia\"])"
   ]
  },
  {
   "cell_type": "markdown",
   "metadata": {},
   "source": [
    "__Write csv__"
   ]
  },
  {
   "cell_type": "code",
   "execution_count": 36,
   "metadata": {},
   "outputs": [],
   "source": [
    "with open('report.csv', 'a') as report:\n",
    "    report.write(f'{MODEL_NAME},{DATASET},{GROUP_TRAIN},{DURATION},{train_acc},{test_acc}\\n')"
   ]
  },
  {
   "cell_type": "code",
   "execution_count": null,
   "metadata": {},
   "outputs": [],
   "source": []
  }
 ],
 "metadata": {
  "accelerator": "GPU",
  "colab": {
   "collapsed_sections": [],
   "name": "Corona-Disease Classification by CNN using MFCC.ipynb",
   "provenance": []
  },
  "kernelspec": {
   "display_name": "Python 3",
   "language": "python",
   "name": "python3"
  },
  "language_info": {
   "codemirror_mode": {
    "name": "ipython",
    "version": 3
   },
   "file_extension": ".py",
   "mimetype": "text/x-python",
   "name": "python",
   "nbconvert_exporter": "python",
   "pygments_lexer": "ipython3",
   "version": "3.7.7"
  }
 },
 "nbformat": 4,
 "nbformat_minor": 4
}
