{
 "cells": [
  {
   "cell_type": "markdown",
   "metadata": {
    "colab": {
     "base_uri": "https://localhost:8080/",
     "height": 1000
    },
    "colab_type": "code",
    "id": "DtXp3DMyU4u2",
    "outputId": "9a02581f-ebc9-4307-c524-f915fc001341"
   },
   "source": [
    "# Rede MLP - Modelo 1\n",
    "\n",
    "## Dataset Respiratory_Sound_Database_Pneumo_Healthy_Only - Dataset 1 - trim5"
   ]
  },
  {
   "cell_type": "code",
   "execution_count": 1,
   "metadata": {
    "_cell_guid": "79c7e3d0-c299-4dcb-8224-4455121ee9b0",
    "_uuid": "d629ff2d2480ee46fbb7e2d37f6b5fab8052498a",
    "colab": {},
    "colab_type": "code",
    "id": "sxUgP6_bSR0C"
   },
   "outputs": [],
   "source": [
    "from datetime import datetime\n",
    "from os import listdir\n",
    "from os.path import isfile, join\n",
    "\n",
    "import os\n",
    "import librosa\n",
    "import librosa.display\n",
    "import glob\n",
    "\n",
    "import numpy as np\n",
    "import pandas as pd\n",
    "\n",
    "from tensorflow.keras.models import Sequential\n",
    "from tensorflow.keras.layers import Dense, Dropout, Conv2D, MaxPooling2D, GlobalAveragePooling2D\n",
    "from tensorflow.keras.utils import to_categorical\n",
    "from tensorflow.keras.callbacks import ModelCheckpoint\n",
    "\n",
    "from sklearn.metrics import confusion_matrix, classification_report, roc_curve, auc\n",
    "from sklearn.model_selection import train_test_split\n",
    "from sklearn.preprocessing import LabelEncoder\n",
    "\n",
    "import matplotlib.pyplot as plt\n",
    "import seaborn as sns"
   ]
  },
  {
   "cell_type": "code",
   "execution_count": 2,
   "metadata": {},
   "outputs": [
    {
     "name": "stdout",
     "output_type": "stream",
     "text": [
      "1 Physical GPUs, 1 Logical GPUs\n"
     ]
    }
   ],
   "source": [
    "# Necessário na minha máquina. Estava ocorrendo um erro devido à GPU e esse código resolveu.\n",
    "import tensorflow as tf\n",
    "gpus = tf.config.experimental.list_physical_devices('GPU')\n",
    "if gpus:\n",
    "    try:\n",
    "        # Currently, memory growth needs to be the same across GPUs\n",
    "        for gpu in gpus:\n",
    "            tf.config.experimental.set_memory_growth(gpu, True)\n",
    "        logical_gpus = tf.config.experimental.list_logical_devices('GPU')\n",
    "        print(len(gpus), \"Physical GPUs,\", len(logical_gpus), \"Logical GPUs\")\n",
    "    except RuntimeError as e:\n",
    "        # Memory growth must be set before GPUs have been initialized\n",
    "        print(e)"
   ]
  },
  {
   "cell_type": "code",
   "execution_count": 3,
   "metadata": {},
   "outputs": [],
   "source": [
    "GROUP_TRAIN = 'trim5'\n",
    "GROUP_TEST = 'trim5'\n",
    "DATASET = 'dataset_1'\n",
    "DURATION = 5\n",
    "SIZE = 216\n",
    "CSV_TRAIN = 'train1.csv'\n",
    "CSV_TEST = 'test1.csv'\n",
    "MODEL_NAME = f'MLP1_{DATASET}_{GROUP_TRAIN}'"
   ]
  },
  {
   "cell_type": "code",
   "execution_count": 4,
   "metadata": {
    "colab": {},
    "colab_type": "code",
    "id": "mMb5_PxwSR0N"
   },
   "outputs": [],
   "source": [
    "train_file_paths = glob.glob(f'../datasets/{DATASET}/{GROUP_TRAIN}/train/**/*.wav', recursive=True)\n",
    "train_file_names = [os.path.splitext(os.path.basename(p))[0] for p in train_file_paths]\n",
    "\n",
    "test_file_paths = glob.glob(f'../datasets/{DATASET}/{GROUP_TEST}/test/**/*.wav', recursive=True)\n",
    "test_file_names = [os.path.splitext(os.path.basename(p))[0] for p in test_file_paths]"
   ]
  },
  {
   "cell_type": "code",
   "execution_count": 5,
   "metadata": {
    "colab": {},
    "colab_type": "code",
    "id": "wTf5HxHzSR0U"
   },
   "outputs": [],
   "source": [
    "train_p_id_in_file = [] # patient IDs corresponding to each file\n",
    "test_p_id_in_file = [] # patient IDs corresponding to each file\n",
    "for name in train_file_names:\n",
    "    train_p_id_in_file.append(int(name[:3]))\n",
    "\n",
    "for name in test_file_names:\n",
    "    test_p_id_in_file.append(int(name[:3]))\n",
    "\n",
    "train_p_id_in_file = np.array(train_p_id_in_file)\n",
    "test_p_id_in_file = np.array(test_p_id_in_file) "
   ]
  },
  {
   "cell_type": "code",
   "execution_count": 6,
   "metadata": {
    "colab": {},
    "colab_type": "code",
    "id": "UbK7vc1kSR0c"
   },
   "outputs": [],
   "source": [
    "max_pad_len = SIZE\n",
    "\n",
    "os.makedirs(\"features/\", exist_ok=True)\n",
    "\n",
    "def extract_features(file_name):\n",
    "    \"\"\"\n",
    "    This function takes in the path for an audio file as a string, loads it, and returns the MFCC\n",
    "    of the audio\"\"\"\n",
    "    feature = os.path.splitext(os.path.basename(file_name))[0] + \".npy\"\n",
    "#     if (os.path.isfile(os.path.join(\"./Respiratory_Sound_Database/features/\", feature))):\n",
    "#         return np.load(os.path.join(\"./Respiratory_Sound_Database/features/\", feature))\n",
    "    \n",
    "    try:\n",
    "        audio, sample_rate = librosa.load(file_name, res_type='kaiser_fast', duration=DURATION) \n",
    "        mfccs = librosa.feature.mfcc(y=audio, sr=sample_rate, n_mfcc=40)\n",
    "        pad_width = max_pad_len - mfccs.shape[1]\n",
    "        mfccs = np.pad(mfccs, pad_width=((0, 0), (0, pad_width)), mode='constant')\n",
    "        \n",
    "    except Exception as e:\n",
    "        print(\"Error encountered while parsing file: \", file_name)\n",
    "        return None \n",
    "    np.save(os.path.join(\"./features/\", feature), mfccs)\n",
    "    return mfccs"
   ]
  },
  {
   "cell_type": "code",
   "execution_count": 7,
   "metadata": {
    "colab": {},
    "colab_type": "code",
    "id": "xkBHJzJDSR0h"
   },
   "outputs": [],
   "source": [
    "#filepaths = [join(mypath, f) for f in filenames] # full paths of files"
   ]
  },
  {
   "cell_type": "code",
   "execution_count": 8,
   "metadata": {
    "colab": {},
    "colab_type": "code",
    "id": "UQjbbn7MSR0n"
   },
   "outputs": [
    {
     "data": {
      "text/html": [
       "<div>\n",
       "<style scoped>\n",
       "    .dataframe tbody tr th:only-of-type {\n",
       "        vertical-align: middle;\n",
       "    }\n",
       "\n",
       "    .dataframe tbody tr th {\n",
       "        vertical-align: top;\n",
       "    }\n",
       "\n",
       "    .dataframe thead th {\n",
       "        text-align: right;\n",
       "    }\n",
       "</style>\n",
       "<table border=\"1\" class=\"dataframe\">\n",
       "  <thead>\n",
       "    <tr style=\"text-align: right;\">\n",
       "      <th></th>\n",
       "      <th>0</th>\n",
       "      <th>1</th>\n",
       "    </tr>\n",
       "  </thead>\n",
       "  <tbody>\n",
       "    <tr>\n",
       "      <th>0</th>\n",
       "      <td>102</td>\n",
       "      <td>Healthy</td>\n",
       "    </tr>\n",
       "    <tr>\n",
       "      <th>1</th>\n",
       "      <td>121</td>\n",
       "      <td>Healthy</td>\n",
       "    </tr>\n",
       "    <tr>\n",
       "      <th>2</th>\n",
       "      <td>123</td>\n",
       "      <td>Healthy</td>\n",
       "    </tr>\n",
       "    <tr>\n",
       "      <th>3</th>\n",
       "      <td>125</td>\n",
       "      <td>Healthy</td>\n",
       "    </tr>\n",
       "    <tr>\n",
       "      <th>4</th>\n",
       "      <td>126</td>\n",
       "      <td>Healthy</td>\n",
       "    </tr>\n",
       "  </tbody>\n",
       "</table>\n",
       "</div>"
      ],
      "text/plain": [
       "     0        1\n",
       "0  102  Healthy\n",
       "1  121  Healthy\n",
       "2  123  Healthy\n",
       "3  125  Healthy\n",
       "4  126  Healthy"
      ]
     },
     "execution_count": 8,
     "metadata": {},
     "output_type": "execute_result"
    }
   ],
   "source": [
    "train_p_diag = pd.read_csv(f\"../Respiratory_Sound_Database/Respiratory_Sound_Database_Pneumo_Healthy_Only/{CSV_TRAIN}\", header=None) # patient diagnosis file\n",
    "test_p_diag = pd.read_csv(f\"../Respiratory_Sound_Database/Respiratory_Sound_Database_Pneumo_Healthy_Only/{CSV_TEST}\", header=None) # patient diagnosis file\n",
    "train_p_diag.head(5)"
   ]
  },
  {
   "cell_type": "code",
   "execution_count": 9,
   "metadata": {
    "colab": {},
    "colab_type": "code",
    "id": "yskEMhphSR0s"
   },
   "outputs": [],
   "source": [
    "train_labels = np.array([train_p_diag[train_p_diag[0] == x][1].values[0] for x in train_p_id_in_file]) \n",
    "test_labels = np.array([test_p_diag[test_p_diag[0] == x][1].values[0] for x in test_p_id_in_file]) "
   ]
  },
  {
   "cell_type": "code",
   "execution_count": 10,
   "metadata": {
    "colab": {
     "base_uri": "https://localhost:8080/",
     "height": 35
    },
    "colab_type": "code",
    "id": "yIlzZ5gRSR0w",
    "outputId": "e42143d5-d247-457f-c891-0c714e51cb05"
   },
   "outputs": [
    {
     "name": "stdout",
     "output_type": "stream",
     "text": [
      "Finished feature extraction from  366  files\n"
     ]
    }
   ],
   "source": [
    "train_features = [] \n",
    "test_features = []\n",
    "\n",
    "for file_name in train_file_paths:\n",
    "    data = extract_features(file_name)\n",
    "    train_features.append(data)\n",
    "\n",
    "for file_name in test_file_paths:\n",
    "    data = extract_features(file_name)\n",
    "    test_features.append(data)\n",
    "\n",
    "print('Finished feature extraction from ', (len(train_features)+len(train_features)), ' files')\n",
    "train_features = np.array(train_features)\n",
    "test_features = np.array(test_features)"
   ]
  },
  {
   "cell_type": "code",
   "execution_count": 11,
   "metadata": {
    "colab": {
     "base_uri": "https://localhost:8080/",
     "height": 297
    },
    "colab_type": "code",
    "id": "aPWfXalkSR00",
    "outputId": "0741865f-420e-4c29-8cb1-42b0fe8302cb"
   },
   "outputs": [
    {
     "data": {
      "image/png": "[encoded data removed]",
      "text/plain": [
       "<Figure size 720x288 with 2 Axes>"
      ]
     },
     "metadata": {
      "needs_background": "light"
     },
     "output_type": "display_data"
    }
   ],
   "source": [
    "# plot an MFCC\n",
    "plt.figure(figsize=(10, 4))\n",
    "librosa.display.specshow(train_features[7], x_axis='time')\n",
    "plt.colorbar()\n",
    "plt.title('MFCC')\n",
    "plt.tight_layout()\n",
    "plt.show()"
   ]
  },
  {
   "cell_type": "code",
   "execution_count": 12,
   "metadata": {},
   "outputs": [
    {
     "data": {
      "text/plain": [
       "array(['Healthy', 'Pneumonia'], dtype='<U9')"
      ]
     },
     "execution_count": 12,
     "metadata": {},
     "output_type": "execute_result"
    }
   ],
   "source": [
    "np.unique(train_labels)"
   ]
  },
  {
   "cell_type": "code",
   "execution_count": 13,
   "metadata": {
    "colab": {
     "base_uri": "https://localhost:8080/",
     "height": 54
    },
    "colab_type": "code",
    "id": "YAHg4HTzSR1C",
    "outputId": "be27b27d-3389-4d26-b8ee-d795b2259a5f"
   },
   "outputs": [
    {
     "name": "stdout",
     "output_type": "stream",
     "text": [
      "[['Healthy' 'Pneumonia']\n",
      " ['96' '87']]\n",
      "[['Healthy' 'Pneumonia']\n",
      " ['9' '24']]\n"
     ]
    }
   ],
   "source": [
    "unique_elements, counts_elements = np.unique(train_labels, return_counts=True)\n",
    "print(np.asarray((unique_elements, counts_elements)))\n",
    "\n",
    "unique_elements_test, counts_elements_test = np.unique(test_labels, return_counts=True)\n",
    "print(np.asarray((unique_elements_test, counts_elements_test)))"
   ]
  },
  {
   "cell_type": "code",
   "execution_count": 14,
   "metadata": {
    "colab": {
     "base_uri": "https://localhost:8080/",
     "height": 513
    },
    "colab_type": "code",
    "id": "mtNpDgBOSR1G",
    "outputId": "0f7584a0-d821-4196-c22f-3847fa3031b6"
   },
   "outputs": [
    {
     "data": {
      "image/png": "[encoded data removed]",
      "text/plain": [
       "<Figure size 864x576 with 1 Axes>"
      ]
     },
     "metadata": {
      "needs_background": "light"
     },
     "output_type": "display_data"
    }
   ],
   "source": [
    "# plot class counts\n",
    "y_pos = np.arange(len(unique_elements))\n",
    "plt.figure(figsize=(12,8))\n",
    "plt.bar(unique_elements, counts_elements, align='center', alpha=0.5)\n",
    "plt.xticks(y_pos, unique_elements)\n",
    "plt.ylabel('Count')\n",
    "plt.xlabel('Disease')\n",
    "plt.title('Disease Count in Sound Files (No Asthma or LRTI)')\n",
    "plt.show()"
   ]
  },
  {
   "cell_type": "code",
   "execution_count": 15,
   "metadata": {
    "colab": {},
    "colab_type": "code",
    "id": "WtqGtxmPSR1K"
   },
   "outputs": [],
   "source": [
    "# One-hot encode labels\n",
    "le = LabelEncoder()\n",
    "le.fit(train_labels)\n",
    "train_labels_cat = to_categorical(le.transform(train_labels)) \n",
    "test_labels_cat = to_categorical(le.transform(test_labels)) "
   ]
  },
  {
   "cell_type": "code",
   "execution_count": 16,
   "metadata": {},
   "outputs": [
    {
     "data": {
      "text/plain": [
       "(183, 40, 216)"
      ]
     },
     "execution_count": 16,
     "metadata": {},
     "output_type": "execute_result"
    }
   ],
   "source": [
    "train_features.shape"
   ]
  },
  {
   "cell_type": "code",
   "execution_count": 17,
   "metadata": {},
   "outputs": [],
   "source": [
    "input_dim = train_features.shape[1]*train_features.shape[2]"
   ]
  },
  {
   "cell_type": "code",
   "execution_count": 18,
   "metadata": {
    "colab": {},
    "colab_type": "code",
    "id": "MgH8aGqeSR1P"
   },
   "outputs": [
    {
     "name": "stdout",
     "output_type": "stream",
     "text": [
      "(183, 8640) (183, 2)\n",
      "(33, 8640) (33, 2)\n"
     ]
    }
   ],
   "source": [
    "train_features = np.reshape(train_features, (train_features.shape[0], input_dim))\n",
    "print(train_features.shape, train_labels_cat.shape)\n",
    "test_features = np.reshape(test_features, (test_features.shape[0], input_dim))\n",
    "print(test_features.shape, test_labels_cat.shape)"
   ]
  },
  {
   "cell_type": "code",
   "execution_count": 19,
   "metadata": {
    "colab": {},
    "colab_type": "code",
    "id": "xFPaVmUESR1T"
   },
   "outputs": [],
   "source": [
    "# train test split\n",
    "x_train, x_val, y_train, y_val = train_test_split(train_features, train_labels_cat, test_size=0.2, random_state = 42)\n",
    "x_test, y_test = test_features, test_labels_cat"
   ]
  },
  {
   "cell_type": "markdown",
   "metadata": {
    "colab_type": "text",
    "id": "SN1ipKhfSR1X"
   },
   "source": [
    "**MLP model architecture**"
   ]
  },
  {
   "cell_type": "code",
   "execution_count": 20,
   "metadata": {
    "colab": {},
    "colab_type": "code",
    "id": "oZ5PcMOrcV1B"
   },
   "outputs": [],
   "source": [
    "num_labels = train_labels_cat.shape[1]\n",
    "# Construct model \n",
    "model = Sequential()\n",
    "model.add(Dense(500, input_dim=input_dim, activation='relu'))\n",
    "# model.add(Dropout(0.2))\n",
    "\n",
    "model.add(Dense(500, activation='relu'))\n",
    "# model.add(Dropout(0.2))\n",
    "\n",
    "model.add(Dense(500, activation='relu'))\n",
    "# model.add(Dropout(0.2))\n",
    "\n",
    "model.add(Dense(500, activation='relu'))\n",
    "# model.add(Dropout(0.2))\n",
    "\n",
    "model.add(Dense(500, activation='relu'))\n",
    "# model.add(Dropout(0.2))\n",
    "\n",
    "model.add(Dense(500, activation='relu'))\n",
    "# model.add(Dropout(0.2))\n",
    "\n",
    "model.add(Dense(500, activation='relu'))\n",
    "# model.add(Dropout(0.2))\n",
    "\n",
    "model.add(Dense(500, activation='relu'))\n",
    "# model.add(Dropout(0.2))\n",
    "\n",
    "model.add(Dense(num_labels, activation='softmax')) "
   ]
  },
  {
   "cell_type": "code",
   "execution_count": 21,
   "metadata": {
    "colab": {},
    "colab_type": "code",
    "id": "VcSipiVsSR1c"
   },
   "outputs": [],
   "source": [
    "# Compile the model\n",
    "model.compile(loss='categorical_crossentropy', metrics=['accuracy'], optimizer='adam') "
   ]
  },
  {
   "cell_type": "code",
   "execution_count": 22,
   "metadata": {
    "colab": {
     "base_uri": "https://localhost:8080/",
     "height": 719
    },
    "colab_type": "code",
    "id": "UvvyonaaSR1h",
    "outputId": "9c2154c5-f927-4c3d-e89e-951ba479c079"
   },
   "outputs": [
    {
     "name": "stdout",
     "output_type": "stream",
     "text": [
      "Model: \"sequential\"\n",
      "_________________________________________________________________\n",
      "Layer (type)                 Output Shape              Param #   \n",
      "=================================================================\n",
      "dense (Dense)                (None, 500)               4320500   \n",
      "_________________________________________________________________\n",
      "dense_1 (Dense)              (None, 500)               250500    \n",
      "_________________________________________________________________\n",
      "dense_2 (Dense)              (None, 500)               250500    \n",
      "_________________________________________________________________\n",
      "dense_3 (Dense)              (None, 500)               250500    \n",
      "_________________________________________________________________\n",
      "dense_4 (Dense)              (None, 500)               250500    \n",
      "_________________________________________________________________\n",
      "dense_5 (Dense)              (None, 500)               250500    \n",
      "_________________________________________________________________\n",
      "dense_6 (Dense)              (None, 500)               250500    \n",
      "_________________________________________________________________\n",
      "dense_7 (Dense)              (None, 500)               250500    \n",
      "_________________________________________________________________\n",
      "dense_8 (Dense)              (None, 2)                 1002      \n",
      "=================================================================\n",
      "Total params: 6,075,002\n",
      "Trainable params: 6,075,002\n",
      "Non-trainable params: 0\n",
      "_________________________________________________________________\n",
      "33/33 [==============================] - 0s 7ms/sample - loss: 7.4328 - accuracy: 0.2727\n",
      "Pre-training accuracy: 27.2727%\n"
     ]
    }
   ],
   "source": [
    "# Display model architecture summary \n",
    "model.summary()\n",
    "\n",
    "# Calculate pre-training accuracy \n",
    "score = model.evaluate(x_test, y_test, verbose=1)\n",
    "accuracy = 100*score[1]\n",
    "\n",
    "print(\"Pre-training accuracy: %.4f%%\" % accuracy)"
   ]
  },
  {
   "cell_type": "markdown",
   "metadata": {
    "colab_type": "text",
    "id": "TVtD0mcDSR1j"
   },
   "source": [
    "**Training**\n",
    "\n",
    "Here we will train the model. If we have a trained model, we can load it instead from the next cell."
   ]
  },
  {
   "cell_type": "code",
   "execution_count": 23,
   "metadata": {
    "colab": {
     "base_uri": "https://localhost:8080/",
     "height": 1000
    },
    "colab_type": "code",
    "id": "ruRXrsrhSR1k",
    "outputId": "ec26a26d-ad59-4e89-c88f-6277e4d0c283"
   },
   "outputs": [
    {
     "name": "stdout",
     "output_type": "stream",
     "text": [
      "Train on 146 samples, validate on 37 samples\n",
      "Epoch 1/100\n",
      "110/146 [=====================>........] - ETA: 0s - loss: 27.3768 - accuracy: 0.6182\n",
      "Epoch 00001: val_accuracy improved from -inf to 0.48649, saving model to models/MLP1_dataset_1_trim5_01.h5\n",
      "146/146 [==============================] - 1s 5ms/sample - loss: 24.7540 - accuracy: 0.5890 - val_loss: 16.6915 - val_accuracy: 0.4865\n",
      "Epoch 2/100\n",
      "110/146 [=====================>........] - ETA: 0s - loss: 7.1387 - accuracy: 0.4364 \n",
      "Epoch 00002: val_accuracy improved from 0.48649 to 0.51351, saving model to models/MLP1_dataset_1_trim5_02.h5\n",
      "146/146 [==============================] - 0s 2ms/sample - loss: 5.7691 - accuracy: 0.4726 - val_loss: 1.9279 - val_accuracy: 0.5135\n",
      "Epoch 3/100\n",
      "110/146 [=====================>........] - ETA: 0s - loss: 1.3042 - accuracy: 0.4727\n",
      "Epoch 00003: val_accuracy did not improve from 0.51351\n",
      "146/146 [==============================] - 0s 603us/sample - loss: 1.1722 - accuracy: 0.5068 - val_loss: 1.9160 - val_accuracy: 0.4865\n",
      "Epoch 4/100\n",
      "110/146 [=====================>........] - ETA: 0s - loss: 0.9872 - accuracy: 0.5818\n",
      "Epoch 00004: val_accuracy did not improve from 0.51351\n",
      "146/146 [==============================] - 0s 618us/sample - loss: 0.9906 - accuracy: 0.5616 - val_loss: 0.6822 - val_accuracy: 0.4865\n",
      "Epoch 5/100\n",
      "110/146 [=====================>........] - ETA: 0s - loss: 0.6600 - accuracy: 0.5909\n",
      "Epoch 00005: val_accuracy improved from 0.51351 to 0.81081, saving model to models/MLP1_dataset_1_trim5_05.h5\n",
      "146/146 [==============================] - 0s 1ms/sample - loss: 0.6829 - accuracy: 0.6233 - val_loss: 0.5007 - val_accuracy: 0.8108\n",
      "Epoch 6/100\n",
      "110/146 [=====================>........] - ETA: 0s - loss: 0.6543 - accuracy: 0.6909\n",
      "Epoch 00006: val_accuracy did not improve from 0.81081\n",
      "146/146 [==============================] - 0s 618us/sample - loss: 0.5969 - accuracy: 0.7123 - val_loss: 0.5108 - val_accuracy: 0.7838\n",
      "Epoch 7/100\n",
      "110/146 [=====================>........] - ETA: 0s - loss: 0.5393 - accuracy: 0.7182\n",
      "Epoch 00007: val_accuracy improved from 0.81081 to 0.89189, saving model to models/MLP1_dataset_1_trim5_07.h5\n",
      "146/146 [==============================] - 0s 1ms/sample - loss: 0.4997 - accuracy: 0.7260 - val_loss: 0.4443 - val_accuracy: 0.8919\n",
      "Epoch 8/100\n",
      "110/146 [=====================>........] - ETA: 0s - loss: 0.4509 - accuracy: 0.7545\n",
      "Epoch 00008: val_accuracy did not improve from 0.89189\n",
      "146/146 [==============================] - 0s 610us/sample - loss: 0.4954 - accuracy: 0.7329 - val_loss: 0.5217 - val_accuracy: 0.6486\n",
      "Epoch 9/100\n",
      "110/146 [=====================>........] - ETA: 0s - loss: 0.3175 - accuracy: 0.8727\n",
      "Epoch 00009: val_accuracy did not improve from 0.89189\n",
      "146/146 [==============================] - 0s 599us/sample - loss: 0.2751 - accuracy: 0.8973 - val_loss: 0.6927 - val_accuracy: 0.8649\n",
      "Epoch 10/100\n",
      "110/146 [=====================>........] - ETA: 0s - loss: 0.3356 - accuracy: 0.8636\n",
      "Epoch 00010: val_accuracy did not improve from 0.89189\n",
      "146/146 [==============================] - 0s 596us/sample - loss: 0.3207 - accuracy: 0.8767 - val_loss: 0.2689 - val_accuracy: 0.8919\n",
      "Epoch 11/100\n",
      "110/146 [=====================>........] - ETA: 0s - loss: 0.2351 - accuracy: 0.9182\n",
      "Epoch 00011: val_accuracy did not improve from 0.89189\n",
      "146/146 [==============================] - 0s 599us/sample - loss: 0.2174 - accuracy: 0.9178 - val_loss: 0.5193 - val_accuracy: 0.8108\n",
      "Epoch 12/100\n",
      "110/146 [=====================>........] - ETA: 0s - loss: 0.0836 - accuracy: 0.9545\n",
      "Epoch 00012: val_accuracy did not improve from 0.89189\n",
      "146/146 [==============================] - 0s 597us/sample - loss: 0.2652 - accuracy: 0.9452 - val_loss: 0.4470 - val_accuracy: 0.8919\n",
      "Epoch 13/100\n",
      "110/146 [=====================>........] - ETA: 0s - loss: 0.3060 - accuracy: 0.8909\n",
      "Epoch 00013: val_accuracy did not improve from 0.89189\n",
      "146/146 [==============================] - 0s 604us/sample - loss: 0.2501 - accuracy: 0.9110 - val_loss: 0.3366 - val_accuracy: 0.8919\n",
      "Epoch 14/100\n",
      "110/146 [=====================>........] - ETA: 0s - loss: 0.0057 - accuracy: 1.0000\n",
      "Epoch 00014: val_accuracy did not improve from 0.89189\n",
      "146/146 [==============================] - 0s 585us/sample - loss: 0.0043 - accuracy: 1.0000 - val_loss: 0.9755 - val_accuracy: 0.8919\n",
      "Epoch 15/100\n",
      "110/146 [=====================>........] - ETA: 0s - loss: 4.8610e-05 - accuracy: 1.0000\n",
      "Epoch 00015: val_accuracy did not improve from 0.89189\n",
      "146/146 [==============================] - 0s 596us/sample - loss: 8.5938e-05 - accuracy: 1.0000 - val_loss: 1.3917 - val_accuracy: 0.8919\n",
      "Epoch 16/100\n",
      "120/146 [=======================>......] - ETA: 0s - loss: 9.6933e-06 - accuracy: 1.0000\n",
      "Epoch 00016: val_accuracy improved from 0.89189 to 0.91892, saving model to models/MLP1_dataset_1_trim5_16.h5\n",
      "146/146 [==============================] - 0s 1ms/sample - loss: 8.0676e-06 - accuracy: 1.0000 - val_loss: 1.4281 - val_accuracy: 0.9189\n",
      "Epoch 17/100\n",
      "110/146 [=====================>........] - ETA: 0s - loss: 4.2863e-06 - accuracy: 1.0000\n",
      "Epoch 00017: val_accuracy did not improve from 0.91892\n",
      "146/146 [==============================] - 0s 625us/sample - loss: 3.2318e-06 - accuracy: 1.0000 - val_loss: 1.4322 - val_accuracy: 0.8919\n",
      "Epoch 18/100\n",
      "110/146 [=====================>........] - ETA: 0s - loss: 2.3842e-08 - accuracy: 1.0000\n",
      "Epoch 00018: val_accuracy did not improve from 0.91892\n",
      "146/146 [==============================] - 0s 614us/sample - loss: 1.8780e-08 - accuracy: 1.0000 - val_loss: 1.4497 - val_accuracy: 0.8919\n",
      "Epoch 19/100\n",
      "110/146 [=====================>........] - ETA: 0s - loss: 1.5172e-08 - accuracy: 1.0000\n",
      "Epoch 00019: val_accuracy did not improve from 0.91892\n",
      "146/146 [==============================] - 0s 594us/sample - loss: 1.1431e-08 - accuracy: 1.0000 - val_loss: 1.4549 - val_accuracy: 0.8919\n",
      "Epoch 20/100\n",
      "110/146 [=====================>........] - ETA: 0s - loss: 9.7535e-09 - accuracy: 1.0000\n",
      "Epoch 00020: val_accuracy did not improve from 0.91892\n",
      "146/146 [==============================] - 0s 625us/sample - loss: 1.0615e-08 - accuracy: 1.0000 - val_loss: 1.4564 - val_accuracy: 0.8919\n",
      "Epoch 21/100\n",
      "120/146 [=======================>......] - ETA: 0s - loss: 1.2914e-08 - accuracy: 1.0000\n",
      "Epoch 00021: val_accuracy did not improve from 0.91892\n",
      "146/146 [==============================] - 0s 566us/sample - loss: 1.0615e-08 - accuracy: 1.0000 - val_loss: 1.4571 - val_accuracy: 0.8919\n",
      "Epoch 22/100\n",
      "120/146 [=======================>......] - ETA: 0s - loss: 1.1921e-08 - accuracy: 1.0000\n",
      "Epoch 00022: val_accuracy did not improve from 0.91892\n",
      "146/146 [==============================] - 0s 588us/sample - loss: 9.7980e-09 - accuracy: 1.0000 - val_loss: 1.4576 - val_accuracy: 0.8919\n",
      "Epoch 23/100\n",
      "110/146 [=====================>........] - ETA: 0s - loss: 1.1921e-08 - accuracy: 1.0000\n",
      "Epoch 00023: val_accuracy did not improve from 0.91892\n",
      "146/146 [==============================] - 0s 611us/sample - loss: 9.7980e-09 - accuracy: 1.0000 - val_loss: 1.4581 - val_accuracy: 0.8919\n",
      "Epoch 24/100\n",
      "110/146 [=====================>........] - ETA: 0s - loss: 1.3005e-08 - accuracy: 1.0000\n",
      "Epoch 00024: val_accuracy did not improve from 0.91892\n",
      "146/146 [==============================] - 0s 611us/sample - loss: 9.7980e-09 - accuracy: 1.0000 - val_loss: 1.4586 - val_accuracy: 0.8919\n",
      "Epoch 25/100\n",
      "110/146 [=====================>........] - ETA: 0s - loss: 1.3005e-08 - accuracy: 1.0000\n",
      "Epoch 00025: val_accuracy did not improve from 0.91892\n",
      "146/146 [==============================] - 0s 593us/sample - loss: 9.7980e-09 - accuracy: 1.0000 - val_loss: 1.4591 - val_accuracy: 0.8919\n",
      "Epoch 26/100\n",
      "120/146 [=======================>......] - ETA: 0s - loss: 1.9868e-09 - accuracy: 1.0000\n",
      "Epoch 00026: val_accuracy did not improve from 0.91892\n",
      "146/146 [==============================] - 0s 600us/sample - loss: 9.7980e-09 - accuracy: 1.0000 - val_loss: 1.4594 - val_accuracy: 0.8919\n",
      "Epoch 27/100\n",
      "110/146 [=====================>........] - ETA: 0s - loss: 1.3005e-08 - accuracy: 1.0000\n",
      "Epoch 00027: val_accuracy did not improve from 0.91892\n",
      "146/146 [==============================] - 0s 611us/sample - loss: 9.7980e-09 - accuracy: 1.0000 - val_loss: 1.4600 - val_accuracy: 0.8919\n",
      "Epoch 28/100\n",
      "120/146 [=======================>......] - ETA: 0s - loss: 1.1921e-08 - accuracy: 1.0000\n",
      "Epoch 00028: val_accuracy did not improve from 0.91892\n",
      "146/146 [==============================] - 0s 592us/sample - loss: 9.7980e-09 - accuracy: 1.0000 - val_loss: 1.4607 - val_accuracy: 0.8919\n",
      "Epoch 29/100\n",
      "110/146 [=====================>........] - ETA: 0s - loss: 1.1921e-08 - accuracy: 1.0000\n",
      "Epoch 00029: val_accuracy did not improve from 0.91892\n",
      "146/146 [==============================] - 0s 612us/sample - loss: 9.7980e-09 - accuracy: 1.0000 - val_loss: 1.4613 - val_accuracy: 0.8919\n",
      "Epoch 30/100\n",
      "110/146 [=====================>........] - ETA: 0s - loss: 1.3005e-08 - accuracy: 1.0000\n",
      "Epoch 00030: val_accuracy did not improve from 0.91892\n",
      "146/146 [==============================] - 0s 604us/sample - loss: 9.7980e-09 - accuracy: 1.0000 - val_loss: 1.4619 - val_accuracy: 0.8919\n",
      "Epoch 31/100\n",
      "110/146 [=====================>........] - ETA: 0s - loss: 6.5023e-09 - accuracy: 1.0000\n",
      "Epoch 00031: val_accuracy did not improve from 0.91892\n",
      "146/146 [==============================] - 0s 607us/sample - loss: 8.9815e-09 - accuracy: 1.0000 - val_loss: 1.4624 - val_accuracy: 0.8919\n",
      "Epoch 32/100\n",
      "120/146 [=======================>......] - ETA: 0s - loss: 1.0928e-08 - accuracy: 1.0000\n",
      "Epoch 00032: val_accuracy did not improve from 0.91892\n",
      "146/146 [==============================] - 0s 577us/sample - loss: 8.9815e-09 - accuracy: 1.0000 - val_loss: 1.4631 - val_accuracy: 0.8919\n",
      "Epoch 33/100\n",
      "120/146 [=======================>......] - ETA: 0s - loss: 5.9605e-09 - accuracy: 1.0000\n",
      "Epoch 00033: val_accuracy did not improve from 0.91892\n",
      "146/146 [==============================] - 0s 592us/sample - loss: 8.9815e-09 - accuracy: 1.0000 - val_loss: 1.4636 - val_accuracy: 0.8919\n",
      "Epoch 34/100\n",
      "120/146 [=======================>......] - ETA: 0s - loss: 5.9605e-09 - accuracy: 1.0000\n",
      "Epoch 00034: val_accuracy did not improve from 0.91892\n",
      "146/146 [==============================] - 0s 574us/sample - loss: 8.9815e-09 - accuracy: 1.0000 - val_loss: 1.4642 - val_accuracy: 0.8919\n",
      "Epoch 35/100\n",
      "110/146 [=====================>........] - ETA: 0s - loss: 6.5023e-09 - accuracy: 1.0000\n",
      "Epoch 00035: val_accuracy did not improve from 0.91892\n",
      "146/146 [==============================] - 0s 601us/sample - loss: 8.9815e-09 - accuracy: 1.0000 - val_loss: 1.4649 - val_accuracy: 0.8919\n",
      "Epoch 36/100\n",
      "110/146 [=====================>........] - ETA: 0s - loss: 5.4186e-09 - accuracy: 1.0000\n",
      "Epoch 00036: val_accuracy did not improve from 0.91892\n",
      "146/146 [==============================] - 0s 611us/sample - loss: 8.9815e-09 - accuracy: 1.0000 - val_loss: 1.4655 - val_accuracy: 0.8919\n",
      "Epoch 37/100\n",
      "110/146 [=====================>........] - ETA: 0s - loss: 5.4186e-09 - accuracy: 1.0000\n",
      "Epoch 00037: val_accuracy did not improve from 0.91892\n",
      "146/146 [==============================] - 0s 602us/sample - loss: 8.9815e-09 - accuracy: 1.0000 - val_loss: 1.4661 - val_accuracy: 0.8919\n",
      "Epoch 38/100\n",
      "120/146 [=======================>......] - ETA: 0s - loss: 1.0928e-08 - accuracy: 1.0000\n",
      "Epoch 00038: val_accuracy did not improve from 0.91892\n",
      "146/146 [==============================] - 0s 601us/sample - loss: 8.9815e-09 - accuracy: 1.0000 - val_loss: 1.4671 - val_accuracy: 0.8919\n",
      "Epoch 39/100\n",
      "110/146 [=====================>........] - ETA: 0s - loss: 1.1921e-08 - accuracy: 1.0000\n",
      "Epoch 00039: val_accuracy did not improve from 0.91892\n",
      "146/146 [==============================] - 0s 607us/sample - loss: 8.9815e-09 - accuracy: 1.0000 - val_loss: 1.4678 - val_accuracy: 0.8919\n",
      "Epoch 40/100\n",
      "110/146 [=====================>........] - ETA: 0s - loss: 6.5023e-09 - accuracy: 1.0000\n",
      "Epoch 00040: val_accuracy did not improve from 0.91892\n",
      "146/146 [==============================] - 0s 622us/sample - loss: 8.9815e-09 - accuracy: 1.0000 - val_loss: 1.4684 - val_accuracy: 0.8919\n",
      "Epoch 41/100\n",
      "110/146 [=====================>........] - ETA: 0s - loss: 1.0837e-08 - accuracy: 1.0000\n",
      "Epoch 00041: val_accuracy did not improve from 0.91892\n",
      "146/146 [==============================] - 0s 610us/sample - loss: 8.1650e-09 - accuracy: 1.0000 - val_loss: 1.4691 - val_accuracy: 0.8919\n",
      "Epoch 42/100\n",
      "110/146 [=====================>........] - ETA: 0s - loss: 1.0837e-08 - accuracy: 1.0000\n",
      "Epoch 00042: val_accuracy did not improve from 0.91892\n",
      "146/146 [==============================] - 0s 614us/sample - loss: 8.1650e-09 - accuracy: 1.0000 - val_loss: 1.4697 - val_accuracy: 0.8919\n",
      "Epoch 43/100\n",
      "120/146 [=======================>......] - ETA: 0s - loss: 5.9605e-09 - accuracy: 1.0000\n",
      "Epoch 00043: val_accuracy did not improve from 0.91892\n",
      "146/146 [==============================] - 0s 586us/sample - loss: 8.1650e-09 - accuracy: 1.0000 - val_loss: 1.4701 - val_accuracy: 0.8919\n",
      "Epoch 44/100\n",
      "110/146 [=====================>........] - ETA: 0s - loss: 6.5023e-09 - accuracy: 1.0000\n",
      "Epoch 00044: val_accuracy did not improve from 0.91892\n",
      "146/146 [==============================] - 0s 596us/sample - loss: 8.1650e-09 - accuracy: 1.0000 - val_loss: 1.4706 - val_accuracy: 0.8919\n",
      "Epoch 45/100\n",
      "120/146 [=======================>......] - ETA: 0s - loss: 9.9341e-09 - accuracy: 1.0000\n",
      "Epoch 00045: val_accuracy did not improve from 0.91892\n",
      "146/146 [==============================] - 0s 589us/sample - loss: 8.1650e-09 - accuracy: 1.0000 - val_loss: 1.4712 - val_accuracy: 0.8919\n",
      "Epoch 46/100\n",
      "110/146 [=====================>........] - ETA: 0s - loss: 6.5023e-09 - accuracy: 1.0000\n",
      "Epoch 00046: val_accuracy did not improve from 0.91892\n",
      "146/146 [==============================] - 0s 611us/sample - loss: 8.1650e-09 - accuracy: 1.0000 - val_loss: 1.4717 - val_accuracy: 0.8919\n",
      "Epoch 47/100\n",
      "110/146 [=====================>........] - ETA: 0s - loss: 1.0837e-08 - accuracy: 1.0000\n",
      "Epoch 00047: val_accuracy did not improve from 0.91892\n",
      "146/146 [==============================] - 0s 622us/sample - loss: 8.1650e-09 - accuracy: 1.0000 - val_loss: 1.4724 - val_accuracy: 0.8919\n",
      "Epoch 48/100\n",
      "110/146 [=====================>........] - ETA: 0s - loss: 6.5023e-09 - accuracy: 1.0000\n",
      "Epoch 00048: val_accuracy did not improve from 0.91892\n",
      "146/146 [==============================] - 0s 618us/sample - loss: 8.1650e-09 - accuracy: 1.0000 - val_loss: 1.4729 - val_accuracy: 0.8919\n",
      "Epoch 49/100\n",
      "110/146 [=====================>........] - ETA: 0s - loss: 5.4186e-09 - accuracy: 1.0000\n",
      "Epoch 00049: val_accuracy did not improve from 0.91892\n",
      "146/146 [==============================] - 0s 607us/sample - loss: 7.3485e-09 - accuracy: 1.0000 - val_loss: 1.4735 - val_accuracy: 0.8919\n",
      "Epoch 50/100\n",
      "110/146 [=====================>........] - ETA: 0s - loss: 9.7535e-09 - accuracy: 1.0000\n",
      "Epoch 00050: val_accuracy did not improve from 0.91892\n",
      "146/146 [==============================] - 0s 595us/sample - loss: 7.3485e-09 - accuracy: 1.0000 - val_loss: 1.4742 - val_accuracy: 0.8919\n",
      "Epoch 51/100\n",
      "110/146 [=====================>........] - ETA: 0s - loss: 8.6698e-09 - accuracy: 1.0000\n",
      "Epoch 00051: val_accuracy did not improve from 0.91892\n",
      "146/146 [==============================] - 0s 611us/sample - loss: 7.3485e-09 - accuracy: 1.0000 - val_loss: 1.4746 - val_accuracy: 0.8919\n",
      "Epoch 52/100\n",
      "120/146 [=======================>......] - ETA: 0s - loss: 8.9407e-09 - accuracy: 1.0000\n",
      "Epoch 00052: val_accuracy did not improve from 0.91892\n",
      "146/146 [==============================] - 0s 590us/sample - loss: 7.3485e-09 - accuracy: 1.0000 - val_loss: 1.4752 - val_accuracy: 0.8919\n",
      "Epoch 53/100\n",
      "110/146 [=====================>........] - ETA: 0s - loss: 8.6698e-09 - accuracy: 1.0000\n",
      "Epoch 00053: val_accuracy did not improve from 0.91892\n",
      "146/146 [==============================] - 0s 607us/sample - loss: 6.5320e-09 - accuracy: 1.0000 - val_loss: 1.4758 - val_accuracy: 0.8919\n",
      "Epoch 54/100\n",
      "120/146 [=======================>......] - ETA: 0s - loss: 7.9473e-09 - accuracy: 1.0000\n",
      "Epoch 00054: val_accuracy did not improve from 0.91892\n",
      "146/146 [==============================] - 0s 591us/sample - loss: 6.5320e-09 - accuracy: 1.0000 - val_loss: 1.4765 - val_accuracy: 0.8919\n",
      "Epoch 55/100\n",
      "110/146 [=====================>........] - ETA: 0s - loss: 6.5023e-09 - accuracy: 1.0000\n",
      "Epoch 00055: val_accuracy did not improve from 0.91892\n",
      "146/146 [==============================] - 0s 625us/sample - loss: 5.7155e-09 - accuracy: 1.0000 - val_loss: 1.4769 - val_accuracy: 0.8919\n",
      "Epoch 56/100\n",
      "110/146 [=====================>........] - ETA: 0s - loss: 4.3349e-09 - accuracy: 1.0000\n",
      "Epoch 00056: val_accuracy did not improve from 0.91892\n",
      "146/146 [==============================] - 0s 618us/sample - loss: 5.7155e-09 - accuracy: 1.0000 - val_loss: 1.4775 - val_accuracy: 0.8919\n",
      "Epoch 57/100\n",
      "110/146 [=====================>........] - ETA: 0s - loss: 3.2512e-09 - accuracy: 1.0000\n",
      "Epoch 00057: val_accuracy did not improve from 0.91892\n",
      "146/146 [==============================] - 0s 613us/sample - loss: 5.7155e-09 - accuracy: 1.0000 - val_loss: 1.4778 - val_accuracy: 0.8919\n",
      "Epoch 58/100\n",
      "110/146 [=====================>........] - ETA: 0s - loss: 4.3349e-09 - accuracy: 1.0000\n",
      "Epoch 00058: val_accuracy did not improve from 0.91892\n",
      "146/146 [==============================] - 0s 624us/sample - loss: 5.7155e-09 - accuracy: 1.0000 - val_loss: 1.4784 - val_accuracy: 0.8919\n",
      "Epoch 59/100\n",
      "110/146 [=====================>........] - ETA: 0s - loss: 4.3349e-09 - accuracy: 1.0000\n",
      "Epoch 00059: val_accuracy did not improve from 0.91892\n",
      "146/146 [==============================] - 0s 615us/sample - loss: 5.7155e-09 - accuracy: 1.0000 - val_loss: 1.4790 - val_accuracy: 0.8919\n",
      "Epoch 60/100\n",
      "100/146 [===================>..........] - ETA: 0s - loss: 7.1526e-09 - accuracy: 1.0000\n",
      "Epoch 00060: val_accuracy did not improve from 0.91892\n",
      "146/146 [==============================] - 0s 627us/sample - loss: 5.7155e-09 - accuracy: 1.0000 - val_loss: 1.4796 - val_accuracy: 0.8919\n",
      "Epoch 61/100\n",
      "110/146 [=====================>........] - ETA: 0s - loss: 3.2512e-09 - accuracy: 1.0000\n",
      "Epoch 00061: val_accuracy did not improve from 0.91892\n",
      "146/146 [==============================] - 0s 612us/sample - loss: 5.7155e-09 - accuracy: 1.0000 - val_loss: 1.4800 - val_accuracy: 0.8919\n",
      "Epoch 62/100\n",
      "110/146 [=====================>........] - ETA: 0s - loss: 7.5860e-09 - accuracy: 1.0000\n",
      "Epoch 00062: val_accuracy did not improve from 0.91892\n",
      "146/146 [==============================] - 0s 613us/sample - loss: 5.7155e-09 - accuracy: 1.0000 - val_loss: 1.4807 - val_accuracy: 0.8919\n",
      "Epoch 63/100\n",
      "110/146 [=====================>........] - ETA: 0s - loss: 3.2512e-09 - accuracy: 1.0000\n",
      "Epoch 00063: val_accuracy did not improve from 0.91892\n",
      "146/146 [==============================] - 0s 616us/sample - loss: 5.7155e-09 - accuracy: 1.0000 - val_loss: 1.4812 - val_accuracy: 0.8919\n",
      "Epoch 64/100\n",
      "120/146 [=======================>......] - ETA: 0s - loss: 3.9736e-09 - accuracy: 1.0000\n",
      "Epoch 00064: val_accuracy did not improve from 0.91892\n",
      "146/146 [==============================] - 0s 599us/sample - loss: 5.7155e-09 - accuracy: 1.0000 - val_loss: 1.4817 - val_accuracy: 0.8919\n",
      "Epoch 65/100\n",
      "110/146 [=====================>........] - ETA: 0s - loss: 6.5023e-09 - accuracy: 1.0000\n",
      "Epoch 00065: val_accuracy did not improve from 0.91892\n",
      "146/146 [==============================] - 0s 613us/sample - loss: 5.7155e-09 - accuracy: 1.0000 - val_loss: 1.4825 - val_accuracy: 0.8919\n",
      "Epoch 66/100\n",
      "110/146 [=====================>........] - ETA: 0s - loss: 3.2512e-09 - accuracy: 1.0000\n",
      "Epoch 00066: val_accuracy did not improve from 0.91892\n",
      "146/146 [==============================] - 0s 608us/sample - loss: 5.7155e-09 - accuracy: 1.0000 - val_loss: 1.4830 - val_accuracy: 0.8919\n",
      "Epoch 67/100\n",
      "110/146 [=====================>........] - ETA: 0s - loss: 7.5860e-09 - accuracy: 1.0000\n",
      "Epoch 00067: val_accuracy did not improve from 0.91892\n",
      "146/146 [==============================] - 0s 601us/sample - loss: 5.7155e-09 - accuracy: 1.0000 - val_loss: 1.4838 - val_accuracy: 0.8919\n",
      "Epoch 68/100\n",
      "100/146 [===================>..........] - ETA: 0s - loss: 8.3446e-09 - accuracy: 1.0000\n",
      "Epoch 00068: val_accuracy did not improve from 0.91892\n",
      "146/146 [==============================] - 0s 729us/sample - loss: 5.7155e-09 - accuracy: 1.0000 - val_loss: 1.4845 - val_accuracy: 0.8919\n",
      "Epoch 69/100\n",
      "110/146 [=====================>........] - ETA: 0s - loss: 7.5860e-09 - accuracy: 1.0000\n",
      "Epoch 00069: val_accuracy did not improve from 0.91892\n",
      "146/146 [==============================] - 0s 619us/sample - loss: 5.7155e-09 - accuracy: 1.0000 - val_loss: 1.4852 - val_accuracy: 0.8919\n",
      "Epoch 70/100\n",
      "110/146 [=====================>........] - ETA: 0s - loss: 7.5860e-09 - accuracy: 1.0000\n",
      "Epoch 00070: val_accuracy did not improve from 0.91892\n",
      "146/146 [==============================] - 0s 594us/sample - loss: 5.7155e-09 - accuracy: 1.0000 - val_loss: 1.4857 - val_accuracy: 0.8919\n",
      "Epoch 71/100\n",
      "110/146 [=====================>........] - ETA: 0s - loss: 7.5860e-09 - accuracy: 1.0000\n",
      "Epoch 00071: val_accuracy did not improve from 0.91892\n",
      "146/146 [==============================] - 0s 592us/sample - loss: 5.7155e-09 - accuracy: 1.0000 - val_loss: 1.4864 - val_accuracy: 0.8919\n",
      "Epoch 72/100\n",
      "120/146 [=======================>......] - ETA: 0s - loss: 3.9736e-09 - accuracy: 1.0000\n",
      "Epoch 00072: val_accuracy did not improve from 0.91892\n",
      "146/146 [==============================] - 0s 586us/sample - loss: 4.8990e-09 - accuracy: 1.0000 - val_loss: 1.4869 - val_accuracy: 0.8919\n",
      "Epoch 73/100\n",
      "120/146 [=======================>......] - ETA: 0s - loss: 2.9802e-09 - accuracy: 1.0000\n",
      "Epoch 00073: val_accuracy did not improve from 0.91892\n",
      "146/146 [==============================] - 0s 584us/sample - loss: 4.8990e-09 - accuracy: 1.0000 - val_loss: 1.4876 - val_accuracy: 0.8919\n",
      "Epoch 74/100\n",
      "110/146 [=====================>........] - ETA: 0s - loss: 3.2512e-09 - accuracy: 1.0000\n",
      "Epoch 00074: val_accuracy did not improve from 0.91892\n",
      "146/146 [==============================] - 0s 609us/sample - loss: 4.8990e-09 - accuracy: 1.0000 - val_loss: 1.4883 - val_accuracy: 0.8919\n",
      "Epoch 75/100\n",
      "110/146 [=====================>........] - ETA: 0s - loss: 4.3349e-09 - accuracy: 1.0000\n",
      "Epoch 00075: val_accuracy did not improve from 0.91892\n",
      "146/146 [==============================] - 0s 587us/sample - loss: 4.8990e-09 - accuracy: 1.0000 - val_loss: 1.4888 - val_accuracy: 0.8919\n",
      "Epoch 76/100\n",
      "110/146 [=====================>........] - ETA: 0s - loss: 3.2512e-09 - accuracy: 1.0000\n",
      "Epoch 00076: val_accuracy did not improve from 0.91892\n",
      "146/146 [==============================] - 0s 620us/sample - loss: 4.8990e-09 - accuracy: 1.0000 - val_loss: 1.4895 - val_accuracy: 0.8919\n",
      "Epoch 77/100\n",
      "120/146 [=======================>......] - ETA: 0s - loss: 5.9605e-09 - accuracy: 1.0000\n",
      "Epoch 00077: val_accuracy did not improve from 0.91892\n",
      "146/146 [==============================] - 0s 603us/sample - loss: 4.8990e-09 - accuracy: 1.0000 - val_loss: 1.4901 - val_accuracy: 0.8919\n",
      "Epoch 78/100\n",
      "120/146 [=======================>......] - ETA: 0s - loss: 3.9736e-09 - accuracy: 1.0000\n",
      "Epoch 00078: val_accuracy did not improve from 0.91892\n",
      "146/146 [==============================] - 0s 596us/sample - loss: 4.8990e-09 - accuracy: 1.0000 - val_loss: 1.4907 - val_accuracy: 0.8919\n",
      "Epoch 79/100\n",
      "110/146 [=====================>........] - ETA: 0s - loss: 6.5023e-09 - accuracy: 1.0000\n",
      "Epoch 00079: val_accuracy did not improve from 0.91892\n",
      "146/146 [==============================] - 0s 613us/sample - loss: 4.8990e-09 - accuracy: 1.0000 - val_loss: 1.4914 - val_accuracy: 0.8919\n",
      "Epoch 80/100\n",
      "110/146 [=====================>........] - ETA: 0s - loss: 6.5023e-09 - accuracy: 1.0000\n",
      "Epoch 00080: val_accuracy did not improve from 0.91892\n",
      "146/146 [==============================] - 0s 606us/sample - loss: 4.8990e-09 - accuracy: 1.0000 - val_loss: 1.4920 - val_accuracy: 0.8919\n",
      "Epoch 81/100\n",
      "110/146 [=====================>........] - ETA: 0s - loss: 0.0000e+00 - accuracy: 1.0000\n",
      "Epoch 00081: val_accuracy did not improve from 0.91892\n",
      "146/146 [==============================] - 0s 602us/sample - loss: 4.0825e-09 - accuracy: 1.0000 - val_loss: 1.4924 - val_accuracy: 0.8919\n",
      "Epoch 82/100\n",
      "120/146 [=======================>......] - ETA: 0s - loss: 1.9868e-09 - accuracy: 1.0000\n",
      "Epoch 00082: val_accuracy did not improve from 0.91892\n",
      "146/146 [==============================] - 0s 613us/sample - loss: 4.0825e-09 - accuracy: 1.0000 - val_loss: 1.4931 - val_accuracy: 0.8919\n",
      "Epoch 83/100\n",
      "120/146 [=======================>......] - ETA: 0s - loss: 4.9671e-09 - accuracy: 1.0000\n",
      "Epoch 00083: val_accuracy did not improve from 0.91892\n",
      "146/146 [==============================] - 0s 593us/sample - loss: 4.0825e-09 - accuracy: 1.0000 - val_loss: 1.4939 - val_accuracy: 0.8919\n",
      "Epoch 84/100\n",
      "110/146 [=====================>........] - ETA: 0s - loss: 5.4186e-09 - accuracy: 1.0000\n",
      "Epoch 00084: val_accuracy did not improve from 0.91892\n",
      "146/146 [==============================] - 0s 604us/sample - loss: 4.0825e-09 - accuracy: 1.0000 - val_loss: 1.4945 - val_accuracy: 0.8919\n",
      "Epoch 85/100\n",
      "110/146 [=====================>........] - ETA: 0s - loss: 5.4186e-09 - accuracy: 1.0000\n",
      "Epoch 00085: val_accuracy did not improve from 0.91892\n",
      "146/146 [==============================] - 0s 612us/sample - loss: 4.0825e-09 - accuracy: 1.0000 - val_loss: 1.4951 - val_accuracy: 0.8919\n",
      "Epoch 86/100\n",
      "120/146 [=======================>......] - ETA: 0s - loss: 0.0000e+00 - accuracy: 1.0000\n",
      "Epoch 00086: val_accuracy did not improve from 0.91892\n",
      "146/146 [==============================] - 0s 607us/sample - loss: 4.0825e-09 - accuracy: 1.0000 - val_loss: 1.4954 - val_accuracy: 0.8919\n",
      "Epoch 87/100\n",
      "110/146 [=====================>........] - ETA: 0s - loss: 5.4186e-09 - accuracy: 1.0000\n",
      "Epoch 00087: val_accuracy did not improve from 0.91892\n",
      "146/146 [==============================] - 0s 606us/sample - loss: 4.0825e-09 - accuracy: 1.0000 - val_loss: 1.4964 - val_accuracy: 0.8919\n",
      "Epoch 88/100\n",
      "110/146 [=====================>........] - ETA: 0s - loss: 2.1674e-09 - accuracy: 1.0000\n",
      "Epoch 00088: val_accuracy did not improve from 0.91892\n",
      "146/146 [==============================] - 0s 623us/sample - loss: 4.0825e-09 - accuracy: 1.0000 - val_loss: 1.4970 - val_accuracy: 0.8919\n",
      "Epoch 89/100\n",
      "110/146 [=====================>........] - ETA: 0s - loss: 3.2512e-09 - accuracy: 1.0000\n",
      "Epoch 00089: val_accuracy did not improve from 0.91892\n",
      "146/146 [==============================] - 0s 617us/sample - loss: 4.0825e-09 - accuracy: 1.0000 - val_loss: 1.4976 - val_accuracy: 0.8919\n",
      "Epoch 90/100\n",
      "110/146 [=====================>........] - ETA: 0s - loss: 5.4186e-09 - accuracy: 1.0000\n",
      "Epoch 00090: val_accuracy did not improve from 0.91892\n",
      "146/146 [==============================] - 0s 615us/sample - loss: 4.0825e-09 - accuracy: 1.0000 - val_loss: 1.4984 - val_accuracy: 0.8919\n",
      "Epoch 91/100\n",
      "110/146 [=====================>........] - ETA: 0s - loss: 2.1674e-09 - accuracy: 1.0000\n",
      "Epoch 00091: val_accuracy did not improve from 0.91892\n",
      "146/146 [==============================] - 0s 608us/sample - loss: 4.0825e-09 - accuracy: 1.0000 - val_loss: 1.4989 - val_accuracy: 0.8919\n",
      "Epoch 92/100\n",
      "120/146 [=======================>......] - ETA: 0s - loss: 4.9671e-09 - accuracy: 1.0000\n",
      "Epoch 00092: val_accuracy did not improve from 0.91892\n",
      "146/146 [==============================] - 0s 603us/sample - loss: 4.0825e-09 - accuracy: 1.0000 - val_loss: 1.4994 - val_accuracy: 0.8919\n",
      "Epoch 93/100\n",
      "110/146 [=====================>........] - ETA: 0s - loss: 2.1674e-09 - accuracy: 1.0000\n",
      "Epoch 00093: val_accuracy did not improve from 0.91892\n",
      "146/146 [==============================] - 0s 624us/sample - loss: 4.0825e-09 - accuracy: 1.0000 - val_loss: 1.4999 - val_accuracy: 0.8919\n",
      "Epoch 94/100\n",
      "120/146 [=======================>......] - ETA: 0s - loss: 4.9671e-09 - accuracy: 1.0000\n",
      "Epoch 00094: val_accuracy did not improve from 0.91892\n",
      "146/146 [==============================] - 0s 612us/sample - loss: 4.0825e-09 - accuracy: 1.0000 - val_loss: 1.5006 - val_accuracy: 0.8919\n",
      "Epoch 95/100\n",
      "110/146 [=====================>........] - ETA: 0s - loss: 3.2512e-09 - accuracy: 1.0000\n",
      "Epoch 00095: val_accuracy did not improve from 0.91892\n",
      "146/146 [==============================] - 0s 608us/sample - loss: 4.0825e-09 - accuracy: 1.0000 - val_loss: 1.5011 - val_accuracy: 0.8919\n",
      "Epoch 96/100\n",
      "120/146 [=======================>......] - ETA: 0s - loss: 2.9802e-09 - accuracy: 1.0000\n",
      "Epoch 00096: val_accuracy did not improve from 0.91892\n",
      "146/146 [==============================] - 0s 597us/sample - loss: 4.0825e-09 - accuracy: 1.0000 - val_loss: 1.5017 - val_accuracy: 0.8919\n",
      "Epoch 97/100\n",
      "110/146 [=====================>........] - ETA: 0s - loss: 2.1674e-09 - accuracy: 1.0000\n",
      "Epoch 00097: val_accuracy did not improve from 0.91892\n",
      "146/146 [==============================] - 0s 618us/sample - loss: 4.0825e-09 - accuracy: 1.0000 - val_loss: 1.5027 - val_accuracy: 0.8919\n",
      "Epoch 98/100\n",
      "110/146 [=====================>........] - ETA: 0s - loss: 5.4186e-09 - accuracy: 1.0000\n",
      "Epoch 00098: val_accuracy did not improve from 0.91892\n",
      "146/146 [==============================] - 0s 619us/sample - loss: 4.0825e-09 - accuracy: 1.0000 - val_loss: 1.5034 - val_accuracy: 0.8919\n",
      "Epoch 99/100\n",
      "110/146 [=====================>........] - ETA: 0s - loss: 5.4186e-09 - accuracy: 1.0000\n",
      "Epoch 00099: val_accuracy did not improve from 0.91892\n",
      "146/146 [==============================] - 0s 637us/sample - loss: 4.0825e-09 - accuracy: 1.0000 - val_loss: 1.5041 - val_accuracy: 0.8919\n",
      "Epoch 100/100\n",
      "110/146 [=====================>........] - ETA: 0s - loss: 5.4186e-09 - accuracy: 1.0000\n",
      "Epoch 00100: val_accuracy did not improve from 0.91892\n",
      "146/146 [==============================] - 0s 599us/sample - loss: 4.0825e-09 - accuracy: 1.0000 - val_loss: 1.5047 - val_accuracy: 0.8919\n",
      "Training completed in time:  0:00:10.184907\n"
     ]
    }
   ],
   "source": [
    "# train model\n",
    "num_epochs = 100\n",
    "num_batch_size = 10\n",
    "\n",
    "os.makedirs('models', exist_ok=True)\n",
    "callbacks = [\n",
    "    ModelCheckpoint(\n",
    "        filepath='models/' + MODEL_NAME + '_{epoch:02d}.h5',\n",
    "        # Path where to save the model\n",
    "        # The two parameters below mean that we will overwrite\n",
    "        # the current checkpoint if and only if\n",
    "        # the `val_accuracy` score has improved.\n",
    "        save_best_only=True,\n",
    "        monitor='val_accuracy',\n",
    "        verbose=1)\n",
    "]\n",
    "start = datetime.now()\n",
    "\n",
    "history = model.fit(x_train, y_train, batch_size=num_batch_size, epochs=num_epochs,\n",
    "                    validation_data=(x_val, y_val), callbacks=callbacks, verbose=1)\n",
    "\n",
    "\n",
    "duration = datetime.now() - start\n",
    "print(\"Training completed in time: \", duration)"
   ]
  },
  {
   "cell_type": "markdown",
   "metadata": {},
   "source": [
    "**Plot accuracies and losses**"
   ]
  },
  {
   "cell_type": "code",
   "execution_count": 24,
   "metadata": {},
   "outputs": [
    {
     "data": {
      "image/png": "[encoded data removed]",
      "text/plain": [
       "<Figure size 432x288 with 1 Axes>"
      ]
     },
     "metadata": {
      "needs_background": "light"
     },
     "output_type": "display_data"
    },
    {
     "data": {
      "image/png": "[encoded data removed]",
      "text/plain": [
       "<Figure size 432x288 with 1 Axes>"
      ]
     },
     "metadata": {
      "needs_background": "light"
     },
     "output_type": "display_data"
    }
   ],
   "source": [
    "# Plot training & validation accuracy values\n",
    "plt.plot(history.history['accuracy'])\n",
    "plt.plot(history.history['val_accuracy'])\n",
    "plt.title('Model accuracy')\n",
    "plt.ylabel('Accuracy')\n",
    "plt.xlabel('Epoch')\n",
    "plt.legend(['Train', 'Test'], loc='upper left')\n",
    "plt.show()\n",
    "\n",
    "# Plot training & validation loss values\n",
    "plt.plot(history.history['loss'])\n",
    "plt.plot(history.history['val_loss'])\n",
    "plt.title('Model loss')\n",
    "plt.ylabel('Loss')\n",
    "plt.xlabel('Epoch')\n",
    "plt.legend(['Train', 'Test'], loc='upper left')\n",
    "plt.show()"
   ]
  },
  {
   "cell_type": "markdown",
   "metadata": {
    "colab_type": "text",
    "id": "diDQglrhSR1n"
   },
   "source": [
    "## Teste"
   ]
  },
  {
   "cell_type": "code",
   "execution_count": 25,
   "metadata": {
    "colab": {
     "base_uri": "https://localhost:8080/",
     "height": 54
    },
    "colab_type": "code",
    "id": "Qyg7uylzSR1p",
    "outputId": "4b953e0d-5437-422d-cbc5-6b19a29879f4"
   },
   "outputs": [
    {
     "name": "stdout",
     "output_type": "stream",
     "text": [
      "Training Accuracy:  1.0\n",
      "Testing Accuracy:  0.6060606\n"
     ]
    }
   ],
   "source": [
    "# Evaluating the model on the training and testing set\n",
    "score = model.evaluate(x_train, y_train, verbose=0)\n",
    "print(\"Training Accuracy: \", score[1])\n",
    "\n",
    "score = model.evaluate(x_test, y_test, verbose=0)\n",
    "print(\"Testing Accuracy: \", score[1])"
   ]
  },
  {
   "cell_type": "code",
   "execution_count": 26,
   "metadata": {
    "colab": {},
    "colab_type": "code",
    "id": "KnzqoZRbSR1v"
   },
   "outputs": [],
   "source": [
    "preds = model.predict(x_test) # label scores \n",
    "\n",
    "classpreds = np.argmax(preds, axis=1) # predicted classes \n",
    "\n",
    "y_testclass = np.argmax(y_test, axis=1) # true classes\n",
    "\n",
    "n_classes=2 # number of classes"
   ]
  },
  {
   "cell_type": "code",
   "execution_count": 27,
   "metadata": {
    "colab": {},
    "colab_type": "code",
    "id": "EMrG8FeJSR14"
   },
   "outputs": [],
   "source": [
    "# Compute ROC curve and ROC area for each class\n",
    "fpr = dict()\n",
    "tpr = dict()\n",
    "roc_auc = dict()\n",
    "for i in range(n_classes):\n",
    "    fpr[i], tpr[i], _ = roc_curve(y_test[:, i], preds[:, i])\n",
    "    roc_auc[i] = auc(fpr[i], tpr[i])"
   ]
  },
  {
   "cell_type": "code",
   "execution_count": 28,
   "metadata": {
    "colab": {},
    "colab_type": "code",
    "id": "oOZSWEULSR17"
   },
   "outputs": [],
   "source": [
    "c_names = ['Bronchiectasis', 'Bronchiolitis', 'COPD', 'Healthy', 'Pneumonia', 'URTI']\n",
    "c_names = ['Healthy', 'Pneumonia']"
   ]
  },
  {
   "cell_type": "code",
   "execution_count": 29,
   "metadata": {
    "colab": {
     "base_uri": "https://localhost:8080/",
     "height": 851
    },
    "colab_type": "code",
    "id": "HY5qEVRrSR2A",
    "outputId": "9c5341de-bbdf-4c87-c999-82ee08ddd1fb"
   },
   "outputs": [
    {
     "data": {
      "image/png": "[encoded data removed]",
      "text/plain": [
       "<Figure size 1152x720 with 1 Axes>"
      ]
     },
     "metadata": {
      "needs_background": "light"
     },
     "output_type": "display_data"
    }
   ],
   "source": [
    "# Plot ROC curves\n",
    "fig, ax = plt.subplots(figsize=(16, 10))\n",
    "ax.plot([0, 1], [0, 1], 'k--')\n",
    "ax.set_xlim([0.0, 1.0])\n",
    "ax.set_ylim([0.0, 1.05])\n",
    "ax.set_xlabel('False Positive Rate')\n",
    "ax.set_ylabel('True Positive Rate')\n",
    "ax.set_title('ROC Curve for Each Class')\n",
    "for i in range(n_classes):\n",
    "    ax.plot(fpr[i], tpr[i], linewidth=3, label='ROC curve (area = %0.2f) for %s' % (roc_auc[i], c_names[i]))\n",
    "ax.legend(loc=\"best\", fontsize='x-large')\n",
    "ax.grid(alpha=.4)\n",
    "sns.despine()\n",
    "plt.show()"
   ]
  },
  {
   "cell_type": "code",
   "execution_count": 30,
   "metadata": {
    "colab": {
     "base_uri": "https://localhost:8080/",
     "height": 240
    },
    "colab_type": "code",
    "id": "qlQ12gHQSR2D",
    "outputId": "42af0b0e-037c-4177-a382-aff8a8550509"
   },
   "outputs": [
    {
     "name": "stdout",
     "output_type": "stream",
     "text": [
      "              precision    recall  f1-score   support\n",
      "\n",
      "     Healthy       0.39      0.78      0.52         9\n",
      "   Pneumonia       0.87      0.54      0.67        24\n",
      "\n",
      "    accuracy                           0.61        33\n",
      "   macro avg       0.63      0.66      0.59        33\n",
      "weighted avg       0.74      0.61      0.63        33\n",
      "\n"
     ]
    }
   ],
   "source": [
    "# Classification Report\n",
    "print(classification_report(y_testclass, classpreds, target_names=c_names))"
   ]
  },
  {
   "cell_type": "code",
   "execution_count": 31,
   "metadata": {
    "colab": {
     "base_uri": "https://localhost:8080/",
     "height": 128
    },
    "colab_type": "code",
    "id": "jGzk3U9kSR2G",
    "outputId": "cd147c90-fc8e-47c5-9cd0-6e3e224b3def"
   },
   "outputs": [
    {
     "name": "stdout",
     "output_type": "stream",
     "text": [
      "[[ 7  2]\n",
      " [11 13]]\n"
     ]
    }
   ],
   "source": [
    "# Confusion Matrix\n",
    "print(confusion_matrix(y_testclass, classpreds))"
   ]
  },
  {
   "cell_type": "code",
   "execution_count": 32,
   "metadata": {},
   "outputs": [],
   "source": [
    "import itertools\n",
    "def plot_confusion_matrix(cm, unique_labels, show=True, output=None,\n",
    "                          title='Confusion matrix', cmap=plt.cm.Oranges):\n",
    "    plt.imshow(cm, interpolation='nearest', cmap=cmap)\n",
    "    plt.title(title)\n",
    "    plt.colorbar()\n",
    "    tick_marks = np.arange(cm.shape[1])\n",
    "    plt.xticks(tick_marks, rotation=45)\n",
    "    ax = plt.gca()\n",
    "    ax.set_xticklabels((ax.get_xticks() + 1).astype(str))\n",
    "    plt.yticks(tick_marks)\n",
    "\n",
    "    ax.set_xticklabels(unique_labels)\n",
    "    ax.set_yticklabels(unique_labels)\n",
    "\n",
    "    thresh = cm.max() / 2.\n",
    "    for i, j in itertools.product(range(cm.shape[0]), range(cm.shape[1])):\n",
    "        plt.text(j, i, format(cm[i, j], '.1f'),\n",
    "                 horizontalalignment=\"center\",\n",
    "                 color=\"white\" if cm[i, j] > thresh else \"black\")\n",
    "\n",
    "    plt.tight_layout()\n",
    "    plt.ylabel('True label')\n",
    "    plt.xlabel('Predicted label')\n",
    "    if show:\n",
    "        plt.show()\n",
    "    if output is not None:\n",
    "        plt.savefig(output)\n",
    "    plt.close()\n",
    "    return output\n"
   ]
  },
  {
   "cell_type": "code",
   "execution_count": 33,
   "metadata": {},
   "outputs": [
    {
     "data": {
      "image/png": "[encoded data removed]",
      "text/plain": [
       "<Figure size 432x288 with 2 Axes>"
      ]
     },
     "metadata": {
      "needs_background": "light"
     },
     "output_type": "display_data"
    }
   ],
   "source": [
    "plot_confusion_matrix(confusion_matrix(y_testclass, classpreds), unique_labels=[\"Healthy\", \"Pneumonia\"])"
   ]
  },
  {
   "cell_type": "code",
   "execution_count": null,
   "metadata": {},
   "outputs": [],
   "source": []
  }
 ],
 "metadata": {
  "accelerator": "GPU",
  "colab": {
   "collapsed_sections": [],
   "name": "Corona-Disease Classification by CNN using MFCC.ipynb",
   "provenance": []
  },
  "kernelspec": {
   "display_name": "Python 3",
   "language": "python",
   "name": "python3"
  },
  "language_info": {
   "codemirror_mode": {
    "name": "ipython",
    "version": 3
   },
   "file_extension": ".py",
   "mimetype": "text/x-python",
   "name": "python",
   "nbconvert_exporter": "python",
   "pygments_lexer": "ipython3",
   "version": "3.7.7"
  }
 },
 "nbformat": 4,
 "nbformat_minor": 4
}
