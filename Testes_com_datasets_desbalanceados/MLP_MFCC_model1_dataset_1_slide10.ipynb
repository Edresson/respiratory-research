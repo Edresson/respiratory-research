{
 "cells": [
  {
   "cell_type": "markdown",
   "metadata": {
    "colab": {
     "base_uri": "https://localhost:8080/",
     "height": 1000
    },
    "colab_type": "code",
    "id": "DtXp3DMyU4u2",
    "outputId": "9a02581f-ebc9-4307-c524-f915fc001341"
   },
   "source": [
    "# Rede MLP - Modelo 1\n",
    "\n",
    "## Dataset Respiratory_Sound_Database_Pneumo_Healthy_Only - Dataset 1 - slide10"
   ]
  },
  {
   "cell_type": "code",
   "execution_count": 1,
   "metadata": {
    "_cell_guid": "79c7e3d0-c299-4dcb-8224-4455121ee9b0",
    "_uuid": "d629ff2d2480ee46fbb7e2d37f6b5fab8052498a",
    "colab": {},
    "colab_type": "code",
    "id": "sxUgP6_bSR0C"
   },
   "outputs": [],
   "source": [
    "from datetime import datetime\n",
    "from os import listdir\n",
    "from os.path import isfile, join\n",
    "\n",
    "import os\n",
    "import librosa\n",
    "import librosa.display\n",
    "import glob\n",
    "\n",
    "import numpy as np\n",
    "import pandas as pd\n",
    "\n",
    "from tensorflow.keras.models import Sequential\n",
    "from tensorflow.keras.layers import Dense, Dropout, Conv2D, MaxPooling2D, GlobalAveragePooling2D\n",
    "from tensorflow.keras.utils import to_categorical\n",
    "from tensorflow.keras.callbacks import ModelCheckpoint\n",
    "\n",
    "from sklearn.metrics import confusion_matrix, classification_report, roc_curve, auc\n",
    "from sklearn.model_selection import train_test_split\n",
    "from sklearn.preprocessing import LabelEncoder\n",
    "\n",
    "import matplotlib.pyplot as plt\n",
    "import seaborn as sns"
   ]
  },
  {
   "cell_type": "code",
   "execution_count": 2,
   "metadata": {},
   "outputs": [
    {
     "name": "stdout",
     "output_type": "stream",
     "text": [
      "1 Physical GPUs, 1 Logical GPUs\n"
     ]
    }
   ],
   "source": [
    "# Necessário na minha máquina. Estava ocorrendo um erro devido à GPU e esse código resolveu.\n",
    "import tensorflow as tf\n",
    "gpus = tf.config.experimental.list_physical_devices('GPU')\n",
    "if gpus:\n",
    "    try:\n",
    "        # Currently, memory growth needs to be the same across GPUs\n",
    "        for gpu in gpus:\n",
    "            tf.config.experimental.set_memory_growth(gpu, True)\n",
    "        logical_gpus = tf.config.experimental.list_logical_devices('GPU')\n",
    "        print(len(gpus), \"Physical GPUs,\", len(logical_gpus), \"Logical GPUs\")\n",
    "    except RuntimeError as e:\n",
    "        # Memory growth must be set before GPUs have been initialized\n",
    "        print(e)"
   ]
  },
  {
   "cell_type": "code",
   "execution_count": 3,
   "metadata": {},
   "outputs": [],
   "source": [
    "GROUP_TRAIN = 'slide10'\n",
    "GROUP_TEST = 'slide10'\n",
    "DATASET = 'dataset_1'\n",
    "DURATION = 10\n",
    "SIZE = 431\n",
    "CSV_TRAIN = 'train1.csv'\n",
    "CSV_TEST = 'test1.csv'\n",
    "MODEL_NAME = f'MLP1_{DATASET}_{GROUP_TRAIN}'"
   ]
  },
  {
   "cell_type": "code",
   "execution_count": 4,
   "metadata": {
    "colab": {},
    "colab_type": "code",
    "id": "mMb5_PxwSR0N"
   },
   "outputs": [],
   "source": [
    "train_file_paths = glob.glob(f'../datasets/{DATASET}/{GROUP_TRAIN}/train/**/*.wav', recursive=True)\n",
    "train_file_names = [os.path.splitext(os.path.basename(p))[0] for p in train_file_paths]\n",
    "\n",
    "test_file_paths = glob.glob(f'../datasets/{DATASET}/{GROUP_TEST}/test/**/*.wav', recursive=True)\n",
    "test_file_names = [os.path.splitext(os.path.basename(p))[0] for p in test_file_paths]"
   ]
  },
  {
   "cell_type": "code",
   "execution_count": 5,
   "metadata": {
    "colab": {},
    "colab_type": "code",
    "id": "wTf5HxHzSR0U"
   },
   "outputs": [],
   "source": [
    "train_p_id_in_file = [] # patient IDs corresponding to each file\n",
    "test_p_id_in_file = [] # patient IDs corresponding to each file\n",
    "for name in train_file_names:\n",
    "    train_p_id_in_file.append(int(name[:3]))\n",
    "\n",
    "for name in test_file_names:\n",
    "    test_p_id_in_file.append(int(name[:3]))\n",
    "\n",
    "train_p_id_in_file = np.array(train_p_id_in_file)\n",
    "test_p_id_in_file = np.array(test_p_id_in_file) "
   ]
  },
  {
   "cell_type": "code",
   "execution_count": 6,
   "metadata": {
    "colab": {},
    "colab_type": "code",
    "id": "UbK7vc1kSR0c"
   },
   "outputs": [],
   "source": [
    "max_pad_len = SIZE\n",
    "\n",
    "os.makedirs(\"features/\", exist_ok=True)\n",
    "\n",
    "def extract_features(file_name):\n",
    "    \"\"\"\n",
    "    This function takes in the path for an audio file as a string, loads it, and returns the MFCC\n",
    "    of the audio\"\"\"\n",
    "    feature = os.path.splitext(os.path.basename(file_name))[0] + \".npy\"\n",
    "#     if (os.path.isfile(os.path.join(\"./Respiratory_Sound_Database/features/\", feature))):\n",
    "#         return np.load(os.path.join(\"./Respiratory_Sound_Database/features/\", feature))\n",
    "    \n",
    "    try:\n",
    "        audio, sample_rate = librosa.load(file_name, res_type='kaiser_fast', duration=DURATION) \n",
    "        mfccs = librosa.feature.mfcc(y=audio, sr=sample_rate, n_mfcc=40)\n",
    "        pad_width = max_pad_len - mfccs.shape[1]\n",
    "        mfccs = np.pad(mfccs, pad_width=((0, 0), (0, pad_width)), mode='constant')\n",
    "        \n",
    "    except Exception as e:\n",
    "        print(\"Error encountered while parsing file: \", file_name)\n",
    "        return None \n",
    "    np.save(os.path.join(\"./features/\", feature), mfccs)\n",
    "    return mfccs"
   ]
  },
  {
   "cell_type": "code",
   "execution_count": 7,
   "metadata": {
    "colab": {},
    "colab_type": "code",
    "id": "xkBHJzJDSR0h"
   },
   "outputs": [],
   "source": [
    "#filepaths = [join(mypath, f) for f in filenames] # full paths of files"
   ]
  },
  {
   "cell_type": "code",
   "execution_count": 8,
   "metadata": {
    "colab": {},
    "colab_type": "code",
    "id": "UQjbbn7MSR0n"
   },
   "outputs": [
    {
     "data": {
      "text/html": [
       "<div>\n",
       "<style scoped>\n",
       "    .dataframe tbody tr th:only-of-type {\n",
       "        vertical-align: middle;\n",
       "    }\n",
       "\n",
       "    .dataframe tbody tr th {\n",
       "        vertical-align: top;\n",
       "    }\n",
       "\n",
       "    .dataframe thead th {\n",
       "        text-align: right;\n",
       "    }\n",
       "</style>\n",
       "<table border=\"1\" class=\"dataframe\">\n",
       "  <thead>\n",
       "    <tr style=\"text-align: right;\">\n",
       "      <th></th>\n",
       "      <th>0</th>\n",
       "      <th>1</th>\n",
       "    </tr>\n",
       "  </thead>\n",
       "  <tbody>\n",
       "    <tr>\n",
       "      <th>0</th>\n",
       "      <td>102</td>\n",
       "      <td>Healthy</td>\n",
       "    </tr>\n",
       "    <tr>\n",
       "      <th>1</th>\n",
       "      <td>121</td>\n",
       "      <td>Healthy</td>\n",
       "    </tr>\n",
       "    <tr>\n",
       "      <th>2</th>\n",
       "      <td>123</td>\n",
       "      <td>Healthy</td>\n",
       "    </tr>\n",
       "    <tr>\n",
       "      <th>3</th>\n",
       "      <td>125</td>\n",
       "      <td>Healthy</td>\n",
       "    </tr>\n",
       "    <tr>\n",
       "      <th>4</th>\n",
       "      <td>126</td>\n",
       "      <td>Healthy</td>\n",
       "    </tr>\n",
       "  </tbody>\n",
       "</table>\n",
       "</div>"
      ],
      "text/plain": [
       "     0        1\n",
       "0  102  Healthy\n",
       "1  121  Healthy\n",
       "2  123  Healthy\n",
       "3  125  Healthy\n",
       "4  126  Healthy"
      ]
     },
     "execution_count": 8,
     "metadata": {},
     "output_type": "execute_result"
    }
   ],
   "source": [
    "train_p_diag = pd.read_csv(f\"../Respiratory_Sound_Database/Respiratory_Sound_Database_Pneumo_Healthy_Only/{CSV_TRAIN}\", header=None) # patient diagnosis file\n",
    "test_p_diag = pd.read_csv(f\"../Respiratory_Sound_Database/Respiratory_Sound_Database_Pneumo_Healthy_Only/{CSV_TEST}\", header=None) # patient diagnosis file\n",
    "train_p_diag.head(5)"
   ]
  },
  {
   "cell_type": "code",
   "execution_count": 9,
   "metadata": {
    "colab": {},
    "colab_type": "code",
    "id": "yskEMhphSR0s"
   },
   "outputs": [],
   "source": [
    "train_labels = np.array([train_p_diag[train_p_diag[0] == x][1].values[0] for x in train_p_id_in_file]) \n",
    "test_labels = np.array([test_p_diag[test_p_diag[0] == x][1].values[0] for x in test_p_id_in_file]) "
   ]
  },
  {
   "cell_type": "code",
   "execution_count": 10,
   "metadata": {
    "colab": {
     "base_uri": "https://localhost:8080/",
     "height": 35
    },
    "colab_type": "code",
    "id": "yIlzZ5gRSR0w",
    "outputId": "e42143d5-d247-457f-c891-0c714e51cb05"
   },
   "outputs": [
    {
     "name": "stdout",
     "output_type": "stream",
     "text": [
      "Finished feature extraction from  976  files\n"
     ]
    }
   ],
   "source": [
    "train_features = [] \n",
    "test_features = []\n",
    "\n",
    "for file_name in train_file_paths:\n",
    "    data = extract_features(file_name)\n",
    "    train_features.append(data)\n",
    "\n",
    "for file_name in test_file_paths:\n",
    "    data = extract_features(file_name)\n",
    "    test_features.append(data)\n",
    "\n",
    "print('Finished feature extraction from ', (len(train_features)+len(train_features)), ' files')\n",
    "train_features = np.array(train_features)\n",
    "test_features = np.array(test_features)"
   ]
  },
  {
   "cell_type": "code",
   "execution_count": 11,
   "metadata": {
    "colab": {
     "base_uri": "https://localhost:8080/",
     "height": 297
    },
    "colab_type": "code",
    "id": "aPWfXalkSR00",
    "outputId": "0741865f-420e-4c29-8cb1-42b0fe8302cb"
   },
   "outputs": [
    {
     "data": {
      "image/png": "[encoded data removed]",
      "text/plain": [
       "<Figure size 720x288 with 2 Axes>"
      ]
     },
     "metadata": {
      "needs_background": "light"
     },
     "output_type": "display_data"
    }
   ],
   "source": [
    "# plot an MFCC\n",
    "plt.figure(figsize=(10, 4))\n",
    "librosa.display.specshow(train_features[7], x_axis='time')\n",
    "plt.colorbar()\n",
    "plt.title('MFCC')\n",
    "plt.tight_layout()\n",
    "plt.show()"
   ]
  },
  {
   "cell_type": "code",
   "execution_count": 12,
   "metadata": {},
   "outputs": [
    {
     "data": {
      "text/plain": [
       "array(['Healthy', 'Pneumonia'], dtype='<U9')"
      ]
     },
     "execution_count": 12,
     "metadata": {},
     "output_type": "execute_result"
    }
   ],
   "source": [
    "np.unique(train_labels)"
   ]
  },
  {
   "cell_type": "code",
   "execution_count": 13,
   "metadata": {
    "colab": {
     "base_uri": "https://localhost:8080/",
     "height": 54
    },
    "colab_type": "code",
    "id": "YAHg4HTzSR1C",
    "outputId": "be27b27d-3389-4d26-b8ee-d795b2259a5f"
   },
   "outputs": [
    {
     "name": "stdout",
     "output_type": "stream",
     "text": [
      "[['Healthy' 'Pneumonia']\n",
      " ['256' '232']]\n",
      "[['Healthy' 'Pneumonia']\n",
      " ['24' '64']]\n"
     ]
    }
   ],
   "source": [
    "unique_elements, counts_elements = np.unique(train_labels, return_counts=True)\n",
    "print(np.asarray((unique_elements, counts_elements)))\n",
    "\n",
    "unique_elements_test, counts_elements_test = np.unique(test_labels, return_counts=True)\n",
    "print(np.asarray((unique_elements_test, counts_elements_test)))"
   ]
  },
  {
   "cell_type": "code",
   "execution_count": 14,
   "metadata": {
    "colab": {
     "base_uri": "https://localhost:8080/",
     "height": 513
    },
    "colab_type": "code",
    "id": "mtNpDgBOSR1G",
    "outputId": "0f7584a0-d821-4196-c22f-3847fa3031b6"
   },
   "outputs": [
    {
     "data": {
      "image/png": "[encoded data removed]",
      "text/plain": [
       "<Figure size 864x576 with 1 Axes>"
      ]
     },
     "metadata": {
      "needs_background": "light"
     },
     "output_type": "display_data"
    }
   ],
   "source": [
    "# plot class counts\n",
    "y_pos = np.arange(len(unique_elements))\n",
    "plt.figure(figsize=(12,8))\n",
    "plt.bar(unique_elements, counts_elements, align='center', alpha=0.5)\n",
    "plt.xticks(y_pos, unique_elements)\n",
    "plt.ylabel('Count')\n",
    "plt.xlabel('Disease')\n",
    "plt.title('Disease Count in Sound Files (No Asthma or LRTI)')\n",
    "plt.show()"
   ]
  },
  {
   "cell_type": "code",
   "execution_count": 15,
   "metadata": {
    "colab": {},
    "colab_type": "code",
    "id": "WtqGtxmPSR1K"
   },
   "outputs": [],
   "source": [
    "# One-hot encode labels\n",
    "le = LabelEncoder()\n",
    "le.fit(train_labels)\n",
    "train_labels_cat = to_categorical(le.transform(train_labels)) \n",
    "test_labels_cat = to_categorical(le.transform(test_labels)) "
   ]
  },
  {
   "cell_type": "code",
   "execution_count": 16,
   "metadata": {},
   "outputs": [
    {
     "data": {
      "text/plain": [
       "(488, 40, 431)"
      ]
     },
     "execution_count": 16,
     "metadata": {},
     "output_type": "execute_result"
    }
   ],
   "source": [
    "train_features.shape"
   ]
  },
  {
   "cell_type": "code",
   "execution_count": 17,
   "metadata": {},
   "outputs": [],
   "source": [
    "input_dim = train_features.shape[1]*train_features.shape[2]"
   ]
  },
  {
   "cell_type": "code",
   "execution_count": 18,
   "metadata": {
    "colab": {},
    "colab_type": "code",
    "id": "MgH8aGqeSR1P"
   },
   "outputs": [
    {
     "name": "stdout",
     "output_type": "stream",
     "text": [
      "(488, 17240) (488, 2)\n",
      "(88, 17240) (88, 2)\n"
     ]
    }
   ],
   "source": [
    "train_features = np.reshape(train_features, (train_features.shape[0], input_dim))\n",
    "print(train_features.shape, train_labels_cat.shape)\n",
    "test_features = np.reshape(test_features, (test_features.shape[0], input_dim))\n",
    "print(test_features.shape, test_labels_cat.shape)"
   ]
  },
  {
   "cell_type": "code",
   "execution_count": 19,
   "metadata": {
    "colab": {},
    "colab_type": "code",
    "id": "xFPaVmUESR1T"
   },
   "outputs": [],
   "source": [
    "# train test split\n",
    "x_train, x_val, y_train, y_val = train_test_split(train_features, train_labels_cat, test_size=0.2, random_state = 42)\n",
    "x_test, y_test = test_features, test_labels_cat"
   ]
  },
  {
   "cell_type": "markdown",
   "metadata": {
    "colab_type": "text",
    "id": "SN1ipKhfSR1X"
   },
   "source": [
    "**MLP model architecture**"
   ]
  },
  {
   "cell_type": "code",
   "execution_count": 20,
   "metadata": {
    "colab": {},
    "colab_type": "code",
    "id": "oZ5PcMOrcV1B"
   },
   "outputs": [],
   "source": [
    "num_labels = train_labels_cat.shape[1]\n",
    "# Construct model \n",
    "model = Sequential()\n",
    "model.add(Dense(500, input_dim=input_dim, activation='relu'))\n",
    "# model.add(Dropout(0.2))\n",
    "\n",
    "model.add(Dense(500, activation='relu'))\n",
    "# model.add(Dropout(0.2))\n",
    "\n",
    "model.add(Dense(500, activation='relu'))\n",
    "# model.add(Dropout(0.2))\n",
    "\n",
    "model.add(Dense(500, activation='relu'))\n",
    "# model.add(Dropout(0.2))\n",
    "\n",
    "model.add(Dense(500, activation='relu'))\n",
    "# model.add(Dropout(0.2))\n",
    "\n",
    "model.add(Dense(500, activation='relu'))\n",
    "# model.add(Dropout(0.2))\n",
    "\n",
    "model.add(Dense(500, activation='relu'))\n",
    "# model.add(Dropout(0.2))\n",
    "\n",
    "model.add(Dense(500, activation='relu'))\n",
    "# model.add(Dropout(0.2))\n",
    "\n",
    "model.add(Dense(num_labels, activation='softmax')) "
   ]
  },
  {
   "cell_type": "code",
   "execution_count": 21,
   "metadata": {
    "colab": {},
    "colab_type": "code",
    "id": "VcSipiVsSR1c"
   },
   "outputs": [],
   "source": [
    "# Compile the model\n",
    "model.compile(loss='categorical_crossentropy', metrics=['accuracy'], optimizer='adam') "
   ]
  },
  {
   "cell_type": "code",
   "execution_count": 22,
   "metadata": {
    "colab": {
     "base_uri": "https://localhost:8080/",
     "height": 719
    },
    "colab_type": "code",
    "id": "UvvyonaaSR1h",
    "outputId": "9c2154c5-f927-4c3d-e89e-951ba479c079"
   },
   "outputs": [
    {
     "name": "stdout",
     "output_type": "stream",
     "text": [
      "Model: \"sequential\"\n",
      "_________________________________________________________________\n",
      "Layer (type)                 Output Shape              Param #   \n",
      "=================================================================\n",
      "dense (Dense)                (None, 500)               8620500   \n",
      "_________________________________________________________________\n",
      "dense_1 (Dense)              (None, 500)               250500    \n",
      "_________________________________________________________________\n",
      "dense_2 (Dense)              (None, 500)               250500    \n",
      "_________________________________________________________________\n",
      "dense_3 (Dense)              (None, 500)               250500    \n",
      "_________________________________________________________________\n",
      "dense_4 (Dense)              (None, 500)               250500    \n",
      "_________________________________________________________________\n",
      "dense_5 (Dense)              (None, 500)               250500    \n",
      "_________________________________________________________________\n",
      "dense_6 (Dense)              (None, 500)               250500    \n",
      "_________________________________________________________________\n",
      "dense_7 (Dense)              (None, 500)               250500    \n",
      "_________________________________________________________________\n",
      "dense_8 (Dense)              (None, 2)                 1002      \n",
      "=================================================================\n",
      "Total params: 10,375,002\n",
      "Trainable params: 10,375,002\n",
      "Non-trainable params: 0\n",
      "_________________________________________________________________\n",
      "88/88 [==============================] - 0s 3ms/sample - loss: 2.7946 - accuracy: 0.7159\n",
      "Pre-training accuracy: 71.5909%\n"
     ]
    }
   ],
   "source": [
    "# Display model architecture summary \n",
    "model.summary()\n",
    "\n",
    "# Calculate pre-training accuracy \n",
    "score = model.evaluate(x_test, y_test, verbose=1)\n",
    "accuracy = 100*score[1]\n",
    "\n",
    "print(\"Pre-training accuracy: %.4f%%\" % accuracy)"
   ]
  },
  {
   "cell_type": "markdown",
   "metadata": {
    "colab_type": "text",
    "id": "TVtD0mcDSR1j"
   },
   "source": [
    "**Training**\n",
    "\n",
    "Here we will train the model. If we have a trained model, we can load it instead from the next cell."
   ]
  },
  {
   "cell_type": "code",
   "execution_count": 23,
   "metadata": {
    "colab": {
     "base_uri": "https://localhost:8080/",
     "height": 1000
    },
    "colab_type": "code",
    "id": "ruRXrsrhSR1k",
    "outputId": "ec26a26d-ad59-4e89-c88f-6277e4d0c283"
   },
   "outputs": [
    {
     "name": "stdout",
     "output_type": "stream",
     "text": [
      "Train on 390 samples, validate on 98 samples\n",
      "Epoch 1/100\n",
      "330/390 [========================>.....] - ETA: 0s - loss: 19.5915 - accuracy: 0.4939\n",
      "Epoch 00001: val_accuracy improved from -inf to 0.46939, saving model to models/MLP1_dataset_1_slide10_01.h5\n",
      "390/390 [==============================] - 1s 3ms/sample - loss: 16.9492 - accuracy: 0.5077 - val_loss: 1.2841 - val_accuracy: 0.4694\n",
      "Epoch 2/100\n",
      "320/390 [=======================>......] - ETA: 0s - loss: 1.2181 - accuracy: 0.5344\n",
      "Epoch 00002: val_accuracy did not improve from 0.46939\n",
      "390/390 [==============================] - 0s 751us/sample - loss: 1.2143 - accuracy: 0.5205 - val_loss: 0.7678 - val_accuracy: 0.4694\n",
      "Epoch 3/100\n",
      "320/390 [=======================>......] - ETA: 0s - loss: 0.7605 - accuracy: 0.5562\n",
      "Epoch 00003: val_accuracy improved from 0.46939 to 0.77551, saving model to models/MLP1_dataset_1_slide10_03.h5\n",
      "390/390 [==============================] - 1s 2ms/sample - loss: 0.7314 - accuracy: 0.5744 - val_loss: 0.4614 - val_accuracy: 0.7755\n",
      "Epoch 4/100\n",
      "320/390 [=======================>......] - ETA: 0s - loss: 0.5349 - accuracy: 0.7844\n",
      "Epoch 00004: val_accuracy did not improve from 0.77551\n",
      "390/390 [==============================] - 0s 781us/sample - loss: 0.4831 - accuracy: 0.8051 - val_loss: 1.0956 - val_accuracy: 0.6224\n",
      "Epoch 5/100\n",
      "320/390 [=======================>......] - ETA: 0s - loss: 0.3619 - accuracy: 0.8719\n",
      "Epoch 00005: val_accuracy improved from 0.77551 to 0.84694, saving model to models/MLP1_dataset_1_slide10_05.h5\n",
      "390/390 [==============================] - 1s 2ms/sample - loss: 0.3403 - accuracy: 0.8795 - val_loss: 0.3499 - val_accuracy: 0.8469\n",
      "Epoch 6/100\n",
      "320/390 [=======================>......] - ETA: 0s - loss: 0.4125 - accuracy: 0.8562\n",
      "Epoch 00006: val_accuracy improved from 0.84694 to 0.88776, saving model to models/MLP1_dataset_1_slide10_06.h5\n",
      "390/390 [==============================] - 1s 1ms/sample - loss: 0.4231 - accuracy: 0.8564 - val_loss: 0.2329 - val_accuracy: 0.8878\n",
      "Epoch 7/100\n",
      "380/390 [============================>.] - ETA: 0s - loss: 0.2232 - accuracy: 0.9368\n",
      "Epoch 00007: val_accuracy improved from 0.88776 to 0.95918, saving model to models/MLP1_dataset_1_slide10_07.h5\n",
      "390/390 [==============================] - 1s 1ms/sample - loss: 0.2207 - accuracy: 0.9385 - val_loss: 0.1387 - val_accuracy: 0.9592\n",
      "Epoch 8/100\n",
      "320/390 [=======================>......] - ETA: 0s - loss: 0.3334 - accuracy: 0.8969\n",
      "Epoch 00008: val_accuracy did not improve from 0.95918\n",
      "390/390 [==============================] - 0s 774us/sample - loss: 0.5518 - accuracy: 0.8308 - val_loss: 0.5074 - val_accuracy: 0.5714\n",
      "Epoch 9/100\n",
      "320/390 [=======================>......] - ETA: 0s - loss: 0.4662 - accuracy: 0.8094\n",
      "Epoch 00009: val_accuracy did not improve from 0.95918\n",
      "390/390 [==============================] - 0s 810us/sample - loss: 0.5142 - accuracy: 0.8128 - val_loss: 0.1532 - val_accuracy: 0.9388\n",
      "Epoch 10/100\n",
      "360/390 [==========================>...] - ETA: 0s - loss: 0.3462 - accuracy: 0.8722\n",
      "Epoch 00010: val_accuracy did not improve from 0.95918\n",
      "390/390 [==============================] - 0s 856us/sample - loss: 0.3340 - accuracy: 0.8821 - val_loss: 0.1708 - val_accuracy: 0.9592\n",
      "Epoch 11/100\n",
      "380/390 [============================>.] - ETA: 0s - loss: 0.2000 - accuracy: 0.9421\n",
      "Epoch 00011: val_accuracy did not improve from 0.95918\n",
      "390/390 [==============================] - 0s 785us/sample - loss: 0.1949 - accuracy: 0.9436 - val_loss: 0.9805 - val_accuracy: 0.9082\n",
      "Epoch 12/100\n",
      "360/390 [==========================>...] - ETA: 0s - loss: 0.1392 - accuracy: 0.9639\n",
      "Epoch 00012: val_accuracy did not improve from 0.95918\n",
      "390/390 [==============================] - 0s 834us/sample - loss: 0.1512 - accuracy: 0.9564 - val_loss: 0.1230 - val_accuracy: 0.9490\n",
      "Epoch 13/100\n",
      "310/390 [======================>.......] - ETA: 0s - loss: 0.0917 - accuracy: 0.9710\n",
      "Epoch 00013: val_accuracy did not improve from 0.95918\n",
      "390/390 [==============================] - 0s 780us/sample - loss: 0.1650 - accuracy: 0.9462 - val_loss: 0.3965 - val_accuracy: 0.8265\n",
      "Epoch 14/100\n",
      "310/390 [======================>.......] - ETA: 0s - loss: 0.1060 - accuracy: 0.9677\n",
      "Epoch 00014: val_accuracy did not improve from 0.95918\n",
      "390/390 [==============================] - 0s 783us/sample - loss: 0.1258 - accuracy: 0.9564 - val_loss: 0.3063 - val_accuracy: 0.8469\n",
      "Epoch 15/100\n",
      "370/390 [===========================>..] - ETA: 0s - loss: 0.1236 - accuracy: 0.9757\n",
      "Epoch 00015: val_accuracy did not improve from 0.95918\n",
      "390/390 [==============================] - 0s 819us/sample - loss: 0.2247 - accuracy: 0.9513 - val_loss: 0.5431 - val_accuracy: 0.6531\n",
      "Epoch 16/100\n",
      "380/390 [============================>.] - ETA: 0s - loss: 0.1873 - accuracy: 0.9342\n",
      "Epoch 00016: val_accuracy did not improve from 0.95918\n",
      "390/390 [==============================] - 0s 794us/sample - loss: 0.1827 - accuracy: 0.9359 - val_loss: 0.1695 - val_accuracy: 0.9490\n",
      "Epoch 17/100\n",
      "310/390 [======================>.......] - ETA: 0s - loss: 0.1003 - accuracy: 0.9548\n",
      "Epoch 00017: val_accuracy did not improve from 0.95918\n",
      "390/390 [==============================] - 0s 775us/sample - loss: 0.1210 - accuracy: 0.9436 - val_loss: 0.2171 - val_accuracy: 0.8980\n",
      "Epoch 18/100\n",
      "370/390 [===========================>..] - ETA: 0s - loss: 0.0556 - accuracy: 0.9784\n",
      "Epoch 00018: val_accuracy did not improve from 0.95918\n",
      "390/390 [==============================] - 0s 792us/sample - loss: 0.0641 - accuracy: 0.9769 - val_loss: 0.4013 - val_accuracy: 0.8571\n",
      "Epoch 19/100\n",
      "360/390 [==========================>...] - ETA: 0s - loss: 0.1251 - accuracy: 0.9472\n",
      "Epoch 00019: val_accuracy improved from 0.95918 to 0.96939, saving model to models/MLP1_dataset_1_slide10_19.h5\n",
      "390/390 [==============================] - 1s 2ms/sample - loss: 0.1159 - accuracy: 0.9513 - val_loss: 0.0753 - val_accuracy: 0.9694\n",
      "Epoch 20/100\n",
      "380/390 [============================>.] - ETA: 0s - loss: 0.1266 - accuracy: 0.9447\n",
      "Epoch 00020: val_accuracy did not improve from 0.96939\n",
      "390/390 [==============================] - 0s 835us/sample - loss: 0.1293 - accuracy: 0.9410 - val_loss: 0.2447 - val_accuracy: 0.8776\n",
      "Epoch 21/100\n",
      "380/390 [============================>.] - ETA: 0s - loss: 0.0786 - accuracy: 0.9842\n",
      "Epoch 00021: val_accuracy did not improve from 0.96939\n",
      "390/390 [==============================] - 0s 802us/sample - loss: 0.1784 - accuracy: 0.9744 - val_loss: 2.0770 - val_accuracy: 0.7347\n",
      "Epoch 22/100\n",
      "380/390 [============================>.] - ETA: 0s - loss: 2.6912 - accuracy: 0.6605\n",
      "Epoch 00022: val_accuracy did not improve from 0.96939\n",
      "390/390 [==============================] - 0s 810us/sample - loss: 2.6556 - accuracy: 0.6564 - val_loss: 1.3201 - val_accuracy: 0.4694\n",
      "Epoch 23/100\n",
      "320/390 [=======================>......] - ETA: 0s - loss: 0.8442 - accuracy: 0.5375\n",
      "Epoch 00023: val_accuracy did not improve from 0.96939\n",
      "390/390 [==============================] - 0s 780us/sample - loss: 0.8116 - accuracy: 0.5436 - val_loss: 0.6847 - val_accuracy: 0.4694\n",
      "Epoch 24/100\n",
      "350/390 [=========================>....] - ETA: 0s - loss: 0.3500 - accuracy: 0.8429\n",
      "Epoch 00024: val_accuracy did not improve from 0.96939\n",
      "390/390 [==============================] - 0s 857us/sample - loss: 0.4334 - accuracy: 0.8154 - val_loss: 0.3679 - val_accuracy: 0.7959\n",
      "Epoch 25/100\n",
      "310/390 [======================>.......] - ETA: 0s - loss: 0.3648 - accuracy: 0.8968\n",
      "Epoch 00025: val_accuracy did not improve from 0.96939\n",
      "390/390 [==============================] - 0s 774us/sample - loss: 0.4024 - accuracy: 0.8615 - val_loss: 0.6090 - val_accuracy: 0.5816\n",
      "Epoch 26/100\n",
      "380/390 [============================>.] - ETA: 0s - loss: 0.1083 - accuracy: 0.9605\n",
      "Epoch 00026: val_accuracy did not improve from 0.96939\n",
      "390/390 [==============================] - 0s 797us/sample - loss: 0.1070 - accuracy: 0.9615 - val_loss: 0.6418 - val_accuracy: 0.8878\n",
      "Epoch 27/100\n",
      "320/390 [=======================>......] - ETA: 0s - loss: 0.5183 - accuracy: 0.8781\n",
      "Epoch 00027: val_accuracy did not improve from 0.96939\n",
      "390/390 [==============================] - 0s 784us/sample - loss: 0.5067 - accuracy: 0.8769 - val_loss: 0.4856 - val_accuracy: 0.7653\n",
      "Epoch 28/100\n",
      "320/390 [=======================>......] - ETA: 0s - loss: 0.3557 - accuracy: 0.8813\n",
      "Epoch 00028: val_accuracy did not improve from 0.96939\n",
      "390/390 [==============================] - 0s 786us/sample - loss: 0.3796 - accuracy: 0.8538 - val_loss: 0.3401 - val_accuracy: 0.9388\n",
      "Epoch 29/100\n",
      "380/390 [============================>.] - ETA: 0s - loss: 0.3797 - accuracy: 0.9447\n",
      "Epoch 00029: val_accuracy did not improve from 0.96939\n",
      "390/390 [==============================] - 0s 795us/sample - loss: 0.3771 - accuracy: 0.9410 - val_loss: 0.3865 - val_accuracy: 0.7959\n",
      "Epoch 30/100\n",
      "320/390 [=======================>......] - ETA: 0s - loss: 0.2150 - accuracy: 0.9281\n",
      "Epoch 00030: val_accuracy did not improve from 0.96939\n",
      "390/390 [==============================] - 0s 768us/sample - loss: 0.2499 - accuracy: 0.9051 - val_loss: 0.4760 - val_accuracy: 0.7245\n",
      "Epoch 31/100\n",
      "310/390 [======================>.......] - ETA: 0s - loss: 0.1542 - accuracy: 0.9645\n",
      "Epoch 00031: val_accuracy did not improve from 0.96939\n",
      "390/390 [==============================] - 0s 784us/sample - loss: 0.1479 - accuracy: 0.9641 - val_loss: 0.1454 - val_accuracy: 0.9388\n",
      "Epoch 32/100\n",
      "320/390 [=======================>......] - ETA: 0s - loss: 0.1411 - accuracy: 0.9563\n",
      "Epoch 00032: val_accuracy improved from 0.96939 to 0.98980, saving model to models/MLP1_dataset_1_slide10_32.h5\n",
      "390/390 [==============================] - 1s 1ms/sample - loss: 0.1160 - accuracy: 0.9641 - val_loss: 0.1508 - val_accuracy: 0.9898\n",
      "Epoch 33/100\n",
      "310/390 [======================>.......] - ETA: 0s - loss: 0.1826 - accuracy: 0.9419\n",
      "Epoch 00033: val_accuracy did not improve from 0.98980\n",
      "390/390 [==============================] - 0s 783us/sample - loss: 0.2544 - accuracy: 0.8872 - val_loss: 0.2824 - val_accuracy: 0.8673\n",
      "Epoch 34/100\n",
      "380/390 [============================>.] - ETA: 0s - loss: 0.5342 - accuracy: 0.7974\n",
      "Epoch 00034: val_accuracy did not improve from 0.98980\n",
      "390/390 [==============================] - 0s 808us/sample - loss: 0.5206 - accuracy: 0.8026 - val_loss: 0.8588 - val_accuracy: 0.8265\n",
      "Epoch 35/100\n",
      "370/390 [===========================>..] - ETA: 0s - loss: 0.2457 - accuracy: 0.9081\n",
      "Epoch 00035: val_accuracy did not improve from 0.98980\n",
      "390/390 [==============================] - 0s 804us/sample - loss: 0.2331 - accuracy: 0.9128 - val_loss: 0.1502 - val_accuracy: 0.9592\n",
      "Epoch 36/100\n",
      "380/390 [============================>.] - ETA: 0s - loss: 0.2057 - accuracy: 0.9737  \n",
      "Epoch 00036: val_accuracy did not improve from 0.98980\n",
      "390/390 [==============================] - 0s 808us/sample - loss: 0.2106 - accuracy: 0.9692 - val_loss: 0.4179 - val_accuracy: 0.8265\n",
      "Epoch 37/100\n",
      "350/390 [=========================>....] - ETA: 0s - loss: 0.0820 - accuracy: 0.9686\n",
      "Epoch 00037: val_accuracy did not improve from 0.98980\n",
      "390/390 [==============================] - 0s 880us/sample - loss: 0.0753 - accuracy: 0.9718 - val_loss: 0.1751 - val_accuracy: 0.9694\n",
      "Epoch 38/100\n",
      "320/390 [=======================>......] - ETA: 0s - loss: 0.0521 - accuracy: 0.9812\n",
      "Epoch 00038: val_accuracy did not improve from 0.98980\n",
      "390/390 [==============================] - 0s 789us/sample - loss: 0.0477 - accuracy: 0.9821 - val_loss: 0.1462 - val_accuracy: 0.9592\n",
      "Epoch 39/100\n",
      "310/390 [======================>.......] - ETA: 0s - loss: 0.0024 - accuracy: 1.0000\n",
      "Epoch 00039: val_accuracy did not improve from 0.98980\n",
      "390/390 [==============================] - 0s 779us/sample - loss: 0.0043 - accuracy: 1.0000 - val_loss: 0.1435 - val_accuracy: 0.9592\n",
      "Epoch 40/100\n",
      "310/390 [======================>.......] - ETA: 0s - loss: 1.0240e-04 - accuracy: 1.0000\n",
      "Epoch 00040: val_accuracy did not improve from 0.98980\n",
      "390/390 [==============================] - 0s 785us/sample - loss: 0.0225 - accuracy: 0.9923 - val_loss: 1.4642 - val_accuracy: 0.7857\n",
      "Epoch 41/100\n",
      "310/390 [======================>.......] - ETA: 0s - loss: 0.1969 - accuracy: 0.9484\n",
      "Epoch 00041: val_accuracy did not improve from 0.98980\n",
      "390/390 [==============================] - 0s 780us/sample - loss: 0.1568 - accuracy: 0.9590 - val_loss: 0.0740 - val_accuracy: 0.9694\n",
      "Epoch 42/100\n",
      "310/390 [======================>.......] - ETA: 0s - loss: 1.2102e-05 - accuracy: 1.0000\n",
      "Epoch 00042: val_accuracy did not improve from 0.98980\n",
      "390/390 [==============================] - 0s 785us/sample - loss: 9.6250e-06 - accuracy: 1.0000 - val_loss: 0.1060 - val_accuracy: 0.9898\n",
      "Epoch 43/100\n",
      "310/390 [======================>.......] - ETA: 0s - loss: 4.9222e-08 - accuracy: 1.0000\n",
      "Epoch 00043: val_accuracy did not improve from 0.98980\n",
      "390/390 [==============================] - 0s 774us/sample - loss: 4.8906e-08 - accuracy: 1.0000 - val_loss: 0.1077 - val_accuracy: 0.9898\n",
      "Epoch 44/100\n",
      "320/390 [=======================>......] - ETA: 0s - loss: 4.9546e-08 - accuracy: 1.0000\n",
      "Epoch 00044: val_accuracy did not improve from 0.98980\n",
      "390/390 [==============================] - 0s 789us/sample - loss: 4.2793e-08 - accuracy: 1.0000 - val_loss: 0.1088 - val_accuracy: 0.9898\n",
      "Epoch 45/100\n",
      "380/390 [============================>.] - ETA: 0s - loss: 3.9214e-08 - accuracy: 1.0000\n",
      "Epoch 00045: val_accuracy did not improve from 0.98980\n",
      "390/390 [==============================] - 0s 811us/sample - loss: 3.8208e-08 - accuracy: 1.0000 - val_loss: 0.1097 - val_accuracy: 0.9898\n",
      "Epoch 46/100\n",
      "320/390 [=======================>......] - ETA: 0s - loss: 2.5704e-08 - accuracy: 1.0000\n",
      "Epoch 00046: val_accuracy did not improve from 0.98980\n",
      "390/390 [==============================] - 0s 784us/sample - loss: 3.5763e-08 - accuracy: 1.0000 - val_loss: 0.1106 - val_accuracy: 0.9898\n",
      "Epoch 47/100\n",
      "310/390 [======================>.......] - ETA: 0s - loss: 2.8456e-08 - accuracy: 1.0000\n",
      "Epoch 00047: val_accuracy did not improve from 0.98980\n",
      "390/390 [==============================] - 0s 782us/sample - loss: 3.2706e-08 - accuracy: 1.0000 - val_loss: 0.1114 - val_accuracy: 0.9898\n",
      "Epoch 48/100\n",
      "370/390 [===========================>..] - ETA: 0s - loss: 2.8675e-08 - accuracy: 1.0000\n",
      "Epoch 00048: val_accuracy did not improve from 0.98980\n",
      "390/390 [==============================] - 0s 817us/sample - loss: 2.9955e-08 - accuracy: 1.0000 - val_loss: 0.1124 - val_accuracy: 0.9898\n",
      "Epoch 49/100\n",
      "320/390 [=======================>......] - ETA: 0s - loss: 3.1292e-08 - accuracy: 1.0000\n",
      "Epoch 00049: val_accuracy did not improve from 0.98980\n",
      "390/390 [==============================] - 0s 785us/sample - loss: 2.7815e-08 - accuracy: 1.0000 - val_loss: 0.1134 - val_accuracy: 0.9898\n",
      "Epoch 50/100\n",
      "310/390 [======================>.......] - ETA: 0s - loss: 2.8072e-08 - accuracy: 1.0000\n",
      "Epoch 00050: val_accuracy did not improve from 0.98980\n",
      "390/390 [==============================] - 0s 778us/sample - loss: 2.5676e-08 - accuracy: 1.0000 - val_loss: 0.1142 - val_accuracy: 0.9898\n",
      "Epoch 51/100\n",
      "370/390 [===========================>..] - ETA: 0s - loss: 2.2875e-08 - accuracy: 1.0000\n",
      "Epoch 00051: val_accuracy did not improve from 0.98980\n",
      "390/390 [==============================] - 0s 808us/sample - loss: 2.2925e-08 - accuracy: 1.0000 - val_loss: 0.1150 - val_accuracy: 0.9898\n",
      "Epoch 52/100\n",
      "350/390 [=========================>....] - ETA: 0s - loss: 2.3501e-08 - accuracy: 1.0000\n",
      "Epoch 00052: val_accuracy did not improve from 0.98980\n",
      "390/390 [==============================] - 0s 846us/sample - loss: 2.1091e-08 - accuracy: 1.0000 - val_loss: 0.1157 - val_accuracy: 0.9898\n",
      "Epoch 53/100\n",
      "310/390 [======================>.......] - ETA: 0s - loss: 1.9227e-08 - accuracy: 1.0000\n",
      "Epoch 00053: val_accuracy did not improve from 0.98980\n",
      "390/390 [==============================] - 0s 782us/sample - loss: 1.9257e-08 - accuracy: 1.0000 - val_loss: 0.1163 - val_accuracy: 0.9898\n",
      "Epoch 54/100\n",
      "360/390 [==========================>...] - ETA: 0s - loss: 1.8213e-08 - accuracy: 1.0000\n",
      "Epoch 00054: val_accuracy did not improve from 0.98980\n",
      "390/390 [==============================] - 0s 880us/sample - loss: 1.8034e-08 - accuracy: 1.0000 - val_loss: 0.1170 - val_accuracy: 0.9898\n",
      "Epoch 55/100\n",
      "340/390 [=========================>....] - ETA: 0s - loss: 1.6128e-08 - accuracy: 1.0000\n",
      "Epoch 00055: val_accuracy did not improve from 0.98980\n",
      "390/390 [==============================] - 0s 887us/sample - loss: 1.6506e-08 - accuracy: 1.0000 - val_loss: 0.1176 - val_accuracy: 0.9898\n",
      "Epoch 56/100\n",
      "360/390 [==========================>...] - ETA: 0s - loss: 1.2583e-08 - accuracy: 1.0000\n",
      "Epoch 00056: val_accuracy did not improve from 0.98980\n",
      "390/390 [==============================] - 0s 873us/sample - loss: 1.5283e-08 - accuracy: 1.0000 - val_loss: 0.1183 - val_accuracy: 0.9898\n",
      "Epoch 57/100\n",
      "360/390 [==========================>...] - ETA: 0s - loss: 1.5232e-08 - accuracy: 1.0000\n",
      "Epoch 00057: val_accuracy did not improve from 0.98980\n",
      "390/390 [==============================] - 0s 882us/sample - loss: 1.4366e-08 - accuracy: 1.0000 - val_loss: 0.1189 - val_accuracy: 0.9898\n",
      "Epoch 58/100\n",
      "360/390 [==========================>...] - ETA: 0s - loss: 1.3577e-08 - accuracy: 1.0000\n",
      "Epoch 00058: val_accuracy did not improve from 0.98980\n",
      "390/390 [==============================] - 0s 857us/sample - loss: 1.2532e-08 - accuracy: 1.0000 - val_loss: 0.1195 - val_accuracy: 0.9898\n",
      "Epoch 59/100\n",
      "310/390 [======================>.......] - ETA: 0s - loss: 9.9982e-09 - accuracy: 1.0000\n",
      "Epoch 00059: val_accuracy did not improve from 0.98980\n",
      "390/390 [==============================] - 0s 760us/sample - loss: 1.2227e-08 - accuracy: 1.0000 - val_loss: 0.1198 - val_accuracy: 0.9898\n",
      "Epoch 60/100\n",
      "310/390 [======================>.......] - ETA: 0s - loss: 1.0383e-08 - accuracy: 1.0000\n",
      "Epoch 00060: val_accuracy did not improve from 0.98980\n",
      "390/390 [==============================] - 0s 786us/sample - loss: 1.0698e-08 - accuracy: 1.0000 - val_loss: 0.1204 - val_accuracy: 0.9898\n",
      "Epoch 61/100\n",
      "310/390 [======================>.......] - ETA: 0s - loss: 8.0755e-09 - accuracy: 1.0000\n",
      "Epoch 00061: val_accuracy did not improve from 0.98980\n",
      "390/390 [==============================] - 0s 793us/sample - loss: 9.7813e-09 - accuracy: 1.0000 - val_loss: 0.1210 - val_accuracy: 0.9898\n",
      "Epoch 62/100\n",
      "330/390 [========================>.....] - ETA: 0s - loss: 9.7535e-09 - accuracy: 1.0000\n",
      "Epoch 00062: val_accuracy did not improve from 0.98980\n",
      "390/390 [==============================] - 0s 761us/sample - loss: 9.7813e-09 - accuracy: 1.0000 - val_loss: 0.1213 - val_accuracy: 0.9898\n",
      "Epoch 63/100\n",
      "310/390 [======================>.......] - ETA: 0s - loss: 3.4609e-09 - accuracy: 1.0000\n",
      "Epoch 00063: val_accuracy did not improve from 0.98980\n",
      "390/390 [==============================] - 0s 748us/sample - loss: 9.1699e-09 - accuracy: 1.0000 - val_loss: 0.1218 - val_accuracy: 0.9898\n",
      "Epoch 64/100\n",
      "330/390 [========================>.....] - ETA: 0s - loss: 9.3922e-09 - accuracy: 1.0000\n",
      "Epoch 00064: val_accuracy did not improve from 0.98980\n",
      "390/390 [==============================] - 0s 766us/sample - loss: 8.2529e-09 - accuracy: 1.0000 - val_loss: 0.1223 - val_accuracy: 0.9898\n",
      "Epoch 65/100\n",
      "360/390 [==========================>...] - ETA: 0s - loss: 8.9407e-09 - accuracy: 1.0000\n",
      "Epoch 00065: val_accuracy did not improve from 0.98980\n",
      "390/390 [==============================] - 0s 830us/sample - loss: 8.2529e-09 - accuracy: 1.0000 - val_loss: 0.1227 - val_accuracy: 0.9898\n",
      "Epoch 66/100\n",
      "310/390 [======================>.......] - ETA: 0s - loss: 6.5373e-09 - accuracy: 1.0000\n",
      "Epoch 00066: val_accuracy did not improve from 0.98980\n",
      "390/390 [==============================] - 0s 760us/sample - loss: 7.6416e-09 - accuracy: 1.0000 - val_loss: 0.1230 - val_accuracy: 0.9898\n",
      "Epoch 67/100\n",
      "310/390 [======================>.......] - ETA: 0s - loss: 9.6137e-09 - accuracy: 1.0000\n",
      "Epoch 00067: val_accuracy did not improve from 0.98980\n",
      "390/390 [==============================] - 0s 772us/sample - loss: 7.6416e-09 - accuracy: 1.0000 - val_loss: 0.1234 - val_accuracy: 0.9898\n",
      "Epoch 68/100\n",
      "310/390 [======================>.......] - ETA: 0s - loss: 9.2291e-09 - accuracy: 1.0000\n",
      "Epoch 00068: val_accuracy did not improve from 0.98980\n",
      "390/390 [==============================] - 0s 758us/sample - loss: 7.3360e-09 - accuracy: 1.0000 - val_loss: 0.1237 - val_accuracy: 0.9898\n",
      "Epoch 69/100\n",
      "320/390 [=======================>......] - ETA: 0s - loss: 5.5879e-09 - accuracy: 1.0000\n",
      "Epoch 00069: val_accuracy did not improve from 0.98980\n",
      "390/390 [==============================] - 0s 769us/sample - loss: 6.4190e-09 - accuracy: 1.0000 - val_loss: 0.1240 - val_accuracy: 0.9898\n",
      "Epoch 70/100\n",
      "320/390 [=======================>......] - ETA: 0s - loss: 4.8429e-09 - accuracy: 1.0000\n",
      "Epoch 00070: val_accuracy did not improve from 0.98980\n",
      "390/390 [==============================] - 0s 753us/sample - loss: 6.4190e-09 - accuracy: 1.0000 - val_loss: 0.1244 - val_accuracy: 0.9898\n",
      "Epoch 71/100\n",
      "320/390 [=======================>......] - ETA: 0s - loss: 6.7055e-09 - accuracy: 1.0000\n",
      "Epoch 00071: val_accuracy did not improve from 0.98980\n",
      "390/390 [==============================] - 0s 751us/sample - loss: 6.1133e-09 - accuracy: 1.0000 - val_loss: 0.1246 - val_accuracy: 0.9898\n",
      "Epoch 72/100\n",
      "360/390 [==========================>...] - ETA: 0s - loss: 6.6227e-09 - accuracy: 1.0000\n",
      "Epoch 00072: val_accuracy did not improve from 0.98980\n",
      "390/390 [==============================] - 0s 828us/sample - loss: 6.1133e-09 - accuracy: 1.0000 - val_loss: 0.1249 - val_accuracy: 0.9898\n",
      "Epoch 73/100\n",
      "310/390 [======================>.......] - ETA: 0s - loss: 6.5373e-09 - accuracy: 1.0000\n",
      "Epoch 00073: val_accuracy did not improve from 0.98980\n",
      "390/390 [==============================] - 0s 763us/sample - loss: 5.8076e-09 - accuracy: 1.0000 - val_loss: 0.1253 - val_accuracy: 0.9898\n",
      "Epoch 74/100\n",
      "320/390 [=======================>......] - ETA: 0s - loss: 4.4703e-09 - accuracy: 1.0000\n",
      "Epoch 00074: val_accuracy did not improve from 0.98980\n",
      "390/390 [==============================] - 0s 760us/sample - loss: 5.5020e-09 - accuracy: 1.0000 - val_loss: 0.1256 - val_accuracy: 0.9898\n",
      "Epoch 75/100\n",
      "310/390 [======================>.......] - ETA: 0s - loss: 4.9991e-09 - accuracy: 1.0000\n",
      "Epoch 00075: val_accuracy did not improve from 0.98980\n",
      "390/390 [==============================] - 0s 761us/sample - loss: 5.5020e-09 - accuracy: 1.0000 - val_loss: 0.1259 - val_accuracy: 0.9898\n",
      "Epoch 76/100\n",
      "310/390 [======================>.......] - ETA: 0s - loss: 6.1527e-09 - accuracy: 1.0000\n",
      "Epoch 00076: val_accuracy did not improve from 0.98980\n",
      "390/390 [==============================] - 0s 756us/sample - loss: 5.5020e-09 - accuracy: 1.0000 - val_loss: 0.1262 - val_accuracy: 0.9898\n",
      "Epoch 77/100\n",
      "310/390 [======================>.......] - ETA: 0s - loss: 4.6146e-09 - accuracy: 1.0000\n",
      "Epoch 00077: val_accuracy did not improve from 0.98980\n",
      "390/390 [==============================] - 0s 754us/sample - loss: 4.8906e-09 - accuracy: 1.0000 - val_loss: 0.1265 - val_accuracy: 0.9898\n",
      "Epoch 78/100\n",
      "310/390 [======================>.......] - ETA: 0s - loss: 4.6146e-09 - accuracy: 1.0000\n",
      "Epoch 00078: val_accuracy did not improve from 0.98980\n",
      "390/390 [==============================] - 0s 753us/sample - loss: 4.5850e-09 - accuracy: 1.0000 - val_loss: 0.1268 - val_accuracy: 0.9898\n",
      "Epoch 79/100\n",
      "310/390 [======================>.......] - ETA: 0s - loss: 3.8455e-09 - accuracy: 1.0000\n",
      "Epoch 00079: val_accuracy did not improve from 0.98980\n",
      "390/390 [==============================] - 0s 771us/sample - loss: 4.2793e-09 - accuracy: 1.0000 - val_loss: 0.1272 - val_accuracy: 0.9898\n",
      "Epoch 80/100\n",
      "310/390 [======================>.......] - ETA: 0s - loss: 5.3836e-09 - accuracy: 1.0000\n",
      "Epoch 00080: val_accuracy did not improve from 0.98980\n",
      "390/390 [==============================] - 0s 768us/sample - loss: 4.2793e-09 - accuracy: 1.0000 - val_loss: 0.1274 - val_accuracy: 0.9898\n",
      "Epoch 81/100\n",
      "310/390 [======================>.......] - ETA: 0s - loss: 3.4609e-09 - accuracy: 1.0000\n",
      "Epoch 00081: val_accuracy did not improve from 0.98980\n",
      "390/390 [==============================] - 0s 773us/sample - loss: 4.2793e-09 - accuracy: 1.0000 - val_loss: 0.1277 - val_accuracy: 0.9898\n",
      "Epoch 82/100\n",
      "310/390 [======================>.......] - ETA: 0s - loss: 2.3073e-09 - accuracy: 1.0000\n",
      "Epoch 00082: val_accuracy did not improve from 0.98980\n",
      "390/390 [==============================] - 0s 773us/sample - loss: 3.6680e-09 - accuracy: 1.0000 - val_loss: 0.1279 - val_accuracy: 0.9898\n",
      "Epoch 83/100\n",
      "310/390 [======================>.......] - ETA: 0s - loss: 4.6146e-09 - accuracy: 1.0000\n",
      "Epoch 00083: val_accuracy did not improve from 0.98980\n",
      "390/390 [==============================] - 0s 753us/sample - loss: 3.6680e-09 - accuracy: 1.0000 - val_loss: 0.1282 - val_accuracy: 0.9898\n",
      "Epoch 84/100\n",
      "310/390 [======================>.......] - ETA: 0s - loss: 3.8455e-09 - accuracy: 1.0000\n",
      "Epoch 00084: val_accuracy did not improve from 0.98980\n",
      "390/390 [==============================] - 0s 774us/sample - loss: 3.6680e-09 - accuracy: 1.0000 - val_loss: 0.1285 - val_accuracy: 0.9898\n",
      "Epoch 85/100\n",
      "310/390 [======================>.......] - ETA: 0s - loss: 2.3073e-09 - accuracy: 1.0000\n",
      "Epoch 00085: val_accuracy did not improve from 0.98980\n",
      "390/390 [==============================] - 0s 765us/sample - loss: 3.3623e-09 - accuracy: 1.0000 - val_loss: 0.1288 - val_accuracy: 0.9898\n",
      "Epoch 86/100\n",
      "320/390 [=======================>......] - ETA: 0s - loss: 3.7253e-09 - accuracy: 1.0000\n",
      "Epoch 00086: val_accuracy did not improve from 0.98980\n",
      "390/390 [==============================] - 0s 752us/sample - loss: 3.0566e-09 - accuracy: 1.0000 - val_loss: 0.1290 - val_accuracy: 0.9898\n",
      "Epoch 87/100\n",
      "310/390 [======================>.......] - ETA: 0s - loss: 3.0764e-09 - accuracy: 1.0000\n",
      "Epoch 00087: val_accuracy did not improve from 0.98980\n",
      "390/390 [==============================] - 0s 753us/sample - loss: 2.7510e-09 - accuracy: 1.0000 - val_loss: 0.1293 - val_accuracy: 0.9898\n",
      "Epoch 88/100\n",
      "320/390 [=======================>......] - ETA: 0s - loss: 3.3528e-09 - accuracy: 1.0000\n",
      "Epoch 00088: val_accuracy did not improve from 0.98980\n",
      "390/390 [==============================] - 0s 758us/sample - loss: 2.7510e-09 - accuracy: 1.0000 - val_loss: 0.1295 - val_accuracy: 0.9898\n",
      "Epoch 89/100\n",
      "330/390 [========================>.....] - ETA: 0s - loss: 2.8899e-09 - accuracy: 1.0000\n",
      "Epoch 00089: val_accuracy did not improve from 0.98980\n",
      "390/390 [==============================] - 0s 752us/sample - loss: 2.7510e-09 - accuracy: 1.0000 - val_loss: 0.1297 - val_accuracy: 0.9898\n",
      "Epoch 90/100\n",
      "310/390 [======================>.......] - ETA: 0s - loss: 3.0764e-09 - accuracy: 1.0000\n",
      "Epoch 00090: val_accuracy did not improve from 0.98980\n",
      "390/390 [==============================] - 0s 758us/sample - loss: 2.7510e-09 - accuracy: 1.0000 - val_loss: 0.1300 - val_accuracy: 0.9898\n",
      "Epoch 91/100\n",
      "310/390 [======================>.......] - ETA: 0s - loss: 3.0764e-09 - accuracy: 1.0000\n",
      "Epoch 00091: val_accuracy did not improve from 0.98980\n",
      "390/390 [==============================] - 0s 771us/sample - loss: 2.7510e-09 - accuracy: 1.0000 - val_loss: 0.1302 - val_accuracy: 0.9898\n",
      "Epoch 92/100\n",
      "310/390 [======================>.......] - ETA: 0s - loss: 2.3073e-09 - accuracy: 1.0000\n",
      "Epoch 00092: val_accuracy did not improve from 0.98980\n",
      "390/390 [==============================] - 0s 764us/sample - loss: 2.7510e-09 - accuracy: 1.0000 - val_loss: 0.1304 - val_accuracy: 0.9898\n",
      "Epoch 93/100\n",
      "310/390 [======================>.......] - ETA: 0s - loss: 3.4609e-09 - accuracy: 1.0000\n",
      "Epoch 00093: val_accuracy did not improve from 0.98980\n",
      "390/390 [==============================] - 0s 754us/sample - loss: 2.7510e-09 - accuracy: 1.0000 - val_loss: 0.1307 - val_accuracy: 0.9898\n",
      "Epoch 94/100\n",
      "320/390 [=======================>......] - ETA: 0s - loss: 3.3528e-09 - accuracy: 1.0000\n",
      "Epoch 00094: val_accuracy did not improve from 0.98980\n",
      "390/390 [==============================] - 0s 755us/sample - loss: 2.7510e-09 - accuracy: 1.0000 - val_loss: 0.1309 - val_accuracy: 0.9898\n",
      "Epoch 95/100\n",
      "310/390 [======================>.......] - ETA: 0s - loss: 1.9227e-09 - accuracy: 1.0000\n",
      "Epoch 00095: val_accuracy did not improve from 0.98980\n",
      "390/390 [==============================] - 0s 763us/sample - loss: 2.7510e-09 - accuracy: 1.0000 - val_loss: 0.1311 - val_accuracy: 0.9898\n",
      "Epoch 96/100\n",
      "310/390 [======================>.......] - ETA: 0s - loss: 2.3073e-09 - accuracy: 1.0000\n",
      "Epoch 00096: val_accuracy did not improve from 0.98980\n",
      "390/390 [==============================] - 0s 765us/sample - loss: 2.7510e-09 - accuracy: 1.0000 - val_loss: 0.1313 - val_accuracy: 0.9898\n",
      "Epoch 97/100\n",
      "310/390 [======================>.......] - ETA: 0s - loss: 2.6918e-09 - accuracy: 1.0000\n",
      "Epoch 00097: val_accuracy did not improve from 0.98980\n",
      "390/390 [==============================] - 0s 769us/sample - loss: 2.1397e-09 - accuracy: 1.0000 - val_loss: 0.1315 - val_accuracy: 0.9898\n",
      "Epoch 98/100\n",
      "320/390 [=======================>......] - ETA: 0s - loss: 2.2352e-09 - accuracy: 1.0000\n",
      "Epoch 00098: val_accuracy did not improve from 0.98980\n",
      "390/390 [==============================] - 0s 749us/sample - loss: 1.8340e-09 - accuracy: 1.0000 - val_loss: 0.1317 - val_accuracy: 0.9898\n",
      "Epoch 99/100\n",
      "310/390 [======================>.......] - ETA: 0s - loss: 7.6909e-10 - accuracy: 1.0000\n",
      "Epoch 00099: val_accuracy did not improve from 0.98980\n",
      "390/390 [==============================] - 0s 761us/sample - loss: 1.8340e-09 - accuracy: 1.0000 - val_loss: 0.1319 - val_accuracy: 0.9898\n",
      "Epoch 100/100\n",
      "310/390 [======================>.......] - ETA: 0s - loss: 2.3073e-09 - accuracy: 1.0000\n",
      "Epoch 00100: val_accuracy did not improve from 0.98980\n",
      "390/390 [==============================] - 0s 760us/sample - loss: 1.8340e-09 - accuracy: 1.0000 - val_loss: 0.1321 - val_accuracy: 0.9898\n",
      "Training completed in time:  0:00:33.707760\n"
     ]
    }
   ],
   "source": [
    "# train model\n",
    "num_epochs = 100\n",
    "num_batch_size = 10\n",
    "\n",
    "os.makedirs('models', exist_ok=True)\n",
    "callbacks = [\n",
    "    ModelCheckpoint(\n",
    "        filepath='models/' + MODEL_NAME + '_{epoch:02d}.h5',\n",
    "        # Path where to save the model\n",
    "        # The two parameters below mean that we will overwrite\n",
    "        # the current checkpoint if and only if\n",
    "        # the `val_accuracy` score has improved.\n",
    "        save_best_only=True,\n",
    "        monitor='val_accuracy',\n",
    "        verbose=1)\n",
    "]\n",
    "start = datetime.now()\n",
    "\n",
    "history = model.fit(x_train, y_train, batch_size=num_batch_size, epochs=num_epochs,\n",
    "                    validation_data=(x_val, y_val), callbacks=callbacks, verbose=1)\n",
    "\n",
    "\n",
    "duration = datetime.now() - start\n",
    "print(\"Training completed in time: \", duration)"
   ]
  },
  {
   "cell_type": "markdown",
   "metadata": {},
   "source": [
    "**Plot accuracies and losses**"
   ]
  },
  {
   "cell_type": "code",
   "execution_count": 24,
   "metadata": {},
   "outputs": [
    {
     "data": {
      "image/png": "[encoded data removed]",
      "text/plain": [
       "<Figure size 432x288 with 1 Axes>"
      ]
     },
     "metadata": {
      "needs_background": "light"
     },
     "output_type": "display_data"
    },
    {
     "data": {
      "image/png": "[encoded data removed]",
      "text/plain": [
       "<Figure size 432x288 with 1 Axes>"
      ]
     },
     "metadata": {
      "needs_background": "light"
     },
     "output_type": "display_data"
    }
   ],
   "source": [
    "# Plot training & validation accuracy values\n",
    "plt.plot(history.history['accuracy'])\n",
    "plt.plot(history.history['val_accuracy'])\n",
    "plt.title('Model accuracy')\n",
    "plt.ylabel('Accuracy')\n",
    "plt.xlabel('Epoch')\n",
    "plt.legend(['Train', 'Test'], loc='upper left')\n",
    "plt.show()\n",
    "\n",
    "# Plot training & validation loss values\n",
    "plt.plot(history.history['loss'])\n",
    "plt.plot(history.history['val_loss'])\n",
    "plt.title('Model loss')\n",
    "plt.ylabel('Loss')\n",
    "plt.xlabel('Epoch')\n",
    "plt.legend(['Train', 'Test'], loc='upper left')\n",
    "plt.show()"
   ]
  },
  {
   "cell_type": "markdown",
   "metadata": {
    "colab_type": "text",
    "id": "diDQglrhSR1n"
   },
   "source": [
    "## Teste"
   ]
  },
  {
   "cell_type": "code",
   "execution_count": 25,
   "metadata": {
    "colab": {
     "base_uri": "https://localhost:8080/",
     "height": 54
    },
    "colab_type": "code",
    "id": "Qyg7uylzSR1p",
    "outputId": "4b953e0d-5437-422d-cbc5-6b19a29879f4"
   },
   "outputs": [
    {
     "name": "stdout",
     "output_type": "stream",
     "text": [
      "Training Accuracy:  1.0\n",
      "Testing Accuracy:  0.6363636\n"
     ]
    }
   ],
   "source": [
    "# Evaluating the model on the training and testing set\n",
    "score = model.evaluate(x_train, y_train, verbose=0)\n",
    "print(\"Training Accuracy: \", score[1])\n",
    "\n",
    "score = model.evaluate(x_test, y_test, verbose=0)\n",
    "print(\"Testing Accuracy: \", score[1])"
   ]
  },
  {
   "cell_type": "code",
   "execution_count": 26,
   "metadata": {
    "colab": {},
    "colab_type": "code",
    "id": "KnzqoZRbSR1v"
   },
   "outputs": [],
   "source": [
    "preds = model.predict(x_test) # label scores \n",
    "\n",
    "classpreds = np.argmax(preds, axis=1) # predicted classes \n",
    "\n",
    "y_testclass = np.argmax(y_test, axis=1) # true classes\n",
    "\n",
    "n_classes=2 # number of classes"
   ]
  },
  {
   "cell_type": "code",
   "execution_count": 27,
   "metadata": {
    "colab": {},
    "colab_type": "code",
    "id": "EMrG8FeJSR14"
   },
   "outputs": [],
   "source": [
    "# Compute ROC curve and ROC area for each class\n",
    "fpr = dict()\n",
    "tpr = dict()\n",
    "roc_auc = dict()\n",
    "for i in range(n_classes):\n",
    "    fpr[i], tpr[i], _ = roc_curve(y_test[:, i], preds[:, i])\n",
    "    roc_auc[i] = auc(fpr[i], tpr[i])"
   ]
  },
  {
   "cell_type": "code",
   "execution_count": 28,
   "metadata": {
    "colab": {},
    "colab_type": "code",
    "id": "oOZSWEULSR17"
   },
   "outputs": [],
   "source": [
    "c_names = ['Bronchiectasis', 'Bronchiolitis', 'COPD', 'Healthy', 'Pneumonia', 'URTI']\n",
    "c_names = ['Healthy', 'Pneumonia']"
   ]
  },
  {
   "cell_type": "code",
   "execution_count": 29,
   "metadata": {
    "colab": {
     "base_uri": "https://localhost:8080/",
     "height": 851
    },
    "colab_type": "code",
    "id": "HY5qEVRrSR2A",
    "outputId": "9c5341de-bbdf-4c87-c999-82ee08ddd1fb"
   },
   "outputs": [
    {
     "data": {
      "image/png": "[encoded data removed]",
      "text/plain": [
       "<Figure size 1152x720 with 1 Axes>"
      ]
     },
     "metadata": {
      "needs_background": "light"
     },
     "output_type": "display_data"
    }
   ],
   "source": [
    "# Plot ROC curves\n",
    "fig, ax = plt.subplots(figsize=(16, 10))\n",
    "ax.plot([0, 1], [0, 1], 'k--')\n",
    "ax.set_xlim([0.0, 1.0])\n",
    "ax.set_ylim([0.0, 1.05])\n",
    "ax.set_xlabel('False Positive Rate')\n",
    "ax.set_ylabel('True Positive Rate')\n",
    "ax.set_title('ROC Curve for Each Class')\n",
    "for i in range(n_classes):\n",
    "    ax.plot(fpr[i], tpr[i], linewidth=3, label='ROC curve (area = %0.2f) for %s' % (roc_auc[i], c_names[i]))\n",
    "ax.legend(loc=\"best\", fontsize='x-large')\n",
    "ax.grid(alpha=.4)\n",
    "sns.despine()\n",
    "plt.show()"
   ]
  },
  {
   "cell_type": "code",
   "execution_count": 30,
   "metadata": {
    "colab": {
     "base_uri": "https://localhost:8080/",
     "height": 240
    },
    "colab_type": "code",
    "id": "qlQ12gHQSR2D",
    "outputId": "42af0b0e-037c-4177-a382-aff8a8550509"
   },
   "outputs": [
    {
     "name": "stdout",
     "output_type": "stream",
     "text": [
      "              precision    recall  f1-score   support\n",
      "\n",
      "     Healthy       0.43      1.00      0.60        24\n",
      "   Pneumonia       1.00      0.50      0.67        64\n",
      "\n",
      "    accuracy                           0.64        88\n",
      "   macro avg       0.71      0.75      0.63        88\n",
      "weighted avg       0.84      0.64      0.65        88\n",
      "\n"
     ]
    }
   ],
   "source": [
    "# Classification Report\n",
    "print(classification_report(y_testclass, classpreds, target_names=c_names))"
   ]
  },
  {
   "cell_type": "code",
   "execution_count": 31,
   "metadata": {
    "colab": {
     "base_uri": "https://localhost:8080/",
     "height": 128
    },
    "colab_type": "code",
    "id": "jGzk3U9kSR2G",
    "outputId": "cd147c90-fc8e-47c5-9cd0-6e3e224b3def"
   },
   "outputs": [
    {
     "name": "stdout",
     "output_type": "stream",
     "text": [
      "[[24  0]\n",
      " [32 32]]\n"
     ]
    }
   ],
   "source": [
    "# Confusion Matrix\n",
    "print(confusion_matrix(y_testclass, classpreds))"
   ]
  },
  {
   "cell_type": "code",
   "execution_count": 32,
   "metadata": {},
   "outputs": [],
   "source": [
    "import itertools\n",
    "def plot_confusion_matrix(cm, unique_labels, show=True, output=None,\n",
    "                          title='Confusion matrix', cmap=plt.cm.Oranges):\n",
    "    plt.imshow(cm, interpolation='nearest', cmap=cmap)\n",
    "    plt.title(title)\n",
    "    plt.colorbar()\n",
    "    tick_marks = np.arange(cm.shape[1])\n",
    "    plt.xticks(tick_marks, rotation=45)\n",
    "    ax = plt.gca()\n",
    "    ax.set_xticklabels((ax.get_xticks() + 1).astype(str))\n",
    "    plt.yticks(tick_marks)\n",
    "\n",
    "    ax.set_xticklabels(unique_labels)\n",
    "    ax.set_yticklabels(unique_labels)\n",
    "\n",
    "    thresh = cm.max() / 2.\n",
    "    for i, j in itertools.product(range(cm.shape[0]), range(cm.shape[1])):\n",
    "        plt.text(j, i, format(cm[i, j], '.1f'),\n",
    "                 horizontalalignment=\"center\",\n",
    "                 color=\"white\" if cm[i, j] > thresh else \"black\")\n",
    "\n",
    "    plt.tight_layout()\n",
    "    plt.ylabel('True label')\n",
    "    plt.xlabel('Predicted label')\n",
    "    if show:\n",
    "        plt.show()\n",
    "    if output is not None:\n",
    "        plt.savefig(output)\n",
    "    plt.close()\n",
    "    return output\n"
   ]
  },
  {
   "cell_type": "code",
   "execution_count": 33,
   "metadata": {},
   "outputs": [
    {
     "data": {
      "image/png": "[encoded data removed]",
      "text/plain": [
       "<Figure size 432x288 with 2 Axes>"
      ]
     },
     "metadata": {
      "needs_background": "light"
     },
     "output_type": "display_data"
    }
   ],
   "source": [
    "plot_confusion_matrix(confusion_matrix(y_testclass, classpreds), unique_labels=[\"Healthy\", \"Pneumonia\"])"
   ]
  },
  {
   "cell_type": "code",
   "execution_count": null,
   "metadata": {},
   "outputs": [],
   "source": []
  }
 ],
 "metadata": {
  "accelerator": "GPU",
  "colab": {
   "collapsed_sections": [],
   "name": "Corona-Disease Classification by CNN using MFCC.ipynb",
   "provenance": []
  },
  "kernelspec": {
   "display_name": "Python 3",
   "language": "python",
   "name": "python3"
  },
  "language_info": {
   "codemirror_mode": {
    "name": "ipython",
    "version": 3
   },
   "file_extension": ".py",
   "mimetype": "text/x-python",
   "name": "python",
   "nbconvert_exporter": "python",
   "pygments_lexer": "ipython3",
   "version": "3.7.7"
  }
 },
 "nbformat": 4,
 "nbformat_minor": 4
}
