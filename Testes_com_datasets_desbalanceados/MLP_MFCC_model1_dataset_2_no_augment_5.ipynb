{
 "cells": [
  {
   "cell_type": "markdown",
   "metadata": {
    "colab": {
     "base_uri": "https://localhost:8080/",
     "height": 1000
    },
    "colab_type": "code",
    "id": "DtXp3DMyU4u2",
    "outputId": "9a02581f-ebc9-4307-c524-f915fc001341"
   },
   "source": [
    "# Rede MLP - Modelo 1\n",
    "\n",
    "## Dataset Respiratory_Sound_Database_Pneumo_Healthy_Only - Dataset 2 - no_augment_5"
   ]
  },
  {
   "cell_type": "code",
   "execution_count": 1,
   "metadata": {
    "_cell_guid": "79c7e3d0-c299-4dcb-8224-4455121ee9b0",
    "_uuid": "d629ff2d2480ee46fbb7e2d37f6b5fab8052498a",
    "colab": {},
    "colab_type": "code",
    "id": "sxUgP6_bSR0C"
   },
   "outputs": [],
   "source": [
    "from datetime import datetime\n",
    "from os import listdir\n",
    "from os.path import isfile, join\n",
    "\n",
    "import os\n",
    "import librosa\n",
    "import librosa.display\n",
    "import glob\n",
    "\n",
    "import numpy as np\n",
    "import pandas as pd\n",
    "\n",
    "from tensorflow.keras.models import Sequential\n",
    "from tensorflow.keras.layers import Dense, Dropout, Conv2D, MaxPooling2D, GlobalAveragePooling2D\n",
    "from tensorflow.keras.utils import to_categorical\n",
    "from tensorflow.keras.callbacks import ModelCheckpoint\n",
    "\n",
    "from sklearn.metrics import confusion_matrix, classification_report, roc_curve, auc\n",
    "from sklearn.model_selection import train_test_split\n",
    "from sklearn.preprocessing import LabelEncoder\n",
    "\n",
    "import matplotlib.pyplot as plt\n",
    "import seaborn as sns"
   ]
  },
  {
   "cell_type": "code",
   "execution_count": 2,
   "metadata": {},
   "outputs": [
    {
     "name": "stdout",
     "output_type": "stream",
     "text": [
      "1 Physical GPUs, 1 Logical GPUs\n"
     ]
    }
   ],
   "source": [
    "# Necessário na minha máquina. Estava ocorrendo um erro devido à GPU e esse código resolveu.\n",
    "import tensorflow as tf\n",
    "gpus = tf.config.experimental.list_physical_devices('GPU')\n",
    "if gpus:\n",
    "    try:\n",
    "        # Currently, memory growth needs to be the same across GPUs\n",
    "        for gpu in gpus:\n",
    "            tf.config.experimental.set_memory_growth(gpu, True)\n",
    "        logical_gpus = tf.config.experimental.list_logical_devices('GPU')\n",
    "        print(len(gpus), \"Physical GPUs,\", len(logical_gpus), \"Logical GPUs\")\n",
    "    except RuntimeError as e:\n",
    "        # Memory growth must be set before GPUs have been initialized\n",
    "        print(e)"
   ]
  },
  {
   "cell_type": "code",
   "execution_count": 3,
   "metadata": {},
   "outputs": [],
   "source": [
    "GROUP_TRAIN = 'no_augment_5'\n",
    "GROUP_TEST = 'no_augment_5'\n",
    "DATASET = 'dataset_2'\n",
    "DURATION = 5\n",
    "SIZE = 216\n",
    "CSV_TRAIN = 'train2.csv'\n",
    "CSV_TEST = 'test2.csv'\n",
    "MODEL_NAME = f'MLP1_{DATASET}_{GROUP_TRAIN}'"
   ]
  },
  {
   "cell_type": "code",
   "execution_count": 4,
   "metadata": {
    "colab": {},
    "colab_type": "code",
    "id": "mMb5_PxwSR0N"
   },
   "outputs": [],
   "source": [
    "train_file_paths = glob.glob(f'../datasets/{DATASET}/{GROUP_TRAIN}/train/**/*.wav', recursive=True)\n",
    "train_file_names = [os.path.splitext(os.path.basename(p))[0] for p in train_file_paths]\n",
    "\n",
    "test_file_paths = glob.glob(f'../datasets/{DATASET}/{GROUP_TEST}/test/**/*.wav', recursive=True)\n",
    "test_file_names = [os.path.splitext(os.path.basename(p))[0] for p in test_file_paths]"
   ]
  },
  {
   "cell_type": "code",
   "execution_count": 5,
   "metadata": {
    "colab": {},
    "colab_type": "code",
    "id": "wTf5HxHzSR0U"
   },
   "outputs": [],
   "source": [
    "train_p_id_in_file = [] # patient IDs corresponding to each file\n",
    "test_p_id_in_file = [] # patient IDs corresponding to each file\n",
    "for name in train_file_names:\n",
    "    train_p_id_in_file.append(int(name[:3]))\n",
    "\n",
    "for name in test_file_names:\n",
    "    test_p_id_in_file.append(int(name[:3]))\n",
    "\n",
    "train_p_id_in_file = np.array(train_p_id_in_file)\n",
    "test_p_id_in_file = np.array(test_p_id_in_file) "
   ]
  },
  {
   "cell_type": "code",
   "execution_count": 6,
   "metadata": {
    "colab": {},
    "colab_type": "code",
    "id": "UbK7vc1kSR0c"
   },
   "outputs": [],
   "source": [
    "max_pad_len = SIZE\n",
    "\n",
    "os.makedirs(\"features/\", exist_ok=True)\n",
    "\n",
    "def extract_features(file_name):\n",
    "    \"\"\"\n",
    "    This function takes in the path for an audio file as a string, loads it, and returns the MFCC\n",
    "    of the audio\"\"\"\n",
    "    feature = os.path.splitext(os.path.basename(file_name))[0] + \".npy\"\n",
    "#     if (os.path.isfile(os.path.join(\"./Respiratory_Sound_Database/features/\", feature))):\n",
    "#         return np.load(os.path.join(\"./Respiratory_Sound_Database/features/\", feature))\n",
    "    \n",
    "    try:\n",
    "        audio, sample_rate = librosa.load(file_name, res_type='kaiser_fast', duration=DURATION) \n",
    "        mfccs = librosa.feature.mfcc(y=audio, sr=sample_rate, n_mfcc=40)\n",
    "        pad_width = max_pad_len - mfccs.shape[1]\n",
    "        mfccs = np.pad(mfccs, pad_width=((0, 0), (0, pad_width)), mode='constant')\n",
    "        \n",
    "    except Exception as e:\n",
    "        print(\"Error encountered while parsing file: \", file_name)\n",
    "        return None \n",
    "    np.save(os.path.join(\"./features/\", feature), mfccs)\n",
    "    return mfccs"
   ]
  },
  {
   "cell_type": "code",
   "execution_count": 7,
   "metadata": {
    "colab": {},
    "colab_type": "code",
    "id": "xkBHJzJDSR0h"
   },
   "outputs": [],
   "source": [
    "#filepaths = [join(mypath, f) for f in filenames] # full paths of files"
   ]
  },
  {
   "cell_type": "code",
   "execution_count": 8,
   "metadata": {
    "colab": {},
    "colab_type": "code",
    "id": "UQjbbn7MSR0n"
   },
   "outputs": [
    {
     "data": {
      "text/html": [
       "<div>\n",
       "<style scoped>\n",
       "    .dataframe tbody tr th:only-of-type {\n",
       "        vertical-align: middle;\n",
       "    }\n",
       "\n",
       "    .dataframe tbody tr th {\n",
       "        vertical-align: top;\n",
       "    }\n",
       "\n",
       "    .dataframe thead th {\n",
       "        text-align: right;\n",
       "    }\n",
       "</style>\n",
       "<table border=\"1\" class=\"dataframe\">\n",
       "  <thead>\n",
       "    <tr style=\"text-align: right;\">\n",
       "      <th></th>\n",
       "      <th>0</th>\n",
       "      <th>1</th>\n",
       "    </tr>\n",
       "  </thead>\n",
       "  <tbody>\n",
       "    <tr>\n",
       "      <th>0</th>\n",
       "      <td>123</td>\n",
       "      <td>Healthy</td>\n",
       "    </tr>\n",
       "    <tr>\n",
       "      <th>1</th>\n",
       "      <td>125</td>\n",
       "      <td>Healthy</td>\n",
       "    </tr>\n",
       "    <tr>\n",
       "      <th>2</th>\n",
       "      <td>126</td>\n",
       "      <td>Healthy</td>\n",
       "    </tr>\n",
       "    <tr>\n",
       "      <th>3</th>\n",
       "      <td>127</td>\n",
       "      <td>Healthy</td>\n",
       "    </tr>\n",
       "    <tr>\n",
       "      <th>4</th>\n",
       "      <td>136</td>\n",
       "      <td>Healthy</td>\n",
       "    </tr>\n",
       "  </tbody>\n",
       "</table>\n",
       "</div>"
      ],
      "text/plain": [
       "     0        1\n",
       "0  123  Healthy\n",
       "1  125  Healthy\n",
       "2  126  Healthy\n",
       "3  127  Healthy\n",
       "4  136  Healthy"
      ]
     },
     "execution_count": 8,
     "metadata": {},
     "output_type": "execute_result"
    }
   ],
   "source": [
    "train_p_diag = pd.read_csv(f\"../Respiratory_Sound_Database/Respiratory_Sound_Database_Pneumo_Healthy_Only/{CSV_TRAIN}\", header=None) # patient diagnosis file\n",
    "test_p_diag = pd.read_csv(f\"../Respiratory_Sound_Database/Respiratory_Sound_Database_Pneumo_Healthy_Only/{CSV_TEST}\", header=None) # patient diagnosis file\n",
    "train_p_diag.head(5)"
   ]
  },
  {
   "cell_type": "code",
   "execution_count": 9,
   "metadata": {
    "colab": {},
    "colab_type": "code",
    "id": "yskEMhphSR0s"
   },
   "outputs": [],
   "source": [
    "train_labels = np.array([train_p_diag[train_p_diag[0] == x][1].values[0] for x in train_p_id_in_file]) \n",
    "test_labels = np.array([test_p_diag[test_p_diag[0] == x][1].values[0] for x in test_p_id_in_file]) "
   ]
  },
  {
   "cell_type": "code",
   "execution_count": 10,
   "metadata": {
    "colab": {
     "base_uri": "https://localhost:8080/",
     "height": 35
    },
    "colab_type": "code",
    "id": "yIlzZ5gRSR0w",
    "outputId": "e42143d5-d247-457f-c891-0c714e51cb05"
   },
   "outputs": [
    {
     "name": "stdout",
     "output_type": "stream",
     "text": [
      "Finished feature extraction from  112  files\n"
     ]
    }
   ],
   "source": [
    "train_features = [] \n",
    "test_features = []\n",
    "\n",
    "for file_name in train_file_paths:\n",
    "    data = extract_features(file_name)\n",
    "    train_features.append(data)\n",
    "\n",
    "for file_name in test_file_paths:\n",
    "    data = extract_features(file_name)\n",
    "    test_features.append(data)\n",
    "\n",
    "print('Finished feature extraction from ', (len(train_features)+len(train_features)), ' files')\n",
    "train_features = np.array(train_features)\n",
    "test_features = np.array(test_features)"
   ]
  },
  {
   "cell_type": "code",
   "execution_count": 11,
   "metadata": {
    "colab": {
     "base_uri": "https://localhost:8080/",
     "height": 297
    },
    "colab_type": "code",
    "id": "aPWfXalkSR00",
    "outputId": "0741865f-420e-4c29-8cb1-42b0fe8302cb"
   },
   "outputs": [
    {
     "data": {
      "image/png": "[encoded data removed]",
      "text/plain": [
       "<Figure size 720x288 with 2 Axes>"
      ]
     },
     "metadata": {
      "needs_background": "light"
     },
     "output_type": "display_data"
    }
   ],
   "source": [
    "# plot an MFCC\n",
    "plt.figure(figsize=(10, 4))\n",
    "librosa.display.specshow(train_features[7], x_axis='time')\n",
    "plt.colorbar()\n",
    "plt.title('MFCC')\n",
    "plt.tight_layout()\n",
    "plt.show()"
   ]
  },
  {
   "cell_type": "code",
   "execution_count": 12,
   "metadata": {},
   "outputs": [
    {
     "data": {
      "text/plain": [
       "array(['Healthy', 'Pneumonia'], dtype='<U9')"
      ]
     },
     "execution_count": 12,
     "metadata": {},
     "output_type": "execute_result"
    }
   ],
   "source": [
    "np.unique(train_labels)"
   ]
  },
  {
   "cell_type": "code",
   "execution_count": 13,
   "metadata": {
    "colab": {
     "base_uri": "https://localhost:8080/",
     "height": 54
    },
    "colab_type": "code",
    "id": "YAHg4HTzSR1C",
    "outputId": "be27b27d-3389-4d26-b8ee-d795b2259a5f"
   },
   "outputs": [
    {
     "name": "stdout",
     "output_type": "stream",
     "text": [
      "[['Healthy' 'Pneumonia']\n",
      " ['32' '24']]\n",
      "[['Healthy' 'Pneumonia']\n",
      " ['3' '13']]\n"
     ]
    }
   ],
   "source": [
    "unique_elements, counts_elements = np.unique(train_labels, return_counts=True)\n",
    "print(np.asarray((unique_elements, counts_elements)))\n",
    "\n",
    "unique_elements_test, counts_elements_test = np.unique(test_labels, return_counts=True)\n",
    "print(np.asarray((unique_elements_test, counts_elements_test)))"
   ]
  },
  {
   "cell_type": "code",
   "execution_count": 14,
   "metadata": {
    "colab": {
     "base_uri": "https://localhost:8080/",
     "height": 513
    },
    "colab_type": "code",
    "id": "mtNpDgBOSR1G",
    "outputId": "0f7584a0-d821-4196-c22f-3847fa3031b6"
   },
   "outputs": [
    {
     "data": {
      "image/png": "[encoded data removed]",
      "text/plain": [
       "<Figure size 864x576 with 1 Axes>"
      ]
     },
     "metadata": {
      "needs_background": "light"
     },
     "output_type": "display_data"
    }
   ],
   "source": [
    "# plot class counts\n",
    "y_pos = np.arange(len(unique_elements))\n",
    "plt.figure(figsize=(12,8))\n",
    "plt.bar(unique_elements, counts_elements, align='center', alpha=0.5)\n",
    "plt.xticks(y_pos, unique_elements)\n",
    "plt.ylabel('Count')\n",
    "plt.xlabel('Disease')\n",
    "plt.title('Disease Count in Sound Files (No Asthma or LRTI)')\n",
    "plt.show()"
   ]
  },
  {
   "cell_type": "code",
   "execution_count": 15,
   "metadata": {
    "colab": {},
    "colab_type": "code",
    "id": "WtqGtxmPSR1K"
   },
   "outputs": [],
   "source": [
    "# One-hot encode labels\n",
    "le = LabelEncoder()\n",
    "le.fit(train_labels)\n",
    "train_labels_cat = to_categorical(le.transform(train_labels)) \n",
    "test_labels_cat = to_categorical(le.transform(test_labels)) "
   ]
  },
  {
   "cell_type": "code",
   "execution_count": 16,
   "metadata": {},
   "outputs": [
    {
     "data": {
      "text/plain": [
       "(56, 40, 216)"
      ]
     },
     "execution_count": 16,
     "metadata": {},
     "output_type": "execute_result"
    }
   ],
   "source": [
    "train_features.shape"
   ]
  },
  {
   "cell_type": "code",
   "execution_count": 17,
   "metadata": {},
   "outputs": [],
   "source": [
    "input_dim = train_features.shape[1]*train_features.shape[2]"
   ]
  },
  {
   "cell_type": "code",
   "execution_count": 18,
   "metadata": {
    "colab": {},
    "colab_type": "code",
    "id": "MgH8aGqeSR1P"
   },
   "outputs": [
    {
     "name": "stdout",
     "output_type": "stream",
     "text": [
      "(56, 8640) (56, 2)\n",
      "(16, 8640) (16, 2)\n"
     ]
    }
   ],
   "source": [
    "train_features = np.reshape(train_features, (train_features.shape[0], input_dim))\n",
    "print(train_features.shape, train_labels_cat.shape)\n",
    "test_features = np.reshape(test_features, (test_features.shape[0], input_dim))\n",
    "print(test_features.shape, test_labels_cat.shape)"
   ]
  },
  {
   "cell_type": "code",
   "execution_count": 19,
   "metadata": {
    "colab": {},
    "colab_type": "code",
    "id": "xFPaVmUESR1T"
   },
   "outputs": [],
   "source": [
    "# train test split\n",
    "x_train, x_val, y_train, y_val = train_test_split(train_features, train_labels_cat, test_size=0.2, random_state = 42)\n",
    "x_test, y_test = test_features, test_labels_cat"
   ]
  },
  {
   "cell_type": "markdown",
   "metadata": {
    "colab_type": "text",
    "id": "SN1ipKhfSR1X"
   },
   "source": [
    "**MLP model architecture**"
   ]
  },
  {
   "cell_type": "code",
   "execution_count": 20,
   "metadata": {
    "colab": {},
    "colab_type": "code",
    "id": "oZ5PcMOrcV1B"
   },
   "outputs": [],
   "source": [
    "num_labels = train_labels_cat.shape[1]\n",
    "# Construct model \n",
    "model = Sequential()\n",
    "model.add(Dense(500, input_dim=input_dim, activation='relu'))\n",
    "# model.add(Dropout(0.2))\n",
    "\n",
    "model.add(Dense(500, activation='relu'))\n",
    "# model.add(Dropout(0.2))\n",
    "\n",
    "model.add(Dense(500, activation='relu'))\n",
    "# model.add(Dropout(0.2))\n",
    "\n",
    "model.add(Dense(500, activation='relu'))\n",
    "# model.add(Dropout(0.2))\n",
    "\n",
    "model.add(Dense(500, activation='relu'))\n",
    "# model.add(Dropout(0.2))\n",
    "\n",
    "model.add(Dense(500, activation='relu'))\n",
    "# model.add(Dropout(0.2))\n",
    "\n",
    "model.add(Dense(500, activation='relu'))\n",
    "# model.add(Dropout(0.2))\n",
    "\n",
    "model.add(Dense(500, activation='relu'))\n",
    "# model.add(Dropout(0.2))\n",
    "\n",
    "model.add(Dense(num_labels, activation='softmax')) "
   ]
  },
  {
   "cell_type": "code",
   "execution_count": 21,
   "metadata": {
    "colab": {},
    "colab_type": "code",
    "id": "VcSipiVsSR1c"
   },
   "outputs": [],
   "source": [
    "# Compile the model\n",
    "model.compile(loss='categorical_crossentropy', metrics=['accuracy'], optimizer='adam') "
   ]
  },
  {
   "cell_type": "code",
   "execution_count": 22,
   "metadata": {
    "colab": {
     "base_uri": "https://localhost:8080/",
     "height": 719
    },
    "colab_type": "code",
    "id": "UvvyonaaSR1h",
    "outputId": "9c2154c5-f927-4c3d-e89e-951ba479c079"
   },
   "outputs": [
    {
     "name": "stdout",
     "output_type": "stream",
     "text": [
      "Model: \"sequential\"\n",
      "_________________________________________________________________\n",
      "Layer (type)                 Output Shape              Param #   \n",
      "=================================================================\n",
      "dense (Dense)                (None, 500)               4320500   \n",
      "_________________________________________________________________\n",
      "dense_1 (Dense)              (None, 500)               250500    \n",
      "_________________________________________________________________\n",
      "dense_2 (Dense)              (None, 500)               250500    \n",
      "_________________________________________________________________\n",
      "dense_3 (Dense)              (None, 500)               250500    \n",
      "_________________________________________________________________\n",
      "dense_4 (Dense)              (None, 500)               250500    \n",
      "_________________________________________________________________\n",
      "dense_5 (Dense)              (None, 500)               250500    \n",
      "_________________________________________________________________\n",
      "dense_6 (Dense)              (None, 500)               250500    \n",
      "_________________________________________________________________\n",
      "dense_7 (Dense)              (None, 500)               250500    \n",
      "_________________________________________________________________\n",
      "dense_8 (Dense)              (None, 2)                 1002      \n",
      "=================================================================\n",
      "Total params: 6,075,002\n",
      "Trainable params: 6,075,002\n",
      "Non-trainable params: 0\n",
      "_________________________________________________________________\n",
      "16/16 [==============================] - 0s 15ms/sample - loss: 0.5746 - accuracy: 0.8125\n",
      "Pre-training accuracy: 81.2500%\n"
     ]
    }
   ],
   "source": [
    "# Display model architecture summary \n",
    "model.summary()\n",
    "\n",
    "# Calculate pre-training accuracy \n",
    "score = model.evaluate(x_test, y_test, verbose=1)\n",
    "accuracy = 100*score[1]\n",
    "\n",
    "print(\"Pre-training accuracy: %.4f%%\" % accuracy)"
   ]
  },
  {
   "cell_type": "markdown",
   "metadata": {
    "colab_type": "text",
    "id": "TVtD0mcDSR1j"
   },
   "source": [
    "**Training**\n",
    "\n",
    "Here we will train the model. If we have a trained model, we can load it instead from the next cell."
   ]
  },
  {
   "cell_type": "code",
   "execution_count": 23,
   "metadata": {
    "colab": {
     "base_uri": "https://localhost:8080/",
     "height": 1000
    },
    "colab_type": "code",
    "id": "ruRXrsrhSR1k",
    "outputId": "ec26a26d-ad59-4e89-c88f-6277e4d0c283"
   },
   "outputs": [
    {
     "name": "stdout",
     "output_type": "stream",
     "text": [
      "Train on 44 samples, validate on 12 samples\n",
      "Epoch 1/100\n",
      "10/44 [=====>........................] - ETA: 1s - loss: 2.3619 - accuracy: 0.5000\n",
      "Epoch 00001: val_accuracy improved from -inf to 0.58333, saving model to models/MLP1_dataset_2_no_augment_5_01.h5\n",
      "44/44 [==============================] - 1s 11ms/sample - loss: 94.0505 - accuracy: 0.3864 - val_loss: 17.9416 - val_accuracy: 0.5833\n",
      "Epoch 2/100\n",
      "10/44 [=====>........................] - ETA: 0s - loss: 23.7222 - accuracy: 0.5000\n",
      "Epoch 00002: val_accuracy did not improve from 0.58333\n",
      "44/44 [==============================] - 0s 957us/sample - loss: 12.3701 - accuracy: 0.5682 - val_loss: 3.2518 - val_accuracy: 0.4167\n",
      "Epoch 3/100\n",
      "10/44 [=====>........................] - ETA: 0s - loss: 3.1424 - accuracy: 0.4000\n",
      "Epoch 00003: val_accuracy did not improve from 0.58333\n",
      "44/44 [==============================] - 0s 908us/sample - loss: 8.4858 - accuracy: 0.4773 - val_loss: 4.8610 - val_accuracy: 0.4167\n",
      "Epoch 4/100\n",
      "10/44 [=====>........................] - ETA: 0s - loss: 5.7610 - accuracy: 0.3000\n",
      "Epoch 00004: val_accuracy did not improve from 0.58333\n",
      "44/44 [==============================] - 0s 970us/sample - loss: 3.1797 - accuracy: 0.4318 - val_loss: 3.8545 - val_accuracy: 0.4167\n",
      "Epoch 5/100\n",
      "10/44 [=====>........................] - ETA: 0s - loss: 3.7787 - accuracy: 0.4000\n",
      "Epoch 00005: val_accuracy did not improve from 0.58333\n",
      "44/44 [==============================] - 0s 860us/sample - loss: 3.3720 - accuracy: 0.4318 - val_loss: 5.0578 - val_accuracy: 0.4167\n",
      "Epoch 6/100\n",
      "10/44 [=====>........................] - ETA: 0s - loss: 3.4739 - accuracy: 0.6000\n",
      "Epoch 00006: val_accuracy did not improve from 0.58333\n",
      "44/44 [==============================] - 0s 844us/sample - loss: 2.8089 - accuracy: 0.5682 - val_loss: 1.5647 - val_accuracy: 0.5833\n",
      "Epoch 7/100\n",
      "10/44 [=====>........................] - ETA: 0s - loss: 1.5796 - accuracy: 0.6000\n",
      "Epoch 00007: val_accuracy did not improve from 0.58333\n",
      "44/44 [==============================] - 0s 898us/sample - loss: 3.9725 - accuracy: 0.4773 - val_loss: 2.1579 - val_accuracy: 0.5833\n",
      "Epoch 8/100\n",
      "10/44 [=====>........................] - ETA: 0s - loss: 1.1452 - accuracy: 0.8000\n",
      "Epoch 00008: val_accuracy did not improve from 0.58333\n",
      "44/44 [==============================] - 0s 856us/sample - loss: 0.9741 - accuracy: 0.6136 - val_loss: 2.7992 - val_accuracy: 0.4167\n",
      "Epoch 9/100\n",
      "10/44 [=====>........................] - ETA: 0s - loss: 1.4772 - accuracy: 0.7000\n",
      "Epoch 00009: val_accuracy did not improve from 0.58333\n",
      "44/44 [==============================] - 0s 818us/sample - loss: 1.4609 - accuracy: 0.5682 - val_loss: 1.7945 - val_accuracy: 0.4167\n",
      "Epoch 10/100\n",
      "10/44 [=====>........................] - ETA: 0s - loss: 1.8780 - accuracy: 0.4000\n",
      "Epoch 00010: val_accuracy did not improve from 0.58333\n",
      "44/44 [==============================] - 0s 847us/sample - loss: 1.0236 - accuracy: 0.5682 - val_loss: 1.1198 - val_accuracy: 0.5833\n",
      "Epoch 11/100\n",
      "10/44 [=====>........................] - ETA: 0s - loss: 1.0840 - accuracy: 0.6000\n",
      "Epoch 00011: val_accuracy did not improve from 0.58333\n",
      "44/44 [==============================] - 0s 854us/sample - loss: 1.0074 - accuracy: 0.5909 - val_loss: 3.0429 - val_accuracy: 0.5833\n",
      "Epoch 12/100\n",
      "10/44 [=====>........................] - ETA: 0s - loss: 3.0156 - accuracy: 0.6000\n",
      "Epoch 00012: val_accuracy did not improve from 0.58333\n",
      "44/44 [==============================] - 0s 861us/sample - loss: 1.8643 - accuracy: 0.5227 - val_loss: 1.1710 - val_accuracy: 0.4167\n",
      "Epoch 13/100\n",
      "10/44 [=====>........................] - ETA: 0s - loss: 1.0089 - accuracy: 0.5000\n",
      "Epoch 00013: val_accuracy did not improve from 0.58333\n",
      "44/44 [==============================] - 0s 810us/sample - loss: 0.9354 - accuracy: 0.5682 - val_loss: 0.7342 - val_accuracy: 0.4167\n",
      "Epoch 14/100\n",
      "10/44 [=====>........................] - ETA: 0s - loss: 0.5859 - accuracy: 0.8000\n",
      "Epoch 00014: val_accuracy did not improve from 0.58333\n",
      "44/44 [==============================] - 0s 932us/sample - loss: 0.6409 - accuracy: 0.6591 - val_loss: 0.7673 - val_accuracy: 0.4167\n",
      "Epoch 15/100\n",
      "10/44 [=====>........................] - ETA: 0s - loss: 0.6469 - accuracy: 0.6000\n",
      "Epoch 00015: val_accuracy did not improve from 0.58333\n",
      "44/44 [==============================] - 0s 818us/sample - loss: 0.6130 - accuracy: 0.5909 - val_loss: 0.8163 - val_accuracy: 0.5833\n",
      "Epoch 16/100\n",
      "10/44 [=====>........................] - ETA: 0s - loss: 0.3148 - accuracy: 0.9000\n",
      "Epoch 00016: val_accuracy did not improve from 0.58333\n",
      "44/44 [==============================] - 0s 808us/sample - loss: 0.4526 - accuracy: 0.7727 - val_loss: 1.6069 - val_accuracy: 0.5000\n",
      "Epoch 17/100\n",
      "10/44 [=====>........................] - ETA: 0s - loss: 1.0819 - accuracy: 0.6000\n",
      "Epoch 00017: val_accuracy did not improve from 0.58333\n",
      "44/44 [==============================] - 0s 871us/sample - loss: 1.4104 - accuracy: 0.4318 - val_loss: 0.8485 - val_accuracy: 0.5000\n",
      "Epoch 18/100\n",
      "10/44 [=====>........................] - ETA: 0s - loss: 0.6809 - accuracy: 0.5000\n",
      "Epoch 00018: val_accuracy did not improve from 0.58333\n",
      "44/44 [==============================] - 0s 974us/sample - loss: 0.8272 - accuracy: 0.4545 - val_loss: 0.6806 - val_accuracy: 0.4167\n",
      "Epoch 19/100\n",
      "10/44 [=====>........................] - ETA: 0s - loss: 0.4684 - accuracy: 1.0000\n",
      "Epoch 00019: val_accuracy did not improve from 0.58333\n",
      "44/44 [==============================] - 0s 909us/sample - loss: 0.4063 - accuracy: 0.9545 - val_loss: 0.8914 - val_accuracy: 0.5833\n",
      "Epoch 20/100\n",
      "10/44 [=====>........................] - ETA: 0s - loss: 0.3196 - accuracy: 0.9000\n",
      "Epoch 00020: val_accuracy did not improve from 0.58333\n",
      "44/44 [==============================] - 0s 866us/sample - loss: 0.3738 - accuracy: 0.8636 - val_loss: 0.8026 - val_accuracy: 0.4167\n",
      "Epoch 21/100\n",
      "10/44 [=====>........................] - ETA: 0s - loss: 0.3336 - accuracy: 0.9000\n",
      "Epoch 00021: val_accuracy did not improve from 0.58333\n",
      "44/44 [==============================] - 0s 949us/sample - loss: 0.3102 - accuracy: 0.8182 - val_loss: 1.4963 - val_accuracy: 0.5833\n",
      "Epoch 22/100\n",
      "10/44 [=====>........................] - ETA: 0s - loss: 0.7770 - accuracy: 0.6000\n",
      "Epoch 00022: val_accuracy did not improve from 0.58333\n",
      "44/44 [==============================] - 0s 975us/sample - loss: 0.2879 - accuracy: 0.9091 - val_loss: 2.0448 - val_accuracy: 0.5833\n",
      "Epoch 23/100\n",
      "10/44 [=====>........................] - ETA: 0s - loss: 0.4433 - accuracy: 0.7000\n",
      "Epoch 00023: val_accuracy improved from 0.58333 to 0.66667, saving model to models/MLP1_dataset_2_no_augment_5_23.h5\n",
      "44/44 [==============================] - 0s 4ms/sample - loss: 0.2983 - accuracy: 0.8409 - val_loss: 0.9617 - val_accuracy: 0.6667\n",
      "Epoch 24/100\n",
      "10/44 [=====>........................] - ETA: 0s - loss: 0.0747 - accuracy: 1.0000\n",
      "Epoch 00024: val_accuracy did not improve from 0.66667\n",
      "44/44 [==============================] - 0s 893us/sample - loss: 0.3130 - accuracy: 0.9318 - val_loss: 1.3019 - val_accuracy: 0.5833\n",
      "Epoch 25/100\n",
      "10/44 [=====>........................] - ETA: 0s - loss: 0.8473 - accuracy: 0.5000\n",
      "Epoch 00025: val_accuracy improved from 0.66667 to 0.75000, saving model to models/MLP1_dataset_2_no_augment_5_25.h5\n",
      "44/44 [==============================] - 0s 4ms/sample - loss: 0.3047 - accuracy: 0.8636 - val_loss: 0.5564 - val_accuracy: 0.7500\n",
      "Epoch 26/100\n",
      "10/44 [=====>........................] - ETA: 0s - loss: 0.0454 - accuracy: 1.0000\n",
      "Epoch 00026: val_accuracy did not improve from 0.75000\n",
      "44/44 [==============================] - 0s 916us/sample - loss: 0.0967 - accuracy: 0.9773 - val_loss: 0.8363 - val_accuracy: 0.6667\n",
      "Epoch 27/100\n",
      "10/44 [=====>........................] - ETA: 0s - loss: 0.0212 - accuracy: 1.0000\n",
      "Epoch 00027: val_accuracy improved from 0.75000 to 0.83333, saving model to models/MLP1_dataset_2_no_augment_5_27.h5\n",
      "44/44 [==============================] - 0s 4ms/sample - loss: 0.0090 - accuracy: 1.0000 - val_loss: 0.8905 - val_accuracy: 0.8333\n",
      "Epoch 28/100\n",
      "10/44 [=====>........................] - ETA: 0s - loss: 0.0024 - accuracy: 1.0000\n",
      "Epoch 00028: val_accuracy did not improve from 0.83333\n",
      "44/44 [==============================] - 0s 945us/sample - loss: 0.0559 - accuracy: 0.9773 - val_loss: 8.6465 - val_accuracy: 0.5000\n",
      "Epoch 29/100\n",
      "10/44 [=====>........................] - ETA: 0s - loss: 7.2061 - accuracy: 0.4000\n",
      "Epoch 00029: val_accuracy did not improve from 0.83333\n",
      "44/44 [==============================] - 0s 998us/sample - loss: 3.4497 - accuracy: 0.6364 - val_loss: 0.7620 - val_accuracy: 0.4167\n",
      "Epoch 30/100\n",
      "10/44 [=====>........................] - ETA: 0s - loss: 0.7580 - accuracy: 0.4000\n",
      "Epoch 00030: val_accuracy did not improve from 0.83333\n",
      "44/44 [==============================] - 0s 966us/sample - loss: 0.4436 - accuracy: 0.8636 - val_loss: 0.7013 - val_accuracy: 0.7500\n",
      "Epoch 31/100\n",
      "10/44 [=====>........................] - ETA: 0s - loss: 0.0961 - accuracy: 1.0000\n",
      "Epoch 00031: val_accuracy did not improve from 0.83333\n",
      "44/44 [==============================] - 0s 857us/sample - loss: 0.0827 - accuracy: 0.9773 - val_loss: 1.2665 - val_accuracy: 0.6667\n",
      "Epoch 32/100\n",
      "10/44 [=====>........................] - ETA: 0s - loss: 0.0020 - accuracy: 1.0000\n",
      "Epoch 00032: val_accuracy did not improve from 0.83333\n",
      "44/44 [==============================] - 0s 891us/sample - loss: 0.7493 - accuracy: 0.9318 - val_loss: 1.0801 - val_accuracy: 0.7500\n",
      "Epoch 33/100\n",
      "10/44 [=====>........................] - ETA: 0s - loss: 0.0015 - accuracy: 1.0000\n",
      "Epoch 00033: val_accuracy did not improve from 0.83333\n",
      "44/44 [==============================] - 0s 1ms/sample - loss: 1.1249 - accuracy: 0.6591 - val_loss: 0.5900 - val_accuracy: 0.6667\n",
      "Epoch 34/100\n",
      "10/44 [=====>........................] - ETA: 0s - loss: 0.4378 - accuracy: 0.9000\n",
      "Epoch 00034: val_accuracy did not improve from 0.83333\n",
      "44/44 [==============================] - 0s 802us/sample - loss: 0.2838 - accuracy: 0.9773 - val_loss: 0.7199 - val_accuracy: 0.5833\n",
      "Epoch 35/100\n",
      "10/44 [=====>........................] - ETA: 0s - loss: 0.0749 - accuracy: 1.0000\n",
      "Epoch 00035: val_accuracy did not improve from 0.83333\n",
      "44/44 [==============================] - 0s 809us/sample - loss: 0.0592 - accuracy: 0.9773 - val_loss: 1.4544 - val_accuracy: 0.6667\n",
      "Epoch 36/100\n",
      "10/44 [=====>........................] - ETA: 0s - loss: 0.2855 - accuracy: 0.9000\n",
      "Epoch 00036: val_accuracy did not improve from 0.83333\n",
      "44/44 [==============================] - 0s 854us/sample - loss: 0.0680 - accuracy: 0.9773 - val_loss: 3.8448 - val_accuracy: 0.6667\n",
      "Epoch 37/100\n",
      "10/44 [=====>........................] - ETA: 0s - loss: 0.6497 - accuracy: 0.9000\n",
      "Epoch 00037: val_accuracy did not improve from 0.83333\n",
      "44/44 [==============================] - 0s 909us/sample - loss: 0.2897 - accuracy: 0.9545 - val_loss: 0.9672 - val_accuracy: 0.7500\n",
      "Epoch 38/100\n",
      "10/44 [=====>........................] - ETA: 0s - loss: 0.0072 - accuracy: 1.0000\n",
      "Epoch 00038: val_accuracy did not improve from 0.83333\n",
      "44/44 [==============================] - 0s 929us/sample - loss: 0.0054 - accuracy: 1.0000 - val_loss: 1.2716 - val_accuracy: 0.5833\n",
      "Epoch 39/100\n",
      "10/44 [=====>........................] - ETA: 0s - loss: 0.0146 - accuracy: 1.0000\n",
      "Epoch 00039: val_accuracy did not improve from 0.83333\n",
      "44/44 [==============================] - 0s 974us/sample - loss: 0.0131 - accuracy: 1.0000 - val_loss: 1.4037 - val_accuracy: 0.6667\n",
      "Epoch 40/100\n",
      "10/44 [=====>........................] - ETA: 0s - loss: 0.0017 - accuracy: 1.0000\n",
      "Epoch 00040: val_accuracy did not improve from 0.83333\n",
      "44/44 [==============================] - 0s 932us/sample - loss: 6.1990e-04 - accuracy: 1.0000 - val_loss: 1.4079 - val_accuracy: 0.8333\n",
      "Epoch 41/100\n",
      "10/44 [=====>........................] - ETA: 0s - loss: 1.6891e-05 - accuracy: 1.0000\n",
      "Epoch 00041: val_accuracy did not improve from 0.83333\n",
      "44/44 [==============================] - 0s 985us/sample - loss: 6.1925e-05 - accuracy: 1.0000 - val_loss: 1.9257 - val_accuracy: 0.8333\n",
      "Epoch 42/100\n",
      "10/44 [=====>........................] - ETA: 0s - loss: 2.6485e-05 - accuracy: 1.0000\n",
      "Epoch 00042: val_accuracy did not improve from 0.83333\n",
      "44/44 [==============================] - 0s 931us/sample - loss: 9.7932e-06 - accuracy: 1.0000 - val_loss: 2.3596 - val_accuracy: 0.8333\n",
      "Epoch 43/100\n",
      "10/44 [=====>........................] - ETA: 0s - loss: 4.8755e-06 - accuracy: 1.0000\n",
      "Epoch 00043: val_accuracy did not improve from 0.83333\n",
      "44/44 [==============================] - 0s 960us/sample - loss: 1.2381e-06 - accuracy: 1.0000 - val_loss: 2.6641 - val_accuracy: 0.8333\n",
      "Epoch 44/100\n",
      "10/44 [=====>........................] - ETA: 0s - loss: 7.1526e-08 - accuracy: 1.0000\n",
      "Epoch 00044: val_accuracy did not improve from 0.83333\n",
      "44/44 [==============================] - 0s 805us/sample - loss: 1.8423e-07 - accuracy: 1.0000 - val_loss: 2.8708 - val_accuracy: 0.8333\n",
      "Epoch 45/100\n",
      "10/44 [=====>........................] - ETA: 0s - loss: 0.0000e+00 - accuracy: 1.0000\n",
      "Epoch 00045: val_accuracy did not improve from 0.83333\n",
      "44/44 [==============================] - 0s 882us/sample - loss: 5.1477e-08 - accuracy: 1.0000 - val_loss: 3.0052 - val_accuracy: 0.8333\n",
      "Epoch 46/100\n",
      "10/44 [=====>........................] - ETA: 0s - loss: 1.1921e-07 - accuracy: 1.0000\n",
      "Epoch 00046: val_accuracy did not improve from 0.83333\n",
      "44/44 [==============================] - 0s 949us/sample - loss: 2.9802e-08 - accuracy: 1.0000 - val_loss: 3.0896 - val_accuracy: 0.8333\n",
      "Epoch 47/100\n",
      "10/44 [=====>........................] - ETA: 0s - loss: 0.0000e+00 - accuracy: 1.0000\n",
      "Epoch 00047: val_accuracy did not improve from 0.83333\n",
      "44/44 [==============================] - 0s 872us/sample - loss: 1.3547e-08 - accuracy: 1.0000 - val_loss: 3.1427 - val_accuracy: 0.8333\n",
      "Epoch 48/100\n",
      "10/44 [=====>........................] - ETA: 0s - loss: 0.0000e+00 - accuracy: 1.0000\n",
      "Epoch 00048: val_accuracy did not improve from 0.83333\n",
      "44/44 [==============================] - 0s 882us/sample - loss: 1.0837e-08 - accuracy: 1.0000 - val_loss: 3.1756 - val_accuracy: 0.8333\n",
      "Epoch 49/100\n",
      "10/44 [=====>........................] - ETA: 0s - loss: 0.0000e+00 - accuracy: 1.0000\n",
      "Epoch 00049: val_accuracy did not improve from 0.83333\n",
      "44/44 [==============================] - 0s 874us/sample - loss: 8.1279e-09 - accuracy: 1.0000 - val_loss: 3.1957 - val_accuracy: 0.8333\n",
      "Epoch 50/100\n",
      "10/44 [=====>........................] - ETA: 0s - loss: 0.0000e+00 - accuracy: 1.0000\n",
      "Epoch 00050: val_accuracy did not improve from 0.83333\n",
      "44/44 [==============================] - 0s 931us/sample - loss: 8.1279e-09 - accuracy: 1.0000 - val_loss: 3.2080 - val_accuracy: 0.8333\n",
      "Epoch 51/100\n",
      "10/44 [=====>........................] - ETA: 0s - loss: 0.0000e+00 - accuracy: 1.0000\n",
      "Epoch 00051: val_accuracy did not improve from 0.83333\n",
      "44/44 [==============================] - 0s 914us/sample - loss: 8.1279e-09 - accuracy: 1.0000 - val_loss: 3.2156 - val_accuracy: 0.8333\n",
      "Epoch 52/100\n",
      "10/44 [=====>........................] - ETA: 0s - loss: 0.0000e+00 - accuracy: 1.0000\n",
      "Epoch 00052: val_accuracy did not improve from 0.83333\n",
      "44/44 [==============================] - 0s 944us/sample - loss: 8.1279e-09 - accuracy: 1.0000 - val_loss: 3.2203 - val_accuracy: 0.8333\n",
      "Epoch 53/100\n",
      "10/44 [=====>........................] - ETA: 0s - loss: 3.5763e-08 - accuracy: 1.0000\n",
      "Epoch 00053: val_accuracy did not improve from 0.83333\n",
      "44/44 [==============================] - 0s 846us/sample - loss: 8.1279e-09 - accuracy: 1.0000 - val_loss: 3.2235 - val_accuracy: 0.8333\n",
      "Epoch 54/100\n",
      "10/44 [=====>........................] - ETA: 0s - loss: 0.0000e+00 - accuracy: 1.0000\n",
      "Epoch 00054: val_accuracy did not improve from 0.83333\n",
      "44/44 [==============================] - 0s 822us/sample - loss: 5.4186e-09 - accuracy: 1.0000 - val_loss: 3.2255 - val_accuracy: 0.8333\n",
      "Epoch 55/100\n",
      "10/44 [=====>........................] - ETA: 0s - loss: 0.0000e+00 - accuracy: 1.0000\n",
      "Epoch 00055: val_accuracy did not improve from 0.83333\n",
      "44/44 [==============================] - 0s 883us/sample - loss: 5.4186e-09 - accuracy: 1.0000 - val_loss: 3.2269 - val_accuracy: 0.8333\n",
      "Epoch 56/100\n",
      "10/44 [=====>........................] - ETA: 0s - loss: 2.3842e-08 - accuracy: 1.0000\n",
      "Epoch 00056: val_accuracy did not improve from 0.83333\n",
      "44/44 [==============================] - 0s 870us/sample - loss: 5.4186e-09 - accuracy: 1.0000 - val_loss: 3.2280 - val_accuracy: 0.8333\n",
      "Epoch 57/100\n",
      "10/44 [=====>........................] - ETA: 0s - loss: 0.0000e+00 - accuracy: 1.0000\n",
      "Epoch 00057: val_accuracy did not improve from 0.83333\n",
      "44/44 [==============================] - 0s 968us/sample - loss: 5.4186e-09 - accuracy: 1.0000 - val_loss: 3.2287 - val_accuracy: 0.8333\n",
      "Epoch 58/100\n",
      "10/44 [=====>........................] - ETA: 0s - loss: 0.0000e+00 - accuracy: 1.0000\n",
      "Epoch 00058: val_accuracy did not improve from 0.83333\n",
      "44/44 [==============================] - 0s 964us/sample - loss: 5.4186e-09 - accuracy: 1.0000 - val_loss: 3.2295 - val_accuracy: 0.8333\n",
      "Epoch 59/100\n",
      "10/44 [=====>........................] - ETA: 0s - loss: 0.0000e+00 - accuracy: 1.0000\n",
      "Epoch 00059: val_accuracy did not improve from 0.83333\n",
      "44/44 [==============================] - 0s 926us/sample - loss: 5.4186e-09 - accuracy: 1.0000 - val_loss: 3.2301 - val_accuracy: 0.8333\n",
      "Epoch 60/100\n",
      "10/44 [=====>........................] - ETA: 0s - loss: 2.3842e-08 - accuracy: 1.0000\n",
      "Epoch 00060: val_accuracy did not improve from 0.83333\n",
      "44/44 [==============================] - 0s 936us/sample - loss: 5.4186e-09 - accuracy: 1.0000 - val_loss: 3.2307 - val_accuracy: 0.8333\n",
      "Epoch 61/100\n",
      "10/44 [=====>........................] - ETA: 0s - loss: 0.0000e+00 - accuracy: 1.0000\n",
      "Epoch 00061: val_accuracy did not improve from 0.83333\n",
      "44/44 [==============================] - 0s 891us/sample - loss: 5.4186e-09 - accuracy: 1.0000 - val_loss: 3.2312 - val_accuracy: 0.8333\n",
      "Epoch 62/100\n",
      "10/44 [=====>........................] - ETA: 0s - loss: 0.0000e+00 - accuracy: 1.0000\n",
      "Epoch 00062: val_accuracy did not improve from 0.83333\n",
      "44/44 [==============================] - 0s 903us/sample - loss: 5.4186e-09 - accuracy: 1.0000 - val_loss: 3.2317 - val_accuracy: 0.8333\n",
      "Epoch 63/100\n",
      "10/44 [=====>........................] - ETA: 0s - loss: 0.0000e+00 - accuracy: 1.0000\n",
      "Epoch 00063: val_accuracy did not improve from 0.83333\n",
      "44/44 [==============================] - 0s 878us/sample - loss: 5.4186e-09 - accuracy: 1.0000 - val_loss: 3.2321 - val_accuracy: 0.8333\n",
      "Epoch 64/100\n",
      "10/44 [=====>........................] - ETA: 0s - loss: 0.0000e+00 - accuracy: 1.0000\n",
      "Epoch 00064: val_accuracy did not improve from 0.83333\n",
      "44/44 [==============================] - 0s 920us/sample - loss: 5.4186e-09 - accuracy: 1.0000 - val_loss: 3.2327 - val_accuracy: 0.8333\n",
      "Epoch 65/100\n",
      "10/44 [=====>........................] - ETA: 0s - loss: 2.3842e-08 - accuracy: 1.0000\n",
      "Epoch 00065: val_accuracy did not improve from 0.83333\n",
      "44/44 [==============================] - 0s 940us/sample - loss: 5.4186e-09 - accuracy: 1.0000 - val_loss: 3.2333 - val_accuracy: 0.8333\n",
      "Epoch 66/100\n",
      "10/44 [=====>........................] - ETA: 0s - loss: 0.0000e+00 - accuracy: 1.0000\n",
      "Epoch 00066: val_accuracy did not improve from 0.83333\n",
      "44/44 [==============================] - 0s 984us/sample - loss: 5.4186e-09 - accuracy: 1.0000 - val_loss: 3.2340 - val_accuracy: 0.8333\n",
      "Epoch 67/100\n",
      "10/44 [=====>........................] - ETA: 0s - loss: 0.0000e+00 - accuracy: 1.0000\n",
      "Epoch 00067: val_accuracy did not improve from 0.83333\n",
      "44/44 [==============================] - 0s 928us/sample - loss: 5.4186e-09 - accuracy: 1.0000 - val_loss: 3.2346 - val_accuracy: 0.8333\n",
      "Epoch 68/100\n",
      "10/44 [=====>........................] - ETA: 0s - loss: 0.0000e+00 - accuracy: 1.0000\n",
      "Epoch 00068: val_accuracy did not improve from 0.83333\n",
      "44/44 [==============================] - 0s 959us/sample - loss: 5.4186e-09 - accuracy: 1.0000 - val_loss: 3.2353 - val_accuracy: 0.8333\n",
      "Epoch 69/100\n",
      "10/44 [=====>........................] - ETA: 0s - loss: 0.0000e+00 - accuracy: 1.0000\n",
      "Epoch 00069: val_accuracy did not improve from 0.83333\n",
      "44/44 [==============================] - 0s 966us/sample - loss: 5.4186e-09 - accuracy: 1.0000 - val_loss: 3.2359 - val_accuracy: 0.8333\n",
      "Epoch 70/100\n",
      "10/44 [=====>........................] - ETA: 0s - loss: 0.0000e+00 - accuracy: 1.0000\n",
      "Epoch 00070: val_accuracy did not improve from 0.83333\n",
      "44/44 [==============================] - 0s 913us/sample - loss: 5.4186e-09 - accuracy: 1.0000 - val_loss: 3.2365 - val_accuracy: 0.8333\n",
      "Epoch 71/100\n",
      "10/44 [=====>........................] - ETA: 0s - loss: 0.0000e+00 - accuracy: 1.0000\n",
      "Epoch 00071: val_accuracy did not improve from 0.83333\n",
      "44/44 [==============================] - 0s 834us/sample - loss: 5.4186e-09 - accuracy: 1.0000 - val_loss: 3.2372 - val_accuracy: 0.8333\n",
      "Epoch 72/100\n",
      "10/44 [=====>........................] - ETA: 0s - loss: 0.0000e+00 - accuracy: 1.0000\n",
      "Epoch 00072: val_accuracy did not improve from 0.83333\n",
      "44/44 [==============================] - 0s 918us/sample - loss: 5.4186e-09 - accuracy: 1.0000 - val_loss: 3.2382 - val_accuracy: 0.8333\n",
      "Epoch 73/100\n",
      "10/44 [=====>........................] - ETA: 0s - loss: 2.3842e-08 - accuracy: 1.0000\n",
      "Epoch 00073: val_accuracy did not improve from 0.83333\n",
      "44/44 [==============================] - 0s 965us/sample - loss: 5.4186e-09 - accuracy: 1.0000 - val_loss: 3.2392 - val_accuracy: 0.8333\n",
      "Epoch 74/100\n",
      "10/44 [=====>........................] - ETA: 0s - loss: 0.0000e+00 - accuracy: 1.0000\n",
      "Epoch 00074: val_accuracy did not improve from 0.83333\n",
      "44/44 [==============================] - 0s 960us/sample - loss: 5.4186e-09 - accuracy: 1.0000 - val_loss: 3.2400 - val_accuracy: 0.8333\n",
      "Epoch 75/100\n",
      "10/44 [=====>........................] - ETA: 0s - loss: 0.0000e+00 - accuracy: 1.0000\n",
      "Epoch 00075: val_accuracy did not improve from 0.83333\n",
      "44/44 [==============================] - 0s 922us/sample - loss: 5.4186e-09 - accuracy: 1.0000 - val_loss: 3.2409 - val_accuracy: 0.8333\n",
      "Epoch 76/100\n",
      "10/44 [=====>........................] - ETA: 0s - loss: 0.0000e+00 - accuracy: 1.0000\n",
      "Epoch 00076: val_accuracy did not improve from 0.83333\n",
      "44/44 [==============================] - 0s 837us/sample - loss: 5.4186e-09 - accuracy: 1.0000 - val_loss: 3.2415 - val_accuracy: 0.8333\n",
      "Epoch 77/100\n",
      "10/44 [=====>........................] - ETA: 0s - loss: 0.0000e+00 - accuracy: 1.0000\n",
      "Epoch 00077: val_accuracy did not improve from 0.83333\n",
      "44/44 [==============================] - 0s 962us/sample - loss: 5.4186e-09 - accuracy: 1.0000 - val_loss: 3.2427 - val_accuracy: 0.8333\n",
      "Epoch 78/100\n",
      "10/44 [=====>........................] - ETA: 0s - loss: 0.0000e+00 - accuracy: 1.0000\n",
      "Epoch 00078: val_accuracy did not improve from 0.83333\n",
      "44/44 [==============================] - 0s 1ms/sample - loss: 5.4186e-09 - accuracy: 1.0000 - val_loss: 3.2436 - val_accuracy: 0.8333\n",
      "Epoch 79/100\n",
      "10/44 [=====>........................] - ETA: 0s - loss: 0.0000e+00 - accuracy: 1.0000\n",
      "Epoch 00079: val_accuracy did not improve from 0.83333\n",
      "44/44 [==============================] - 0s 1ms/sample - loss: 5.4186e-09 - accuracy: 1.0000 - val_loss: 3.2443 - val_accuracy: 0.8333\n",
      "Epoch 80/100\n",
      "10/44 [=====>........................] - ETA: 0s - loss: 0.0000e+00 - accuracy: 1.0000\n",
      "Epoch 00080: val_accuracy did not improve from 0.83333\n",
      "44/44 [==============================] - 0s 895us/sample - loss: 5.4186e-09 - accuracy: 1.0000 - val_loss: 3.2454 - val_accuracy: 0.8333\n",
      "Epoch 81/100\n",
      "10/44 [=====>........................] - ETA: 0s - loss: 2.3842e-08 - accuracy: 1.0000\n",
      "Epoch 00081: val_accuracy did not improve from 0.83333\n",
      "44/44 [==============================] - 0s 918us/sample - loss: 5.4186e-09 - accuracy: 1.0000 - val_loss: 3.2465 - val_accuracy: 0.8333\n",
      "Epoch 82/100\n",
      "10/44 [=====>........................] - ETA: 0s - loss: 0.0000e+00 - accuracy: 1.0000\n",
      "Epoch 00082: val_accuracy did not improve from 0.83333\n",
      "44/44 [==============================] - 0s 853us/sample - loss: 5.4186e-09 - accuracy: 1.0000 - val_loss: 3.2473 - val_accuracy: 0.8333\n",
      "Epoch 83/100\n",
      "10/44 [=====>........................] - ETA: 0s - loss: 0.0000e+00 - accuracy: 1.0000\n",
      "Epoch 00083: val_accuracy did not improve from 0.83333\n",
      "44/44 [==============================] - 0s 989us/sample - loss: 5.4186e-09 - accuracy: 1.0000 - val_loss: 3.2481 - val_accuracy: 0.8333\n",
      "Epoch 84/100\n",
      "10/44 [=====>........................] - ETA: 0s - loss: 0.0000e+00 - accuracy: 1.0000\n",
      "Epoch 00084: val_accuracy did not improve from 0.83333\n",
      "44/44 [==============================] - 0s 896us/sample - loss: 5.4186e-09 - accuracy: 1.0000 - val_loss: 3.2488 - val_accuracy: 0.8333\n",
      "Epoch 85/100\n",
      "10/44 [=====>........................] - ETA: 0s - loss: 0.0000e+00 - accuracy: 1.0000\n",
      "Epoch 00085: val_accuracy did not improve from 0.83333\n",
      "44/44 [==============================] - 0s 914us/sample - loss: 5.4186e-09 - accuracy: 1.0000 - val_loss: 3.2495 - val_accuracy: 0.8333\n",
      "Epoch 86/100\n",
      "10/44 [=====>........................] - ETA: 0s - loss: 0.0000e+00 - accuracy: 1.0000\n",
      "Epoch 00086: val_accuracy did not improve from 0.83333\n",
      "44/44 [==============================] - 0s 947us/sample - loss: 5.4186e-09 - accuracy: 1.0000 - val_loss: 3.2502 - val_accuracy: 0.8333\n",
      "Epoch 87/100\n",
      "10/44 [=====>........................] - ETA: 0s - loss: 0.0000e+00 - accuracy: 1.0000\n",
      "Epoch 00087: val_accuracy did not improve from 0.83333\n",
      "44/44 [==============================] - 0s 929us/sample - loss: 5.4186e-09 - accuracy: 1.0000 - val_loss: 3.2509 - val_accuracy: 0.8333\n",
      "Epoch 88/100\n",
      "10/44 [=====>........................] - ETA: 0s - loss: 0.0000e+00 - accuracy: 1.0000\n",
      "Epoch 00088: val_accuracy did not improve from 0.83333\n",
      "44/44 [==============================] - 0s 947us/sample - loss: 5.4186e-09 - accuracy: 1.0000 - val_loss: 3.2517 - val_accuracy: 0.8333\n",
      "Epoch 89/100\n",
      "10/44 [=====>........................] - ETA: 0s - loss: 1.1921e-08 - accuracy: 1.0000\n",
      "Epoch 00089: val_accuracy did not improve from 0.83333\n",
      "44/44 [==============================] - 0s 815us/sample - loss: 2.7093e-09 - accuracy: 1.0000 - val_loss: 3.2524 - val_accuracy: 0.8333\n",
      "Epoch 90/100\n",
      "10/44 [=====>........................] - ETA: 0s - loss: 0.0000e+00 - accuracy: 1.0000\n",
      "Epoch 00090: val_accuracy did not improve from 0.83333\n",
      "44/44 [==============================] - 0s 918us/sample - loss: 2.7093e-09 - accuracy: 1.0000 - val_loss: 3.2530 - val_accuracy: 0.8333\n",
      "Epoch 91/100\n",
      "10/44 [=====>........................] - ETA: 0s - loss: 0.0000e+00 - accuracy: 1.0000\n",
      "Epoch 00091: val_accuracy did not improve from 0.83333\n",
      "44/44 [==============================] - 0s 907us/sample - loss: 2.7093e-09 - accuracy: 1.0000 - val_loss: 3.2536 - val_accuracy: 0.8333\n",
      "Epoch 92/100\n",
      "10/44 [=====>........................] - ETA: 0s - loss: 0.0000e+00 - accuracy: 1.0000\n",
      "Epoch 00092: val_accuracy did not improve from 0.83333\n",
      "44/44 [==============================] - 0s 1ms/sample - loss: 2.7093e-09 - accuracy: 1.0000 - val_loss: 3.2540 - val_accuracy: 0.8333\n",
      "Epoch 93/100\n",
      "10/44 [=====>........................] - ETA: 0s - loss: 0.0000e+00 - accuracy: 1.0000\n",
      "Epoch 00093: val_accuracy did not improve from 0.83333\n",
      "44/44 [==============================] - 0s 961us/sample - loss: 2.7093e-09 - accuracy: 1.0000 - val_loss: 3.2545 - val_accuracy: 0.8333\n",
      "Epoch 94/100\n",
      "10/44 [=====>........................] - ETA: 0s - loss: 1.1921e-08 - accuracy: 1.0000\n",
      "Epoch 00094: val_accuracy did not improve from 0.83333\n",
      "44/44 [==============================] - 0s 880us/sample - loss: 2.7093e-09 - accuracy: 1.0000 - val_loss: 3.2551 - val_accuracy: 0.8333\n",
      "Epoch 95/100\n",
      "10/44 [=====>........................] - ETA: 0s - loss: 0.0000e+00 - accuracy: 1.0000\n",
      "Epoch 00095: val_accuracy did not improve from 0.83333\n",
      "44/44 [==============================] - 0s 951us/sample - loss: 2.7093e-09 - accuracy: 1.0000 - val_loss: 3.2555 - val_accuracy: 0.8333\n",
      "Epoch 96/100\n",
      "10/44 [=====>........................] - ETA: 0s - loss: 1.1921e-08 - accuracy: 1.0000\n",
      "Epoch 00096: val_accuracy did not improve from 0.83333\n",
      "44/44 [==============================] - 0s 893us/sample - loss: 2.7093e-09 - accuracy: 1.0000 - val_loss: 3.2561 - val_accuracy: 0.8333\n",
      "Epoch 97/100\n",
      "10/44 [=====>........................] - ETA: 0s - loss: 1.1921e-08 - accuracy: 1.0000\n",
      "Epoch 00097: val_accuracy did not improve from 0.83333\n",
      "44/44 [==============================] - 0s 1ms/sample - loss: 2.7093e-09 - accuracy: 1.0000 - val_loss: 3.2566 - val_accuracy: 0.8333\n",
      "Epoch 98/100\n",
      "10/44 [=====>........................] - ETA: 0s - loss: 0.0000e+00 - accuracy: 1.0000\n",
      "Epoch 00098: val_accuracy did not improve from 0.83333\n",
      "44/44 [==============================] - 0s 923us/sample - loss: 2.7093e-09 - accuracy: 1.0000 - val_loss: 3.2570 - val_accuracy: 0.8333\n",
      "Epoch 99/100\n",
      "10/44 [=====>........................] - ETA: 0s - loss: 0.0000e+00 - accuracy: 1.0000\n",
      "Epoch 00099: val_accuracy did not improve from 0.83333\n",
      "44/44 [==============================] - 0s 988us/sample - loss: 2.7093e-09 - accuracy: 1.0000 - val_loss: 3.2575 - val_accuracy: 0.8333\n",
      "Epoch 100/100\n",
      "10/44 [=====>........................] - ETA: 0s - loss: 0.0000e+00 - accuracy: 1.0000\n",
      "Epoch 00100: val_accuracy did not improve from 0.83333\n",
      "44/44 [==============================] - 0s 888us/sample - loss: 2.7093e-09 - accuracy: 1.0000 - val_loss: 3.2583 - val_accuracy: 0.8333\n",
      "Training completed in time:  0:00:05.009364\n"
     ]
    }
   ],
   "source": [
    "# train model\n",
    "num_epochs = 100\n",
    "num_batch_size = 10\n",
    "\n",
    "os.makedirs('models', exist_ok=True)\n",
    "callbacks = [\n",
    "    ModelCheckpoint(\n",
    "        filepath='models/' + MODEL_NAME + '_{epoch:02d}.h5',\n",
    "        # Path where to save the model\n",
    "        # The two parameters below mean that we will overwrite\n",
    "        # the current checkpoint if and only if\n",
    "        # the `val_accuracy` score has improved.\n",
    "        save_best_only=True,\n",
    "        monitor='val_accuracy',\n",
    "        verbose=1)\n",
    "]\n",
    "start = datetime.now()\n",
    "\n",
    "history = model.fit(x_train, y_train, batch_size=num_batch_size, epochs=num_epochs,\n",
    "                    validation_data=(x_val, y_val), callbacks=callbacks, verbose=1)\n",
    "\n",
    "\n",
    "duration = datetime.now() - start\n",
    "print(\"Training completed in time: \", duration)"
   ]
  },
  {
   "cell_type": "markdown",
   "metadata": {},
   "source": [
    "**Plot accuracies and losses**"
   ]
  },
  {
   "cell_type": "code",
   "execution_count": 24,
   "metadata": {},
   "outputs": [
    {
     "data": {
      "image/png": "[encoded data removed]",
      "text/plain": [
       "<Figure size 432x288 with 1 Axes>"
      ]
     },
     "metadata": {
      "needs_background": "light"
     },
     "output_type": "display_data"
    },
    {
     "data": {
      "image/png": "[encoded data removed]",
      "text/plain": [
       "<Figure size 432x288 with 1 Axes>"
      ]
     },
     "metadata": {
      "needs_background": "light"
     },
     "output_type": "display_data"
    }
   ],
   "source": [
    "# Plot training & validation accuracy values\n",
    "plt.plot(history.history['accuracy'])\n",
    "plt.plot(history.history['val_accuracy'])\n",
    "plt.title('Model accuracy')\n",
    "plt.ylabel('Accuracy')\n",
    "plt.xlabel('Epoch')\n",
    "plt.legend(['Train', 'Test'], loc='upper left')\n",
    "plt.show()\n",
    "\n",
    "# Plot training & validation loss values\n",
    "plt.plot(history.history['loss'])\n",
    "plt.plot(history.history['val_loss'])\n",
    "plt.title('Model loss')\n",
    "plt.ylabel('Loss')\n",
    "plt.xlabel('Epoch')\n",
    "plt.legend(['Train', 'Test'], loc='upper left')\n",
    "plt.show()"
   ]
  },
  {
   "cell_type": "markdown",
   "metadata": {
    "colab_type": "text",
    "id": "diDQglrhSR1n"
   },
   "source": [
    "## Teste"
   ]
  },
  {
   "cell_type": "code",
   "execution_count": 25,
   "metadata": {
    "colab": {
     "base_uri": "https://localhost:8080/",
     "height": 54
    },
    "colab_type": "code",
    "id": "Qyg7uylzSR1p",
    "outputId": "4b953e0d-5437-422d-cbc5-6b19a29879f4"
   },
   "outputs": [
    {
     "name": "stdout",
     "output_type": "stream",
     "text": [
      "Training Accuracy:  1.0\n",
      "Testing Accuracy:  0.5625\n"
     ]
    }
   ],
   "source": [
    "# Evaluating the model on the training and testing set\n",
    "score = model.evaluate(x_train, y_train, verbose=0)\n",
    "print(\"Training Accuracy: \", score[1])\n",
    "\n",
    "score = model.evaluate(x_test, y_test, verbose=0)\n",
    "print(\"Testing Accuracy: \", score[1])"
   ]
  },
  {
   "cell_type": "code",
   "execution_count": 26,
   "metadata": {
    "colab": {},
    "colab_type": "code",
    "id": "KnzqoZRbSR1v"
   },
   "outputs": [],
   "source": [
    "preds = model.predict(x_test) # label scores \n",
    "\n",
    "classpreds = np.argmax(preds, axis=1) # predicted classes \n",
    "\n",
    "y_testclass = np.argmax(y_test, axis=1) # true classes\n",
    "\n",
    "n_classes=2 # number of classes"
   ]
  },
  {
   "cell_type": "code",
   "execution_count": 27,
   "metadata": {
    "colab": {},
    "colab_type": "code",
    "id": "EMrG8FeJSR14"
   },
   "outputs": [],
   "source": [
    "# Compute ROC curve and ROC area for each class\n",
    "fpr = dict()\n",
    "tpr = dict()\n",
    "roc_auc = dict()\n",
    "for i in range(n_classes):\n",
    "    fpr[i], tpr[i], _ = roc_curve(y_test[:, i], preds[:, i])\n",
    "    roc_auc[i] = auc(fpr[i], tpr[i])"
   ]
  },
  {
   "cell_type": "code",
   "execution_count": 28,
   "metadata": {
    "colab": {},
    "colab_type": "code",
    "id": "oOZSWEULSR17"
   },
   "outputs": [],
   "source": [
    "c_names = ['Bronchiectasis', 'Bronchiolitis', 'COPD', 'Healthy', 'Pneumonia', 'URTI']\n",
    "c_names = ['Healthy', 'Pneumonia']"
   ]
  },
  {
   "cell_type": "code",
   "execution_count": 29,
   "metadata": {
    "colab": {
     "base_uri": "https://localhost:8080/",
     "height": 851
    },
    "colab_type": "code",
    "id": "HY5qEVRrSR2A",
    "outputId": "9c5341de-bbdf-4c87-c999-82ee08ddd1fb"
   },
   "outputs": [
    {
     "data": {
      "image/png": "[encoded data removed]",
      "text/plain": [
       "<Figure size 1152x720 with 1 Axes>"
      ]
     },
     "metadata": {
      "needs_background": "light"
     },
     "output_type": "display_data"
    }
   ],
   "source": [
    "# Plot ROC curves\n",
    "fig, ax = plt.subplots(figsize=(16, 10))\n",
    "ax.plot([0, 1], [0, 1], 'k--')\n",
    "ax.set_xlim([0.0, 1.0])\n",
    "ax.set_ylim([0.0, 1.05])\n",
    "ax.set_xlabel('False Positive Rate')\n",
    "ax.set_ylabel('True Positive Rate')\n",
    "ax.set_title('ROC Curve for Each Class')\n",
    "for i in range(n_classes):\n",
    "    ax.plot(fpr[i], tpr[i], linewidth=3, label='ROC curve (area = %0.2f) for %s' % (roc_auc[i], c_names[i]))\n",
    "ax.legend(loc=\"best\", fontsize='x-large')\n",
    "ax.grid(alpha=.4)\n",
    "sns.despine()\n",
    "plt.show()"
   ]
  },
  {
   "cell_type": "code",
   "execution_count": 30,
   "metadata": {
    "colab": {
     "base_uri": "https://localhost:8080/",
     "height": 240
    },
    "colab_type": "code",
    "id": "qlQ12gHQSR2D",
    "outputId": "42af0b0e-037c-4177-a382-aff8a8550509"
   },
   "outputs": [
    {
     "name": "stdout",
     "output_type": "stream",
     "text": [
      "              precision    recall  f1-score   support\n",
      "\n",
      "     Healthy       0.30      1.00      0.46         3\n",
      "   Pneumonia       1.00      0.46      0.63        13\n",
      "\n",
      "    accuracy                           0.56        16\n",
      "   macro avg       0.65      0.73      0.55        16\n",
      "weighted avg       0.87      0.56      0.60        16\n",
      "\n"
     ]
    }
   ],
   "source": [
    "# Classification Report\n",
    "print(classification_report(y_testclass, classpreds, target_names=c_names))"
   ]
  },
  {
   "cell_type": "code",
   "execution_count": 31,
   "metadata": {
    "colab": {
     "base_uri": "https://localhost:8080/",
     "height": 128
    },
    "colab_type": "code",
    "id": "jGzk3U9kSR2G",
    "outputId": "cd147c90-fc8e-47c5-9cd0-6e3e224b3def"
   },
   "outputs": [
    {
     "name": "stdout",
     "output_type": "stream",
     "text": [
      "[[3 0]\n",
      " [7 6]]\n"
     ]
    }
   ],
   "source": [
    "# Confusion Matrix\n",
    "print(confusion_matrix(y_testclass, classpreds))"
   ]
  },
  {
   "cell_type": "code",
   "execution_count": 32,
   "metadata": {},
   "outputs": [],
   "source": [
    "import itertools\n",
    "def plot_confusion_matrix(cm, unique_labels, show=True, output=None,\n",
    "                          title='Confusion matrix', cmap=plt.cm.Oranges):\n",
    "    plt.imshow(cm, interpolation='nearest', cmap=cmap)\n",
    "    plt.title(title)\n",
    "    plt.colorbar()\n",
    "    tick_marks = np.arange(cm.shape[1])\n",
    "    plt.xticks(tick_marks, rotation=45)\n",
    "    ax = plt.gca()\n",
    "    ax.set_xticklabels((ax.get_xticks() + 1).astype(str))\n",
    "    plt.yticks(tick_marks)\n",
    "\n",
    "    ax.set_xticklabels(unique_labels)\n",
    "    ax.set_yticklabels(unique_labels)\n",
    "\n",
    "    thresh = cm.max() / 2.\n",
    "    for i, j in itertools.product(range(cm.shape[0]), range(cm.shape[1])):\n",
    "        plt.text(j, i, format(cm[i, j], '.1f'),\n",
    "                 horizontalalignment=\"center\",\n",
    "                 color=\"white\" if cm[i, j] > thresh else \"black\")\n",
    "\n",
    "    plt.tight_layout()\n",
    "    plt.ylabel('True label')\n",
    "    plt.xlabel('Predicted label')\n",
    "    if show:\n",
    "        plt.show()\n",
    "    if output is not None:\n",
    "        plt.savefig(output)\n",
    "    plt.close()\n",
    "    return output\n"
   ]
  },
  {
   "cell_type": "code",
   "execution_count": 33,
   "metadata": {},
   "outputs": [
    {
     "data": {
      "image/png": "[encoded data removed]",
      "text/plain": [
       "<Figure size 432x288 with 2 Axes>"
      ]
     },
     "metadata": {
      "needs_background": "light"
     },
     "output_type": "display_data"
    }
   ],
   "source": [
    "plot_confusion_matrix(confusion_matrix(y_testclass, classpreds), unique_labels=[\"Healthy\", \"Pneumonia\"])"
   ]
  },
  {
   "cell_type": "code",
   "execution_count": null,
   "metadata": {},
   "outputs": [],
   "source": []
  }
 ],
 "metadata": {
  "accelerator": "GPU",
  "colab": {
   "collapsed_sections": [],
   "name": "Corona-Disease Classification by CNN using MFCC.ipynb",
   "provenance": []
  },
  "kernelspec": {
   "display_name": "Python 3",
   "language": "python",
   "name": "python3"
  },
  "language_info": {
   "codemirror_mode": {
    "name": "ipython",
    "version": 3
   },
   "file_extension": ".py",
   "mimetype": "text/x-python",
   "name": "python",
   "nbconvert_exporter": "python",
   "pygments_lexer": "ipython3",
   "version": "3.7.7"
  }
 },
 "nbformat": 4,
 "nbformat_minor": 4
}
